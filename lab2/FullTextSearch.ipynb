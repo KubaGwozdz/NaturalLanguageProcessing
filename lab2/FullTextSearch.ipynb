{
 "cells": [
  {
   "cell_type": "code",
   "execution_count": 1,
   "metadata": {},
   "outputs": [],
   "source": [
    "from elasticsearch import Elasticsearch\n",
    "import os"
   ]
  },
  {
   "cell_type": "code",
   "execution_count": 2,
   "metadata": {},
   "outputs": [],
   "source": [
    "es = Elasticsearch([{'host': 'localhost', 'port': 9200}])"
   ]
  },
  {
   "cell_type": "code",
   "execution_count": 3,
   "metadata": {},
   "outputs": [
    {
     "data": {
      "text/plain": [
       "<Elasticsearch([{'host': 'localhost', 'port': 9200}])>"
      ]
     },
     "execution_count": 3,
     "metadata": {},
     "output_type": "execute_result"
    }
   ],
   "source": [
    "es"
   ]
  },
  {
   "cell_type": "code",
   "execution_count": 4,
   "metadata": {},
   "outputs": [],
   "source": [
    "bill_filenames = []\n",
    "for file in os.listdir(\"../ustawy\"):\n",
    "    if file.endswith(\".txt\"):\n",
    "        bill_filenames.append(os.path.join(\"../ustawy\", file))"
   ]
  },
  {
   "cell_type": "code",
   "execution_count": null,
   "metadata": {},
   "outputs": [],
   "source": [
    "es.indices.create(\n",
    "    index='bills',\n",
    "    body={\n",
    "      'settings': {\n",
    "        'analysis': {\n",
    "            'analyzer': {\n",
    "                'default': {\n",
    "                    'type': 'custom',\n",
    "                    'tokenizer': 'standard',\n",
    "                    'filter': ['synonym_filter', 'lowercase', 'morfologik_stem']\n",
    "                }\n",
    "            },\n",
    "            'filter': {\n",
    "                'synonym_filter': {\n",
    "                    'type': 'synonym',\n",
    "                    'synonyms':[\n",
    "                        'kpk, kodeks postępowania karnego',\n",
    "                        'kpc, kodeks postępowania cywilnego',\n",
    "                        'kk, kodeks karny',\n",
    "                        'kc, kodeks cywilny'\n",
    "                    ]\n",
    "                }\n",
    "            }\n",
    "        }\n",
    "      },\n",
    "      'mappings':{\n",
    "          'properties': {\n",
    "              'filename': {'type': 'keyword'},\n",
    "              'content': {'type': 'text'}\n",
    "          }\n",
    "      }\n",
    "  }\n",
    ")"
   ]
  },
  {
   "cell_type": "code",
   "execution_count": null,
   "metadata": {},
   "outputs": [],
   "source": [
    "for bill_name in bill_filenames:\n",
    "    with open(bill_name) as b_file:\n",
    "        bill = {\n",
    "            'filename': bill_name[10:],\n",
    "            'content': b_file.read()\n",
    "        }\n",
    "        es.index(index='bills', body=bill)"
   ]
  },
  {
   "cell_type": "markdown",
   "metadata": {},
   "source": [
    "### Determine the number of legislative acts containing the word ustawa (in any form).\n"
   ]
  },
  {
   "cell_type": "code",
   "execution_count": 6,
   "metadata": {},
   "outputs": [
    {
     "data": {
      "text/plain": [
       "{'value': 1179, 'relation': 'eq'}"
      ]
     },
     "execution_count": 6,
     "metadata": {},
     "output_type": "execute_result"
    }
   ],
   "source": [
    "ustawa_res = es.search(index=\"bills\", body={'query': {'match': {'content':'ustawa'}}})\n",
    "ustawa_res['hits']['total']"
   ]
  },
  {
   "cell_type": "markdown",
   "metadata": {
    "pycharm": {
     "name": "#%% md\n"
    }
   },
   "source": [
    "### Determine the number of legislative acts containing the words kodeks postępowania cywilnego in the specified order, but in an any inflection form."
   ]
  },
  {
   "cell_type": "code",
   "execution_count": 7,
   "metadata": {},
   "outputs": [
    {
     "data": {
      "text/plain": [
       "{'value': 100, 'relation': 'eq'}"
      ]
     },
     "execution_count": 7,
     "metadata": {},
     "output_type": "execute_result"
    }
   ],
   "source": [
    "kpc_res = es.search(index=\"bills\", body={'query': {'match_phrase': {'content':'kodeks postępowania cywilnego'}}})\n",
    "kpc_res['hits']['total']"
   ]
  },
  {
   "cell_type": "markdown",
   "metadata": {
    "pycharm": {
     "name": "#%% md\n"
    }
   },
   "source": [
    "### Determine the number of legislative acts containing the words wchodzi w życie (in any form) allowing for up to 2 additional words in the searched phrase."
   ]
  },
  {
   "cell_type": "code",
   "execution_count": 8,
   "metadata": {},
   "outputs": [
    {
     "data": {
      "text/plain": [
       "{'value': 1175, 'relation': 'eq'}"
      ]
     },
     "execution_count": 8,
     "metadata": {},
     "output_type": "execute_result"
    }
   ],
   "source": [
    "wwz_q = {\n",
    "    'query': {\n",
    "        'match_phrase':{\n",
    "            'content': {\n",
    "                'query': 'wchodzi w życie',\n",
    "                'slop': 2\n",
    "            }\n",
    "        }\n",
    "    }\n",
    "}\n",
    "wwz_res = es.search(index=\"bills\", body=wwz_q)\n",
    "wwz_res['hits']['total']"
   ]
  },
  {
   "cell_type": "markdown",
   "metadata": {
    "pycharm": {
     "name": "#%% md\n"
    }
   },
   "source": [
    "### Determine the 10 documents that are the most relevant for the phrase konstytucja."
   ]
  },
  {
   "cell_type": "code",
   "execution_count": 9,
   "metadata": {},
   "outputs": [
    {
     "name": "stdout",
     "output_type": "stream",
     "text": [
      "1997_629.txt  :  6.8715763\n",
      "2000_443.txt  :  6.667747\n",
      "1997_604.txt  :  6.637779\n",
      "1996_350.txt  :  6.631979\n",
      "1997_642.txt  :  6.256356\n",
      "2001_23.txt  :  6.0651193\n",
      "1996_199.txt  :  5.9354324\n",
      "1999_688.txt  :  5.8562775\n",
      "2001_1082.txt  :  5.4733624\n",
      "1997_681.txt  :  5.4733624\n"
     ]
    }
   ],
   "source": [
    "konst_res = es.search(index=\"bills\", body={\"query\": {\"match\": {'content':'konstytucja'}}})\n",
    "for res in konst_res['hits']['hits'][:10]:\n",
    "    print(res['_source']['filename'],' : ', res['_score'])"
   ]
  },
  {
   "cell_type": "markdown",
   "metadata": {},
   "source": [
    "### Print the excerpts containing the word konstytucja (up to three excerpts per document) from the previous task."
   ]
  },
  {
   "cell_type": "code",
   "execution_count": 10,
   "metadata": {
    "pycharm": {
     "name": "#%%\n"
    }
   },
   "outputs": [
    {
     "name": "stdout",
     "output_type": "stream",
     "text": [
      "1997_629.txt  :  6.8715763\n",
      "o zmianie ustawy konstytucyjnej o trybie przygotowania\n",
      "           i uchwalenia <em>Konstytucji</em> Rzeczypospolitej\n",
      "W ustawie  konstytucyjnej z  dnia 23 kwietnia 1992 r. o trybie przygotowania i \n",
      "uchwalenia <em>Konstytucji</em>\n",
      "Do zgłoszenia projektu <em>Konstytucji</em> załącza się wykaz \n",
      "                obywateli popierających zgłoszenie\n",
      "\n",
      "\n",
      "2000_443.txt  :  6.667747\n",
      "umowy międzynarodowej i nie wypełnia przesłanek określonych w art. 89\n",
      "     ust. 1 lub art. 90 <em>Konstytucji</em>\n",
      "międzynarodowej lub załącznika nie\n",
      "     wypełnia przesłanek określonych w art. 89 ust. 1 lub art. 90 <em>Konstytucji</em>\n",
      "co do zasadności wyboru\n",
      "  trybu ratyfikacji umowy międzynarodowej, o którym mowa w art. 89 ust. 2\n",
      "  <em>Konstytucji</em>\n",
      "\n",
      "\n",
      "1997_604.txt  :  6.637779\n",
      "Jeżeli Trybunał Konstytucyjny wyda orzeczenie o sprzeczności celów partii \n",
      "   politycznej z <em>Konstytucją</em>\n",
      "Jeżeli Trybunał Konstytucyjny wyda orzeczenie o sprzeczności z <em>Konstytucją</em>\n",
      "   celów lub działalności\n",
      "Ciężar udowodnienia niezgodności z <em>Konstytucją</em> spoczywa\n",
      "                na wnioskodawcy, który w tym\n",
      "\n",
      "\n",
      "1996_350.txt  :  6.631979\n",
      "Za naruszenie <em>Konstytucji</em> lub ustawy, w związku z zajmowanym\n",
      "              stanowiskiem lub w zakresie\n",
      "W zakresie określonym w art. 107 <em>Konstytucji</em> odpowiedzialność przed\n",
      "           Trybunałem Stanu ponoszą\n",
      "Członkowie Rady Ministrów ponoszą odpowiedzialność przed Trybunałem\n",
      "           Stanu za naruszenie <em>Konstytucji</em>\n",
      "\n",
      "\n",
      "1997_642.txt  :  6.256356\n",
      "wnioskami o:\n",
      "             1) stwierdzenie zgodności ustaw i umów międzynarodowych z\n",
      "               <em>Konstytucją</em>\n",
      "stwierdzenie zgodności przepisów prawa wydawanych przez\n",
      "               centralne organy państwowe, z <em>Konstytucją</em>\n",
      "ratyfikowanymi\n",
      "               umowami międzynarodowymi i ustawami,\n",
      "             4) stwierdzenie zgodności z <em>Konstytucją</em>\n",
      "\n",
      "\n",
      "2001_23.txt  :  6.0651193\n",
      "W Dzienniku Ustaw Rzeczypospolitej Polskiej, zwanym dalej \"Dziennikiem\n",
      "  Ustaw\", ogłasza się:\n",
      "   1) <em>Konstytucję</em>\n",
      "akty prawne dotyczące:\n",
      "   1) stanu wojny i zawarcia pokoju,\n",
      "   2) referendum zatwierdzającego zmianę <em>Konstytucji</em>\n",
      "ministra, któremu Sejm wyraził wotum nieufności,\n",
      "     h) powoływania lub odwoływania na określone w <em>Konstytucji</em>\n",
      "\n",
      "\n",
      "1996_199.txt  :  5.9354324\n",
      "2c i art. 9-11 ustawy konstytucyjnej z dnia 23 kwietnia \n",
      "1992 r. o trybie przygotowania i uchwalenia <em>Konstytucji</em>\n",
      "Prezydent Rzeczypospolitej Polskiej zarządza poddanie <em>Konstytucji</em> pod referendum\n",
      "   w trybie określonym\n",
      "Przyjęcie w referendum <em>Konstytucji</em> następuje wówczas, gdy opowiedziała \n",
      "   się za nią większość biorących\n",
      "\n",
      "\n",
      "1999_688.txt  :  5.8562775\n",
      "postępowania w sprawie wykonywania inicjatywy\n",
      "ustawodawczej przez obywateli, o której mowa w art. 118 ust. 2 <em>Konstytucji</em>\n",
      "Projekt ustawy nie może dotyczyć spraw, dla których <em>Konstytucja</em>\n",
      "Rzeczypospolitej Polskiej zastrzega wyłączną\n",
      "Projekt ustawy wniesiony do Marszałka Sejmu powinien odpowiadać wymogom\n",
      "  zawartym w <em>Konstytucji</em> i Regulaminie\n",
      "\n",
      "\n",
      "2001_1082.txt  :  5.4733624\n",
      "Krajowa Rada Sądownictwa, zwana dalej \"Radą\", realizuje cele określone w\n",
      "  <em>Konstytucji</em> Rzeczypospolitej\n",
      ") podejmuje uchwały w sprawach wystąpienia do Trybunału Konstytucyjnego o\n",
      "     zbadanie zgodności z <em>Konstytucją</em>\n",
      "\n",
      "\n",
      "1997_681.txt  :  5.4733624\n",
      "Rzecznik Praw Dziecka, zwany dalej Rzecznikiem, stoi na straży praw dziecka\n",
      "  określonych w <em>Konstytucji</em>\n",
      "uroczyście, że przy wykonywaniu powierzonych mi obowiązków\n",
      "     Rzecznika Praw Dziecka dochowam wierności <em>Konstytucji</em>\n",
      "\n",
      "\n"
     ]
    }
   ],
   "source": [
    "exc_q = {\n",
    "    'query': {\n",
    "        'match': {\n",
    "            'content': {\n",
    "                'query': 'konstytucja'\n",
    "            }\n",
    "        }\n",
    "    },\n",
    "    'size': 10,\n",
    "    '_source': [ 'filename' ],\n",
    "    'highlight': {\n",
    "        'number_of_fragments': 3,\n",
    "        'fragment_size': 100,\n",
    "        'fields': {\n",
    "            'content': {} \n",
    "        }\n",
    "    }\n",
    "}\n",
    "\n",
    "exc_res = es.search(index=\"bills\", body=exc_q)\n",
    "for res in exc_res['hits']['hits']:\n",
    "    print(res['_source']['filename'],' : ', res['_score'])\n",
    "    for highlight in res['highlight']['content']:\n",
    "        print(highlight)\n",
    "    print('\\n')"
   ]
  },
  {
   "cell_type": "markdown",
   "metadata": {},
   "source": [
    "## Podsumowanie\n",
    "Możemy zobaczyć że przykład znaleziony jako pierwszy zawiera słowo konstytucja w róznych formach aż pięć razy, dziesiąty już tylko dwa."
   ]
  },
  {
   "cell_type": "code",
   "execution_count": null,
   "metadata": {},
   "outputs": [],
   "source": []
  }
 ],
 "metadata": {
  "kernelspec": {
   "display_name": "Python 3",
   "language": "python",
   "name": "python3"
  },
  "language_info": {
   "codemirror_mode": {
    "name": "ipython",
    "version": 3
   },
   "file_extension": ".py",
   "mimetype": "text/x-python",
   "name": "python",
   "nbconvert_exporter": "python",
   "pygments_lexer": "ipython3",
   "version": "3.7.7"
  }
 },
 "nbformat": 4,
 "nbformat_minor": 4
}
