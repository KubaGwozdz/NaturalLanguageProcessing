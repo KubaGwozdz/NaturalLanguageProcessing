{
 "cells": [
  {
   "cell_type": "code",
   "execution_count": 1,
   "metadata": {},
   "outputs": [],
   "source": [
    "import requests\n",
    "import os\n",
    "import math"
   ]
  },
  {
   "cell_type": "code",
   "execution_count": 2,
   "metadata": {},
   "outputs": [],
   "source": [
    "bill_filenames = []\n",
    "for file in os.listdir(\"../ustawy\"):\n",
    "    if file.endswith(\".txt\"):\n",
    "        bill_filenames.append(os.path.join(\"../ustawy\", file))"
   ]
  },
  {
   "cell_type": "code",
   "execution_count": 3,
   "metadata": {},
   "outputs": [],
   "source": [
    "tags = {}\n",
    "bigrams = {}\n",
    "\n",
    "for bill_name in bill_filenames:\n",
    "    with open(bill_name, encoding='utf-8') as b_file:\n",
    "        content = b_file.read()\n",
    "        content = content.lower()\n",
    "        \n",
    "        res = requests.post('http://localhost:9200', data=content.encode('UTF-8')).text\n",
    "        \n",
    "        lines = res.splitlines()\n",
    "        \n",
    "        prev = None\n",
    "        for line in lines:\n",
    "            line = line.split()\n",
    "            if len(line) == 3:\n",
    "                word = line[0]\n",
    "                tag = line[1].split(':')[0]\n",
    "                key = (word, tag)\n",
    "                tags[key] = tags.get(key, 0) + 1\n",
    "                \n",
    "                if prev is not None:\n",
    "                    bigrams[(prev, key)] = bigrams.get((prev, key), 0) + 1\n",
    "                prev = key\n",
    "                "
   ]
  },
  {
   "cell_type": "code",
   "execution_count": 4,
   "metadata": {},
   "outputs": [],
   "source": [
    "def alpha_filter(kv):\n",
    "    (w1, t1), (w2, t2) = kv[0]\n",
    "    if w1.isalpha() and w2.isalpha():\n",
    "        return True\n",
    "    return False\n",
    "\n",
    "bigrams = dict(filter(alpha_filter, bigrams.items()))"
   ]
  },
  {
   "cell_type": "code",
   "execution_count": 5,
   "metadata": {},
   "outputs": [],
   "source": [
    "def H(args, N):\n",
    "    res = 0\n",
    "    for k in args:\n",
    "        k /= N\n",
    "        k_eq_0 = 1 if k == 0 else 0\n",
    "        res += k * math.log(k + k_eq_0)\n",
    "    return res"
   ]
  },
  {
   "cell_type": "code",
   "execution_count": 6,
   "metadata": {},
   "outputs": [],
   "source": [
    "bigrams_LLR = {}\n",
    "all_occ = sum(bigrams.values())"
   ]
  },
  {
   "cell_type": "code",
   "execution_count": 7,
   "metadata": {},
   "outputs": [],
   "source": [
    "for bigram, k11 in bigrams.items():\n",
    "    (w1, t1), (w2, t2) = bigram\n",
    "    k12 = tags[(w2, t2)] - k11\n",
    "    k21 = tags[(w1, t1)] - k11\n",
    "    \n",
    "    k22 = all_occ - (k11 + k12 + k21)\n",
    "    LLR = 2 * all_occ * (H([k11, k12, k21, k22], all_occ) - H([k11 + k12, k21 + k22], all_occ) - H([k11 + k21, k12 + k22], all_occ))\n",
    "    \n",
    "    bigrams_LLR[bigram] = LLR   "
   ]
  },
  {
   "cell_type": "code",
   "execution_count": 8,
   "metadata": {},
   "outputs": [],
   "source": [
    "bigrams_LLR = {k: v for k, v in sorted(bigrams_LLR.items(), key=lambda item: item[1], reverse=True)}"
   ]
  },
  {
   "cell_type": "code",
   "execution_count": 9,
   "metadata": {},
   "outputs": [
    {
     "name": "stdout",
     "output_type": "stream",
     "text": [
      "(('który', 'adj'), ('mowa', 'subst')): 248323.47813489943\n",
      "(('o', 'prep'), ('który', 'adj')): 163662.8380830866\n",
      "(('mowa', 'subst'), ('w', 'prep')): 149478.78490378824\n",
      "(('otrzymywać', 'fin'), ('brzmienie', 'subst')): 111105.82963924854\n",
      "(('minister', 'subst'), ('właściwy', 'adj')): 67763.46033475136\n",
      "(('w', 'prep'), ('artykuł', 'brev')): 67751.07338376575\n",
      "(('dodawać', 'fin'), ('się', 'qub')): 66927.24815087883\n",
      "(('w', 'prep'), ('ustęp', 'brev')): 56401.460472486884\n",
      "(('stosować', 'fin'), ('się', 'qub')): 52971.0157973974\n",
      "(('droga', 'subst'), ('rozporządzenie', 'subst')): 51680.8027317483\n"
     ]
    }
   ],
   "source": [
    "for bigram, llr in list(bigrams_LLR.items())[:10]:\n",
    "    print(str(bigram) + ': ' + str(llr))"
   ]
  },
  {
   "cell_type": "code",
   "execution_count": 13,
   "metadata": {},
   "outputs": [],
   "source": [
    "bigrams_partitioned = {}\n",
    "for bigram, freq in bigrams.items():\n",
    "    (w1, t1), (w2, t2) = bigram\n",
    "    bigrams_partitioned[(t1, t2)] = bigrams_partitioned.get((t1, t2), 0) + freq"
   ]
  },
  {
   "cell_type": "code",
   "execution_count": 14,
   "metadata": {},
   "outputs": [],
   "source": [
    "bigrams_partitioned = {k: v for k, v in sorted(bigrams_partitioned.items(), key=lambda item: item[1], reverse=True)}"
   ]
  },
  {
   "cell_type": "code",
   "execution_count": 15,
   "metadata": {},
   "outputs": [
    {
     "name": "stdout",
     "output_type": "stream",
     "text": [
      "('prep', 'subst'): 327378\n",
      "('subst', 'subst'): 290104\n",
      "('subst', 'adj'): 274761\n",
      "('adj', 'subst'): 188238\n",
      "('subst', 'prep'): 173254\n",
      "('subst', 'conj'): 85145\n",
      "('conj', 'subst'): 84393\n",
      "('prep', 'adj'): 79459\n",
      "('ger', 'subst'): 77510\n",
      "('prep', 'brev'): 67230\n"
     ]
    }
   ],
   "source": [
    "for bigram, freq in list(bigrams_partitioned.items())[:10]:\n",
    "    print(str(bigram) + ': ' + str(freq))"
   ]
  },
  {
   "cell_type": "code",
   "execution_count": 36,
   "metadata": {},
   "outputs": [],
   "source": [
    "top_LLR_tagged = {}\n",
    "for t in list(bigrams_partitioned.keys())[:10]:\n",
    "    top_LLR_tagged[t] = []\n",
    "\n",
    "for bigram, LLR in bigrams_LLR.items():\n",
    "    ((w1, t1), (w2, t2)) = bigram\n",
    "    tags = (t1, t2)\n",
    "    if tags in top_LLR_tagged.keys():\n",
    "        if len(top_LLR_tagged[tags]) < 5:\n",
    "            top_LLR_tagged[tags].append((w1, w2, LLR))\n",
    "\n",
    "        finished = [len(tags) == 10 for tags in top_LLR_tagged.values()]\n",
    "        if all(finished):\n",
    "            break\n",
    "    \n"
   ]
  },
  {
   "cell_type": "code",
   "execution_count": 37,
   "metadata": {
    "scrolled": false
   },
   "outputs": [
    {
     "name": "stdout",
     "output_type": "stream",
     "text": [
      "('prep', 'subst')\n",
      "\t('na', 'podstawa', 45477.310954122746)\n",
      "\t('do', 'sprawa', 45252.30316708258)\n",
      "\t('z', 'dzień', 43159.23405404215)\n",
      "\t('w', 'droga', 31358.799272838856)\n",
      "\t('od', 'dzień', 29493.159003393183)\n",
      "\n",
      "('subst', 'subst')\n",
      "\t('droga', 'rozporządzenie', 51680.8027317483)\n",
      "\t('skarb', 'państwo', 21817.45586219784)\n",
      "\t('rada', 'minister', 14668.755602848223)\n",
      "\t('terytorium', 'rzeczpospolita', 14111.888097340187)\n",
      "\t('ochrona', 'środowisko', 13839.313197740266)\n",
      "\n",
      "('subst', 'adj')\n",
      "\t('minister', 'właściwy', 67763.46033475136)\n",
      "\t('rzeczpospolita', 'polski', 42974.13408095582)\n",
      "\t('jednostka', 'organizacyjny', 23994.10394401504)\n",
      "\t('samorząd', 'terytorialny', 23146.147887406274)\n",
      "\t('produkt', 'leczniczy', 21293.761116537702)\n",
      "\n",
      "('adj', 'subst')\n",
      "\t('który', 'mowa', 248323.47813489943)\n",
      "\t('niniejszy', 'ustawa', 19890.750397923475)\n",
      "\t('następujący', 'zmiana', 17163.801270255233)\n",
      "\t('odrębny', 'przepis', 11789.581385975374)\n",
      "\t('walny', 'zgromadzenie', 9524.82724318318)\n",
      "\n",
      "('subst', 'prep')\n",
      "\t('mowa', 'w', 149478.78490378824)\n",
      "\t('ustawa', 'z', 29189.933135300085)\n",
      "\t('miesiąc', 'od', 10396.115574690439)\n",
      "\t('nadzór', 'nad', 10200.166511565165)\n",
      "\t('wniosek', 'o', 10180.634483160464)\n",
      "\n",
      "('subst', 'conj')\n",
      "\t('przecinek', 'i', 3395.839739448902)\n",
      "\t('wolność', 'albo', 2001.3272575578071)\n",
      "\t('całość', 'lub', 1998.339269707016)\n",
      "\t('mowa', 'i', 1748.1331156777542)\n",
      "\t('imię', 'i', 1612.7017137223745)\n",
      "\n",
      "('conj', 'subst')\n",
      "\t('i', 'tryb', 3776.6026606843234)\n",
      "\t('i', 'nazwisko', 1910.664856210525)\n",
      "\t('i', 'dzień', 1730.1910221643052)\n",
      "\t('i', 'usługa', 1509.4228572891373)\n",
      "\t('i', 'wychowanie', 1335.5858098622862)\n",
      "\n",
      "('prep', 'adj')\n",
      "\t('o', 'który', 163662.8380830866)\n",
      "\t('w', 'właściwy', 1451.991323435603)\n",
      "\t('za', 'każdy', 1264.6507442830675)\n",
      "\t('w', 'ten', 1152.21631845512)\n",
      "\t('przez', 'ten', 976.3903602698871)\n",
      "\n",
      "('ger', 'subst')\n",
      "\t('zasięgnąć', 'opinia', 11312.312112305257)\n",
      "\t('pozbawić', 'wolność', 11271.042820205432)\n",
      "\t('wykonywać', 'zawód', 5478.894052403815)\n",
      "\t('zawrzeć', 'umowa', 5123.792786335292)\n",
      "\t('wszcząć', 'postępowanie', 5006.84612249558)\n",
      "\n",
      "('prep', 'brev')\n",
      "\t('w', 'artykuł', 67751.07338376575)\n",
      "\t('w', 'ustęp', 56401.460472486884)\n",
      "\t('z', 'późniejszy', 7116.334465493767)\n",
      "\t('w', 'numer', 6883.326026187229)\n",
      "\t('w', 'pozycja', 6284.059488617238)\n",
      "\n"
     ]
    }
   ],
   "source": [
    "for category, items in top_LLR_tagged.items():\n",
    "    print(category)\n",
    "    for item in items:\n",
    "        print('\\t' + str(item))\n",
    "    print()"
   ]
  },
  {
   "cell_type": "markdown",
   "metadata": {},
   "source": [
    "# Podsumowanie\n",
    "## What types of bigrams have been found?\n",
    "Znalezione bigramy o najwyższej wartośći LLR to albo takie zawierające przyimki (\"o który\", \"mowa w\"), będące czasownikami zwrotnymi lub różne połączenia przymiotników z innymi częściami mowy. \n",
    "\n",
    "## Which of the category-pairs indicate valuable multiword expressions? Do they have anything in common?\n",
    "Największą wartość wnoszą bigramy z kategorii: ('subst', 'adj') - rzeczownik przymiotnik, które określają nazwy własne jak: \"minister właściwy\", \"samorząd terytorialny\"\n",
    "\n",
    "## Which signal: LLR score or syntactic category is more useful for determining genuine multiword expressions?\n",
    "Nawiązując to poprzedniego pytania uważam, że połączenie obu. Najlepiej wybrać parę takich części mowy, które faktycznie mogą utworzyć coś sensownego, a następnie policzyć LLR. W ten sposób w zależności od tego czy szukamy nazw własnych, jakiejś konkretnej formy, jak czasowniki zwrotne, czy często występujące pary przyimek przymiotnik możemy je znaleźć na podstawie tych o najwyższym LLR w danej kategorii.\n",
    "\n",
    "## Can you describe a different use-case where the morphosyntactic category is useful for resolving a real-world problem?\n",
    "Jak już zacząłem powyżej, możemy tego użyć do podpowiadania następnego słowa, na przykład gdy jest to czasownik zwrotny lub nazwa własna."
   ]
  },
  {
   "cell_type": "code",
   "execution_count": null,
   "metadata": {},
   "outputs": [],
   "source": []
  }
 ],
 "metadata": {
  "kernelspec": {
   "display_name": "Python 3",
   "language": "python",
   "name": "python3"
  },
  "language_info": {
   "codemirror_mode": {
    "name": "ipython",
    "version": 3
   },
   "file_extension": ".py",
   "mimetype": "text/x-python",
   "name": "python",
   "nbconvert_exporter": "python",
   "pygments_lexer": "ipython3",
   "version": "3.8.6"
  }
 },
 "nbformat": 4,
 "nbformat_minor": 4
}
