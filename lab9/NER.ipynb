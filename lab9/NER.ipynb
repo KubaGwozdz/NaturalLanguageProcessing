{
 "cells": [
  {
   "cell_type": "code",
   "execution_count": 291,
   "metadata": {},
   "outputs": [],
   "source": [
    "import requests\n",
    "import os\n",
    "import math\n",
    "from sentence_splitter import SentenceSplitter\n",
    "from threading import RLock, Thread\n",
    "import matplotlib.pyplot as plt"
   ]
  },
  {
   "cell_type": "code",
   "execution_count": 105,
   "metadata": {},
   "outputs": [],
   "source": [
    "bill_filenames = []\n",
    "for file in os.listdir(\"../ustawy\"):\n",
    "    if file.endswith(\".txt\"):\n",
    "        bill_filenames.append(os.path.join(\"../ustawy\", file))"
   ]
  },
  {
   "cell_type": "code",
   "execution_count": 177,
   "metadata": {},
   "outputs": [],
   "source": [
    "bills = []"
   ]
  },
  {
   "cell_type": "code",
   "execution_count": 178,
   "metadata": {},
   "outputs": [],
   "source": [
    "for bill_name in bill_filenames:\n",
    "    with open(bill_name, encoding='utf-8') as b_file:\n",
    "        content = b_file.read()\n",
    "        bills.append((len(content), content, bill_name))"
   ]
  },
  {
   "cell_type": "code",
   "execution_count": 179,
   "metadata": {},
   "outputs": [],
   "source": [
    "bills = sorted(bills, key=lambda bill: -bill[0])"
   ]
  },
  {
   "cell_type": "code",
   "execution_count": 185,
   "metadata": {},
   "outputs": [],
   "source": [
    "top50_bills = list(map(lambda bill: bill[1], bills[:50]))\n",
    "top50_bills_names = list(map(lambda bill: bill[2], bills[:50]))"
   ]
  },
  {
   "cell_type": "code",
   "execution_count": 110,
   "metadata": {},
   "outputs": [],
   "source": [
    "splitter = SentenceSplitter(language='pl')"
   ]
  },
  {
   "cell_type": "code",
   "execution_count": 171,
   "metadata": {},
   "outputs": [],
   "source": [
    "def findBigletterSeqs(sentence: list):\n",
    "    seqs = []\n",
    "    concat = False\n",
    "    seq = None\n",
    "    for word in sentence:\n",
    "        if not word.isalpha():\n",
    "            concat = False\n",
    "        else:\n",
    "            if word[0].isupper():\n",
    "                if concat:\n",
    "                    seq += ' ' + word\n",
    "                else:\n",
    "                    seq = word\n",
    "                    concat = True\n",
    "            else:\n",
    "                if seq is not None:\n",
    "                    seqs.append(seq)\n",
    "                    concat = False\n",
    "                    seq = None\n",
    "    if seq is not None:\n",
    "        seqs.append(seq)\n",
    "    return seqs\n",
    "\n",
    "def seqsToBasicForm(bigLetterSeqs: list):\n",
    "    basicFormSeqs = []\n",
    "    for seq in bigLetterSeqs:\n",
    "        res = requests.post('http://localhost:9200', data=seq.encode('UTF-8')).text\n",
    "        lines = res.splitlines()\n",
    "        basic = None\n",
    "        for line in lines:\n",
    "            line = line.split()\n",
    "            if len(line) == 3:\n",
    "                word = line[0]\n",
    "                word = word.capitalize()\n",
    "                tag = line[1].split(':')[0]\n",
    "                key = (word, tag)\n",
    "                if basic is None:\n",
    "                    basic = word\n",
    "                else:\n",
    "                    basic += ' ' + word\n",
    "        basicFormSeqs.append(basic)\n",
    "                    \n",
    "    return basicFormSeqs\n",
    "\n",
    "lock = RLock()\n",
    "def makeBigLetterSeqs(fromB, toB, port):\n",
    "    for bill in top50_bills[fromB:toB]:\n",
    "        sentences = splitter.split(text=bill.replace('\\n', ' '))\n",
    "        for sentence in sentences:\n",
    "            sentence = sentence[:-1]\n",
    "            sentence_words = sentence.split(' ')\n",
    "            sentence_words = sentence_words[1:]\n",
    "            bigLetterSeqs = findBigletterSeqs(sentence_words)\n",
    "            bigLetterSeqs = seqsToBasicForm(bigLetterSeqs, port)\n",
    "            with lock:\n",
    "                for seq in bigLetterSeqs:\n",
    "                    bilLetterExpr[seq] = bilLetterExpr.get(seq, 0) + 1"
   ]
  },
  {
   "cell_type": "code",
   "execution_count": 172,
   "metadata": {},
   "outputs": [],
   "source": [
    "bilLetterExpr = {}"
   ]
  },
  {
   "cell_type": "code",
   "execution_count": null,
   "metadata": {},
   "outputs": [],
   "source": [
    "t1 = Thread(target=makeBigLetterSeqs, args=(0, 25, '9200'))\n",
    "t2 = Thread(target=makeBigLetterSeqs, args=(25, -1, '9201'))\n",
    "t1.start()\n",
    "t2.start()"
   ]
  },
  {
   "cell_type": "code",
   "execution_count": 173,
   "metadata": {},
   "outputs": [],
   "source": [
    "for bill in top50_bills:\n",
    "    sentences = splitter.split(text=bill.replace('\\n', ' '))\n",
    "    for sentence in sentences:\n",
    "        sentence = sentence[:-1]\n",
    "        sentence_words = sentence.split(' ')\n",
    "        sentence_words = sentence_words[1:]\n",
    "        bigLetterSeqs = findBigletterSeqs(sentence_words)\n",
    "        bigLetterSeqs = seqsToBasicForm(bigLetterSeqs)\n",
    "        for seq in bigLetterSeqs:\n",
    "            bilLetterExpr[seq] = bilLetterExpr.get(seq, 0) + 1"
   ]
  },
  {
   "cell_type": "code",
   "execution_count": 174,
   "metadata": {},
   "outputs": [],
   "source": [
    "bilLetterExpr_c = bilLetterExpr"
   ]
  },
  {
   "cell_type": "code",
   "execution_count": 175,
   "metadata": {},
   "outputs": [],
   "source": [
    "bilLetterExpr = {k: v for k, v in sorted(bilLetterExpr.items(), key=lambda kv: kv[1], reverse=True)}"
   ]
  },
  {
   "cell_type": "code",
   "execution_count": 176,
   "metadata": {},
   "outputs": [
    {
     "name": "stdout",
     "output_type": "stream",
     "text": [
      "Numer: 3373\n",
      "Kodeks: 508\n",
      "Rzeczpospolita Polski: 442\n",
      "Prawo: 319\n",
      "Minister: 280\n",
      "Rzeczpospolita: 275\n",
      "Skarb Państwo: 251\n",
      "Rada: 226\n",
      "Policja: 220\n",
      "Rada Minister: 210\n",
      "Kasa Chory: 202\n",
      "Unia Europejski: 201\n",
      "Zmiana: 194\n",
      "Azot: 164\n",
      "Państwowy Komisja Wyborczy: 159\n",
      "Zakład: 158\n",
      "Skarb: 154\n",
      "Pozostały: 153\n",
      "Prezes Urząd: 151\n",
      "Fundusz: 150\n",
      "Urząd Patentowy: 148\n",
      "Straż Graniczny: 143\n",
      "Tkanina: 141\n",
      "Państwowy Straż Pożarny: 139\n",
      "Urząd: 119\n",
      "Sprawiedliwość: 114\n",
      "Ii: 112\n",
      "Minister Sprawiedliwość: 110\n",
      "Komisja: 106\n",
      "Kasa: 102\n",
      "Finanse: 99\n",
      "Przepis: 99\n",
      "Iii: 94\n",
      "Damski: 93\n",
      "Prezes: 92\n",
      "Ordynacja: 92\n",
      "Biuro: 92\n",
      "Europejski Porozumienie: 92\n",
      "Nawóz: 91\n",
      "Wolny Handel: 90\n",
      "Obrona Narodowy: 89\n",
      "Unia: 87\n",
      "Straż: 85\n",
      "I: 81\n",
      "Minister Obrona Narodowy: 80\n",
      "Inspektor Nadzór Wewnętrzny: 80\n",
      "Państwowy Straż: 79\n",
      "Urz: 79\n",
      "Prezes Rada Minister: 76\n",
      "Sejm: 75\n"
     ]
    }
   ],
   "source": [
    "for expr, freq in list(bilLetterExpr.items())[:50]:\n",
    "    print(f'{expr}: {freq}')"
   ]
  },
  {
   "cell_type": "markdown",
   "metadata": {},
   "source": [
    "# Apply the NER algorithm to identify the named entities in the same set of documents (not lemmatized) using the n82 model"
   ]
  },
  {
   "cell_type": "code",
   "execution_count": 288,
   "metadata": {},
   "outputs": [
    {
     "name": "stdout",
     "output_type": "stream",
     "text": [
      "Result for 2000_696, file id: /requests/liner2/799071ad-a3a7-4552-9926-a9209336e5ec\n"
     ]
    }
   ],
   "source": [
    "import json\n",
    "import time\n",
    "import requests\n",
    "import threading\n",
    "\n",
    "clarinpl_url = \"http://ws.clarin-pl.eu/nlprest2/base\"\n",
    "user = 'jg@gmail.com'\n",
    "out_path = './out/'\n",
    "\n",
    "\n",
    "def upload(bill):\n",
    "    r = requests.post(url=clarinpl_url + '/startTask',\n",
    "                             json={\n",
    "                                 'text': bill,\n",
    "                                 'lpmn': lpmn,\n",
    "                                 'user': user,\n",
    "                             })\n",
    "    return r.content.decode(\"utf-8\")\n",
    "\n",
    "\n",
    "def process(task_id, bill_name):\n",
    "    processing = True\n",
    "    file_id = None\n",
    "\n",
    "    while processing:\n",
    "        data = requests.get(clarinpl_url + \"/getStatus/\" + task_id).text\n",
    "        result = json.loads(data)\n",
    "        end = time.time()\n",
    "        if result[\"status\"] == \"PROCESSING\":\n",
    "            time.sleep(1)\n",
    "        elif result[\"status\"] == \"DONE\":\n",
    "            file_id = result[\"value\"][0][\"fileID\"]\n",
    "            processing = False  \n",
    "        else:\n",
    "            print(\"ERROR:\")\n",
    "            print(data)\n",
    "            processing = False  \n",
    "    print(f'Result for {bill_name}, file id: {file_id}')\n",
    "    data = json.loads(data)\n",
    "    data=data['value'][0][\"fileID\"];\n",
    "    content = requests.get(url+'/download'+data).content.decode(\"utf-8\");\n",
    "    with open(out_path + bill_name + '.ccl', \"w\",encoding='utf-8', errors='ignore') as outfile:\n",
    "        outfile.write(content)\n",
    "    \n",
    "    \n",
    "def worker(bill, bill_name):\n",
    "    task_id = upload(bill)\n",
    "    process(task_id, bill_name)\n",
    "\n",
    "threads = []\n",
    "for _, bill, bill_name in bills[:1]:\n",
    "    bill_name = bill_name[10:-4]\n",
    "    t = threading.Thread(target=worker, args=(bill, bill_name))\n",
    "    threads.append(t)\n",
    "    t.start()\n",
    "    \n",
    "for thread in threads:\n",
    "    thread.join()     "
   ]
  },
  {
   "cell_type": "code",
   "execution_count": 266,
   "metadata": {},
   "outputs": [],
   "source": [
    "# z przykładu podanego przez bibliotekę:\n",
    "# https://github.com/CLARIN-PL/NlpRest2-Tutorials\n",
    "\n",
    "import xml.etree.ElementTree as ET\n",
    "\n",
    "class Token:\n",
    "    \n",
    "    def __init__(self, orth, base, ctag):\n",
    "        self.orth = orth\n",
    "        self.base = base\n",
    "        self.ctag = ctag\n",
    "        \n",
    "    def get_orth(self):\n",
    "        return self.orth\n",
    "    \n",
    "    def get_base(self):\n",
    "        return self.base\n",
    "    \n",
    "    def get_ctag(self):\n",
    "        return self.ctag\n",
    "        \n",
    "\n",
    "class Annotation:\n",
    "    \n",
    "    def __init__(self, category, tokens):\n",
    "        self.category = category\n",
    "        self.tokens = tokens\n",
    "        self.lemma = self.get_orth()\n",
    "        \n",
    "    def get_category(self):\n",
    "        return self.category\n",
    "    \n",
    "    def get_tokens(self):\n",
    "        return self.tokens\n",
    "    \n",
    "    def get_orth(self):\n",
    "        return \" \".join([token.get_orth() for token in self.tokens])\n",
    "\n",
    "    def get_base(self):\n",
    "        return \" \".join([token.get_base() for token in self.tokens])\n",
    "    \n",
    "    def get_ctag(self):\n",
    "        return \" \".join([token.get_ctag() for token in self.tokens])\n",
    "    \n",
    "    def get_space(self):\n",
    "        return \" \".join([\"True\" for token in self.tokens])\n",
    "    \n",
    "    def get_lemma(self):\n",
    "        return self.lemma\n",
    "    \n",
    "    def set_lemma(self, lemma):\n",
    "        self.lemma = lemma\n",
    "\n",
    "    def __str__(self):\n",
    "        return \"[%s] %s\" % (self.get_category(), self.get_lemma())\n",
    "\n",
    "def sentence_ner(sentence):\n",
    "    channels = {}\n",
    "    for token in sentence.iter(\"tok\"):\n",
    "        orth = token.find(\"./orth\").text\n",
    "        base = token.find(\"./lex/base\").text\n",
    "        ctag = token.find(\"./lex/ctag\").text\n",
    "        t = Token(orth, base, ctag)\n",
    "        for channel in token.iter(\"ann\"):            \n",
    "            index = int(channel.text)\n",
    "            chan = channel.attrib[\"chan\"]            \n",
    "            if index > 0:                \n",
    "                channels.setdefault(chan, {}) \\\n",
    "                        .setdefault(index, []) \\\n",
    "                        .append(t)\n",
    "                \n",
    "    annotations = []\n",
    "    for (ann_type, group) in channels.items():\n",
    "        for tokens in group.values():            \n",
    "            an = Annotation(ann_type, tokens)\n",
    "            annotations.append(an)\n",
    "    \n",
    "    return annotations\n",
    "                \n",
    "\n",
    "def ccl_ner(file):\n",
    "    tree = ET.parse(file)\n",
    "    annotations = []\n",
    "    for sentence in tree.iter(\"sentence\"):\n",
    "        annotations += sentence_ner(sentence)\n",
    "    return annotations"
   ]
  },
  {
   "cell_type": "code",
   "execution_count": 299,
   "metadata": {},
   "outputs": [],
   "source": [
    "CG_hist = {}\n",
    "CG_class_spec_hist = {}\n",
    "FG_hist = {}\n",
    "FG_spec_hist = {}"
   ]
  },
  {
   "cell_type": "code",
   "execution_count": null,
   "metadata": {},
   "outputs": [],
   "source": [
    "for _, bill, bill_name in bills[:50]:\n",
    "    ccl = out_path + bill_name[10:-4] + '.ccl'\n",
    "    print(ccl)\n",
    "    annotations = ccl_ner(ccl)\n",
    "    for annotation in annotations:\n",
    "        category = annotation.get_category()\n",
    "        ne = annotation.get_lemma()\n",
    "        fg_cat = category\n",
    "        category = category.split('_')\n",
    "        cg_cat = category[0] + '_' + category[1]\n",
    "        CG_hist[cg_cat] = CG_hist.get(cg_cat, 0) + 1\n",
    "        FG_hist[fg_cat] = FG_hist.get(fg_cat, 0) + 1\n",
    "        if cg_cat not in CG_class_spec_hist.keys():\n",
    "            CG_class_spec_hist[cg_cat] = {}\n",
    "        CG_class_spec_hist[cg_cat][ne] = CG_class_spec_hist[cg_cat].get(ne, 0) + 1\n",
    "        FG_spec_hist[(ne, fg_cat)] = FG_spec_hist.get((ne, fg_cat), 0) + 1"
   ]
  },
  {
   "cell_type": "markdown",
   "metadata": {},
   "source": [
    "# Histogram of the coares-grained classes"
   ]
  },
  {
   "cell_type": "code",
   "execution_count": 295,
   "metadata": {},
   "outputs": [
    {
     "data": {
      "image/png": "[encoded data removed]",
      "text/plain": [
       "<Figure size 1080x720 with 1 Axes>"
      ]
     },
     "metadata": {
      "needs_background": "light"
     },
     "output_type": "display_data"
    }
   ],
   "source": [
    "plt.figure(figsize=(15,10))\n",
    "plt.bar(list(CG_hist.keys()), CG_hist.values())\n",
    "plt.show()"
   ]
  },
  {
   "cell_type": "markdown",
   "metadata": {},
   "source": [
    "# 10 most frequent Named Entities for each coarse-grained type"
   ]
  },
  {
   "cell_type": "code",
   "execution_count": 312,
   "metadata": {},
   "outputs": [
    {
     "name": "stdout",
     "output_type": "stream",
     "text": [
      "nam_pro\n",
      "\t1577:\tDz . U .\n",
      "\t205:\tTimes\n",
      "\t90:\tTimes New Roman\n",
      "\t81:\tDz . Urz\n",
      "\t77:\tOrdynacja podatkowa\n",
      "\t64:\tKodeksu karnego\n",
      "\t62:\tMonitor Polski\n",
      "\t58:\tZnak\n",
      "\t51:\tSpraw Wewnętrznych\n",
      "\t35:\tKodeksu postępowania administracyjnego\n",
      "nam_org\n",
      "\t302:\tUnii Europejskiej\n",
      "\t291:\tSkarbu Państwa\n",
      "\t261:\tRada Ministrów\n",
      "\t237:\tPaństwowej Straży Pożarnej\n",
      "\t232:\tMinister Sprawiedliwości\n",
      "\t212:\tPrezes Rady Ministrów\n",
      "\t154:\tMinister Obrony Narodowej\n",
      "\t151:\tMinister Finansów\n",
      "\t132:\tUrzędu Ochrony Państwa\n",
      "\t114:\tEFTA\n",
      "nam_loc\n",
      "\t815:\tRzeczypospolitej Polskiej\n",
      "\t56:\tRzeczpospolita Polska\n",
      "\t51:\tPolsce\n",
      "\t41:\tRzeczpospolitą Polską\n",
      "\t32:\tWarszawie\n",
      "\t20:\tWarszawy\n",
      "\t19:\tNawóz\n",
      "\t16:\tWarszawa\n",
      "\t11:\tKonfederacji Szwajcarskiej\n",
      "\t10:\tPolską\n",
      "nam_liv\n",
      "\t51:\tKasa Chorych\n",
      "\t36:\tStraży Granicznej\n",
      "\t24:\tSił Zbrojnych\n",
      "\t21:\tKasy Chorych\n",
      "\t18:\tArt\n",
      "\t18:\tPana\n",
      "\t16:\tGospodarki Żywnościowej\n",
      "\t15:\tKrajowego Depozytu\n",
      "\t15:\tPan\n",
      "\t13:\tKas Chorych\n",
      "nam_eve\n",
      "\t5:\tEURO\n",
      "\t2:\tMonitorze Sądowym\n",
      "\t2:\tAdobe Fangsong Std R\n",
      "\t2:\tAdobe Myungjo Std M\n",
      "\t2:\tPrzejściowego Planu Krajowego\n",
      "\t1:\tGeneralny Konserwator Zabytków\n",
      "\t1:\tOchrony Roślin\n",
      "\t1:\tNarodowy Bank Polski\n",
      "\t1:\tMiędzynarodowe Standardy Rachunkowości\n",
      "\t1:\tII wojny światowej\n",
      "nam_adj\n",
      "\t116:\tpolski\n",
      "\t30:\tpolskiej\n",
      "\t16:\tpolskiego\n",
      "\t16:\tWojewódzki\n",
      "\t10:\tpolskim\n",
      "\t9:\tpolska\n",
      "\t7:\tpolskich\n",
      "\t7:\tpolską\n",
      "\t5:\teuropejskie\n",
      "\t5:\teuropejskiej\n",
      "nam_fac\n",
      "\t49:\tInspektor Nadzoru Wewnętrznego\n",
      "\t16:\tKomendant Główny\n",
      "\t11:\tStraży Granicznej\n",
      "\t8:\tMangan\n",
      "\t6:\tObrony Narodowej\n",
      "\t5:\tKrajowego Rejestru Karnego\n",
      "\t4:\tMolibden\n",
      "\t4:\tZatoki Gdańskiej\n",
      "\t4:\tZasłużonego Dawcy Przeszczepu\n",
      "\t3:\tMn\n",
      "nam_oth\n",
      "\t293:\tzł\n",
      "\t90:\teuro\n",
      "\t46:\tzłotych\n",
      "\t29:\tEURO\n",
      "\t14:\tPESEL\n",
      "\t12:\tBAT\n",
      "\t10:\tPLN\n",
      "\t8:\tMinister Edukacji Narodowej\n",
      "\t7:\tECU\n",
      "\t5:\tNIP\n",
      "nam_num\n",
      "\t13:\t1\n",
      "\t1:\t112\n"
     ]
    }
   ],
   "source": [
    "for cg, ne_freq in CG_class_spec_hist.items():\n",
    "    print(cg)\n",
    "    sorted_ne_freq = {k: v for k, v in sorted(ne_freq.items(), key=lambda kv: kv[1], reverse=True)}\n",
    "    for ne, freq in list(sorted_ne_freq.items())[:10]:\n",
    "        print(f'\\t{freq}:\\t{ne}')"
   ]
  },
  {
   "cell_type": "markdown",
   "metadata": {},
   "source": [
    "# 50 most frequent Named Entities for fine-grained type"
   ]
  },
  {
   "cell_type": "code",
   "execution_count": 316,
   "metadata": {
    "scrolled": false
   },
   "outputs": [
    {
     "name": "stdout",
     "output_type": "stream",
     "text": [
      "1577:\tnam_pro_media_periodic:\tDz . U .\n",
      "815:\tnam_loc_gpe_country:\tRzeczypospolitej Polskiej\n",
      "301:\tnam_org_organization:\tUnii Europejskiej\n",
      "293:\tnam_oth_currency:\tzł\n",
      "291:\tnam_org_institution:\tSkarbu Państwa\n",
      "261:\tnam_org_institution:\tRada Ministrów\n",
      "232:\tnam_org_institution:\tMinister Sprawiedliwości\n",
      "212:\tnam_org_institution:\tPrezes Rady Ministrów\n",
      "205:\tnam_pro_media_periodic:\tTimes\n",
      "203:\tnam_org_organization:\tPaństwowej Straży Pożarnej\n",
      "154:\tnam_org_institution:\tMinister Obrony Narodowej\n",
      "151:\tnam_org_institution:\tMinister Finansów\n",
      "132:\tnam_org_institution:\tUrzędu Ochrony Państwa\n",
      "116:\tnam_adj_country:\tpolski\n",
      "114:\tnam_org_organization:\tEFTA\n",
      "110:\tnam_org_institution:\tPaństwowa Komisja Wyborcza\n",
      "104:\tnam_org_institution:\tUrząd Patentowy\n",
      "103:\tnam_org_company:\tEuropejskiego Porozumienia o Wolnym Handlu\n",
      "98:\tnam_org_institution:\tSkarb Państwa\n",
      "98:\tnam_org_institution:\tPaństwowej Komisji Wyborczej\n",
      "90:\tnam_oth_currency:\teuro\n",
      "88:\tnam_pro_title:\tTimes New Roman\n",
      "88:\tnam_org_institution:\tPrezes Urzędu\n",
      "81:\tnam_pro_media_periodic:\tDz . Urz\n",
      "81:\tnam_org_organization:\tOKRĘG\n",
      "81:\tnam_org_institution:\tOkręgowej Komisji Wyborczej\n",
      "77:\tnam_pro_title_document:\tOrdynacja podatkowa\n",
      "73:\tnam_org_institution:\tSejmu\n",
      "71:\tnam_org_institution:\tPrezesa Urzędu\n",
      "70:\tnam_org_organization:\tBSWSG\n",
      "64:\tnam_pro_title_document:\tKodeksu karnego\n",
      "62:\tnam_pro_title:\tMonitor Polski\n",
      "58:\tnam_org_institution:\tMinister Zdrowia i Opieki Społecznej\n",
      "58:\tnam_org_institution:\tKomisji Europejskiej\n",
      "58:\tnam_pro_title:\tZnak\n",
      "57:\tnam_org_organization:\tWspólnoty Europejskiej\n",
      "56:\tnam_loc_gpe_country:\tRzeczpospolita Polska\n",
      "55:\tnam_org_organization:\tWE\n",
      "53:\tnam_org_institution:\tSąd Najwyższy\n",
      "52:\tnam_org_institution:\tMinistrem Obrony Narodowej\n",
      "51:\tnam_loc_gpe_country:\tPolsce\n",
      "51:\tnam_org_institution:\tDzienniku Urzędowym Rzeczypospolitej Polskiej \"\n",
      "51:\tnam_org_institution:\tSądu Najwyższego\n",
      "51:\tnam_org_institution:\tMinistra Sprawiedliwości\n",
      "51:\tnam_liv_person:\tKasa Chorych\n",
      "51:\tnam_pro_title:\tSpraw Wewnętrznych\n",
      "50:\tnam_org_institution:\tSenatu\n",
      "49:\tnam_fac_goe:\tInspektor Nadzoru Wewnętrznego\n",
      "47:\tnam_org_institution:\tPrezes Urzędu Regulacji Energetyki\n",
      "46:\tnam_oth_currency:\tzłotych\n"
     ]
    }
   ],
   "source": [
    "sorted_FG_spec_hist = {k: v for k, v in sorted(FG_spec_hist.items(), key=lambda kv: kv[1], reverse=True)}\n",
    "for (ne, fg_type), freq in list(sorted_FG_spec_hist.items())[:50]:\n",
    "    print(f'{freq}:\\t{fg_type}:\\t{ne}')"
   ]
  },
  {
   "cell_type": "markdown",
   "metadata": {},
   "source": [
    "# Answer the following questions:\n",
    "## Which of the method (counting expressions with capital letters vs. NER) worked better for the task concerned with identification of the proper names?\n",
    "Lepiej zadziałał NER, ale przydałoby się jego wyniki również poddać lematyzacji w celu usnięcia dużej liczby powtórzeń, jak np. dla klasy nam_adj większość przypadków to odmienione słowo Polska.  \n",
    "\n",
    "## What are the drawbacks of the method based on capital letters?\n",
    "Przy prostym podejściu jakie zastosowaliśmy pomijamy lub zniekształcamy wszystkie nazwy, które były na początku zdania. Drugim bardzo znaczącym minusem jest dzielenie nazw zawierających spójniki pisane małą literą lub inne słowa wystęjuce wewnątrz pisane z małej litery.\n",
    "\n",
    "## What are the drawbacks of the method based on NER?\n",
    "Jest zdecydowanie wolniejsze, użyty przez nas model miał aż 82 klasy co wydaje się dużó, dla tak prostych zadań lepiej według mnie użyć modelu z bardziej ogólnymi klasami.\n",
    "\n",
    "## Which of the coarse-grained NER groups has the best and which has the worst results? Try to justify this observation.\n",
    "Najlpiej NER poradził sobie z klasą _nam_org_ czyli z instytucjami, natomiast najgorzej z klasą _nam_num_ czyli z wyrażeniami liczbowymi co wynika wprost z ich liczby wystąpień, nazwy jak _Unia Europejska_ często powtarzały się w tekście, natomiast powtarzanie się konkretnych liczb w tekście było znacząco mniejsze.\n",
    "\n",
    "\n",
    "## Do you think NER is sufficient for identifying different occurrences of the same entity (i.e. consider \"USA\" and \"Stany Zjednoczone\" and \"Stany Zjednoczone Ameryki Północnej\") ? If not, can you suggest an algorithm or a tool that would be able to group such names together?\n",
    "Nie jest wystarczający, ponieważ nie bierze w żaden sposób pod uwagę synonimów, tylko rozważa każdą formę z osobna jak dla _Rzeczpospolita Posla_ i _Polska_.\n",
    "\n",
    "Wymagałoby to zlematyzowania wyników i użycia narzędzia jak chociażby _WordNet_, które pozwoliłoby je skonsolidować do jednej NE.\n",
    "\n",
    "\n",
    "## Can you think of a real world problem that would benefit the most from application of Named Entity Recognition algorithm?\n",
    "Myślę, że byłoby to bardzo przydatne chociażby w przeszukiwaniu o czym jest dany tekst, wystarczyłoby przetrzymwać tylko częste wystąpienia z wybranych klas i dałoby się na tej podstawie określić +/- temat.\n"
   ]
  }
 ],
 "metadata": {
  "kernelspec": {
   "display_name": "Python 3",
   "language": "python",
   "name": "python3"
  },
  "language_info": {
   "codemirror_mode": {
    "name": "ipython",
    "version": 3
   },
   "file_extension": ".py",
   "mimetype": "text/x-python",
   "name": "python",
   "nbconvert_exporter": "python",
   "pygments_lexer": "ipython3",
   "version": "3.8.6"
  }
 },
 "nbformat": 4,
 "nbformat_minor": 4
}
