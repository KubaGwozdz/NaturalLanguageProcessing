{
 "nbformat": 4,
 "nbformat_minor": 0,
 "metadata": {
  "kernelspec": {
   "display_name": "Python 3",
   "language": "python",
   "name": "python3"
  },
  "language_info": {
   "codemirror_mode": {
    "name": "ipython",
    "version": 3
   },
   "file_extension": ".py",
   "mimetype": "text/x-python",
   "name": "python",
   "nbconvert_exporter": "python",
   "pygments_lexer": "ipython3",
   "version": "3.8.6"
  },
  "colab": {
   "name": "Complaints analysis.ipynb",
   "provenance": [],
   "collapsed_sections": []
  }
 },
 "cells": [
  {
   "cell_type": "code",
   "metadata": {
    "id": "jjr07nBuEYMF"
   },
   "source": [
    "import pandas as pd\n",
    "import numpy as np\n",
    "import seaborn as sns\n",
    "import matplotlib.pyplot as plt\n",
    "import re\n",
    "from sklearn.model_selection import train_test_split\n",
    "from gensim.models import Doc2Vec\n",
    "from gensim.models.doc2vec import TaggedDocument\n",
    "from nltk.tokenize import sent_tokenize, word_tokenize\n",
    "from nltk.corpus import stopwords\n",
    "from string import punctuation\n",
    "import multiprocessing\n",
    "from timeit import default_timer as timer\n",
    "from sklearn.feature_extraction.text import TfidfVectorizer"
   ],
   "execution_count": 2,
   "outputs": []
  },
  {
   "cell_type": "markdown",
   "metadata": {
    "id": "SB4sesFUEYMK"
   },
   "source": [
    "# Data"
   ]
  },
  {
   "cell_type": "code",
   "metadata": {
    "colab": {
     "base_uri": "https://localhost:8080/",
     "height": 580
    },
    "id": "miTVXc31EYMK",
    "outputId": "6ee68304-c53c-4fd6-9ffc-6078dd6741fa"
   },
   "source": [
    "all_data = pd.read_csv('complaints.csv').dropna(subset=['Consumer complaint narrative'])\n",
    "all_data.head()"
   ],
   "execution_count": 3,
   "outputs": [
    {
     "output_type": "execute_result",
     "data": {
      "text/html": [
       "<div>\n",
       "<style scoped>\n",
       "    .dataframe tbody tr th:only-of-type {\n",
       "        vertical-align: middle;\n",
       "    }\n",
       "\n",
       "    .dataframe tbody tr th {\n",
       "        vertical-align: top;\n",
       "    }\n",
       "\n",
       "    .dataframe thead th {\n",
       "        text-align: right;\n",
       "    }\n",
       "</style>\n",
       "<table border=\"1\" class=\"dataframe\">\n",
       "  <thead>\n",
       "    <tr style=\"text-align: right;\">\n",
       "      <th></th>\n",
       "      <th>Date received</th>\n",
       "      <th>Product</th>\n",
       "      <th>Sub-product</th>\n",
       "      <th>Issue</th>\n",
       "      <th>Sub-issue</th>\n",
       "      <th>Consumer complaint narrative</th>\n",
       "      <th>Company public response</th>\n",
       "      <th>Company</th>\n",
       "      <th>State</th>\n",
       "      <th>ZIP code</th>\n",
       "      <th>Tags</th>\n",
       "      <th>Consumer consent provided?</th>\n",
       "      <th>Submitted via</th>\n",
       "      <th>Date sent to company</th>\n",
       "      <th>Company response to consumer</th>\n",
       "      <th>Timely response?</th>\n",
       "      <th>Consumer disputed?</th>\n",
       "      <th>Complaint ID</th>\n",
       "    </tr>\n",
       "  </thead>\n",
       "  <tbody>\n",
       "    <tr>\n",
       "      <th>0</th>\n",
       "      <td>2019-09-24</td>\n",
       "      <td>Debt collection</td>\n",
       "      <td>I do not know</td>\n",
       "      <td>Attempts to collect debt not owed</td>\n",
       "      <td>Debt is not yours</td>\n",
       "      <td>transworld systems inc. \\nis trying to collect...</td>\n",
       "      <td>NaN</td>\n",
       "      <td>TRANSWORLD SYSTEMS INC</td>\n",
       "      <td>FL</td>\n",
       "      <td>335XX</td>\n",
       "      <td>NaN</td>\n",
       "      <td>Consent provided</td>\n",
       "      <td>Web</td>\n",
       "      <td>2019-09-24</td>\n",
       "      <td>Closed with explanation</td>\n",
       "      <td>Yes</td>\n",
       "      <td>NaN</td>\n",
       "      <td>3384392.0</td>\n",
       "    </tr>\n",
       "    <tr>\n",
       "      <th>2</th>\n",
       "      <td>2019-11-08</td>\n",
       "      <td>Debt collection</td>\n",
       "      <td>I do not know</td>\n",
       "      <td>Communication tactics</td>\n",
       "      <td>Frequent or repeated calls</td>\n",
       "      <td>Over the past 2 weeks, I have been receiving e...</td>\n",
       "      <td>NaN</td>\n",
       "      <td>Diversified Consultants, Inc.</td>\n",
       "      <td>NC</td>\n",
       "      <td>275XX</td>\n",
       "      <td>NaN</td>\n",
       "      <td>Consent provided</td>\n",
       "      <td>Web</td>\n",
       "      <td>2019-11-08</td>\n",
       "      <td>Closed with explanation</td>\n",
       "      <td>Yes</td>\n",
       "      <td>NaN</td>\n",
       "      <td>3433198.0</td>\n",
       "    </tr>\n",
       "    <tr>\n",
       "      <th>3</th>\n",
       "      <td>2019-09-15</td>\n",
       "      <td>Debt collection</td>\n",
       "      <td>Other debt</td>\n",
       "      <td>Attempts to collect debt not owed</td>\n",
       "      <td>Debt was result of identity theft</td>\n",
       "      <td>Pioneer has committed several federal violatio...</td>\n",
       "      <td>NaN</td>\n",
       "      <td>Pioneer Capital Solutions Inc</td>\n",
       "      <td>CA</td>\n",
       "      <td>925XX</td>\n",
       "      <td>NaN</td>\n",
       "      <td>Consent provided</td>\n",
       "      <td>Web</td>\n",
       "      <td>2019-09-15</td>\n",
       "      <td>Closed with explanation</td>\n",
       "      <td>Yes</td>\n",
       "      <td>NaN</td>\n",
       "      <td>3374555.0</td>\n",
       "    </tr>\n",
       "    <tr>\n",
       "      <th>4</th>\n",
       "      <td>2019-07-18</td>\n",
       "      <td>Mortgage</td>\n",
       "      <td>Conventional home mortgage</td>\n",
       "      <td>Closing on a mortgage</td>\n",
       "      <td>NaN</td>\n",
       "      <td>I started the process to refinance my current ...</td>\n",
       "      <td>Company has responded to the consumer and the ...</td>\n",
       "      <td>Freedom Mortgage Company</td>\n",
       "      <td>NC</td>\n",
       "      <td>275XX</td>\n",
       "      <td>NaN</td>\n",
       "      <td>Consent provided</td>\n",
       "      <td>Web</td>\n",
       "      <td>2019-07-18</td>\n",
       "      <td>Closed with explanation</td>\n",
       "      <td>Yes</td>\n",
       "      <td>NaN</td>\n",
       "      <td>3311105.0</td>\n",
       "    </tr>\n",
       "    <tr>\n",
       "      <th>6</th>\n",
       "      <td>2019-07-26</td>\n",
       "      <td>Credit reporting, credit repair services, or o...</td>\n",
       "      <td>Credit reporting</td>\n",
       "      <td>Problem with a credit reporting company's inve...</td>\n",
       "      <td>Their investigation did not fix an error on yo...</td>\n",
       "      <td>Previously, on XX/XX/XXXX, XX/XX/XXXX, and XX/...</td>\n",
       "      <td>Company has responded to the consumer and the ...</td>\n",
       "      <td>Experian Information Solutions Inc.</td>\n",
       "      <td>CA</td>\n",
       "      <td>914XX</td>\n",
       "      <td>NaN</td>\n",
       "      <td>Consent provided</td>\n",
       "      <td>Web</td>\n",
       "      <td>2019-07-26</td>\n",
       "      <td>Closed with explanation</td>\n",
       "      <td>Yes</td>\n",
       "      <td>NaN</td>\n",
       "      <td>3319331.0</td>\n",
       "    </tr>\n",
       "  </tbody>\n",
       "</table>\n",
       "</div>"
      ],
      "text/plain": [
       "  Date received  ... Complaint ID\n",
       "0    2019-09-24  ...    3384392.0\n",
       "2    2019-11-08  ...    3433198.0\n",
       "3    2019-09-15  ...    3374555.0\n",
       "4    2019-07-18  ...    3311105.0\n",
       "6    2019-07-26  ...    3319331.0\n",
       "\n",
       "[5 rows x 18 columns]"
      ]
     },
     "metadata": {
      "tags": []
     },
     "execution_count": 3
    }
   ]
  },
  {
   "cell_type": "code",
   "metadata": {
    "colab": {
     "base_uri": "https://localhost:8080/"
    },
    "id": "hekbyHBvEYML",
    "outputId": "9ec26155-3603-4597-b9fc-e899cc66017a"
   },
   "source": [
    "all_data.Product.describe()"
   ],
   "execution_count": 4,
   "outputs": [
    {
     "output_type": "execute_result",
     "data": {
      "text/plain": [
       "count                                                  9183\n",
       "unique                                                   14\n",
       "top       Credit reporting, credit repair services, or o...\n",
       "freq                                                   4030\n",
       "Name: Product, dtype: object"
      ]
     },
     "metadata": {
      "tags": []
     },
     "execution_count": 4
    }
   ]
  },
  {
   "cell_type": "code",
   "metadata": {
    "colab": {
     "base_uri": "https://localhost:8080/",
     "height": 116
    },
    "id": "fkIuOa2QEYMM",
    "outputId": "2394f7e0-03ad-4201-fea3-d6f942d944b5"
   },
   "source": [
    "all_data['Consumer complaint narrative'][6]"
   ],
   "execution_count": 5,
   "outputs": [
    {
     "output_type": "execute_result",
     "data": {
      "application/vnd.google.colaboratory.intrinsic+json": {
       "type": "string"
      },
      "text/plain": [
       "'Previously, on XX/XX/XXXX, XX/XX/XXXX, and XX/XX/XXXX I requested that Experian send me a copy of the verifiable proof they have on file showing that the XXXX account they have listed on my credit report is actually mine. On XX/XX/XXXX and XX/XX/XXXX, instead of sending me a copy of the verifiable proof that I requested, Experian sent me a statement which reads, \" The information you disputed has been verified as accurate. \\'\\' Experian also failed to provide me with the method of \" verification. \\'\\' Since Experian neither provided me with a copy of the verifiable proof, nor did they delete the unverified information, I believe they are in violation of the Fair Credit Reporting Act and I have been harmed as a result. I have again, today, sent my fourth and final written request that they verify the account, and send me verifiable proof that this account is mine, or that they delete the unverified account. If they do not, my next step is to pursue a remedy through litigation.'"
      ]
     },
     "metadata": {
      "tags": []
     },
     "execution_count": 5
    }
   ]
  },
  {
   "cell_type": "markdown",
   "metadata": {
    "id": "g2j8CD4tEYMN"
   },
   "source": [
    "# ZAD1\n",
    "#### Proszę znaleźć i porównać przynajmniej 2 metody obliczania reprezentacji wektorowej tekstu na podstawie osadzeń słów. Proszę je przetestować na klasyfikacji wieloklasowej tekstu.\n",
    "\n",
    "Wybrałem zbiór [*Consumer Complaint Database*](https://catalog.data.gov/dataset/consumer-complaint-database)\n",
    "w którym dokonam klasyfikacji rodzaju produktu (Product) na podstawie skargi (Consumer complaint narrative) przy użyciu Doc2Vec i TF-IDF.\n"
   ]
  },
  {
   "cell_type": "code",
   "metadata": {
    "colab": {
     "base_uri": "https://localhost:8080/",
     "height": 283
    },
    "id": "VFz2aHGqEYMN",
    "outputId": "9868d658-0821-4e8e-a0a7-fb7a901557b6"
   },
   "source": [
    "data = all_data[['Product', 'Consumer complaint narrative']]\n",
    "data.rename(columns={'Consumer complaint narrative': 'Complaint'}, inplace=True)\n",
    "data.head()"
   ],
   "execution_count": 6,
   "outputs": [
    {
     "output_type": "stream",
     "text": [
      "/usr/local/lib/python3.6/dist-packages/pandas/core/frame.py:4308: SettingWithCopyWarning: \n",
      "A value is trying to be set on a copy of a slice from a DataFrame\n",
      "\n",
      "See the caveats in the documentation: https://pandas.pydata.org/pandas-docs/stable/user_guide/indexing.html#returning-a-view-versus-a-copy\n",
      "  errors=errors,\n"
     ],
     "name": "stderr"
    },
    {
     "output_type": "execute_result",
     "data": {
      "text/html": [
       "<div>\n",
       "<style scoped>\n",
       "    .dataframe tbody tr th:only-of-type {\n",
       "        vertical-align: middle;\n",
       "    }\n",
       "\n",
       "    .dataframe tbody tr th {\n",
       "        vertical-align: top;\n",
       "    }\n",
       "\n",
       "    .dataframe thead th {\n",
       "        text-align: right;\n",
       "    }\n",
       "</style>\n",
       "<table border=\"1\" class=\"dataframe\">\n",
       "  <thead>\n",
       "    <tr style=\"text-align: right;\">\n",
       "      <th></th>\n",
       "      <th>Product</th>\n",
       "      <th>Complaint</th>\n",
       "    </tr>\n",
       "  </thead>\n",
       "  <tbody>\n",
       "    <tr>\n",
       "      <th>0</th>\n",
       "      <td>Debt collection</td>\n",
       "      <td>transworld systems inc. \\nis trying to collect...</td>\n",
       "    </tr>\n",
       "    <tr>\n",
       "      <th>2</th>\n",
       "      <td>Debt collection</td>\n",
       "      <td>Over the past 2 weeks, I have been receiving e...</td>\n",
       "    </tr>\n",
       "    <tr>\n",
       "      <th>3</th>\n",
       "      <td>Debt collection</td>\n",
       "      <td>Pioneer has committed several federal violatio...</td>\n",
       "    </tr>\n",
       "    <tr>\n",
       "      <th>4</th>\n",
       "      <td>Mortgage</td>\n",
       "      <td>I started the process to refinance my current ...</td>\n",
       "    </tr>\n",
       "    <tr>\n",
       "      <th>6</th>\n",
       "      <td>Credit reporting, credit repair services, or o...</td>\n",
       "      <td>Previously, on XX/XX/XXXX, XX/XX/XXXX, and XX/...</td>\n",
       "    </tr>\n",
       "  </tbody>\n",
       "</table>\n",
       "</div>"
      ],
      "text/plain": [
       "                                             Product                                          Complaint\n",
       "0                                    Debt collection  transworld systems inc. \\nis trying to collect...\n",
       "2                                    Debt collection  Over the past 2 weeks, I have been receiving e...\n",
       "3                                    Debt collection  Pioneer has committed several federal violatio...\n",
       "4                                           Mortgage  I started the process to refinance my current ...\n",
       "6  Credit reporting, credit repair services, or o...  Previously, on XX/XX/XXXX, XX/XX/XXXX, and XX/..."
      ]
     },
     "metadata": {
      "tags": []
     },
     "execution_count": 6
    }
   ]
  },
  {
   "cell_type": "code",
   "metadata": {
    "colab": {
     "base_uri": "https://localhost:8080/",
     "height": 642
    },
    "id": "g-EEc_eVEYMO",
    "outputId": "8f98caeb-d76b-4ebf-bce8-283284f1a452"
   },
   "source": [
    "sns.countplot(x=\"Product\", data=data)\n",
    "plt.xticks(rotation=90)\n",
    "plt.show()"
   ],
   "execution_count": 7,
   "outputs": [
    {
     "output_type": "display_data",
     "data": {
      "image/png": "[encoded data removed]",
      "text/plain": [
       "<Figure size 432x288 with 1 Axes>"
      ]
     },
     "metadata": {
      "tags": [],
      "needs_background": "light"
     }
    }
   ]
  },
  {
   "cell_type": "code",
   "metadata": {
    "colab": {
     "base_uri": "https://localhost:8080/"
    },
    "id": "cM979_RBEYMO",
    "outputId": "b7bc1c56-de07-412c-a6b7-89d084ce257d"
   },
   "source": [
    "tags = ['URL', 'DATE', 'CONF']\n",
    "def preprocess_text(text):\n",
    "    #clean URL\n",
    "    text = re.sub(r'http/S+', r'URL', text)\n",
    "    #clean date\n",
    "    text = re.sub(r'(XX/XX/XXXX)|(XX/XX/\\d\\d\\d\\d)', r'DATE', text)\n",
    "    #delete \\n\n",
    "    text = re.sub(r'\\n', r' ', text)\n",
    "    #some confidential data\n",
    "    text = re.sub(r'XXXX', r'CONF', text)\n",
    "    return text\n",
    "\n",
    "data.Complaint = data.Complaint.apply(preprocess_text)"
   ],
   "execution_count": 8,
   "outputs": [
    {
     "output_type": "stream",
     "text": [
      "/usr/local/lib/python3.6/dist-packages/pandas/core/generic.py:5170: SettingWithCopyWarning: \n",
      "A value is trying to be set on a copy of a slice from a DataFrame.\n",
      "Try using .loc[row_indexer,col_indexer] = value instead\n",
      "\n",
      "See the caveats in the documentation: https://pandas.pydata.org/pandas-docs/stable/user_guide/indexing.html#returning-a-view-versus-a-copy\n",
      "  self[name] = value\n"
     ],
     "name": "stderr"
    }
   ]
  },
  {
   "cell_type": "code",
   "metadata": {
    "colab": {
     "base_uri": "https://localhost:8080/",
     "height": 116
    },
    "id": "MIUUNccXEYMP",
    "outputId": "8abfef22-02e4-418c-d799-a9ade04258a9"
   },
   "source": [
    "data.Complaint[6]"
   ],
   "execution_count": 9,
   "outputs": [
    {
     "output_type": "execute_result",
     "data": {
      "application/vnd.google.colaboratory.intrinsic+json": {
       "type": "string"
      },
      "text/plain": [
       "'Previously, on DATE, DATE, and DATE I requested that Experian send me a copy of the verifiable proof they have on file showing that the CONF account they have listed on my credit report is actually mine. On DATE and DATE, instead of sending me a copy of the verifiable proof that I requested, Experian sent me a statement which reads, \" The information you disputed has been verified as accurate. \\'\\' Experian also failed to provide me with the method of \" verification. \\'\\' Since Experian neither provided me with a copy of the verifiable proof, nor did they delete the unverified information, I believe they are in violation of the Fair Credit Reporting Act and I have been harmed as a result. I have again, today, sent my fourth and final written request that they verify the account, and send me verifiable proof that this account is mine, or that they delete the unverified account. If they do not, my next step is to pursue a remedy through litigation.'"
      ]
     },
     "metadata": {
      "tags": []
     },
     "execution_count": 9
    }
   ]
  },
  {
   "cell_type": "code",
   "metadata": {
    "colab": {
     "base_uri": "https://localhost:8080/"
    },
    "id": "Zi892ZzJEwZX",
    "outputId": "a5b268f4-421d-4c08-9eaf-3fc9c97c3e72"
   },
   "source": [
    "import nltk\n",
    "nltk.download('stopwords')\n",
    "nltk.download('punkt')"
   ],
   "execution_count": 10,
   "outputs": [
    {
     "output_type": "stream",
     "text": [
      "[nltk_data] Downloading package stopwords to /root/nltk_data...\n",
      "[nltk_data]   Unzipping corpora/stopwords.zip.\n",
      "[nltk_data] Downloading package punkt to /root/nltk_data...\n",
      "[nltk_data]   Unzipping tokenizers/punkt.zip.\n"
     ],
     "name": "stdout"
    },
    {
     "output_type": "execute_result",
     "data": {
      "text/plain": [
       "True"
      ]
     },
     "metadata": {
      "tags": []
     },
     "execution_count": 10
    }
   ]
  },
  {
   "cell_type": "code",
   "metadata": {
    "colab": {
     "base_uri": "https://localhost:8080/"
    },
    "id": "R8pRc9vKEYMQ",
    "outputId": "2202695b-5e0c-4069-c529-72c799088514"
   },
   "source": [
    "stopwords_en = stopwords.words('english')\n",
    "\n",
    "def tag_text(text):\n",
    "    tags = []\n",
    "    for sentence in sent_tokenize(text):\n",
    "        for word in word_tokenize(sentence):\n",
    "            word = word.lower()\n",
    "            if word not in tags and word not in stopwords_en and word.isalpha():\n",
    "                tags.append(word.lower())            \n",
    "    return tags\n",
    "\n",
    "data.Complaint = data.Complaint.apply(tag_text)"
   ],
   "execution_count": 11,
   "outputs": [
    {
     "output_type": "stream",
     "text": [
      "/usr/local/lib/python3.6/dist-packages/pandas/core/generic.py:5170: SettingWithCopyWarning: \n",
      "A value is trying to be set on a copy of a slice from a DataFrame.\n",
      "Try using .loc[row_indexer,col_indexer] = value instead\n",
      "\n",
      "See the caveats in the documentation: https://pandas.pydata.org/pandas-docs/stable/user_guide/indexing.html#returning-a-view-versus-a-copy\n",
      "  self[name] = value\n"
     ],
     "name": "stderr"
    }
   ]
  },
  {
   "cell_type": "code",
   "metadata": {
    "colab": {
     "base_uri": "https://localhost:8080/"
    },
    "id": "qpePpT0CEYMS",
    "outputId": "64e50490-ca2e-4046-bc37-766d57891626"
   },
   "source": [
    "data.Complaint[6]"
   ],
   "execution_count": 12,
   "outputs": [
    {
     "output_type": "execute_result",
     "data": {
      "text/plain": [
       "['previously',\n",
       " 'date',\n",
       " 'requested',\n",
       " 'experian',\n",
       " 'send',\n",
       " 'copy',\n",
       " 'verifiable',\n",
       " 'proof',\n",
       " 'file',\n",
       " 'showing',\n",
       " 'conf',\n",
       " 'account',\n",
       " 'listed',\n",
       " 'credit',\n",
       " 'report',\n",
       " 'actually',\n",
       " 'mine',\n",
       " 'instead',\n",
       " 'sending',\n",
       " 'sent',\n",
       " 'statement',\n",
       " 'reads',\n",
       " 'information',\n",
       " 'disputed',\n",
       " 'verified',\n",
       " 'accurate',\n",
       " 'also',\n",
       " 'failed',\n",
       " 'provide',\n",
       " 'method',\n",
       " 'verification',\n",
       " 'since',\n",
       " 'neither',\n",
       " 'provided',\n",
       " 'delete',\n",
       " 'unverified',\n",
       " 'believe',\n",
       " 'violation',\n",
       " 'fair',\n",
       " 'reporting',\n",
       " 'act',\n",
       " 'harmed',\n",
       " 'result',\n",
       " 'today',\n",
       " 'fourth',\n",
       " 'final',\n",
       " 'written',\n",
       " 'request',\n",
       " 'verify',\n",
       " 'next',\n",
       " 'step',\n",
       " 'pursue',\n",
       " 'remedy',\n",
       " 'litigation']"
      ]
     },
     "metadata": {
      "tags": []
     },
     "execution_count": 12
    }
   ]
  },
  {
   "cell_type": "markdown",
   "metadata": {
    "id": "dYT8gQ__EYMS"
   },
   "source": [
    "# Doc2Vec"
   ]
  },
  {
   "cell_type": "code",
   "metadata": {
    "id": "jEIQTAt5EYMT"
   },
   "source": [
    "train, test = train_test_split(data, test_size=0.3)\n",
    "d2v_train = train.apply(lambda x: TaggedDocument(words=x.Complaint, tags=x.Product), axis=1)\n",
    "d2v_test = test.apply(lambda x: TaggedDocument(words=x.Complaint, tags=x.Product), axis=1)"
   ],
   "execution_count": 13,
   "outputs": []
  },
  {
   "cell_type": "markdown",
   "metadata": {
    "id": "IXL_HY8YEYMW"
   },
   "source": [
    "## DBOW"
   ]
  },
  {
   "cell_type": "code",
   "metadata": {
    "colab": {
     "base_uri": "https://localhost:8080/"
    },
    "id": "B9-D912wEYMW",
    "outputId": "8d224c73-068d-4c32-cfe9-c0d7fdf76939"
   },
   "source": [
    "def train_DBOW():\n",
    "    cores = multiprocessing.cpu_count()\n",
    "    MAX_EPOCHS = 25\n",
    "\n",
    "    dbow_100 = Doc2Vec(dm=0, vector_size=100, negative=5, hs=0, min_count=2, window=10, workers=cores, dbow_words=1, batch_words=1000)\n",
    "    dbow_100.build_vocab(d2v_train.values)\n",
    "    \n",
    "    total_exaples = len(d2v_train.values)\n",
    "    for epoch in range(MAX_EPOCHS):\n",
    "        print(f'Epoch {epoch} starting')\n",
    "        start = timer()\n",
    "\n",
    "        dbow_100.train(d2v_train.values, total_examples=total_exaples, epochs=1)\n",
    "        dbow_100.alpha -= 0.004\n",
    "        dbow_100.min_alpha = dbow_100.alpha\n",
    "\n",
    "        end = timer()\n",
    "        print(f'Finished in {end-start}s')\n",
    "    # dbow_100.save('dbow100.model')\n",
    "    return dbow_100\n",
    "        \n",
    "dbow_100 = train_DBOW()\n",
    "# dbow_100 = Doc2Vec.load('dbow100.model')\n",
    "    "
   ],
   "execution_count": 173,
   "outputs": [
    {
     "output_type": "stream",
     "text": [
      "Epoch 0 starting\n"
     ],
     "name": "stdout"
    },
    {
     "output_type": "stream",
     "text": [
      "WARNING:gensim.models.base_any2vec:Effective 'alpha' higher than previous training cycles\n"
     ],
     "name": "stderr"
    },
    {
     "output_type": "stream",
     "text": [
      "Finished in 1.1175577789999807s\n",
      "Epoch 1 starting\n",
      "Finished in 1.0984798030001457s\n",
      "Epoch 2 starting\n",
      "Finished in 1.0577676539999175s\n",
      "Epoch 3 starting\n",
      "Finished in 1.050455606000014s\n",
      "Epoch 4 starting\n",
      "Finished in 1.0482751910001298s\n",
      "Epoch 5 starting\n",
      "Finished in 1.0565065869998307s\n",
      "Epoch 6 starting\n",
      "Finished in 1.0673797980000472s\n",
      "Epoch 7 starting\n",
      "Finished in 0.8479912160000822s\n",
      "Epoch 8 starting\n",
      "Finished in 0.734057890000031s\n",
      "Epoch 9 starting\n",
      "Finished in 0.7060795869999765s\n",
      "Epoch 10 starting\n",
      "Finished in 0.7143594310000481s\n",
      "Epoch 11 starting\n",
      "Finished in 0.7144121559999803s\n",
      "Epoch 12 starting\n",
      "Finished in 0.7122295770000164s\n",
      "Epoch 13 starting\n",
      "Finished in 0.739979059999996s\n",
      "Epoch 14 starting\n",
      "Finished in 0.7279442669998843s\n",
      "Epoch 15 starting\n",
      "Finished in 0.6989714069998172s\n",
      "Epoch 16 starting\n",
      "Finished in 0.7116157790001125s\n",
      "Epoch 17 starting\n",
      "Finished in 0.7133987929998966s\n",
      "Epoch 18 starting\n",
      "Finished in 0.6989597510000749s\n",
      "Epoch 19 starting\n",
      "Finished in 0.7177627250000569s\n",
      "Epoch 20 starting\n",
      "Finished in 0.7161139410000033s\n",
      "Epoch 21 starting\n",
      "Finished in 0.7210218299999269s\n",
      "Epoch 22 starting\n",
      "Finished in 0.6961980739999944s\n",
      "Epoch 23 starting\n",
      "Finished in 0.6999698059998991s\n",
      "Epoch 24 starting\n",
      "Finished in 0.7132872150000367s\n"
     ],
     "name": "stdout"
    }
   ]
  },
  {
   "cell_type": "code",
   "metadata": {
    "id": "MwZd-KPhEYMX"
   },
   "source": [
    "def get_vector_data(data, model):\n",
    "    X = []\n",
    "    y = []\n",
    "    for complaint, product in data:\n",
    "        y.append(product)\n",
    "        X.append(model.infer_vector(complaint))\n",
    "    return X, y\n",
    "        "
   ],
   "execution_count": 174,
   "outputs": []
  },
  {
   "cell_type": "code",
   "metadata": {
    "id": "N3AsTov5EYMX"
   },
   "source": [
    "X_d2v_train_vec, y_d2v_train_vec = get_vector_data(d2v_train, dbow_100)\n",
    "X_d2v_test_vec, y_d2v_test_vec = get_vector_data(d2v_test, dbow_100)"
   ],
   "execution_count": 175,
   "outputs": []
  },
  {
   "cell_type": "markdown",
   "metadata": {
    "id": "enDIj2-JEYMX"
   },
   "source": [
    "## TF-IDF"
   ]
  },
  {
   "cell_type": "code",
   "metadata": {
    "id": "sWctVep4EYMY"
   },
   "source": [
    "tfidf_vectorizer = TfidfVectorizer()\n",
    "X_train = [\" \".join(complaint) for prod, complaint in train.values]\n",
    "y_train = [prod for prod, complaint in train.values]\n",
    "\n",
    "X_test = [\" \".join(complaint) for prod, complaint in test.values]\n",
    "y_test = [prod for prod, complaint in test.values]"
   ],
   "execution_count": 14,
   "outputs": []
  },
  {
   "cell_type": "code",
   "metadata": {
    "id": "u1_QF36-EYMY"
   },
   "source": [
    "X_tfidf_train = tfidf_vectorizer.fit_transform(X_train)"
   ],
   "execution_count": 177,
   "outputs": []
  },
  {
   "cell_type": "code",
   "metadata": {
    "id": "VlbRNQUeEYMY"
   },
   "source": [
    "X_tfidf_test = tfidf_vectorizer.transform(X_test)"
   ],
   "execution_count": 178,
   "outputs": []
  },
  {
   "cell_type": "markdown",
   "metadata": {
    "id": "5iz07vsWEYMe"
   },
   "source": [
    "# Klasyfikacja"
   ]
  },
  {
   "cell_type": "code",
   "metadata": {
    "id": "pzQIfasSEYMf"
   },
   "source": [
    "from sklearn.naive_bayes import GaussianNB\n",
    "from sklearn.neighbors import KNeighborsClassifier\n",
    "from sklearn.linear_model import LogisticRegression\n",
    "from sklearn.ensemble import RandomForestClassifier"
   ],
   "execution_count": 179,
   "outputs": []
  },
  {
   "cell_type": "code",
   "metadata": {
    "id": "rpnN3AGeEYMf"
   },
   "source": [
    "GNB_d2v_clf = GaussianNB()\n",
    "KNN_d2v_clf = KNeighborsClassifier(n_neighbors = 7, n_jobs=-1)\n",
    "LR_d2v_clf = LogisticRegression(n_jobs=-1)\n",
    "RF_d2v_clf = RandomForestClassifier(n_jobs=-1)\n",
    "\n",
    "GNB_tfidf_clf = GaussianNB()\n",
    "KNN_tfidf_clf = KNeighborsClassifier(n_neighbors = 7)\n",
    "LR_tfidf_clf = LogisticRegression(n_jobs=-1)\n",
    "RF_tfidf_clf = RandomForestClassifier(n_jobs=-1)\n"
   ],
   "execution_count": 180,
   "outputs": []
  },
  {
   "cell_type": "code",
   "metadata": {
    "colab": {
     "base_uri": "https://localhost:8080/"
    },
    "id": "KMZVQUkyEYMg",
    "outputId": "438a4cce-8f41-4f46-cde2-1a564edff2b8"
   },
   "source": [
    "GNB_d2v_clf.fit(X_d2v_train_vec, y_d2v_train_vec)"
   ],
   "execution_count": 181,
   "outputs": [
    {
     "output_type": "execute_result",
     "data": {
      "text/plain": [
       "GaussianNB(priors=None, var_smoothing=1e-09)"
      ]
     },
     "metadata": {
      "tags": []
     },
     "execution_count": 181
    }
   ]
  },
  {
   "cell_type": "code",
   "metadata": {
    "colab": {
     "base_uri": "https://localhost:8080/"
    },
    "id": "SG9cScSBEYMh",
    "outputId": "e9ec9ac0-b339-43e7-8d33-0f3244bda3d2"
   },
   "source": [
    "KNN_d2v_clf.fit(X_d2v_train_vec, y_d2v_train_vec)"
   ],
   "execution_count": 182,
   "outputs": [
    {
     "output_type": "execute_result",
     "data": {
      "text/plain": [
       "KNeighborsClassifier(algorithm='auto', leaf_size=30, metric='minkowski',\n",
       "                     metric_params=None, n_jobs=-1, n_neighbors=7, p=2,\n",
       "                     weights='uniform')"
      ]
     },
     "metadata": {
      "tags": []
     },
     "execution_count": 182
    }
   ]
  },
  {
   "cell_type": "code",
   "metadata": {
    "colab": {
     "base_uri": "https://localhost:8080/"
    },
    "id": "JEqK3UkRGpOS",
    "outputId": "459914fe-c909-4ed9-e74f-2be6b12cf15d"
   },
   "source": [
    "LR_d2v_clf.fit(X_d2v_train_vec, y_d2v_train_vec)"
   ],
   "execution_count": 183,
   "outputs": [
    {
     "output_type": "execute_result",
     "data": {
      "text/plain": [
       "LogisticRegression(C=1.0, class_weight=None, dual=False, fit_intercept=True,\n",
       "                   intercept_scaling=1, l1_ratio=None, max_iter=100,\n",
       "                   multi_class='auto', n_jobs=-1, penalty='l2',\n",
       "                   random_state=None, solver='lbfgs', tol=0.0001, verbose=0,\n",
       "                   warm_start=False)"
      ]
     },
     "metadata": {
      "tags": []
     },
     "execution_count": 183
    }
   ]
  },
  {
   "cell_type": "code",
   "metadata": {
    "colab": {
     "base_uri": "https://localhost:8080/"
    },
    "id": "nrp4vi0LTAyi",
    "outputId": "68c531c7-d2c5-4098-9b65-af30a71350c1"
   },
   "source": [
    "RF_d2v_clf.fit(X_d2v_train_vec, y_d2v_train_vec)"
   ],
   "execution_count": 184,
   "outputs": [
    {
     "output_type": "execute_result",
     "data": {
      "text/plain": [
       "RandomForestClassifier(bootstrap=True, ccp_alpha=0.0, class_weight=None,\n",
       "                       criterion='gini', max_depth=None, max_features='auto',\n",
       "                       max_leaf_nodes=None, max_samples=None,\n",
       "                       min_impurity_decrease=0.0, min_impurity_split=None,\n",
       "                       min_samples_leaf=1, min_samples_split=2,\n",
       "                       min_weight_fraction_leaf=0.0, n_estimators=100,\n",
       "                       n_jobs=-1, oob_score=False, random_state=None, verbose=0,\n",
       "                       warm_start=False)"
      ]
     },
     "metadata": {
      "tags": []
     },
     "execution_count": 184
    }
   ]
  },
  {
   "cell_type": "code",
   "metadata": {
    "colab": {
     "base_uri": "https://localhost:8080/"
    },
    "id": "O2Z2_s95EYMh",
    "outputId": "9cb89b78-7e3e-4444-d6ce-e5e65fafe9e9"
   },
   "source": [
    "GNB_tfidf_clf.fit(X_tfidf_train.toarray(), y_train)"
   ],
   "execution_count": 185,
   "outputs": [
    {
     "output_type": "execute_result",
     "data": {
      "text/plain": [
       "GaussianNB(priors=None, var_smoothing=1e-09)"
      ]
     },
     "metadata": {
      "tags": []
     },
     "execution_count": 185
    }
   ]
  },
  {
   "cell_type": "code",
   "metadata": {
    "colab": {
     "base_uri": "https://localhost:8080/"
    },
    "id": "rLKCJG2xEYMj",
    "outputId": "995178cd-7c2d-478a-c81d-59d2ef20794c"
   },
   "source": [
    "KNN_tfidf_clf.fit(X_tfidf_train, y_train)"
   ],
   "execution_count": 186,
   "outputs": [
    {
     "output_type": "execute_result",
     "data": {
      "text/plain": [
       "KNeighborsClassifier(algorithm='auto', leaf_size=30, metric='minkowski',\n",
       "                     metric_params=None, n_jobs=None, n_neighbors=7, p=2,\n",
       "                     weights='uniform')"
      ]
     },
     "metadata": {
      "tags": []
     },
     "execution_count": 186
    }
   ]
  },
  {
   "cell_type": "code",
   "metadata": {
    "colab": {
     "base_uri": "https://localhost:8080/"
    },
    "id": "f1c-ZZXRGtIX",
    "outputId": "0f71833e-3386-424b-cadf-6eea9acd7013"
   },
   "source": [
    "LR_tfidf_clf.fit(X_tfidf_train, y_train)"
   ],
   "execution_count": 187,
   "outputs": [
    {
     "output_type": "execute_result",
     "data": {
      "text/plain": [
       "LogisticRegression(C=1.0, class_weight=None, dual=False, fit_intercept=True,\n",
       "                   intercept_scaling=1, l1_ratio=None, max_iter=100,\n",
       "                   multi_class='auto', n_jobs=-1, penalty='l2',\n",
       "                   random_state=None, solver='lbfgs', tol=0.0001, verbose=0,\n",
       "                   warm_start=False)"
      ]
     },
     "metadata": {
      "tags": []
     },
     "execution_count": 187
    }
   ]
  },
  {
   "cell_type": "code",
   "metadata": {
    "colab": {
     "base_uri": "https://localhost:8080/"
    },
    "id": "29hGKsMvT5u9",
    "outputId": "c5497cef-c357-415e-c545-6674cef1880d"
   },
   "source": [
    "RF_tfidf_clf.fit(X_tfidf_train, y_train)"
   ],
   "execution_count": 188,
   "outputs": [
    {
     "output_type": "execute_result",
     "data": {
      "text/plain": [
       "RandomForestClassifier(bootstrap=True, ccp_alpha=0.0, class_weight=None,\n",
       "                       criterion='gini', max_depth=None, max_features='auto',\n",
       "                       max_leaf_nodes=None, max_samples=None,\n",
       "                       min_impurity_decrease=0.0, min_impurity_split=None,\n",
       "                       min_samples_leaf=1, min_samples_split=2,\n",
       "                       min_weight_fraction_leaf=0.0, n_estimators=100,\n",
       "                       n_jobs=-1, oob_score=False, random_state=None, verbose=0,\n",
       "                       warm_start=False)"
      ]
     },
     "metadata": {
      "tags": []
     },
     "execution_count": 188
    }
   ]
  },
  {
   "cell_type": "markdown",
   "metadata": {
    "id": "PxyUncObF0yN"
   },
   "source": [
    "## Wyniki"
   ]
  },
  {
   "cell_type": "code",
   "metadata": {
    "colab": {
     "base_uri": "https://localhost:8080/"
    },
    "id": "J1T-dWlwEYMj",
    "outputId": "0c9db8d5-61c5-49a6-84b1-17d96eed3875"
   },
   "source": [
    "print(f\"\"\"\n",
    "Doc2Vec:\n",
    "    GaussianNB:\n",
    "        acc: {GNB_d2v_clf.score(X_d2v_test_vec, y_d2v_test_vec)}\n",
    "    KNN:\n",
    "        acc: {KNN_d2v_clf.score(X_d2v_test_vec, y_d2v_test_vec)}\n",
    "    Logistic Regression:\n",
    "        acc: {LR_d2v_clf.score(X_d2v_test_vec, y_d2v_test_vec)}\n",
    "    Random Forest:\n",
    "        acc: {RF_d2v_clf.score(X_d2v_test_vec, y_d2v_test_vec)}\n",
    "\n",
    "TF-IDF\n",
    "    GaussianNB:\n",
    "        acc: {GNB_tfidf_clf.score(X_tfidf_test.toarray(), y_test)}\n",
    "    KNN:\n",
    "        acc: {KNN_tfidf_clf.score(X_tfidf_test, y_test)}\n",
    "    Logistic Regression:\n",
    "        acc: {LR_tfidf_clf.score(X_tfidf_test, y_test)}\n",
    "    Random Forest:\n",
    "        acc: {RF_tfidf_clf.score(X_tfidf_test, y_test)}\n",
    "                            \n",
    "\"\"\")"
   ],
   "execution_count": 189,
   "outputs": [
    {
     "output_type": "stream",
     "text": [
      "\n",
      "Doc2Vec:\n",
      "    GaussianNB:\n",
      "        acc: 0.14285714285714285\n",
      "    KNN:\n",
      "        acc: 0.42857142857142855\n",
      "    Logistic Regression:\n",
      "        acc: 0.5021645021645021\n",
      "    Random Forest:\n",
      "        acc: 0.47186147186147187\n",
      "\n",
      "TF-IDF\n",
      "    GaussianNB:\n",
      "        acc: 0.49783549783549785\n",
      "    KNN:\n",
      "        acc: 0.6926406926406926\n",
      "    Logistic Regression:\n",
      "        acc: 0.5757575757575758\n",
      "    Random Forest:\n",
      "        acc: 0.6320346320346321\n",
      "                            \n",
      "\n"
     ],
     "name": "stdout"
    }
   ]
  },
  {
   "cell_type": "markdown",
   "metadata": {
    "id": "peBgEXSgJOYd"
   },
   "source": [
    "Wynik wyszedł dla mnie zaskakujący, że bardziej zaawansowana metoda Doc2Vec uzyskała gorsze wyniki niż prostszy TF-IDF."
   ]
  },
  {
   "cell_type": "markdown",
   "metadata": {
    "id": "2RIC3q0IWwCc"
   },
   "source": [
    "# Zadanie 2\n",
    "#### Proszę wykonać klasteryzację załączonych adresów przy pomocy przynajmniej 3 metryk w przestrzeni napisów (np. LCS, Levenshteina, DICE) i porównać wyniki."
   ]
  },
  {
   "cell_type": "code",
   "metadata": {
    "id": "W4zJEaJjJei3",
    "colab": {
     "base_uri": "https://localhost:8080/"
    },
    "outputId": "c8b87ea5-7e22-453c-d3b6-60d7e1683737"
   },
   "source": [
    "# !pip3 install scikit-learn-extra\n",
    "# !pip3 install leven\n",
    "# !pip3 install distance-metrics\n",
    "# !pip3 install Distance\n",
    "!pip3 install textdistance"
   ],
   "execution_count": 47,
   "outputs": [
    {
     "output_type": "stream",
     "text": [
      "Collecting textdistance\n",
      "  Downloading https://files.pythonhosted.org/packages/35/71/87133323736b9b0180f600d477507318dae0abde613a54df33bfd0248614/textdistance-4.2.0-py3-none-any.whl\n",
      "Installing collected packages: textdistance\n",
      "Successfully installed textdistance-4.2.0\n"
     ],
     "name": "stdout"
    }
   ]
  },
  {
   "cell_type": "code",
   "metadata": {
    "id": "97aqrtOVbp9I"
   },
   "source": [
    "from sklearn_extra.cluster import KMedoids\n",
    "from sklearn.cluster import dbscan\n",
    "from leven import levenshtein \n",
    "from distance_metrics import lcs\n",
    "# from scipy.spatial.distance import dice\n",
    "from distance import jaccard, sorensen\n",
    "from functools import partial\n",
    "import matplotlib.pyplot as plt\n",
    "import random\n",
    "from textdistance import lcsseq, sorensen_dice"
   ],
   "execution_count": 53,
   "outputs": []
  },
  {
   "cell_type": "code",
   "metadata": {
    "id": "eEt_ppfEcK_w"
   },
   "source": [
    "def get_comps_by_index(comp1_ind, comp2_ind):\n",
    "    comp1_ind = int(comp1_ind)\n",
    "    comp2_ind = int(comp2_ind)\n",
    "\n",
    "    comp1 = KMed_X_data[comp1_ind]\n",
    "    comp2 = KMed_X_data[comp2_ind]\n",
    "    return comp1, comp2\n",
    "\n",
    "def lev_metric(comp1_ind, comp2_ind):\n",
    "    comp1, comp2 = get_comps_by_index(comp1_ind, comp2_ind)\n",
    "    return levenshtein(comp1, comp2)\n",
    "\n",
    "# Liczyła się zbyt długo i z niej zrezygnowałem\n",
    "def lcs_metric(comp1_ind, comp2_ind):\n",
    "    comp1, comp2 = get_comps_by_index(comp1_ind, comp2_ind)\n",
    "    dist = lcs.llcs(comp1, comp2)\n",
    "    if dist > 0:\n",
    "        return 1/dist\n",
    "    else:\n",
    "        return np.inf\n",
    "\n",
    "# Liczyła się zbyt długo i z niej zrezygnowałem\n",
    "def bakkelund_metric(comp1_ind, comp2_ind):\n",
    "    comp1, comp2 = get_comps_by_index(comp1_ind, comp2_ind)\n",
    "    return lcs.bakkelund(comp1, comp2)\n",
    "\n",
    "\n",
    "def jaccard_metric(comp1_ind, comp2_ind):\n",
    "    comp1, comp2 = get_comps_by_index(comp1_ind, comp2_ind)\n",
    "    return jaccard(comp1, comp2)\n",
    "\n",
    "\n",
    "def sorensen_metric(comp1_ind, comp2_ind):\n",
    "    comp1, comp2 = get_comps_by_index(comp1_ind, comp2_ind)\n",
    "    return sorensen(comp1, comp2)\n",
    "\n",
    "\n",
    "def sorensen_dice_metric(comp1_ind, comp2_ind):\n",
    "    comp1, comp2 = get_comps_by_index(comp1_ind, comp2_ind)\n",
    "    return sorensen_dice(comp1, comp2)\n",
    "\n",
    "\n",
    "def precompute_distances(metric):\n",
    "    num_of_comp = KMed_X_data.shape[0]\n",
    "    precomputed_distances = np.zeros((num_of_comp, num_of_comp))\n",
    "    for comp1_ind in range(num_of_comp):\n",
    "        for comp2_ind in range(comp1_ind, num_of_comp):\n",
    "            if comp1_ind != comp2_ind:\n",
    "                dist = metric(comp1_ind, comp2_ind)\n",
    "                precomputed_distances[comp1_ind, comp2_ind] = dist\n",
    "    return precomputed_distances\n",
    "                \n",
    "def precomputed_metric(precomputed_distances, comp1_ind, comp2_ind):\n",
    "    comp1_ind = int(comp1_ind)\n",
    "    comp2_ind = int(comp2_ind)\n",
    "    if comp1_ind < comp2_ind:\n",
    "        return precomputed_distances[comp1_ind, comp2_ind]\n",
    "    else:\n",
    "        return precomputed_distances[comp2_ind, comp1_ind]\n"
   ],
   "execution_count": 57,
   "outputs": []
  },
  {
   "cell_type": "code",
   "metadata": {
    "id": "0nzGstfQV8Ww"
   },
   "source": [
    "N_CLUSTERS = len(data.Product.unique())\n",
    "\n",
    "train_size, test_size = 400, 100      #ze wzeględu na bardzo długi czas obliczania odległości\n",
    "KMed_X_data = np.hstack([X_train[:train_size], X_test[:test_size]])\n",
    "KMed_y_data = np.hstack([y_train[:train_size], y_test[:test_size]])\n",
    "\n",
    "KMed_X_train = np.arange(len(X_train[:train_size])).reshape(-1, 1)\n",
    "KMed_X_test = np.arange(len(X_test[:test_size])).reshape(-1, 1)\n",
    "\n",
    "KMed_y_test = y_test[:test_size]"
   ],
   "execution_count": 66,
   "outputs": []
  },
  {
   "cell_type": "code",
   "metadata": {
    "id": "5R-eISnbhOEB"
   },
   "source": [
    "precomputed_lev = partial(precomputed_metric, precompute_distances(lev_metric))\n",
    "KMed_lev = KMedoids(n_clusters=N_CLUSTERS, metric=precomputed_lev)"
   ],
   "execution_count": 67,
   "outputs": []
  },
  {
   "cell_type": "code",
   "metadata": {
    "colab": {
     "base_uri": "https://localhost:8080/"
    },
    "id": "JzlCzpsSYW9i",
    "outputId": "5b95b452-538f-4128-987b-f4ecc9b90b15"
   },
   "source": [
    "KMed_lev.fit(KMed_X_train)"
   ],
   "execution_count": 20,
   "outputs": [
    {
     "output_type": "execute_result",
     "data": {
      "text/plain": [
       "KMedoids(init='heuristic', max_iter=300,\n",
       "         metric=functools.partial(<function precomputed_metric at 0x7f5067408bf8>, array([[  0., 183., 388., ...,  99., 409., 179.],\n",
       "       [  0.,   0., 354., ..., 194., 378., 197.],\n",
       "       [  0.,   0.,   0., ..., 413., 380., 354.],\n",
       "       ...,\n",
       "       [  0.,   0.,   0., ...,   0., 441., 193.],\n",
       "       [  0.,   0.,   0., ...,   0.,   0., 374.],\n",
       "       [  0.,   0.,   0., ...,   0.,   0.,   0.]])),\n",
       "         n_clusters=14, random_state=None)"
      ]
     },
     "metadata": {
      "tags": []
     },
     "execution_count": 20
    }
   ]
  },
  {
   "cell_type": "code",
   "metadata": {
    "id": "DIanGMmYtWOA"
   },
   "source": [
    "precomputed_jac = partial(precomputed_metric, precompute_distances(jaccard_metric))\n",
    "KMed_jac = KMedoids(n_clusters=N_CLUSTERS, metric=precomputed_jac)"
   ],
   "execution_count": 34,
   "outputs": []
  },
  {
   "cell_type": "code",
   "metadata": {
    "colab": {
     "base_uri": "https://localhost:8080/"
    },
    "id": "yn5RBbP8tWik",
    "outputId": "a7d6a71e-2447-4149-fcb1-8e9d85f5c4ae"
   },
   "source": [
    "KMed_jac.fit(KMed_X_train)"
   ],
   "execution_count": 35,
   "outputs": [
    {
     "output_type": "stream",
     "text": [
      "/usr/local/lib/python3.6/dist-packages/sklearn_extra/cluster/_k_medoids.py:235: UserWarning: Cluster 1 is empty! self.labels_[self.medoid_indices_[1]] may not be labeled with its corresponding cluster (1).\n",
      "  \"its corresponding cluster ({k}).\".format(k=k)\n",
      "/usr/local/lib/python3.6/dist-packages/sklearn_extra/cluster/_k_medoids.py:235: UserWarning: Cluster 2 is empty! self.labels_[self.medoid_indices_[2]] may not be labeled with its corresponding cluster (2).\n",
      "  \"its corresponding cluster ({k}).\".format(k=k)\n",
      "/usr/local/lib/python3.6/dist-packages/sklearn_extra/cluster/_k_medoids.py:235: UserWarning: Cluster 3 is empty! self.labels_[self.medoid_indices_[3]] may not be labeled with its corresponding cluster (3).\n",
      "  \"its corresponding cluster ({k}).\".format(k=k)\n",
      "/usr/local/lib/python3.6/dist-packages/sklearn_extra/cluster/_k_medoids.py:235: UserWarning: Cluster 4 is empty! self.labels_[self.medoid_indices_[4]] may not be labeled with its corresponding cluster (4).\n",
      "  \"its corresponding cluster ({k}).\".format(k=k)\n",
      "/usr/local/lib/python3.6/dist-packages/sklearn_extra/cluster/_k_medoids.py:235: UserWarning: Cluster 5 is empty! self.labels_[self.medoid_indices_[5]] may not be labeled with its corresponding cluster (5).\n",
      "  \"its corresponding cluster ({k}).\".format(k=k)\n",
      "/usr/local/lib/python3.6/dist-packages/sklearn_extra/cluster/_k_medoids.py:235: UserWarning: Cluster 6 is empty! self.labels_[self.medoid_indices_[6]] may not be labeled with its corresponding cluster (6).\n",
      "  \"its corresponding cluster ({k}).\".format(k=k)\n",
      "/usr/local/lib/python3.6/dist-packages/sklearn_extra/cluster/_k_medoids.py:235: UserWarning: Cluster 7 is empty! self.labels_[self.medoid_indices_[7]] may not be labeled with its corresponding cluster (7).\n",
      "  \"its corresponding cluster ({k}).\".format(k=k)\n",
      "/usr/local/lib/python3.6/dist-packages/sklearn_extra/cluster/_k_medoids.py:235: UserWarning: Cluster 8 is empty! self.labels_[self.medoid_indices_[8]] may not be labeled with its corresponding cluster (8).\n",
      "  \"its corresponding cluster ({k}).\".format(k=k)\n",
      "/usr/local/lib/python3.6/dist-packages/sklearn_extra/cluster/_k_medoids.py:235: UserWarning: Cluster 9 is empty! self.labels_[self.medoid_indices_[9]] may not be labeled with its corresponding cluster (9).\n",
      "  \"its corresponding cluster ({k}).\".format(k=k)\n",
      "/usr/local/lib/python3.6/dist-packages/sklearn_extra/cluster/_k_medoids.py:235: UserWarning: Cluster 10 is empty! self.labels_[self.medoid_indices_[10]] may not be labeled with its corresponding cluster (10).\n",
      "  \"its corresponding cluster ({k}).\".format(k=k)\n",
      "/usr/local/lib/python3.6/dist-packages/sklearn_extra/cluster/_k_medoids.py:235: UserWarning: Cluster 11 is empty! self.labels_[self.medoid_indices_[11]] may not be labeled with its corresponding cluster (11).\n",
      "  \"its corresponding cluster ({k}).\".format(k=k)\n",
      "/usr/local/lib/python3.6/dist-packages/sklearn_extra/cluster/_k_medoids.py:235: UserWarning: Cluster 12 is empty! self.labels_[self.medoid_indices_[12]] may not be labeled with its corresponding cluster (12).\n",
      "  \"its corresponding cluster ({k}).\".format(k=k)\n",
      "/usr/local/lib/python3.6/dist-packages/sklearn_extra/cluster/_k_medoids.py:235: UserWarning: Cluster 13 is empty! self.labels_[self.medoid_indices_[13]] may not be labeled with its corresponding cluster (13).\n",
      "  \"its corresponding cluster ({k}).\".format(k=k)\n"
     ],
     "name": "stderr"
    },
    {
     "output_type": "execute_result",
     "data": {
      "text/plain": [
       "KMedoids(init='heuristic', max_iter=300,\n",
       "         metric=functools.partial(<function precomputed_metric at 0x7f5067408c80>, array([[0.        , 0.2       , 0.2       , ..., 0.2173913 , 0.15384615,\n",
       "        0.24      ],\n",
       "       [0.        , 0.        , 0.        , ..., 0.17391304, 0.11538462,\n",
       "        0.04347826],\n",
       "       [0.        , 0.        , 0.        , ..., 0.17391304, 0.11538462,\n",
       "        0.04347826],\n",
       "       ...,\n",
       "       [0.        , 0.        , 0.        , ..., 0.        , 0.26923077,\n",
       "        0.13636364],\n",
       "       [0.        , 0.        , 0.        , ..., 0.        , 0.        ,\n",
       "        0.15384615],\n",
       "       [0.        , 0.        , 0.        , ..., 0.        , 0.        ,\n",
       "        0.        ]])),\n",
       "         n_clusters=14, random_state=None)"
      ]
     },
     "metadata": {
      "tags": []
     },
     "execution_count": 35
    }
   ]
  },
  {
   "cell_type": "code",
   "metadata": {
    "id": "dKWjl0XrtWsv"
   },
   "source": [
    "precomputed_sor = partial(precomputed_metric, precompute_distances(sorensen_metric))\n",
    "KMed_sor = KMedoids(n_clusters=N_CLUSTERS, metric=precomputed_sor)"
   ],
   "execution_count": 40,
   "outputs": []
  },
  {
   "cell_type": "code",
   "metadata": {
    "colab": {
     "base_uri": "https://localhost:8080/"
    },
    "id": "wgipYuqfwLSg",
    "outputId": "48d1268e-ae2c-4988-ffea-fc380c010597"
   },
   "source": [
    "KMed_sor.fit(KMed_X_train)"
   ],
   "execution_count": 41,
   "outputs": [
    {
     "output_type": "stream",
     "text": [
      "/usr/local/lib/python3.6/dist-packages/sklearn_extra/cluster/_k_medoids.py:235: UserWarning: Cluster 1 is empty! self.labels_[self.medoid_indices_[1]] may not be labeled with its corresponding cluster (1).\n",
      "  \"its corresponding cluster ({k}).\".format(k=k)\n",
      "/usr/local/lib/python3.6/dist-packages/sklearn_extra/cluster/_k_medoids.py:235: UserWarning: Cluster 2 is empty! self.labels_[self.medoid_indices_[2]] may not be labeled with its corresponding cluster (2).\n",
      "  \"its corresponding cluster ({k}).\".format(k=k)\n",
      "/usr/local/lib/python3.6/dist-packages/sklearn_extra/cluster/_k_medoids.py:235: UserWarning: Cluster 3 is empty! self.labels_[self.medoid_indices_[3]] may not be labeled with its corresponding cluster (3).\n",
      "  \"its corresponding cluster ({k}).\".format(k=k)\n",
      "/usr/local/lib/python3.6/dist-packages/sklearn_extra/cluster/_k_medoids.py:235: UserWarning: Cluster 4 is empty! self.labels_[self.medoid_indices_[4]] may not be labeled with its corresponding cluster (4).\n",
      "  \"its corresponding cluster ({k}).\".format(k=k)\n",
      "/usr/local/lib/python3.6/dist-packages/sklearn_extra/cluster/_k_medoids.py:235: UserWarning: Cluster 5 is empty! self.labels_[self.medoid_indices_[5]] may not be labeled with its corresponding cluster (5).\n",
      "  \"its corresponding cluster ({k}).\".format(k=k)\n",
      "/usr/local/lib/python3.6/dist-packages/sklearn_extra/cluster/_k_medoids.py:235: UserWarning: Cluster 6 is empty! self.labels_[self.medoid_indices_[6]] may not be labeled with its corresponding cluster (6).\n",
      "  \"its corresponding cluster ({k}).\".format(k=k)\n",
      "/usr/local/lib/python3.6/dist-packages/sklearn_extra/cluster/_k_medoids.py:235: UserWarning: Cluster 7 is empty! self.labels_[self.medoid_indices_[7]] may not be labeled with its corresponding cluster (7).\n",
      "  \"its corresponding cluster ({k}).\".format(k=k)\n",
      "/usr/local/lib/python3.6/dist-packages/sklearn_extra/cluster/_k_medoids.py:235: UserWarning: Cluster 8 is empty! self.labels_[self.medoid_indices_[8]] may not be labeled with its corresponding cluster (8).\n",
      "  \"its corresponding cluster ({k}).\".format(k=k)\n",
      "/usr/local/lib/python3.6/dist-packages/sklearn_extra/cluster/_k_medoids.py:235: UserWarning: Cluster 9 is empty! self.labels_[self.medoid_indices_[9]] may not be labeled with its corresponding cluster (9).\n",
      "  \"its corresponding cluster ({k}).\".format(k=k)\n",
      "/usr/local/lib/python3.6/dist-packages/sklearn_extra/cluster/_k_medoids.py:235: UserWarning: Cluster 10 is empty! self.labels_[self.medoid_indices_[10]] may not be labeled with its corresponding cluster (10).\n",
      "  \"its corresponding cluster ({k}).\".format(k=k)\n",
      "/usr/local/lib/python3.6/dist-packages/sklearn_extra/cluster/_k_medoids.py:235: UserWarning: Cluster 11 is empty! self.labels_[self.medoid_indices_[11]] may not be labeled with its corresponding cluster (11).\n",
      "  \"its corresponding cluster ({k}).\".format(k=k)\n",
      "/usr/local/lib/python3.6/dist-packages/sklearn_extra/cluster/_k_medoids.py:235: UserWarning: Cluster 12 is empty! self.labels_[self.medoid_indices_[12]] may not be labeled with its corresponding cluster (12).\n",
      "  \"its corresponding cluster ({k}).\".format(k=k)\n",
      "/usr/local/lib/python3.6/dist-packages/sklearn_extra/cluster/_k_medoids.py:235: UserWarning: Cluster 13 is empty! self.labels_[self.medoid_indices_[13]] may not be labeled with its corresponding cluster (13).\n",
      "  \"its corresponding cluster ({k}).\".format(k=k)\n"
     ],
     "name": "stderr"
    },
    {
     "output_type": "execute_result",
     "data": {
      "text/plain": [
       "KMedoids(init='heuristic', max_iter=300,\n",
       "         metric=functools.partial(<function precomputed_metric at 0x7f5086490d08>, array([[0.        , 0.11111111, 0.11111111, ..., 0.12195122, 0.08333333,\n",
       "        0.13636364],\n",
       "       [0.        , 0.        , 0.        , ..., 0.0952381 , 0.06122449,\n",
       "        0.02222222],\n",
       "       [0.        , 0.        , 0.        , ..., 0.0952381 , 0.06122449,\n",
       "        0.02222222],\n",
       "       ...,\n",
       "       [0.        , 0.        , 0.        , ..., 0.        , 0.15555556,\n",
       "        0.07317073],\n",
       "       [0.        , 0.        , 0.        , ..., 0.        , 0.        ,\n",
       "        0.08333333],\n",
       "       [0.        , 0.        , 0.        , ..., 0.        , 0.        ,\n",
       "        0.        ]])),\n",
       "         n_clusters=14, random_state=None)"
      ]
     },
     "metadata": {
      "tags": []
     },
     "execution_count": 41
    }
   ]
  },
  {
   "cell_type": "code",
   "metadata": {
    "id": "TN5gmXAlBpIn"
   },
   "source": [
    "precomputed_s_dice = partial(precomputed_metric, precompute_distances(sorensen_dice_metric))\n",
    "KMed_s_dice = KMedoids(n_clusters=N_CLUSTERS, metric=precomputed_s_dice)"
   ],
   "execution_count": 58,
   "outputs": []
  },
  {
   "cell_type": "code",
   "metadata": {
    "colab": {
     "base_uri": "https://localhost:8080/"
    },
    "id": "EpPs2227BpbJ",
    "outputId": "fb858374-40ca-46ad-f350-3de64fc7f03e"
   },
   "source": [
    "KMed_s_dice.fit(KMed_X_train)"
   ],
   "execution_count": 59,
   "outputs": [
    {
     "output_type": "execute_result",
     "data": {
      "text/plain": [
       "KMedoids(init='heuristic', max_iter=300,\n",
       "         metric=functools.partial(<function precomputed_metric at 0x7f50864909d8>, array([[0.        , 0.68929504, 0.43577236, ..., 0.6728972 , 0.425     ,\n",
       "        0.68586387],\n",
       "       [0.        , 0.        , 0.68044077, ..., 0.48      , 0.65778961,\n",
       "        0.88843813],\n",
       "       [0.        , 0.        , 0.        , ..., 0.28007181, 0.87487284,\n",
       "        0.67862069],\n",
       "       ...,\n",
       "       [0.        , 0.        , 0.        , ..., 0.        , 0.26804124,\n",
       "        0.4691358 ],\n",
       "       [0.        , 0.        , 0.        , ..., 0.        , 0.        ,\n",
       "        0.656     ],\n",
       "       [0.        , 0.        , 0.        , ..., 0.        , 0.        ,\n",
       "        0.        ]])),\n",
       "         n_clusters=14, random_state=None)"
      ]
     },
     "metadata": {
      "tags": []
     },
     "execution_count": 59
    }
   ]
  },
  {
   "cell_type": "code",
   "metadata": {
    "id": "OFkEszwUhPfY"
   },
   "source": [
    "#precomputed_lcs = partial(precomputed_metric, precompute_distances(lcs_metric))\n",
    "#KMed_lcs = KMedoids(n_clusters=N_CLUSTERS, metric=precomputed_lcs)"
   ],
   "execution_count": null,
   "outputs": []
  },
  {
   "cell_type": "code",
   "metadata": {
    "id": "2HVWbCbv7lSq"
   },
   "source": [
    "# KMed_lcs.fit(KMed_X_train)"
   ],
   "execution_count": null,
   "outputs": []
  },
  {
   "cell_type": "code",
   "metadata": {
    "id": "Mv30tzjDx1Y4"
   },
   "source": [
    "# precomputed_bak = partial(precomputed_metric, precompute_distances(bakkelund_metric))\n",
    "# KMed_bak = KMedoids(n_clusters=N_CLUSTERS, metric=precomputed_bak)"
   ],
   "execution_count": null,
   "outputs": []
  },
  {
   "cell_type": "code",
   "metadata": {
    "id": "CoNs_ljx7pM7"
   },
   "source": [
    "# KMed_bak.fit(KMed_X_train)"
   ],
   "execution_count": null,
   "outputs": []
  },
  {
   "cell_type": "code",
   "metadata": {
    "id": "Cd2uRw9b1MR7"
   },
   "source": [
    "def print_cluster(true_labels, predictions, name):\n",
    "    clusters = dict()\n",
    "    for i, pred in enumerate(predictions):\n",
    "        if pred not in clusters.keys():\n",
    "            clusters[pred] = []\n",
    "        clusters[pred].append(true_labels[i])\n",
    "    \n",
    "    print(name)\n",
    "    for cluster, items in clusters.items():\n",
    "        print(f\"  Cluster nr: {cluster}\")\n",
    "        cluster_items = dict()\n",
    "        for item in items:\n",
    "            cluster_items[item] = cluster_items.get(item, 0) + 1\n",
    "\n",
    "        cluster_items = {k: v for k, v in sorted(cluster_items.items(), key=lambda item: -item[1])}\n",
    "        for item, freq in cluster_items.items():\n",
    "            print(f'\\t{freq}: {item}')\n"
   ],
   "execution_count": 43,
   "outputs": []
  },
  {
   "cell_type": "code",
   "metadata": {
    "colab": {
     "base_uri": "https://localhost:8080/"
    },
    "id": "kAcNMLdF3MUu",
    "outputId": "7c397876-74a6-4bd1-d843-1d8f1ee63201"
   },
   "source": [
    "lev_pred = KMed_lev.predict(KMed_X_test)\n",
    "print_cluster(KMed_y_test, lev_pred, 'LEVENSHTEIN')"
   ],
   "execution_count": 45,
   "outputs": [
    {
     "output_type": "stream",
     "text": [
      "LEVENSHTEIN\n",
      "  Cluster nr: 11\n",
      "\t3: Credit reporting, credit repair services, or other personal consumer reports\n",
      "\t2: Debt collection\n",
      "\t1: Mortgage\n",
      "  Cluster nr: 9\n",
      "\t1: Debt collection\n",
      "\t1: Credit reporting, credit repair services, or other personal consumer reports\n",
      "\t1: Student loan\n",
      "\t1: Checking or savings account\n",
      "\t1: Mortgage\n",
      "  Cluster nr: 7\n",
      "\t6: Credit reporting, credit repair services, or other personal consumer reports\n",
      "\t2: Debt collection\n",
      "\t2: Mortgage\n",
      "\t1: Credit card or prepaid card\n",
      "\t1: Student loan\n",
      "\t1: Checking or savings account\n",
      "  Cluster nr: 12\n",
      "\t2: Credit reporting, credit repair services, or other personal consumer reports\n",
      "  Cluster nr: 10\n",
      "\t5: Credit reporting, credit repair services, or other personal consumer reports\n",
      "\t1: Credit card or prepaid card\n",
      "  Cluster nr: 5\n",
      "\t8: Credit reporting, credit repair services, or other personal consumer reports\n",
      "\t2: Mortgage\n",
      "\t1: Debt collection\n",
      "\t1: Credit card or prepaid card\n",
      "  Cluster nr: 3\n",
      "\t6: Credit reporting, credit repair services, or other personal consumer reports\n",
      "\t1: Mortgage\n",
      "\t1: Checking or savings account\n",
      "\t1: Debt collection\n",
      "  Cluster nr: 1\n",
      "\t2: Credit reporting, credit repair services, or other personal consumer reports\n",
      "\t1: Credit card or prepaid card\n",
      "\t1: Debt collection\n",
      "  Cluster nr: 8\n",
      "\t9: Credit reporting, credit repair services, or other personal consumer reports\n",
      "\t4: Credit card or prepaid card\n",
      "\t4: Debt collection\n",
      "\t3: Mortgage\n",
      "\t2: Money transfer, virtual currency, or money service\n",
      "\t2: Checking or savings account\n",
      "\t1: Payday loan, title loan, or personal loan\n",
      "\t1: Vehicle loan or lease\n",
      "  Cluster nr: 13\n",
      "\t5: Credit reporting, credit repair services, or other personal consumer reports\n",
      "\t2: Debt collection\n",
      "\t2: Mortgage\n",
      "\t1: Student loan\n",
      "  Cluster nr: 0\n",
      "\t2: Credit reporting, credit repair services, or other personal consumer reports\n",
      "\t1: Student loan\n",
      "  Cluster nr: 2\n",
      "\t1: Credit reporting, credit repair services, or other personal consumer reports\n",
      "\t1: Debt collection\n",
      "  Cluster nr: 6\n",
      "\t1: Credit reporting, credit repair services, or other personal consumer reports\n",
      "  Cluster nr: 4\n",
      "\t1: Credit reporting, credit repair services, or other personal consumer reports\n"
     ],
     "name": "stdout"
    }
   ]
  },
  {
   "cell_type": "code",
   "metadata": {
    "colab": {
     "base_uri": "https://localhost:8080/"
    },
    "id": "ld0s5V4b3yqG",
    "outputId": "52b9825c-88ff-4358-8732-ff2afa5f36e6"
   },
   "source": [
    "jac_pred = KMed_jac.predict(KMed_X_test)\n",
    "print_cluster(KMed_y_test, jac_pred, 'JACCARD')"
   ],
   "execution_count": 44,
   "outputs": [
    {
     "output_type": "stream",
     "text": [
      "JACCARD\n",
      "  Cluster nr: 0\n",
      "\t52: Credit reporting, credit repair services, or other personal consumer reports\n",
      "\t15: Debt collection\n",
      "\t12: Mortgage\n",
      "\t8: Credit card or prepaid card\n",
      "\t5: Checking or savings account\n",
      "\t4: Student loan\n",
      "\t2: Money transfer, virtual currency, or money service\n",
      "\t1: Payday loan, title loan, or personal loan\n",
      "\t1: Vehicle loan or lease\n"
     ],
     "name": "stdout"
    }
   ]
  },
  {
   "cell_type": "code",
   "metadata": {
    "colab": {
     "base_uri": "https://localhost:8080/"
    },
    "id": "Db5lut3l8dJf",
    "outputId": "f981bdee-ad37-4c24-d8f1-27dd2d5c6be0"
   },
   "source": [
    "sor_pred = KMed_sor.predict(KMed_X_test)\n",
    "print_cluster(KMed_y_test, sor_pred, 'SORENSEN')"
   ],
   "execution_count": 46,
   "outputs": [
    {
     "output_type": "stream",
     "text": [
      "SORENSEN\n",
      "  Cluster nr: 0\n",
      "\t52: Credit reporting, credit repair services, or other personal consumer reports\n",
      "\t15: Debt collection\n",
      "\t12: Mortgage\n",
      "\t8: Credit card or prepaid card\n",
      "\t5: Checking or savings account\n",
      "\t4: Student loan\n",
      "\t2: Money transfer, virtual currency, or money service\n",
      "\t1: Payday loan, title loan, or personal loan\n",
      "\t1: Vehicle loan or lease\n"
     ],
     "name": "stdout"
    }
   ]
  },
  {
   "cell_type": "code",
   "metadata": {
    "colab": {
     "base_uri": "https://localhost:8080/"
    },
    "id": "kAbjR2wOB3gU",
    "outputId": "6598c136-1de7-483b-ab82-5ab494f52eb0"
   },
   "source": [
    "s_dice_pred = KMed_s_dice.predict(KMed_X_test)\n",
    "print_cluster(KMed_y_test, s_dice_pred, 'SORENSEN - DICE')"
   ],
   "execution_count": 60,
   "outputs": [
    {
     "output_type": "stream",
     "text": [
      "SORENSEN - DICE\n",
      "  Cluster nr: 5\n",
      "\t21: Credit reporting, credit repair services, or other personal consumer reports\n",
      "\t3: Debt collection\n",
      "\t3: Mortgage\n",
      "\t2: Credit card or prepaid card\n",
      "\t1: Student loan\n",
      "\t1: Checking or savings account\n",
      "  Cluster nr: 4\n",
      "\t29: Credit reporting, credit repair services, or other personal consumer reports\n",
      "\t11: Debt collection\n",
      "\t8: Mortgage\n",
      "\t6: Credit card or prepaid card\n",
      "\t4: Checking or savings account\n",
      "\t3: Student loan\n",
      "\t2: Money transfer, virtual currency, or money service\n",
      "\t1: Payday loan, title loan, or personal loan\n",
      "\t1: Vehicle loan or lease\n",
      "  Cluster nr: 13\n",
      "\t1: Debt collection\n",
      "  Cluster nr: 6\n",
      "\t1: Mortgage\n",
      "  Cluster nr: 12\n",
      "\t1: Credit reporting, credit repair services, or other personal consumer reports\n",
      "  Cluster nr: 10\n",
      "\t1: Credit reporting, credit repair services, or other personal consumer reports\n"
     ],
     "name": "stdout"
    }
   ]
  },
  {
   "cell_type": "markdown",
   "metadata": {
    "id": "cuvdQx608rWs"
   },
   "source": [
    "# Wyniki"
   ]
  },
  {
   "cell_type": "markdown",
   "metadata": {
    "id": "YEN5pQz9CO89"
   },
   "source": [
    "Z przetestowanych metryk najlepiej poradziła sobie metryka Levenshteina, starająć się chociaż utworzyć klastry opisujące skargi na różne produkty. Niestety dużą część w tym zbiorze zajmuje klasa *Credit reporting, credit repair services, or other personal consumer reports.* co powoduje duże zaburzenia i skargi tej klasy znajdują się w większośći klastrów. Można jednak zauważyć zależność pomiędzy *Debt collection* i *Mortgage*, które to często znajdują się w tym samym klastrze.\n",
    "\n",
    "Następnie przetestowałem metryki Jaccarda i Sorensena, która w ogóle nie poradziły sobie z tym zadaniem i dystanse obliczone według nich za mało się różniły, co spowodowało utworzenie pojedynczych klastrów.\n",
    "\n",
    "Sytuację tę zmieniło dopiero użycie wariantu Sorensen-DICE, użycie tej metryki spowodowało natomiast utworzenie 6 klastrów, z których 4 są bardzo małe, a dwa zawierają wiele klas. Tym razem jednak znowu możemy dostrzec, że *Debt collection* i *Mortgage* mają pewne podobieńśtwa, gdyż w pierwszym klastrze jest ich po 3, natomiast w drugim 11 i 8."
   ]
  },
  {
   "cell_type": "code",
   "metadata": {
    "id": "_Kfn-qENA6m0"
   },
   "source": [
    ""
   ],
   "execution_count": 67,
   "outputs": []
  },
  {
   "cell_type": "code",
   "metadata": {
    "id": "iPPhyAPnE2V_"
   },
   "source": [
    ""
   ],
   "execution_count": null,
   "outputs": []
  }
 ]
}