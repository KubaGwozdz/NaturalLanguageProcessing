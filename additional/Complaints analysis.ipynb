{
 "nbformat": 4,
 "nbformat_minor": 0,
 "metadata": {
  "kernelspec": {
   "display_name": "Python 3",
   "language": "python",
   "name": "python3"
  },
  "language_info": {
   "codemirror_mode": {
    "name": "ipython",
    "version": 3
   },
   "file_extension": ".py",
   "mimetype": "text/x-python",
   "name": "python",
   "nbconvert_exporter": "python",
   "pygments_lexer": "ipython3",
   "version": "3.8.6"
  },
  "colab": {
   "name": "Complaints analysis.ipynb",
   "provenance": [],
   "collapsed_sections": [],
   "toc_visible": true
  }
 },
 "cells": [
  {
   "cell_type": "code",
   "metadata": {
    "id": "jjr07nBuEYMF"
   },
   "source": [
    "import pandas as pd\n",
    "import numpy as np\n",
    "import seaborn as sns\n",
    "import matplotlib.pyplot as plt\n",
    "import re\n",
    "from sklearn.model_selection import train_test_split\n",
    "from gensim.models import Doc2Vec\n",
    "from gensim.models.doc2vec import TaggedDocument\n",
    "from nltk.tokenize import sent_tokenize, word_tokenize\n",
    "from nltk.corpus import stopwords\n",
    "from string import punctuation\n",
    "import multiprocessing\n",
    "from timeit import default_timer as timer\n",
    "from sklearn.feature_extraction.text import TfidfVectorizer"
   ],
   "execution_count": 1,
   "outputs": []
  },
  {
   "cell_type": "markdown",
   "metadata": {
    "id": "SB4sesFUEYMK"
   },
   "source": [
    "# Data"
   ]
  },
  {
   "cell_type": "code",
   "metadata": {
    "colab": {
     "base_uri": "https://localhost:8080/",
     "height": 600
    },
    "id": "miTVXc31EYMK",
    "outputId": "4352039b-7c25-48b2-8b27-77e2e7558f96"
   },
   "source": [
    "all_data = pd.read_csv('complaints.csv').dropna(subset=['Consumer complaint narrative'])\n",
    "all_data.head()"
   ],
   "execution_count": 2,
   "outputs": [
    {
     "output_type": "execute_result",
     "data": {
      "text/html": [
       "<div>\n",
       "<style scoped>\n",
       "    .dataframe tbody tr th:only-of-type {\n",
       "        vertical-align: middle;\n",
       "    }\n",
       "\n",
       "    .dataframe tbody tr th {\n",
       "        vertical-align: top;\n",
       "    }\n",
       "\n",
       "    .dataframe thead th {\n",
       "        text-align: right;\n",
       "    }\n",
       "</style>\n",
       "<table border=\"1\" class=\"dataframe\">\n",
       "  <thead>\n",
       "    <tr style=\"text-align: right;\">\n",
       "      <th></th>\n",
       "      <th>Date received</th>\n",
       "      <th>Product</th>\n",
       "      <th>Sub-product</th>\n",
       "      <th>Issue</th>\n",
       "      <th>Sub-issue</th>\n",
       "      <th>Consumer complaint narrative</th>\n",
       "      <th>Company public response</th>\n",
       "      <th>Company</th>\n",
       "      <th>State</th>\n",
       "      <th>ZIP code</th>\n",
       "      <th>Tags</th>\n",
       "      <th>Consumer consent provided?</th>\n",
       "      <th>Submitted via</th>\n",
       "      <th>Date sent to company</th>\n",
       "      <th>Company response to consumer</th>\n",
       "      <th>Timely response?</th>\n",
       "      <th>Consumer disputed?</th>\n",
       "      <th>Complaint ID</th>\n",
       "    </tr>\n",
       "  </thead>\n",
       "  <tbody>\n",
       "    <tr>\n",
       "      <th>0</th>\n",
       "      <td>2019-09-24</td>\n",
       "      <td>Debt collection</td>\n",
       "      <td>I do not know</td>\n",
       "      <td>Attempts to collect debt not owed</td>\n",
       "      <td>Debt is not yours</td>\n",
       "      <td>transworld systems inc. \\nis trying to collect...</td>\n",
       "      <td>NaN</td>\n",
       "      <td>TRANSWORLD SYSTEMS INC</td>\n",
       "      <td>FL</td>\n",
       "      <td>335XX</td>\n",
       "      <td>NaN</td>\n",
       "      <td>Consent provided</td>\n",
       "      <td>Web</td>\n",
       "      <td>2019-09-24</td>\n",
       "      <td>Closed with explanation</td>\n",
       "      <td>Yes</td>\n",
       "      <td>NaN</td>\n",
       "      <td>3384392.0</td>\n",
       "    </tr>\n",
       "    <tr>\n",
       "      <th>2</th>\n",
       "      <td>2019-11-08</td>\n",
       "      <td>Debt collection</td>\n",
       "      <td>I do not know</td>\n",
       "      <td>Communication tactics</td>\n",
       "      <td>Frequent or repeated calls</td>\n",
       "      <td>Over the past 2 weeks, I have been receiving e...</td>\n",
       "      <td>NaN</td>\n",
       "      <td>Diversified Consultants, Inc.</td>\n",
       "      <td>NC</td>\n",
       "      <td>275XX</td>\n",
       "      <td>NaN</td>\n",
       "      <td>Consent provided</td>\n",
       "      <td>Web</td>\n",
       "      <td>2019-11-08</td>\n",
       "      <td>Closed with explanation</td>\n",
       "      <td>Yes</td>\n",
       "      <td>NaN</td>\n",
       "      <td>3433198.0</td>\n",
       "    </tr>\n",
       "    <tr>\n",
       "      <th>3</th>\n",
       "      <td>2019-09-15</td>\n",
       "      <td>Debt collection</td>\n",
       "      <td>Other debt</td>\n",
       "      <td>Attempts to collect debt not owed</td>\n",
       "      <td>Debt was result of identity theft</td>\n",
       "      <td>Pioneer has committed several federal violatio...</td>\n",
       "      <td>NaN</td>\n",
       "      <td>Pioneer Capital Solutions Inc</td>\n",
       "      <td>CA</td>\n",
       "      <td>925XX</td>\n",
       "      <td>NaN</td>\n",
       "      <td>Consent provided</td>\n",
       "      <td>Web</td>\n",
       "      <td>2019-09-15</td>\n",
       "      <td>Closed with explanation</td>\n",
       "      <td>Yes</td>\n",
       "      <td>NaN</td>\n",
       "      <td>3374555.0</td>\n",
       "    </tr>\n",
       "    <tr>\n",
       "      <th>4</th>\n",
       "      <td>2019-07-18</td>\n",
       "      <td>Mortgage</td>\n",
       "      <td>Conventional home mortgage</td>\n",
       "      <td>Closing on a mortgage</td>\n",
       "      <td>NaN</td>\n",
       "      <td>I started the process to refinance my current ...</td>\n",
       "      <td>Company has responded to the consumer and the ...</td>\n",
       "      <td>Freedom Mortgage Company</td>\n",
       "      <td>NC</td>\n",
       "      <td>275XX</td>\n",
       "      <td>NaN</td>\n",
       "      <td>Consent provided</td>\n",
       "      <td>Web</td>\n",
       "      <td>2019-07-18</td>\n",
       "      <td>Closed with explanation</td>\n",
       "      <td>Yes</td>\n",
       "      <td>NaN</td>\n",
       "      <td>3311105.0</td>\n",
       "    </tr>\n",
       "    <tr>\n",
       "      <th>6</th>\n",
       "      <td>2019-07-26</td>\n",
       "      <td>Credit reporting, credit repair services, or o...</td>\n",
       "      <td>Credit reporting</td>\n",
       "      <td>Problem with a credit reporting company's inve...</td>\n",
       "      <td>Their investigation did not fix an error on yo...</td>\n",
       "      <td>Previously, on XX/XX/XXXX, XX/XX/XXXX, and XX/...</td>\n",
       "      <td>Company has responded to the consumer and the ...</td>\n",
       "      <td>Experian Information Solutions Inc.</td>\n",
       "      <td>CA</td>\n",
       "      <td>914XX</td>\n",
       "      <td>NaN</td>\n",
       "      <td>Consent provided</td>\n",
       "      <td>Web</td>\n",
       "      <td>2019-07-26</td>\n",
       "      <td>Closed with explanation</td>\n",
       "      <td>Yes</td>\n",
       "      <td>NaN</td>\n",
       "      <td>3319331.0</td>\n",
       "    </tr>\n",
       "  </tbody>\n",
       "</table>\n",
       "</div>"
      ],
      "text/plain": [
       "  Date received  ... Complaint ID\n",
       "0    2019-09-24  ...    3384392.0\n",
       "2    2019-11-08  ...    3433198.0\n",
       "3    2019-09-15  ...    3374555.0\n",
       "4    2019-07-18  ...    3311105.0\n",
       "6    2019-07-26  ...    3319331.0\n",
       "\n",
       "[5 rows x 18 columns]"
      ]
     },
     "metadata": {
      "tags": []
     },
     "execution_count": 2
    }
   ]
  },
  {
   "cell_type": "code",
   "metadata": {
    "colab": {
     "base_uri": "https://localhost:8080/"
    },
    "id": "hekbyHBvEYML",
    "outputId": "41d2dd01-1869-4937-fa63-0382c15a2d9b"
   },
   "source": [
    "all_data.Product.describe()"
   ],
   "execution_count": 3,
   "outputs": [
    {
     "output_type": "execute_result",
     "data": {
      "text/plain": [
       "count                                                 14589\n",
       "unique                                                   14\n",
       "top       Credit reporting, credit repair services, or o...\n",
       "freq                                                   6459\n",
       "Name: Product, dtype: object"
      ]
     },
     "metadata": {
      "tags": []
     },
     "execution_count": 3
    }
   ]
  },
  {
   "cell_type": "code",
   "metadata": {
    "colab": {
     "base_uri": "https://localhost:8080/",
     "height": 132
    },
    "id": "fkIuOa2QEYMM",
    "outputId": "d3a13ad1-fecf-48bf-df43-88e791bd4368"
   },
   "source": [
    "all_data['Consumer complaint narrative'][6]"
   ],
   "execution_count": 4,
   "outputs": [
    {
     "output_type": "execute_result",
     "data": {
      "application/vnd.google.colaboratory.intrinsic+json": {
       "type": "string"
      },
      "text/plain": [
       "'Previously, on XX/XX/XXXX, XX/XX/XXXX, and XX/XX/XXXX I requested that Experian send me a copy of the verifiable proof they have on file showing that the XXXX account they have listed on my credit report is actually mine. On XX/XX/XXXX and XX/XX/XXXX, instead of sending me a copy of the verifiable proof that I requested, Experian sent me a statement which reads, \" The information you disputed has been verified as accurate. \\'\\' Experian also failed to provide me with the method of \" verification. \\'\\' Since Experian neither provided me with a copy of the verifiable proof, nor did they delete the unverified information, I believe they are in violation of the Fair Credit Reporting Act and I have been harmed as a result. I have again, today, sent my fourth and final written request that they verify the account, and send me verifiable proof that this account is mine, or that they delete the unverified account. If they do not, my next step is to pursue a remedy through litigation.'"
      ]
     },
     "metadata": {
      "tags": []
     },
     "execution_count": 4
    }
   ]
  },
  {
   "cell_type": "markdown",
   "metadata": {
    "id": "g2j8CD4tEYMN"
   },
   "source": [
    "# ZAD1\n",
    "#### Proszę znaleźć i porównać przynajmniej 2 metody obliczania reprezentacji wektorowej tekstu na podstawie osadzeń słów. Proszę je przetestować na klasyfikacji wieloklasowej tekstu.\n",
    "\n",
    "Wybrałem zbiór [*Consumer Complaint Database*](https://catalog.data.gov/dataset/consumer-complaint-database)\n",
    "w którym dokonam klasyfikacji rodzaju produktu (Product) na podstawie skargi (Consumer complaint narrative) przy użyciu Doc2Vec w wersji DBOW (Distributed Bag Of Words) oras DM (Distributed Memory) i TF-IDF.\n"
   ]
  },
  {
   "cell_type": "code",
   "metadata": {
    "colab": {
     "base_uri": "https://localhost:8080/",
     "height": 283
    },
    "id": "VFz2aHGqEYMN",
    "outputId": "be7e718c-2b27-46c3-cffe-d07b4aac144f"
   },
   "source": [
    "data = all_data[['Product', 'Consumer complaint narrative']]\n",
    "data.rename(columns={'Consumer complaint narrative': 'Complaint'}, inplace=True)\n",
    "data.head()"
   ],
   "execution_count": 5,
   "outputs": [
    {
     "output_type": "stream",
     "text": [
      "/usr/local/lib/python3.6/dist-packages/pandas/core/frame.py:4308: SettingWithCopyWarning: \n",
      "A value is trying to be set on a copy of a slice from a DataFrame\n",
      "\n",
      "See the caveats in the documentation: https://pandas.pydata.org/pandas-docs/stable/user_guide/indexing.html#returning-a-view-versus-a-copy\n",
      "  errors=errors,\n"
     ],
     "name": "stderr"
    },
    {
     "output_type": "execute_result",
     "data": {
      "text/html": [
       "<div>\n",
       "<style scoped>\n",
       "    .dataframe tbody tr th:only-of-type {\n",
       "        vertical-align: middle;\n",
       "    }\n",
       "\n",
       "    .dataframe tbody tr th {\n",
       "        vertical-align: top;\n",
       "    }\n",
       "\n",
       "    .dataframe thead th {\n",
       "        text-align: right;\n",
       "    }\n",
       "</style>\n",
       "<table border=\"1\" class=\"dataframe\">\n",
       "  <thead>\n",
       "    <tr style=\"text-align: right;\">\n",
       "      <th></th>\n",
       "      <th>Product</th>\n",
       "      <th>Complaint</th>\n",
       "    </tr>\n",
       "  </thead>\n",
       "  <tbody>\n",
       "    <tr>\n",
       "      <th>0</th>\n",
       "      <td>Debt collection</td>\n",
       "      <td>transworld systems inc. \\nis trying to collect...</td>\n",
       "    </tr>\n",
       "    <tr>\n",
       "      <th>2</th>\n",
       "      <td>Debt collection</td>\n",
       "      <td>Over the past 2 weeks, I have been receiving e...</td>\n",
       "    </tr>\n",
       "    <tr>\n",
       "      <th>3</th>\n",
       "      <td>Debt collection</td>\n",
       "      <td>Pioneer has committed several federal violatio...</td>\n",
       "    </tr>\n",
       "    <tr>\n",
       "      <th>4</th>\n",
       "      <td>Mortgage</td>\n",
       "      <td>I started the process to refinance my current ...</td>\n",
       "    </tr>\n",
       "    <tr>\n",
       "      <th>6</th>\n",
       "      <td>Credit reporting, credit repair services, or o...</td>\n",
       "      <td>Previously, on XX/XX/XXXX, XX/XX/XXXX, and XX/...</td>\n",
       "    </tr>\n",
       "  </tbody>\n",
       "</table>\n",
       "</div>"
      ],
      "text/plain": [
       "                                             Product                                          Complaint\n",
       "0                                    Debt collection  transworld systems inc. \\nis trying to collect...\n",
       "2                                    Debt collection  Over the past 2 weeks, I have been receiving e...\n",
       "3                                    Debt collection  Pioneer has committed several federal violatio...\n",
       "4                                           Mortgage  I started the process to refinance my current ...\n",
       "6  Credit reporting, credit repair services, or o...  Previously, on XX/XX/XXXX, XX/XX/XXXX, and XX/..."
      ]
     },
     "metadata": {
      "tags": []
     },
     "execution_count": 5
    }
   ]
  },
  {
   "cell_type": "code",
   "metadata": {
    "colab": {
     "base_uri": "https://localhost:8080/",
     "height": 642
    },
    "id": "g-EEc_eVEYMO",
    "outputId": "7fdf1131-83b8-4f37-b348-715417322a88"
   },
   "source": [
    "sns.countplot(x=\"Product\", data=data)\n",
    "plt.xticks(rotation=90)\n",
    "plt.show()"
   ],
   "execution_count": 6,
   "outputs": [
    {
     "output_type": "display_data",
     "data": {
      "image/png": "[encoded data removed]",
      "text/plain": [
       "<Figure size 432x288 with 1 Axes>"
      ]
     },
     "metadata": {
      "tags": [],
      "needs_background": "light"
     }
    }
   ]
  },
  {
   "cell_type": "code",
   "metadata": {
    "colab": {
     "base_uri": "https://localhost:8080/"
    },
    "id": "cM979_RBEYMO",
    "outputId": "86926c20-4559-4cee-8c6c-043099ac0b84"
   },
   "source": [
    "tags = ['URL', 'DATE', 'CONF']\n",
    "def preprocess_text(text):\n",
    "    #clean URL\n",
    "    text = re.sub(r'http/S+', r'URL', text)\n",
    "    #clean date\n",
    "    text = re.sub(r'(XX/XX/XXXX)|(XX/XX/\\d\\d\\d\\d)', r'DATE', text)\n",
    "    #delete \\n\n",
    "    text = re.sub(r'\\n', r' ', text)\n",
    "    #some confidential data\n",
    "    text = re.sub(r'XXXX', r'CONF', text)\n",
    "    return text\n",
    "\n",
    "data.Complaint = data.Complaint.apply(preprocess_text)"
   ],
   "execution_count": 7,
   "outputs": [
    {
     "output_type": "stream",
     "text": [
      "/usr/local/lib/python3.6/dist-packages/pandas/core/generic.py:5170: SettingWithCopyWarning: \n",
      "A value is trying to be set on a copy of a slice from a DataFrame.\n",
      "Try using .loc[row_indexer,col_indexer] = value instead\n",
      "\n",
      "See the caveats in the documentation: https://pandas.pydata.org/pandas-docs/stable/user_guide/indexing.html#returning-a-view-versus-a-copy\n",
      "  self[name] = value\n"
     ],
     "name": "stderr"
    }
   ]
  },
  {
   "cell_type": "code",
   "metadata": {
    "colab": {
     "base_uri": "https://localhost:8080/",
     "height": 132
    },
    "id": "MIUUNccXEYMP",
    "outputId": "235aad0e-e604-43fc-fafb-eab0cdf8cc05"
   },
   "source": [
    "data.Complaint[6]"
   ],
   "execution_count": 8,
   "outputs": [
    {
     "output_type": "execute_result",
     "data": {
      "application/vnd.google.colaboratory.intrinsic+json": {
       "type": "string"
      },
      "text/plain": [
       "'Previously, on DATE, DATE, and DATE I requested that Experian send me a copy of the verifiable proof they have on file showing that the CONF account they have listed on my credit report is actually mine. On DATE and DATE, instead of sending me a copy of the verifiable proof that I requested, Experian sent me a statement which reads, \" The information you disputed has been verified as accurate. \\'\\' Experian also failed to provide me with the method of \" verification. \\'\\' Since Experian neither provided me with a copy of the verifiable proof, nor did they delete the unverified information, I believe they are in violation of the Fair Credit Reporting Act and I have been harmed as a result. I have again, today, sent my fourth and final written request that they verify the account, and send me verifiable proof that this account is mine, or that they delete the unverified account. If they do not, my next step is to pursue a remedy through litigation.'"
      ]
     },
     "metadata": {
      "tags": []
     },
     "execution_count": 8
    }
   ]
  },
  {
   "cell_type": "code",
   "metadata": {
    "colab": {
     "base_uri": "https://localhost:8080/"
    },
    "id": "Zi892ZzJEwZX",
    "outputId": "0fc00135-fcd5-48c5-a8e1-179835b06148"
   },
   "source": [
    "import nltk\n",
    "nltk.download('stopwords')\n",
    "nltk.download('punkt')"
   ],
   "execution_count": 9,
   "outputs": [
    {
     "output_type": "stream",
     "text": [
      "[nltk_data] Downloading package stopwords to /root/nltk_data...\n",
      "[nltk_data]   Unzipping corpora/stopwords.zip.\n",
      "[nltk_data] Downloading package punkt to /root/nltk_data...\n",
      "[nltk_data]   Unzipping tokenizers/punkt.zip.\n"
     ],
     "name": "stdout"
    },
    {
     "output_type": "execute_result",
     "data": {
      "text/plain": [
       "True"
      ]
     },
     "metadata": {
      "tags": []
     },
     "execution_count": 9
    }
   ]
  },
  {
   "cell_type": "code",
   "metadata": {
    "id": "R8pRc9vKEYMQ"
   },
   "source": [
    "stopwords_en = stopwords.words('english')\n",
    "\n",
    "def tag_text(text):\n",
    "    tags = []\n",
    "    for sentence in sent_tokenize(text):\n",
    "        for word in word_tokenize(sentence):\n",
    "            word = word.lower()\n",
    "            if word not in tags and word not in stopwords_en and word.isalpha():\n",
    "                tags.append(word.lower())            \n",
    "    return tags\n",
    "\n",
    "data.Complaint = data.Complaint.apply(tag_text)"
   ],
   "execution_count": null,
   "outputs": []
  },
  {
   "cell_type": "code",
   "metadata": {
    "colab": {
     "base_uri": "https://localhost:8080/"
    },
    "id": "qpePpT0CEYMS",
    "outputId": "725e22ff-bb14-4107-e527-5f48c3034222"
   },
   "source": [
    "data.Complaint[6]"
   ],
   "execution_count": 11,
   "outputs": [
    {
     "output_type": "execute_result",
     "data": {
      "text/plain": [
       "['previously',\n",
       " 'date',\n",
       " 'requested',\n",
       " 'experian',\n",
       " 'send',\n",
       " 'copy',\n",
       " 'verifiable',\n",
       " 'proof',\n",
       " 'file',\n",
       " 'showing',\n",
       " 'conf',\n",
       " 'account',\n",
       " 'listed',\n",
       " 'credit',\n",
       " 'report',\n",
       " 'actually',\n",
       " 'mine',\n",
       " 'instead',\n",
       " 'sending',\n",
       " 'sent',\n",
       " 'statement',\n",
       " 'reads',\n",
       " 'information',\n",
       " 'disputed',\n",
       " 'verified',\n",
       " 'accurate',\n",
       " 'also',\n",
       " 'failed',\n",
       " 'provide',\n",
       " 'method',\n",
       " 'verification',\n",
       " 'since',\n",
       " 'neither',\n",
       " 'provided',\n",
       " 'delete',\n",
       " 'unverified',\n",
       " 'believe',\n",
       " 'violation',\n",
       " 'fair',\n",
       " 'reporting',\n",
       " 'act',\n",
       " 'harmed',\n",
       " 'result',\n",
       " 'today',\n",
       " 'fourth',\n",
       " 'final',\n",
       " 'written',\n",
       " 'request',\n",
       " 'verify',\n",
       " 'next',\n",
       " 'step',\n",
       " 'pursue',\n",
       " 'remedy',\n",
       " 'litigation']"
      ]
     },
     "metadata": {
      "tags": []
     },
     "execution_count": 11
    }
   ]
  },
  {
   "cell_type": "markdown",
   "metadata": {
    "id": "dYT8gQ__EYMS"
   },
   "source": [
    "## Doc2Vec"
   ]
  },
  {
   "cell_type": "code",
   "metadata": {
    "id": "jEIQTAt5EYMT"
   },
   "source": [
    "train, test = train_test_split(data, test_size=0.3)\n",
    "d2v_train = train.apply(lambda x: TaggedDocument(words=x.Complaint, tags=x.Product), axis=1)\n",
    "d2v_test = test.apply(lambda x: TaggedDocument(words=x.Complaint, tags=x.Product), axis=1)"
   ],
   "execution_count": 12,
   "outputs": []
  },
  {
   "cell_type": "markdown",
   "metadata": {
    "id": "IXL_HY8YEYMW"
   },
   "source": [
    "### DBOW"
   ]
  },
  {
   "cell_type": "code",
   "metadata": {
    "colab": {
     "base_uri": "https://localhost:8080/"
    },
    "id": "B9-D912wEYMW",
    "outputId": "8481593a-c237-4293-8827-40b86d24add3"
   },
   "source": [
    "def train_DBOW():\n",
    "    cores = multiprocessing.cpu_count()\n",
    "    MAX_EPOCHS = 25\n",
    "\n",
    "    dbow_100 = Doc2Vec(dm=0, vector_size=100, negative=5, hs=0, min_count=2, window=10, workers=cores, dbow_words=1, batch_words=1000)\n",
    "    dbow_100.build_vocab(d2v_train.values)\n",
    "    \n",
    "    total_exaples = len(d2v_train.values)\n",
    "    for epoch in range(MAX_EPOCHS):\n",
    "        print(f'Epoch {epoch} starting')\n",
    "        start = timer()\n",
    "\n",
    "        dbow_100.train(d2v_train.values, total_examples=total_exaples, epochs=1)\n",
    "        dbow_100.alpha -= 0.004\n",
    "        dbow_100.min_alpha = dbow_100.alpha\n",
    "\n",
    "        end = timer()\n",
    "        print(f'Finished in {end-start}s')\n",
    "    # dbow_100.save('dbow100.model')\n",
    "    return dbow_100\n",
    "        \n",
    "dbow_100 = train_DBOW()\n",
    "# dbow_100 = Doc2Vec.load('dbow100.model')\n",
    "    "
   ],
   "execution_count": 13,
   "outputs": [
    {
     "output_type": "stream",
     "text": [
      "Epoch 0 starting\n",
      "Finished in 28.52119633799998s\n",
      "Epoch 1 starting\n",
      "Finished in 29.063898006000045s\n",
      "Epoch 2 starting\n",
      "Finished in 28.259575826999935s\n",
      "Epoch 3 starting\n",
      "Finished in 28.386629240000048s\n",
      "Epoch 4 starting\n",
      "Finished in 28.339179666000064s\n",
      "Epoch 5 starting\n",
      "Finished in 28.6423530080001s\n",
      "Epoch 6 starting\n",
      "Finished in 28.657321784000032s\n",
      "Epoch 7 starting\n",
      "Finished in 20.38449155699982s\n",
      "Epoch 8 starting\n",
      "Finished in 19.677702604999922s\n",
      "Epoch 9 starting\n",
      "Finished in 19.664583013999845s\n",
      "Epoch 10 starting\n",
      "Finished in 19.631667618999927s\n",
      "Epoch 11 starting\n",
      "Finished in 19.46786191399997s\n",
      "Epoch 12 starting\n",
      "Finished in 19.52342912800009s\n",
      "Epoch 13 starting\n",
      "Finished in 19.549199213999827s\n",
      "Epoch 14 starting\n",
      "Finished in 19.57481117899988s\n",
      "Epoch 15 starting\n",
      "Finished in 19.452914362s\n",
      "Epoch 16 starting\n",
      "Finished in 19.399128022000014s\n",
      "Epoch 17 starting\n",
      "Finished in 19.2199850909999s\n",
      "Epoch 18 starting\n",
      "Finished in 19.26986765300012s\n",
      "Epoch 19 starting\n",
      "Finished in 19.30290532700019s\n",
      "Epoch 20 starting\n",
      "Finished in 19.78750167499993s\n",
      "Epoch 21 starting\n",
      "Finished in 19.92482731799987s\n",
      "Epoch 22 starting\n",
      "Finished in 19.839442371000132s\n",
      "Epoch 23 starting\n",
      "Finished in 19.922302610000088s\n",
      "Epoch 24 starting\n",
      "Finished in 19.75652917100001s\n"
     ],
     "name": "stdout"
    }
   ]
  },
  {
   "cell_type": "code",
   "metadata": {
    "id": "MwZd-KPhEYMX"
   },
   "source": [
    "def get_vector_data(data, model):\n",
    "    X = []\n",
    "    y = []\n",
    "    for complaint, product in data:\n",
    "        y.append(product)\n",
    "        X.append(model.infer_vector(complaint))\n",
    "    return X, y\n",
    "        "
   ],
   "execution_count": 14,
   "outputs": []
  },
  {
   "cell_type": "code",
   "metadata": {
    "id": "N3AsTov5EYMX"
   },
   "source": [
    "X_dbow_train_vec, y_dbow_train_vec = get_vector_data(d2v_train, dbow_100)\n",
    "X_dbow_test_vec, y_dbow_test_vec = get_vector_data(d2v_test, dbow_100)"
   ],
   "execution_count": 15,
   "outputs": []
  },
  {
   "cell_type": "markdown",
   "metadata": {
    "id": "XqKyrj6GZQRM"
   },
   "source": [
    "### DM"
   ]
  },
  {
   "cell_type": "code",
   "metadata": {
    "colab": {
     "base_uri": "https://localhost:8080/"
    },
    "id": "m_HSbPuXZSLP",
    "outputId": "27ed1ca7-f453-471e-ef49-9c77ad499011"
   },
   "source": [
    "def train_DM():\n",
    "    cores = multiprocessing.cpu_count()\n",
    "    MAX_EPOCHS = 25\n",
    "\n",
    "    dm_100 = Doc2Vec(dm=1, vector_size=100, negative=5, hs=0, min_count=2, window=10, workers=cores, batch_words=1000)\n",
    "    dm_100.build_vocab(d2v_train.values)\n",
    "    \n",
    "    total_exaples = len(d2v_train.values)\n",
    "    for epoch in range(MAX_EPOCHS):\n",
    "        print(f'Epoch {epoch} starting')\n",
    "        start = timer()\n",
    "\n",
    "        dm_100.train(d2v_train.values, total_examples=total_exaples, epochs=1)\n",
    "        dm_100.alpha -= 0.004\n",
    "        dm_100.min_alpha = dm_100.alpha\n",
    "\n",
    "        end = timer()\n",
    "        print(f'Finished in {end-start}s')\n",
    "    # dm_100.save('dm_100.model')\n",
    "    return dm_100\n",
    "        \n",
    "dm_100 = train_DM()\n",
    "# dm_100 = Doc2Vec.load('dm_100.model')\n",
    "    "
   ],
   "execution_count": 16,
   "outputs": [
    {
     "output_type": "stream",
     "text": [
      "Epoch 0 starting\n",
      "Finished in 3.73783436299982s\n",
      "Epoch 1 starting\n",
      "Finished in 3.724918652000042s\n",
      "Epoch 2 starting\n",
      "Finished in 3.545465529000012s\n",
      "Epoch 3 starting\n",
      "Finished in 3.634766620000164s\n",
      "Epoch 4 starting\n",
      "Finished in 3.591143310999996s\n",
      "Epoch 5 starting\n",
      "Finished in 3.6143050499999845s\n",
      "Epoch 6 starting\n",
      "Finished in 3.6099548299998787s\n",
      "Epoch 7 starting\n",
      "Finished in 3.417164059000015s\n",
      "Epoch 8 starting\n",
      "Finished in 3.4111905229999593s\n",
      "Epoch 9 starting\n",
      "Finished in 3.483519648000083s\n",
      "Epoch 10 starting\n",
      "Finished in 3.46317590700005s\n",
      "Epoch 11 starting\n",
      "Finished in 3.4044024389997958s\n",
      "Epoch 12 starting\n",
      "Finished in 3.4849180490000435s\n",
      "Epoch 13 starting\n",
      "Finished in 3.4739677500001562s\n",
      "Epoch 14 starting\n",
      "Finished in 3.4137544540001272s\n",
      "Epoch 15 starting\n",
      "Finished in 3.462127920000057s\n",
      "Epoch 16 starting\n",
      "Finished in 3.4263714260000597s\n",
      "Epoch 17 starting\n",
      "Finished in 3.429454283000041s\n",
      "Epoch 18 starting\n",
      "Finished in 3.481087910000042s\n",
      "Epoch 19 starting\n",
      "Finished in 3.418659286999855s\n",
      "Epoch 20 starting\n",
      "Finished in 3.4952499190001163s\n",
      "Epoch 21 starting\n",
      "Finished in 3.4825482059998194s\n",
      "Epoch 22 starting\n",
      "Finished in 3.4831661309999618s\n",
      "Epoch 23 starting\n",
      "Finished in 3.4917905730001166s\n",
      "Epoch 24 starting\n",
      "Finished in 3.508353154999895s\n"
     ],
     "name": "stdout"
    }
   ]
  },
  {
   "cell_type": "code",
   "metadata": {
    "id": "PFVGyoQpdItL"
   },
   "source": [
    "X_dm_train_vec, y_dm_train_vec = get_vector_data(d2v_train, dm_100)\n",
    "X_dm_test_vec, y_dm_test_vec = get_vector_data(d2v_test, dm_100)"
   ],
   "execution_count": 23,
   "outputs": []
  },
  {
   "cell_type": "markdown",
   "metadata": {
    "id": "enDIj2-JEYMX"
   },
   "source": [
    "## TF-IDF"
   ]
  },
  {
   "cell_type": "code",
   "metadata": {
    "id": "sWctVep4EYMY"
   },
   "source": [
    "tfidf_vectorizer = TfidfVectorizer()\n",
    "X_train = [\" \".join(complaint) for prod, complaint in train.values]\n",
    "y_train = [prod for prod, complaint in train.values]\n",
    "\n",
    "X_test = [\" \".join(complaint) for prod, complaint in test.values]\n",
    "y_test = [prod for prod, complaint in test.values]"
   ],
   "execution_count": 17,
   "outputs": []
  },
  {
   "cell_type": "code",
   "metadata": {
    "id": "u1_QF36-EYMY"
   },
   "source": [
    "X_tfidf_train = tfidf_vectorizer.fit_transform(X_train)"
   ],
   "execution_count": 18,
   "outputs": []
  },
  {
   "cell_type": "code",
   "metadata": {
    "id": "VlbRNQUeEYMY"
   },
   "source": [
    "X_tfidf_test = tfidf_vectorizer.transform(X_test)"
   ],
   "execution_count": 19,
   "outputs": []
  },
  {
   "cell_type": "markdown",
   "metadata": {
    "id": "5iz07vsWEYMe"
   },
   "source": [
    "# Klasyfikacja"
   ]
  },
  {
   "cell_type": "code",
   "metadata": {
    "id": "pzQIfasSEYMf"
   },
   "source": [
    "from sklearn.naive_bayes import GaussianNB\n",
    "from sklearn.neighbors import KNeighborsClassifier\n",
    "from sklearn.linear_model import LogisticRegression\n",
    "from sklearn.ensemble import RandomForestClassifier"
   ],
   "execution_count": 21,
   "outputs": []
  },
  {
   "cell_type": "code",
   "metadata": {
    "id": "rpnN3AGeEYMf"
   },
   "source": [
    "GNB_dbow_clf = GaussianNB()\n",
    "KNN_dbow_clf = KNeighborsClassifier(n_neighbors = 7, n_jobs=-1)\n",
    "LR_dbow_clf = LogisticRegression(n_jobs=-1)\n",
    "RF_dbow_clf = RandomForestClassifier(n_jobs=-1)\n",
    "\n",
    "GNB_dm_clf = GaussianNB()\n",
    "KNN_dm_clf = KNeighborsClassifier(n_neighbors = 7, n_jobs=-1)\n",
    "LR_dm_clf = LogisticRegression(n_jobs=-1)\n",
    "RF_dm_clf = RandomForestClassifier(n_jobs=-1)\n",
    "\n",
    "GNB_tfidf_clf = GaussianNB()\n",
    "KNN_tfidf_clf = KNeighborsClassifier(n_neighbors = 7)\n",
    "LR_tfidf_clf = LogisticRegression(n_jobs=-1)\n",
    "RF_tfidf_clf = RandomForestClassifier(n_jobs=-1)\n"
   ],
   "execution_count": 22,
   "outputs": []
  },
  {
   "cell_type": "code",
   "metadata": {
    "colab": {
     "base_uri": "https://localhost:8080/"
    },
    "id": "KMZVQUkyEYMg",
    "outputId": "6f036a7e-4682-42d7-d851-250151e2e04b"
   },
   "source": [
    "GNB_dbow_clf.fit(X_dbow_train_vec, y_dbow_train_vec)"
   ],
   "execution_count": 25,
   "outputs": [
    {
     "output_type": "execute_result",
     "data": {
      "text/plain": [
       "GaussianNB(priors=None, var_smoothing=1e-09)"
      ]
     },
     "metadata": {
      "tags": []
     },
     "execution_count": 25
    }
   ]
  },
  {
   "cell_type": "code",
   "metadata": {
    "colab": {
     "base_uri": "https://localhost:8080/"
    },
    "id": "SG9cScSBEYMh",
    "outputId": "034f2750-cb4b-40fc-a3fa-2058cb25b787"
   },
   "source": [
    "KNN_dbow_clf.fit(X_dbow_train_vec, y_dbow_train_vec)"
   ],
   "execution_count": 26,
   "outputs": [
    {
     "output_type": "execute_result",
     "data": {
      "text/plain": [
       "KNeighborsClassifier(algorithm='auto', leaf_size=30, metric='minkowski',\n",
       "                     metric_params=None, n_jobs=-1, n_neighbors=7, p=2,\n",
       "                     weights='uniform')"
      ]
     },
     "metadata": {
      "tags": []
     },
     "execution_count": 26
    }
   ]
  },
  {
   "cell_type": "code",
   "metadata": {
    "colab": {
     "base_uri": "https://localhost:8080/"
    },
    "id": "JEqK3UkRGpOS",
    "outputId": "19620d5d-4a8d-4a51-aec8-68fd8b734326"
   },
   "source": [
    "LR_dbow_clf.fit(X_dbow_train_vec, y_dbow_train_vec)"
   ],
   "execution_count": 27,
   "outputs": [
    {
     "output_type": "execute_result",
     "data": {
      "text/plain": [
       "LogisticRegression(C=1.0, class_weight=None, dual=False, fit_intercept=True,\n",
       "                   intercept_scaling=1, l1_ratio=None, max_iter=100,\n",
       "                   multi_class='auto', n_jobs=-1, penalty='l2',\n",
       "                   random_state=None, solver='lbfgs', tol=0.0001, verbose=0,\n",
       "                   warm_start=False)"
      ]
     },
     "metadata": {
      "tags": []
     },
     "execution_count": 27
    }
   ]
  },
  {
   "cell_type": "code",
   "metadata": {
    "colab": {
     "base_uri": "https://localhost:8080/"
    },
    "id": "nrp4vi0LTAyi",
    "outputId": "22d21337-c1aa-4fae-9a5c-c382fb086d23"
   },
   "source": [
    "RF_dbow_clf.fit(X_dbow_train_vec, y_dbow_train_vec)"
   ],
   "execution_count": 37,
   "outputs": [
    {
     "output_type": "execute_result",
     "data": {
      "text/plain": [
       "RandomForestClassifier(bootstrap=True, ccp_alpha=0.0, class_weight=None,\n",
       "                       criterion='gini', max_depth=None, max_features='auto',\n",
       "                       max_leaf_nodes=None, max_samples=None,\n",
       "                       min_impurity_decrease=0.0, min_impurity_split=None,\n",
       "                       min_samples_leaf=1, min_samples_split=2,\n",
       "                       min_weight_fraction_leaf=0.0, n_estimators=100,\n",
       "                       n_jobs=-1, oob_score=False, random_state=None, verbose=0,\n",
       "                       warm_start=False)"
      ]
     },
     "metadata": {
      "tags": []
     },
     "execution_count": 37
    }
   ]
  },
  {
   "cell_type": "code",
   "metadata": {
    "colab": {
     "base_uri": "https://localhost:8080/"
    },
    "id": "gVrubcmVdcuO",
    "outputId": "9841db44-af2a-4668-b7cf-6a1580e8d927"
   },
   "source": [
    "GNB_dm_clf.fit(X_dm_train_vec, y_dm_train_vec)"
   ],
   "execution_count": 28,
   "outputs": [
    {
     "output_type": "execute_result",
     "data": {
      "text/plain": [
       "GaussianNB(priors=None, var_smoothing=1e-09)"
      ]
     },
     "metadata": {
      "tags": []
     },
     "execution_count": 28
    }
   ]
  },
  {
   "cell_type": "code",
   "metadata": {
    "colab": {
     "base_uri": "https://localhost:8080/"
    },
    "id": "HgSTHpjCdcub",
    "outputId": "1d19e68b-c19b-4eba-8e9d-97f82a9ef566"
   },
   "source": [
    "KNN_dm_clf.fit(X_dm_train_vec, y_dm_train_vec)"
   ],
   "execution_count": 29,
   "outputs": [
    {
     "output_type": "execute_result",
     "data": {
      "text/plain": [
       "KNeighborsClassifier(algorithm='auto', leaf_size=30, metric='minkowski',\n",
       "                     metric_params=None, n_jobs=-1, n_neighbors=7, p=2,\n",
       "                     weights='uniform')"
      ]
     },
     "metadata": {
      "tags": []
     },
     "execution_count": 29
    }
   ]
  },
  {
   "cell_type": "code",
   "metadata": {
    "colab": {
     "base_uri": "https://localhost:8080/"
    },
    "id": "IRJk-VQ5dcuc",
    "outputId": "15bc19a9-e65a-4e59-8939-262e0257fce6"
   },
   "source": [
    "LR_dm_clf.fit(X_dm_train_vec, y_dm_train_vec)"
   ],
   "execution_count": 30,
   "outputs": [
    {
     "output_type": "execute_result",
     "data": {
      "text/plain": [
       "LogisticRegression(C=1.0, class_weight=None, dual=False, fit_intercept=True,\n",
       "                   intercept_scaling=1, l1_ratio=None, max_iter=100,\n",
       "                   multi_class='auto', n_jobs=-1, penalty='l2',\n",
       "                   random_state=None, solver='lbfgs', tol=0.0001, verbose=0,\n",
       "                   warm_start=False)"
      ]
     },
     "metadata": {
      "tags": []
     },
     "execution_count": 30
    }
   ]
  },
  {
   "cell_type": "code",
   "metadata": {
    "colab": {
     "base_uri": "https://localhost:8080/"
    },
    "id": "WlkVL-bQdcud",
    "outputId": "d0940c8b-f1af-4bd7-e7e9-3c6b679886ce"
   },
   "source": [
    "RF_dm_clf.fit(X_dm_train_vec, y_dm_train_vec)"
   ],
   "execution_count": 31,
   "outputs": [
    {
     "output_type": "execute_result",
     "data": {
      "text/plain": [
       "RandomForestClassifier(bootstrap=True, ccp_alpha=0.0, class_weight=None,\n",
       "                       criterion='gini', max_depth=None, max_features='auto',\n",
       "                       max_leaf_nodes=None, max_samples=None,\n",
       "                       min_impurity_decrease=0.0, min_impurity_split=None,\n",
       "                       min_samples_leaf=1, min_samples_split=2,\n",
       "                       min_weight_fraction_leaf=0.0, n_estimators=100,\n",
       "                       n_jobs=-1, oob_score=False, random_state=None, verbose=0,\n",
       "                       warm_start=False)"
      ]
     },
     "metadata": {
      "tags": []
     },
     "execution_count": 31
    }
   ]
  },
  {
   "cell_type": "code",
   "metadata": {
    "colab": {
     "base_uri": "https://localhost:8080/"
    },
    "id": "O2Z2_s95EYMh",
    "outputId": "82d3defe-2463-4f41-ce17-7cfea47428bd"
   },
   "source": [
    "GNB_tfidf_clf.fit(X_tfidf_train.toarray(), y_train)"
   ],
   "execution_count": 32,
   "outputs": [
    {
     "output_type": "execute_result",
     "data": {
      "text/plain": [
       "GaussianNB(priors=None, var_smoothing=1e-09)"
      ]
     },
     "metadata": {
      "tags": []
     },
     "execution_count": 32
    }
   ]
  },
  {
   "cell_type": "code",
   "metadata": {
    "colab": {
     "base_uri": "https://localhost:8080/"
    },
    "id": "rLKCJG2xEYMj",
    "outputId": "1846205c-d741-4145-d8c4-31b4239f0025"
   },
   "source": [
    "KNN_tfidf_clf.fit(X_tfidf_train, y_train)"
   ],
   "execution_count": 33,
   "outputs": [
    {
     "output_type": "execute_result",
     "data": {
      "text/plain": [
       "KNeighborsClassifier(algorithm='auto', leaf_size=30, metric='minkowski',\n",
       "                     metric_params=None, n_jobs=None, n_neighbors=7, p=2,\n",
       "                     weights='uniform')"
      ]
     },
     "metadata": {
      "tags": []
     },
     "execution_count": 33
    }
   ]
  },
  {
   "cell_type": "code",
   "metadata": {
    "colab": {
     "base_uri": "https://localhost:8080/"
    },
    "id": "f1c-ZZXRGtIX",
    "outputId": "7a62209a-8b7b-4063-e6e6-49e1a02a46dd"
   },
   "source": [
    "LR_tfidf_clf.fit(X_tfidf_train, y_train)"
   ],
   "execution_count": 34,
   "outputs": [
    {
     "output_type": "execute_result",
     "data": {
      "text/plain": [
       "LogisticRegression(C=1.0, class_weight=None, dual=False, fit_intercept=True,\n",
       "                   intercept_scaling=1, l1_ratio=None, max_iter=100,\n",
       "                   multi_class='auto', n_jobs=-1, penalty='l2',\n",
       "                   random_state=None, solver='lbfgs', tol=0.0001, verbose=0,\n",
       "                   warm_start=False)"
      ]
     },
     "metadata": {
      "tags": []
     },
     "execution_count": 34
    }
   ]
  },
  {
   "cell_type": "code",
   "metadata": {
    "colab": {
     "base_uri": "https://localhost:8080/"
    },
    "id": "29hGKsMvT5u9",
    "outputId": "7af17bee-b537-47a1-cd91-c8097c1e649b"
   },
   "source": [
    "RF_tfidf_clf.fit(X_tfidf_train, y_train)"
   ],
   "execution_count": 35,
   "outputs": [
    {
     "output_type": "execute_result",
     "data": {
      "text/plain": [
       "RandomForestClassifier(bootstrap=True, ccp_alpha=0.0, class_weight=None,\n",
       "                       criterion='gini', max_depth=None, max_features='auto',\n",
       "                       max_leaf_nodes=None, max_samples=None,\n",
       "                       min_impurity_decrease=0.0, min_impurity_split=None,\n",
       "                       min_samples_leaf=1, min_samples_split=2,\n",
       "                       min_weight_fraction_leaf=0.0, n_estimators=100,\n",
       "                       n_jobs=-1, oob_score=False, random_state=None, verbose=0,\n",
       "                       warm_start=False)"
      ]
     },
     "metadata": {
      "tags": []
     },
     "execution_count": 35
    }
   ]
  },
  {
   "cell_type": "markdown",
   "metadata": {
    "id": "PxyUncObF0yN"
   },
   "source": [
    "## Wyniki"
   ]
  },
  {
   "cell_type": "code",
   "metadata": {
    "colab": {
     "base_uri": "https://localhost:8080/"
    },
    "id": "J1T-dWlwEYMj",
    "outputId": "ee90ccc3-14f9-4870-d9a6-cd2e7f970094"
   },
   "source": [
    "print(f\"\"\"\n",
    "Doc2Vec:\n",
    "    DBOW:\n",
    "        GaussianNB:\n",
    "            acc: {GNB_dbow_clf.score(X_dbow_test_vec, y_dbow_test_vec)}\n",
    "        KNN:\n",
    "            acc: {KNN_dbow_clf.score(X_dbow_test_vec, y_dbow_test_vec)}\n",
    "        Logistic Regression:\n",
    "            acc: {LR_dbow_clf.score(X_dbow_test_vec, y_dbow_test_vec)}\n",
    "        Random Forest:\n",
    "            acc: {RF_dbow_clf.score(X_dbow_test_vec, y_dbow_test_vec)}\n",
    "    DM:\n",
    "        GaussianNB:\n",
    "            acc: {GNB_dm_clf.score(X_dm_test_vec, y_dm_test_vec)}\n",
    "        KNN:\n",
    "            acc: {KNN_dm_clf.score(X_dm_test_vec, y_dm_test_vec)}\n",
    "        Logistic Regression:\n",
    "            acc: {LR_dm_clf.score(X_dm_test_vec, y_dm_test_vec)}\n",
    "        Random Forest:\n",
    "            acc: {RF_dm_clf.score(X_dm_test_vec, y_dm_test_vec)}\n",
    "      \n",
    "---------------------------------------------\n",
    "\n",
    "TF-IDF\n",
    "    GaussianNB:\n",
    "        acc: {GNB_tfidf_clf.score(X_tfidf_test.toarray(), y_test)}\n",
    "    KNN:\n",
    "        acc: {KNN_tfidf_clf.score(X_tfidf_test, y_test)}\n",
    "    Logistic Regression:\n",
    "        acc: {LR_tfidf_clf.score(X_tfidf_test, y_test)}\n",
    "    Random Forest:\n",
    "        acc: {RF_tfidf_clf.score(X_tfidf_test, y_test)}\n",
    "                            \n",
    "\"\"\")"
   ],
   "execution_count": 40,
   "outputs": [
    {
     "output_type": "stream",
     "text": [
      "\n",
      "Doc2Vec:\n",
      "    DBOW:\n",
      "        GaussianNB:\n",
      "            acc: 0.3557230980123372\n",
      "        KNN:\n",
      "            acc: 0.3904500799634453\n",
      "        Logistic Regression:\n",
      "            acc: 0.44528215672835275\n",
      "        Random Forest:\n",
      "            acc: 0.44459675576879143\n",
      "    DM:\n",
      "        GaussianNB:\n",
      "            acc: 0.10875028558373315\n",
      "        KNN:\n",
      "            acc: 0.6287411469042723\n",
      "        Logistic Regression:\n",
      "            acc: 0.6557002513136851\n",
      "        Random Forest:\n",
      "            acc: 0.6659812657071054\n",
      "      \n",
      "---------------------------------------------\n",
      "\n",
      "TF-IDF\n",
      "    GaussianNB:\n",
      "        acc: 0.32876399360292435\n",
      "    KNN:\n",
      "        acc: 0.6186885994973726\n",
      "    Logistic Regression:\n",
      "        acc: 0.8078592643363034\n",
      "    Random Forest:\n",
      "        acc: 0.752570253598355\n",
      "                            \n",
      "\n"
     ],
     "name": "stdout"
    }
   ]
  },
  {
   "cell_type": "markdown",
   "metadata": {
    "id": "peBgEXSgJOYd"
   },
   "source": [
    "Zastosowałem dwa warianty Doc2Vec, które dały bardzo odmienne wyniki:\n",
    "* **DM (Distributed Memory)** w celu utworzenia wektora dla dokumentu (skargi) stara się przewidzieć losowe słowo z niego na podstawie kontekstu oraz identyfikatora dokumentu.\n",
    "* **DBOW (Distributed Bag Of Words)** nie używa kontekstu w celu utworzenia wektora dla danego dokumentu, a jedynie na podstawie jego identyfikatora stara się przewidzieć kilka wybranych słów z tego dokumentu.\n",
    "\n",
    "Dla wszystkich klasyfikatorów (poza GaussianNB) DM okazał się znacząco lepszy, bo aż o około 20 punktów procentowych.\n",
    "\n"
   ]
  },
  {
   "cell_type": "markdown",
   "metadata": {
    "id": "2RIC3q0IWwCc"
   },
   "source": [
    "# Zadanie 2\n",
    "#### Proszę wykonać klasteryzację załączonych adresów przy pomocy przynajmniej 3 metryk w przestrzeni napisów (np. LCS, Levenshteina, DICE) i porównać wyniki."
   ]
  },
  {
   "cell_type": "code",
   "metadata": {
    "id": "W4zJEaJjJei3"
   },
   "source": [
    "!pip3 install scikit-learn-extra\n",
    "!pip3 install leven\n",
    "!pip3 install distance-metrics\n",
    "!pip3 install Distance\n",
    "!pip3 install textdistance"
   ],
   "execution_count": null,
   "outputs": []
  },
  {
   "cell_type": "code",
   "metadata": {
    "id": "97aqrtOVbp9I"
   },
   "source": [
    "from sklearn_extra.cluster import KMedoids\n",
    "from sklearn.cluster import dbscan\n",
    "from leven import levenshtein \n",
    "from distance_metrics import lcs\n",
    "# from scipy.spatial.distance import dice\n",
    "from distance import jaccard, sorensen\n",
    "from functools import partial\n",
    "import matplotlib.pyplot as plt\n",
    "import random\n",
    "from textdistance import lcsseq, sorensen_dice"
   ],
   "execution_count": 42,
   "outputs": []
  },
  {
   "cell_type": "code",
   "metadata": {
    "id": "eEt_ppfEcK_w"
   },
   "source": [
    "def get_comps_by_index(comp1_ind, comp2_ind):\n",
    "    comp1_ind = int(comp1_ind)\n",
    "    comp2_ind = int(comp2_ind)\n",
    "\n",
    "    comp1 = KMed_X_data[comp1_ind]\n",
    "    comp2 = KMed_X_data[comp2_ind]\n",
    "    return comp1, comp2\n",
    "\n",
    "def lev_metric(comp1_ind, comp2_ind):\n",
    "    comp1, comp2 = get_comps_by_index(comp1_ind, comp2_ind)\n",
    "    return levenshtein(comp1, comp2)\n",
    "\n",
    "# Liczyła się zbyt długo i z niej zrezygnowałem\n",
    "def lcs_metric(comp1_ind, comp2_ind):\n",
    "    comp1, comp2 = get_comps_by_index(comp1_ind, comp2_ind)\n",
    "    dist = lcs.llcs(comp1, comp2)\n",
    "    if dist > 0:\n",
    "        return 1/dist\n",
    "    else:\n",
    "        return np.inf\n",
    "\n",
    "# Liczyła się zbyt długo i z niej zrezygnowałem\n",
    "def bakkelund_metric(comp1_ind, comp2_ind):\n",
    "    comp1, comp2 = get_comps_by_index(comp1_ind, comp2_ind)\n",
    "    return lcs.bakkelund(comp1, comp2)\n",
    "\n",
    "\n",
    "def jaccard_metric(comp1_ind, comp2_ind):\n",
    "    comp1, comp2 = get_comps_by_index(comp1_ind, comp2_ind)\n",
    "    return jaccard(comp1, comp2)\n",
    "\n",
    "\n",
    "def sorensen_metric(comp1_ind, comp2_ind):\n",
    "    comp1, comp2 = get_comps_by_index(comp1_ind, comp2_ind)\n",
    "    return sorensen(comp1, comp2)\n",
    "\n",
    "\n",
    "def sorensen_dice_metric(comp1_ind, comp2_ind):\n",
    "    comp1, comp2 = get_comps_by_index(comp1_ind, comp2_ind)\n",
    "    return sorensen_dice(comp1, comp2)\n",
    "\n",
    "\n",
    "def precompute_distances(metric):\n",
    "    num_of_comp = KMed_X_data.shape[0]\n",
    "    precomputed_distances = np.zeros((num_of_comp, num_of_comp))\n",
    "    for comp1_ind in range(num_of_comp):\n",
    "        for comp2_ind in range(comp1_ind, num_of_comp):\n",
    "            if comp1_ind != comp2_ind:\n",
    "                dist = metric(comp1_ind, comp2_ind)\n",
    "                precomputed_distances[comp1_ind, comp2_ind] = dist\n",
    "    return precomputed_distances\n",
    "                \n",
    "def precomputed_metric(precomputed_distances, comp1_ind, comp2_ind):\n",
    "    comp1_ind = int(comp1_ind)\n",
    "    comp2_ind = int(comp2_ind)\n",
    "    if comp1_ind < comp2_ind:\n",
    "        return precomputed_distances[comp1_ind, comp2_ind]\n",
    "    else:\n",
    "        return precomputed_distances[comp2_ind, comp1_ind]\n"
   ],
   "execution_count": 43,
   "outputs": []
  },
  {
   "cell_type": "code",
   "metadata": {
    "id": "0nzGstfQV8Ww"
   },
   "source": [
    "N_CLUSTERS = len(data.Product.unique())\n",
    "\n",
    "train_size, test_size = 400, 100      #ze wzeględu na bardzo długi czas obliczania odległości\n",
    "KMed_X_data = np.hstack([X_train[:train_size], X_test[:test_size]])\n",
    "KMed_y_data = np.hstack([y_train[:train_size], y_test[:test_size]])\n",
    "\n",
    "KMed_X_train = np.arange(len(X_train[:train_size])).reshape(-1, 1)\n",
    "KMed_X_test = np.arange(len(X_test[:test_size])).reshape(-1, 1)\n",
    "\n",
    "KMed_y_test = y_test[:test_size]"
   ],
   "execution_count": 44,
   "outputs": []
  },
  {
   "cell_type": "code",
   "metadata": {
    "id": "5R-eISnbhOEB"
   },
   "source": [
    "precomputed_lev = partial(precomputed_metric, precompute_distances(lev_metric))\n",
    "KMed_lev = KMedoids(n_clusters=N_CLUSTERS, metric=precomputed_lev)"
   ],
   "execution_count": 45,
   "outputs": []
  },
  {
   "cell_type": "code",
   "metadata": {
    "colab": {
     "base_uri": "https://localhost:8080/"
    },
    "id": "JzlCzpsSYW9i",
    "outputId": "94b2c739-5ef1-49f8-a9de-782ed5973990"
   },
   "source": [
    "KMed_lev.fit(KMed_X_train)"
   ],
   "execution_count": 46,
   "outputs": [
    {
     "output_type": "execute_result",
     "data": {
      "text/plain": [
       "KMedoids(init='heuristic', max_iter=300,\n",
       "         metric=functools.partial(<function precomputed_metric at 0x7f4c2ab33b70>, array([[  0., 264., 817., ..., 245., 738., 241.],\n",
       "       [  0.,   0., 803., ..., 260., 728., 277.],\n",
       "       [  0.,   0.,   0., ..., 833., 780., 914.],\n",
       "       ...,\n",
       "       [  0.,   0.,   0., ...,   0., 758., 227.],\n",
       "       [  0.,   0.,   0., ...,   0.,   0., 828.],\n",
       "       [  0.,   0.,   0., ...,   0.,   0.,   0.]])),\n",
       "         n_clusters=14, random_state=None)"
      ]
     },
     "metadata": {
      "tags": []
     },
     "execution_count": 46
    }
   ]
  },
  {
   "cell_type": "code",
   "metadata": {
    "id": "DIanGMmYtWOA"
   },
   "source": [
    "precomputed_jac = partial(precomputed_metric, precompute_distances(jaccard_metric))\n",
    "KMed_jac = KMedoids(n_clusters=N_CLUSTERS, metric=precomputed_jac)"
   ],
   "execution_count": 47,
   "outputs": []
  },
  {
   "cell_type": "code",
   "metadata": {
    "colab": {
     "base_uri": "https://localhost:8080/"
    },
    "id": "yn5RBbP8tWik",
    "outputId": "a09ac6b8-6945-4667-f542-4c45896c72b8"
   },
   "source": [
    "KMed_jac.fit(KMed_X_train)"
   ],
   "execution_count": 48,
   "outputs": [
    {
     "output_type": "stream",
     "text": [
      "/usr/local/lib/python3.6/dist-packages/sklearn_extra/cluster/_k_medoids.py:235: UserWarning: Cluster 1 is empty! self.labels_[self.medoid_indices_[1]] may not be labeled with its corresponding cluster (1).\n",
      "  \"its corresponding cluster ({k}).\".format(k=k)\n",
      "/usr/local/lib/python3.6/dist-packages/sklearn_extra/cluster/_k_medoids.py:235: UserWarning: Cluster 2 is empty! self.labels_[self.medoid_indices_[2]] may not be labeled with its corresponding cluster (2).\n",
      "  \"its corresponding cluster ({k}).\".format(k=k)\n",
      "/usr/local/lib/python3.6/dist-packages/sklearn_extra/cluster/_k_medoids.py:235: UserWarning: Cluster 3 is empty! self.labels_[self.medoid_indices_[3]] may not be labeled with its corresponding cluster (3).\n",
      "  \"its corresponding cluster ({k}).\".format(k=k)\n",
      "/usr/local/lib/python3.6/dist-packages/sklearn_extra/cluster/_k_medoids.py:235: UserWarning: Cluster 4 is empty! self.labels_[self.medoid_indices_[4]] may not be labeled with its corresponding cluster (4).\n",
      "  \"its corresponding cluster ({k}).\".format(k=k)\n",
      "/usr/local/lib/python3.6/dist-packages/sklearn_extra/cluster/_k_medoids.py:235: UserWarning: Cluster 5 is empty! self.labels_[self.medoid_indices_[5]] may not be labeled with its corresponding cluster (5).\n",
      "  \"its corresponding cluster ({k}).\".format(k=k)\n",
      "/usr/local/lib/python3.6/dist-packages/sklearn_extra/cluster/_k_medoids.py:235: UserWarning: Cluster 6 is empty! self.labels_[self.medoid_indices_[6]] may not be labeled with its corresponding cluster (6).\n",
      "  \"its corresponding cluster ({k}).\".format(k=k)\n",
      "/usr/local/lib/python3.6/dist-packages/sklearn_extra/cluster/_k_medoids.py:235: UserWarning: Cluster 7 is empty! self.labels_[self.medoid_indices_[7]] may not be labeled with its corresponding cluster (7).\n",
      "  \"its corresponding cluster ({k}).\".format(k=k)\n",
      "/usr/local/lib/python3.6/dist-packages/sklearn_extra/cluster/_k_medoids.py:235: UserWarning: Cluster 8 is empty! self.labels_[self.medoid_indices_[8]] may not be labeled with its corresponding cluster (8).\n",
      "  \"its corresponding cluster ({k}).\".format(k=k)\n",
      "/usr/local/lib/python3.6/dist-packages/sklearn_extra/cluster/_k_medoids.py:235: UserWarning: Cluster 9 is empty! self.labels_[self.medoid_indices_[9]] may not be labeled with its corresponding cluster (9).\n",
      "  \"its corresponding cluster ({k}).\".format(k=k)\n",
      "/usr/local/lib/python3.6/dist-packages/sklearn_extra/cluster/_k_medoids.py:235: UserWarning: Cluster 10 is empty! self.labels_[self.medoid_indices_[10]] may not be labeled with its corresponding cluster (10).\n",
      "  \"its corresponding cluster ({k}).\".format(k=k)\n",
      "/usr/local/lib/python3.6/dist-packages/sklearn_extra/cluster/_k_medoids.py:235: UserWarning: Cluster 11 is empty! self.labels_[self.medoid_indices_[11]] may not be labeled with its corresponding cluster (11).\n",
      "  \"its corresponding cluster ({k}).\".format(k=k)\n",
      "/usr/local/lib/python3.6/dist-packages/sklearn_extra/cluster/_k_medoids.py:235: UserWarning: Cluster 12 is empty! self.labels_[self.medoid_indices_[12]] may not be labeled with its corresponding cluster (12).\n",
      "  \"its corresponding cluster ({k}).\".format(k=k)\n",
      "/usr/local/lib/python3.6/dist-packages/sklearn_extra/cluster/_k_medoids.py:235: UserWarning: Cluster 13 is empty! self.labels_[self.medoid_indices_[13]] may not be labeled with its corresponding cluster (13).\n",
      "  \"its corresponding cluster ({k}).\".format(k=k)\n"
     ],
     "name": "stderr"
    },
    {
     "output_type": "execute_result",
     "data": {
      "text/plain": [
       "KMedoids(init='heuristic', max_iter=300,\n",
       "         metric=functools.partial(<function precomputed_metric at 0x7f4c2ab33b70>, array([[0.        , 0.07692308, 0.07407407, ..., 0.11538462, 0.14814815,\n",
       "        0.11538462],\n",
       "       [0.        , 0.        , 0.14814815, ..., 0.04166667, 0.08      ,\n",
       "        0.04166667],\n",
       "       [0.        , 0.        , 0.        , ..., 0.11538462, 0.07692308,\n",
       "        0.11538462],\n",
       "       ...,\n",
       "       [0.        , 0.        , 0.        , ..., 0.        , 0.04166667,\n",
       "        0.        ],\n",
       "       [0.        , 0.        , 0.        , ..., 0.        , 0.        ,\n",
       "        0.04166667],\n",
       "       [0.        , 0.        , 0.        , ..., 0.        , 0.        ,\n",
       "        0.        ]])),\n",
       "         n_clusters=14, random_state=None)"
      ]
     },
     "metadata": {
      "tags": []
     },
     "execution_count": 48
    }
   ]
  },
  {
   "cell_type": "code",
   "metadata": {
    "id": "dKWjl0XrtWsv"
   },
   "source": [
    "precomputed_sor = partial(precomputed_metric, precompute_distances(sorensen_metric))\n",
    "KMed_sor = KMedoids(n_clusters=N_CLUSTERS, metric=precomputed_sor)"
   ],
   "execution_count": 49,
   "outputs": []
  },
  {
   "cell_type": "code",
   "metadata": {
    "colab": {
     "base_uri": "https://localhost:8080/"
    },
    "id": "wgipYuqfwLSg",
    "outputId": "b7b6bce3-0e6f-41e3-ff94-e405d5917a63"
   },
   "source": [
    "KMed_sor.fit(KMed_X_train)"
   ],
   "execution_count": 50,
   "outputs": [
    {
     "output_type": "stream",
     "text": [
      "/usr/local/lib/python3.6/dist-packages/sklearn_extra/cluster/_k_medoids.py:235: UserWarning: Cluster 1 is empty! self.labels_[self.medoid_indices_[1]] may not be labeled with its corresponding cluster (1).\n",
      "  \"its corresponding cluster ({k}).\".format(k=k)\n",
      "/usr/local/lib/python3.6/dist-packages/sklearn_extra/cluster/_k_medoids.py:235: UserWarning: Cluster 2 is empty! self.labels_[self.medoid_indices_[2]] may not be labeled with its corresponding cluster (2).\n",
      "  \"its corresponding cluster ({k}).\".format(k=k)\n",
      "/usr/local/lib/python3.6/dist-packages/sklearn_extra/cluster/_k_medoids.py:235: UserWarning: Cluster 3 is empty! self.labels_[self.medoid_indices_[3]] may not be labeled with its corresponding cluster (3).\n",
      "  \"its corresponding cluster ({k}).\".format(k=k)\n",
      "/usr/local/lib/python3.6/dist-packages/sklearn_extra/cluster/_k_medoids.py:235: UserWarning: Cluster 4 is empty! self.labels_[self.medoid_indices_[4]] may not be labeled with its corresponding cluster (4).\n",
      "  \"its corresponding cluster ({k}).\".format(k=k)\n",
      "/usr/local/lib/python3.6/dist-packages/sklearn_extra/cluster/_k_medoids.py:235: UserWarning: Cluster 5 is empty! self.labels_[self.medoid_indices_[5]] may not be labeled with its corresponding cluster (5).\n",
      "  \"its corresponding cluster ({k}).\".format(k=k)\n",
      "/usr/local/lib/python3.6/dist-packages/sklearn_extra/cluster/_k_medoids.py:235: UserWarning: Cluster 6 is empty! self.labels_[self.medoid_indices_[6]] may not be labeled with its corresponding cluster (6).\n",
      "  \"its corresponding cluster ({k}).\".format(k=k)\n",
      "/usr/local/lib/python3.6/dist-packages/sklearn_extra/cluster/_k_medoids.py:235: UserWarning: Cluster 7 is empty! self.labels_[self.medoid_indices_[7]] may not be labeled with its corresponding cluster (7).\n",
      "  \"its corresponding cluster ({k}).\".format(k=k)\n",
      "/usr/local/lib/python3.6/dist-packages/sklearn_extra/cluster/_k_medoids.py:235: UserWarning: Cluster 8 is empty! self.labels_[self.medoid_indices_[8]] may not be labeled with its corresponding cluster (8).\n",
      "  \"its corresponding cluster ({k}).\".format(k=k)\n",
      "/usr/local/lib/python3.6/dist-packages/sklearn_extra/cluster/_k_medoids.py:235: UserWarning: Cluster 9 is empty! self.labels_[self.medoid_indices_[9]] may not be labeled with its corresponding cluster (9).\n",
      "  \"its corresponding cluster ({k}).\".format(k=k)\n",
      "/usr/local/lib/python3.6/dist-packages/sklearn_extra/cluster/_k_medoids.py:235: UserWarning: Cluster 10 is empty! self.labels_[self.medoid_indices_[10]] may not be labeled with its corresponding cluster (10).\n",
      "  \"its corresponding cluster ({k}).\".format(k=k)\n",
      "/usr/local/lib/python3.6/dist-packages/sklearn_extra/cluster/_k_medoids.py:235: UserWarning: Cluster 11 is empty! self.labels_[self.medoid_indices_[11]] may not be labeled with its corresponding cluster (11).\n",
      "  \"its corresponding cluster ({k}).\".format(k=k)\n",
      "/usr/local/lib/python3.6/dist-packages/sklearn_extra/cluster/_k_medoids.py:235: UserWarning: Cluster 12 is empty! self.labels_[self.medoid_indices_[12]] may not be labeled with its corresponding cluster (12).\n",
      "  \"its corresponding cluster ({k}).\".format(k=k)\n",
      "/usr/local/lib/python3.6/dist-packages/sklearn_extra/cluster/_k_medoids.py:235: UserWarning: Cluster 13 is empty! self.labels_[self.medoid_indices_[13]] may not be labeled with its corresponding cluster (13).\n",
      "  \"its corresponding cluster ({k}).\".format(k=k)\n"
     ],
     "name": "stderr"
    },
    {
     "output_type": "execute_result",
     "data": {
      "text/plain": [
       "KMedoids(init='heuristic', max_iter=300,\n",
       "         metric=functools.partial(<function precomputed_metric at 0x7f4c2ab33b70>, array([[0.        , 0.04      , 0.03846154, ..., 0.06122449, 0.08      ,\n",
       "        0.06122449],\n",
       "       [0.        , 0.        , 0.08      , ..., 0.0212766 , 0.04166667,\n",
       "        0.0212766 ],\n",
       "       [0.        , 0.        , 0.        , ..., 0.06122449, 0.04      ,\n",
       "        0.06122449],\n",
       "       ...,\n",
       "       [0.        , 0.        , 0.        , ..., 0.        , 0.0212766 ,\n",
       "        0.        ],\n",
       "       [0.        , 0.        , 0.        , ..., 0.        , 0.        ,\n",
       "        0.0212766 ],\n",
       "       [0.        , 0.        , 0.        , ..., 0.        , 0.        ,\n",
       "        0.        ]])),\n",
       "         n_clusters=14, random_state=None)"
      ]
     },
     "metadata": {
      "tags": []
     },
     "execution_count": 50
    }
   ]
  },
  {
   "cell_type": "code",
   "metadata": {
    "id": "TN5gmXAlBpIn"
   },
   "source": [
    "precomputed_s_dice = partial(precomputed_metric, precompute_distances(sorensen_dice_metric))\n",
    "KMed_s_dice = KMedoids(n_clusters=N_CLUSTERS, metric=precomputed_s_dice)"
   ],
   "execution_count": 51,
   "outputs": []
  },
  {
   "cell_type": "code",
   "metadata": {
    "colab": {
     "base_uri": "https://localhost:8080/"
    },
    "id": "EpPs2227BpbJ",
    "outputId": "4341e270-98c7-47b5-dd38-1c562c8c9965"
   },
   "source": [
    "KMed_s_dice.fit(KMed_X_train)"
   ],
   "execution_count": 52,
   "outputs": [
    {
     "output_type": "execute_result",
     "data": {
      "text/plain": [
       "KMedoids(init='heuristic', max_iter=300,\n",
       "         metric=functools.partial(<function precomputed_metric at 0x7f4c2ab33b70>, array([[0.        , 0.8588064 , 0.47050147, ..., 0.8704    , 0.5023622 ,\n",
       "        0.59354839],\n",
       "       [0.        , 0.        , 0.51036455, ..., 0.81137725, 0.55293222,\n",
       "        0.55905512],\n",
       "       [0.        , 0.        , 0.        , ..., 0.44427823, 0.89404642,\n",
       "        0.24299065],\n",
       "       ...,\n",
       "       [0.        , 0.        , 0.        , ..., 0.        , 0.48441247,\n",
       "        0.6367713 ],\n",
       "       [0.        , 0.        , 0.        , ..., 0.        , 0.        ,\n",
       "        0.26214482],\n",
       "       [0.        , 0.        , 0.        , ..., 0.        , 0.        ,\n",
       "        0.        ]])),\n",
       "         n_clusters=14, random_state=None)"
      ]
     },
     "metadata": {
      "tags": []
     },
     "execution_count": 52
    }
   ]
  },
  {
   "cell_type": "code",
   "metadata": {
    "id": "OFkEszwUhPfY"
   },
   "source": [
    "#precomputed_lcs = partial(precomputed_metric, precompute_distances(lcs_metric))\n",
    "#KMed_lcs = KMedoids(n_clusters=N_CLUSTERS, metric=precomputed_lcs)"
   ],
   "execution_count": 53,
   "outputs": []
  },
  {
   "cell_type": "code",
   "metadata": {
    "id": "2HVWbCbv7lSq"
   },
   "source": [
    "# KMed_lcs.fit(KMed_X_train)"
   ],
   "execution_count": 54,
   "outputs": []
  },
  {
   "cell_type": "code",
   "metadata": {
    "id": "Mv30tzjDx1Y4"
   },
   "source": [
    "# precomputed_bak = partial(precomputed_metric, precompute_distances(bakkelund_metric))\n",
    "# KMed_bak = KMedoids(n_clusters=N_CLUSTERS, metric=precomputed_bak)"
   ],
   "execution_count": 55,
   "outputs": []
  },
  {
   "cell_type": "code",
   "metadata": {
    "id": "CoNs_ljx7pM7"
   },
   "source": [
    "# KMed_bak.fit(KMed_X_train)"
   ],
   "execution_count": 56,
   "outputs": []
  },
  {
   "cell_type": "code",
   "metadata": {
    "id": "Cd2uRw9b1MR7"
   },
   "source": [
    "def print_cluster(true_labels, predictions, data, name):\n",
    "    clusters = dict()\n",
    "    for i, pred in enumerate(predictions):\n",
    "        if pred not in clusters.keys():\n",
    "            clusters[pred] = []\n",
    "        clusters[pred].append((true_labels[i], KMed_X_data[data[i]][0]))\n",
    "    \n",
    "    print(name)\n",
    "    for cluster, lc in clusters.items():\n",
    "        print(f\"  Cluster nr: {cluster}\")\n",
    "        cluster_prod_freq = dict()\n",
    "        prod_comps = dict()\n",
    "        for label, complaint in lc:\n",
    "            cluster_prod_freq[label] = cluster_prod_freq.get(label, 0) + 1\n",
    "            if label not in prod_comps.keys():\n",
    "                prod_comps[label] = []\n",
    "            prod_comps[label].append(complaint)\n",
    "\n",
    "        cluster_prod_freq = {k: v for k, v in sorted(cluster_prod_freq.items(), key=lambda item: -item[1])}\n",
    "        for prod, freq in cluster_prod_freq.items():\n",
    "            print(f'\\t{freq}: {prod}')\n",
    "            for comp in prod_comps[prod]:\n",
    "                print(f'\\t\\t-{comp}')\n",
    "\n"
   ],
   "execution_count": 87,
   "outputs": []
  },
  {
   "cell_type": "code",
   "metadata": {
    "colab": {
     "base_uri": "https://localhost:8080/"
    },
    "id": "kAcNMLdF3MUu",
    "outputId": "c85a7664-5161-41d3-934f-287feb24a2eb"
   },
   "source": [
    "lev_pred = KMed_lev.predict(KMed_X_test)\n",
    "print_cluster(KMed_y_test, lev_pred, KMed_X_test, 'LEVENSHTEIN')"
   ],
   "execution_count": 88,
   "outputs": [
    {
     "output_type": "stream",
     "text": [
      "LEVENSHTEIN\n",
      "  Cluster nr: 1\n",
      "\t2: Credit reporting, credit repair services, or other personal consumer reports\n",
      "\t\t-contract date year conf term apr payment amount financed original finance charge note problem follows made large four times asked pay extra money towards principal never done adjust refused see states per cent annually however found also day equals top interest predatory loan stated car asking credited account taken life\n",
      "\t\t-account american express credit cards months line since opening balance payments exceeded minimum monthly payment due paid prior date late ever received email informing lowered reason replied feedback link sent wanted explained completely uncalled unfair business practice additionally asked file appeal process works response would like looked please never missed accounts\n",
      "\t1: Mortgage\n",
      "\t\t-tired many problems bank closed account dont pay lawyer divorce impossible complaint ex husband file contacts conf called received check since almost months apartament unfortunately need find damages finances emotional would like copy checks deposit never return\n",
      "  Cluster nr: 4\n",
      "\t5: Credit reporting, credit repair services, or other personal consumer reports\n",
      "\t\t-took loan conf understand terms since documents give dont read write told said juat sigh moved hard time paying got better job refused take payments use inappropriate language talk inappropriately made lots attempts make guy actually sent small payment least would send back every try call someone else tell one believe attempt get money kept charging fees able pay\n",
      "\t\t-account conf sold turned collection contacted work telling could speak time proceeded call right back hours called ms requested written documentation debt attempting collect mailed told going mail anything owed proceeding verify employment sue hung asked manager available proceed legal action\n",
      "\t\t-conf account years ago due divorce unable pay bill completely paying got money never stop totally contacted told sent collection agency reached amount stated owed incorrect ask specific information letter basic number original date waited thinking would give agreement payment history followed another responded saying respond duplicate see reason requested asking came credit bureaus reporting something different definitely know wrong ad trying debt refuse owe understand personal issue still responsible documentation\n",
      "\t\t-put letter fraud hard inquiries authorized made date conf jc penny got back saying ip address unaware used applications told customer service submit basically implying make inquires accurate every attempt call person spoken need rep resolve matter want credit score effected something mail women left messages spoke others synchonry keep getting run around years feel fair act reversed since idea due respect happened clearly stated attempts never said calls someone please finally help nightmare\n",
      "\t\t-conf date datesomeone fraudulently opened credit cards name put lock reports unlocked could apply store card thru told would approximately hours applied later denied comenity bank said need wait least difference agency banks policy locked ca reapply days initially waited fine one time information reporting agencies consumer punished protecting lifting applying within different communicate longer period dictated excellent debt ratio job money protect good\n",
      "\t2: Debt collection\n",
      "\t\t-first citizens bank construction loan date conf grading new home completed filed lien county clerk superior court manager nc branch managed facilitate closing attached satisfied knowledge prior told officer could closed outstanding paid suspect homeowner committed fraudulent felony act forging signature banker made attempts conceal even asked former sign agreement resigned noted general contractor also perfected lawsuit pending civil consulted attorney perfecting afford proceed action regardless taken place want work\n",
      "\t\t-requested transunion conf send proof method verification used report bankruptcy credit agencies knowingly provided false information therefore violation fair reporting act attaching also originally asked verify listed furnisher court house prior dispute writing profile frozen following investigation cfpb changed furnishor account county parties violations disclosures consumers procedure case disputed accuracy obtaining pretenses courts third like\n",
      "\t1: Payday loan, title loan, or personal loan\n",
      "\t\t-due butched involvement institution denied charge instant cash withrawal citybank failed remove bill asked uphold federal laws disputed credit transaction assist complying claimed close account without approval opened second third adding new accounts completely contacted conf security division became nightmare ruge bank disseminates personal information foreign country duty comply us able anything customer citizen recourse demand attorney general review conducts assess highest fines available repeatedly violating\n",
      "  Cluster nr: 11\n",
      "\t8: Credit reporting, credit repair services, or other personal consumer reports\n",
      "\t\t-equifax sent credit file date submitted next day disputes resubmitted notified original results filled ftc local authorities creditors companies conf already finished items removed report load complaint confirmation fax certified mail received office faxed us post letter called numerous times disbelief whereabouts personal documents identity theft victim seems like happening thirty days said today repeatedly incomplete information via still furnishing incorrect turned jobs waited interview six months previously lost due could informed future employer would permitted later job well able receive state assistance apply services goods basic living situation turmoil worse everything fix effects run unfair reporting rights think true read fcra notice furnishers obligations frca e really feel violated although sure knew right thing contact cfpd another yet replied hope take seriously reply notify protect secure paid send matter serious involves afraid moment wrong hands past events within company respectfully need help please\n",
      "\t\t-home caught fire date relocated temporary housing applied month forbearance received payments misapplied past due tried point fact pay nothing done instead able go modification closed account loss mitigation department loan time foreclosure process started submitted emailed documents required even though previous still valid one representative kept insisting send divorce house purchased asking bank accounts contractor since money moving back forth draft trying obtain statements another party loaned banked finally got resolved file review days contacted told answer pending waited weeks thing two months later get notice sale set called complained cfpb guidelines could place postponed informed needed find status said response went approved escrow fees adding causing damage found actually reinstate mortgage reinstatement letter would help telling chfa call leave messages spoke number agents collections refused someone internally passing respond today attorney conf anyone assist intent cure public trustee full payoff paying want bring current put numbers together take risk losing mishandling refusing quote\n",
      "\t\t-accounts listed reflect correct transactions done personal sworn statement declaration declare penalty perjury laws united states executed outside conf foregoing true best knowledge furthermore certify permitted federal state law follow dispute also understand knowing willful misstatement omissions material facts constitutes criminal violation punishable additionally misstatements items found within credit report following pages related transaction made alleging person company used identifying information apply goods services money successful creating filed formal trade commission attached letter addition corresponded agencies creditors respective cooperative guided point taking step write directly reserve right delete block im requesting want make clear making request error misrepresented allegations aforementioned obtain result attempted file police informed county constitute emergency wouldnt didnt individual know wrongfully personally thank time review grievance look forward continued assistance security included identification another page please kindly fcra unverified must removed unable provide copy verifiable proof remove demand verified immediately rebuttal notation accuser failed evidence either injurious derogatory claims validity documented certification compliance reporting mandatory condition\n",
      "\t\t-contacted united collections bureau make monthly payment agreed today date concern type questions representative asked information tried collect particularly way initially verify identity requesting name address without informing next required part security proceeded piggyback right ask worked husband needed told creditor hired requested made distinction whatsoever said purposes gave indication format clued verifying already clarifying gathering new know never provided like ucbi convinced trying gather duplicitous manner challenged giving voluntary claimed one stopped asking would clear personal coercive aware option provide presented necessary verification volunteering implied complete transaction legally need offer payments line bills billing stubs addressed envelopes debtor makes decision pay partial pretty much limits options calling debt phone feel privacy risk due dubious collection second complaint multiple times call going entire amount paying pushed matter several last tax refund get something close exact wording interested conf discussing since beginning whole repeated attempts dig ie form harassment stepped collecting offered attempting push financial situation judgement calls whether could time prevent audacious sneaky obtrusive conversation attempt exposed invasive technique aggressiveness every may go legal council mentioned reasonable concerns coerced knowledge cause harm continue pressured reproved try installments instead bill full want ever allow company beyond law requires confirm agree representatives life see find pressure afford business judge getting big medical sent still recovering treatment contact sort plan misinformation unaware steps taken insufficient timely mere days completely caught guard even concerning harassing person dealing put possible step within means taking advantage vulnerable position concerned using\n",
      "\t\t-date personally opened barclay card conf rewards ended purpose obtain new laptop cost made purchases activity related ending making monthly initial plan paid per month order get within months deferred interest everything full discovered identity stolen several credit cards loans taken name immediately took action put freeze early good amount things clean lot removed fraudulent occurred received notice regards lawsuit bank called eventually push collection agency handling dealing balance talk reported fraud theft waited two weeks send paperwork filled mailed week later stating denied claim still owe due came directly department requested statements following three different accounts never could tell one used current cash advances transfers late complaint follows ever account limit knowledge also well continues move court hearing future give explanation internal collections contacted contact notification violated act see attached first payment fee charge according fees aware rules without prior authorization noted added nearly actions suspicious started unable explain provide records allow double call type way wrong phone number file went claims advance check signed able copy signature material facts majority open period march yet exact\n",
      "\t\t-worst experience ever discontinued conf business account almost years ago never received bill call correspondence currently cell service moved changed addresses still collection letter husband began home buying process told amsher sitting credit totally confused lack communication placing date called phone number report law office resolve matter would speak reporting resolved mastercard take days could anything payment send debt resolution back inquire look got rudely update settled instead paid delete together waited day rep named closed inquired situation said already notified status spoke additional information one remove put manager time frustrated runaround tried strongly suggestive hold came say spoken rude explained contract provide everything needed including get word interrupted hung another hear people background laughing became extremely asked stated since want going ended calling complain higher refusal assist bureau help lied notification wait usually takes ask questions cut friday see done reports\n",
      "\t\t-register account transferwise company use service international transfer conf date registration completed set amount complete top around usd money wise private deactivated cancel block send email questions access answer inform following regulation investigation process find reason may take days cancelled request get back name practice stealing however tw ask number proff ownership tour guide carry kinds documents due procedures doubt legal law wait till received differences less wrote clarify said hello thanks response funds swift hence processed refund using payment method please note payments incur extra charges intermediary banks well receiving bank charge fee unfortunately aware control fees case read hope explains let us know happy help best regards today receive services ordered blocked stuff informed regulations unknown reasons refusing lower dateusd\n",
      "\t\t-accounts added created unbeknownst notice concern hold accountable accuse complicity exercise malevolent hereby mark likely one might day view civil discord would plaintiffs yet declare unjust claim met deliberate determined resistance counteraction clarity debt collection insufficient collections much less reporting must delete injurious allegation significantly deficient requisite certified compliance perfect metro format testimonial evidence physically verifiable proof validation related full truth accuracy completeness timeliness ownership identity true debtor dates balances audits calculations source codes creditor code statement associated trailing fragments minimal five portioned personal identifiers pay statuses required confirmation elsewise standard mandatory proper mentioned although checking addressing missing aspects compliances contesting compliant nature make aware since unlawful transitions equally complaint circumstance still validated document fact standards announced legally knowledge validity alleged claims delinquency derogatory certifiably matter either attempts despite previous consumer filed composed complaints known especially shall elect take court pursued particularly defined precisely certifiable manner detailed obeyed federal state regulations noted said include limited fcba fcra hipaa privacy rule facta fdcpa tcpa etc additionally entity acts collector also elects act party credit well adhere every single even regulatory requisites legal standing accordance laws accepted date plaintiff failed demonstrate capacity willingness validate certify fair accurate complete display given recent breaches information repositories hesitating readily accept presented without legitimate deny nothing reserve right question unproven call reject untrue unverified incomplete otherwise invalid thereby dischargeable requirement dismissed demand resolution today accords statutes received ever entering contractual relationship forward ies allegedly issued defaulted line accusations similar repeated calls accusers adequately acquired permissible purpose exactly individual irrefutably identified acknowledgement parties form knowingly acknowledging unknowingly owe proven compliantly reported written declaration testimony factual obvious allegations clear subterfuge willful disregard ethical practices done ignorance behavior efforts vile derelict unjustly doubt dismissal discharge misreported delinquencies undeniably unfairly lodged versus receiving facts account items delinquent actions reiterate called present correct documentation rights collect report let optional mute law open submitted adequate genesis inability prove application agreement contract describing inherently makes whole summons request resolve immediate eradication charge rectification appropriate stands complaining unethically illegally absolute deficiency applicable unwillingness timely fully preference stand authority integrity ensure correctness responsibility\n",
      "\t3: Credit card or prepaid card\n",
      "\t\t-date returned leased car conf dealership ca last day lease even called let know required fast forward received update notification regards credit report checking realized false delinquency generated checked account online find charged monthly beyond official end contract numerous mean calls emails lots stress provided different information department transfers multiple occasions held long hold hung nearly two weeks got rid reported balance promised also fix wrong experian never delivered ultimately asked file dispute denied think anything help scary disappointing causes companies much power influence life yet unorganized poorly run reach automatic charge whatever heard leasing returning like create financial disasters show anymore gotten rejection rentals etc events justice get penalized would easily punished send jail fail pay wear tear fair please resort attorney nobody takes case money shame thank\n",
      "\t\t-spent last month hospital conf illness thus checking accounts daily usual yesterday released checked chase bank account online horrified discover nearly overdrawn appeared overdraft entirely due three unauthorized charges charge dated date know company subscription box annual amount also charged unknown reason price single ships quarterly day tried contact via email telephone received response second two called absolutely relationship appears another involving clothing billed phone sent today around since client clear numerous disputes behalf unfortunately dealing serious identity theft issues five years desperately trying receive new social security number thankfully nothing helpful always issue provisional fee within hours remove fees incurred putting however spoke woman name refused credit items asked stated report posted could would open investigation replied never heard policy explained hospitalized unmoved problem told case going forced switch banks basically offered protection whatsoever clients fine hang supposed resting stress per doctors instead sheer overdue payment notices pay wondering make next week far food transportation doctor appointments etc near end please help\n",
      "\t\t-conf soc sec dob date address fl unauthorized credit inquiry dear know name person charge better letter formal notice cease hard inquiries making intomy report also demandfor immediately contact reporting agencies bureaus organization made history illegal inquiriesremoved advised checking reports ensure thefollowing taken line item details finance nquiry miscellaneous reptg automobile dealers banks auto financing florida best knowledge signed documents authorizing view violates thefair act section c transactions initiated consumer document believe authorizes make theaforementioned respectfully request copy itbe sent may verify validity given growing cases identitytheft sure agree verification protect event possess authorization haveremoved profiles remove mypersonal information records please send confirmation havecomplied requests thank sincerely\n",
      "\t1: Checking or savings account\n",
      "\t\t-todays date attention dispute department midland fund conf company violated fcra f prohibition sale transfer debt caused identity theft responded request provide investigation report need resolve fair credit reporting act disputed items may appear supported evidence general person shall sell consideration place collection notified section title resulted applicability prohibitions subsection apply persons collecting described paragraph notification rule construction nothing construed prohibit repurchase case assignee requires b securitization pledging portfolio collateral connection borrowing c result merger acquisition purchase assumption transaction substantially assets entity furnishes information consumer agency reasonable procedures respond receives relating resulting prevent refurnishing blocked reference listed please take matter serious form record prepare sue example confelephone protection litigation district court southern stop proceedings signatures applications accounts investigators sec dob address lookout\n",
      "\t1: Student loan\n",
      "\t\t-accounts added created unbeknownst notice concern hold accountable accuse complicity exercise malevolent hereby mark likely one might day view civil discord would plaintiffs yet declare unjust claim met deliberate determined resistance counteraction clarity debt collection insufficient collections much less reporting must delete injurious allegation significantly deficient requisite certified compliance perfect conf format testimonial evidence physically verifiable proof validation related full truth accuracy completeness timeliness ownership identity true debtor dates balances audits calculations source codes creditor code statement associated trailing fragments minimal five portioned personal identifiers pay statuses required confirmation elsewise standard mandatory proper mentioned although checking addressing missing aspects compliances contesting compliant nature make aware since unlawful transitions equally complaint circumstance still validated document fact standards announced legally knowledge validity alleged claims delinquency derogatory certifiably matter either attempts despite previous consumer filed composed complaints known especially shall elect take court pursued particularly defined precisely certifiable manner detailed obeyed federal state regulations noted said include limited fcra hipaa privacy rule facta fdcpa tcpa etc additionally entity acts collector also elects act party credit well adhere every single even regulatory requisites legal standing accordance laws accepted date plaintiff failed demonstrate capacity willingness validate certify fair accurate complete display given recent breaches information repositories hesitating readily accept presented without legitimate deny nothing reserve right question unproven call reject untrue unverified incomplete otherwise invalid thereby dischargeable requirement dismissed demand resolution today accords statutes received ever entering contractual relationship forward ies allegedly issued defaulted line accusations similar repeated calls accusers adequately acquired permissible purpose exactly individual irrefutably identified acknowledgement parties form knowingly acknowledging unknowingly owe proven compliantly reported written declaration testimony factual obvious allegations clear subterfuge willful disregard ethical practices done ignorance behavior efforts vile derelict unjustly doubt dismissal discharge misreported delinquencies undeniably unfairly lodged versus receiving facts account items delinquent actions reiterate called present correct documentation rights collect report let optional mute law open submitted adequate genesis inability prove application agreement contract describing inherently makes whole summons request resolve immediate eradication charge rectification appropriate stands complaining unethically illegally absolute deficiency applicable unwillingness timely fully preference stand authority integrity ensure correctness responsibility\n",
      "\t1: Debt collection\n",
      "\t\t-complaint written reference midwest recovery system llc acct conf listed major credit reports illegally regards collecting debt owe sent request validation via usps certified return receipt requested beginning receive response according fair collection practices act must true accurate company place name systems without original creditor attempting collect false funds misapplied payments may understanding checking account back close due limited supply branches wanted join bank bigger however leave outstanding balance neither ever inform years since banked trying resolve matter amicably failure comply ftc regulations regarding reporting result small claims legal action local venue seeking minimum damages defamation negligent enablement identity fraud violation including section required appear court order formally defend notice attempt correct records information received collected evidence necessary cease illegal removal immediately similar case agency took awarded urgent require immediate attention prepared file judgement maintaining careful record communication purposes dependent upon detailing potential issues online public press release documentation valid statue limitation sol expires state another charges\n",
      "\t1: Payday loan, title loan, or personal loan\n",
      "\t\t-hello complaint three credit reporting companies experian conf noticed discrepencies report put freeze date notified agencies previously stated writtent letter dated requesting verifiy certain accounts showing bankruptcy bank account response verified third partner correct since one obtain anything unfreeze wrote second mailed telling lied said two question using called requested attempted access year told violation consumer rights demand removed immediately back stating talk never responded dateto plus days investigate claim expired checked states uses verify also please compnaies wrong party gives information attach tell fight get corrected dont impossible frozen items mention even respond investigation request\n",
      "  Cluster nr: 8\n",
      "\t3: Credit reporting, credit repair services, or other personal consumer reports\n",
      "\t\t-date noticed new collection showing conf credit report called find stated water bill home texas live recall never received proper notice debt asked address sent ironically services provided course moved california agreed pay remove account well updated still showed owed balance even disputed verified accurate paid instead argued deleted told take creditor collections unlimited times everytime pressed operator kept getting looped back main menu able get person phone choice ask cfpb help resolving matter\n",
      "\t\t-recently reviewed credit report found unauthorized transunion certified letter via usps tracking number conf received date included inquiries contacted creditors proof initiated written authorization failed provide permissible purpose since verbal ask delete immediately evidence according section fair reporting act purposes consumer reports code general subject subsection e agency may furnish following circumstances f otherwise legitimate business need information connection transaction paragraph treatment inaccurate unverifiable investigation disputed item incomplete verified promptly gave given enough experian removed governed\n",
      "\t\t-ongoing situation filed everything proper authorities ftc conf police cfpb personal information comprised someone using id ss open account utilities name lived ohio years pursuant fair debt collection practices act section hereby notified cease desist communication regarding referenced failure abide law result complaint federal trade commission attorney general state mine also company management right file suit future violations record phone calls fail comply\n",
      "\t2: Debt collection\n",
      "\t\t-date filed complaint conf resolved favorably resolution account closed payments backdated credit reports remove late references updated immediately transunion report new day changed letter included payment history contradicts reporting also reported consumer finance file even delinquent stated\n",
      "\t\t-back date financed car conf toll didnt put money except pay start full coverage insurance believe paid something dollars ok discussed monthly payments signed finished left new even week later wanted go online see adding renters got apartment login information incorrect reason called customer service wrong birth account changed updated said would change rate month could afford told want use anymore went somewhere else billed made mistake messed allowed keep things might different\n",
      "\t2: Credit card or prepaid card\n",
      "\t\t-opened lowes credit card conf since charged paid multiple times last year increased limit decreased months date stating checked score ive requested increase back denied time payments report find constant checks intrusive also raising someones pay lower hindering dont feel legal right want looked many company raise allowed check customer paying bill never carries long would treat manner already charge extremely high interest\n",
      "\t\t-amid several complaints department education federal student aid conf loan servicer abusive malicious tactics handling discharge new nelnet years taken tax refund without cause received notice irs finally mailed letter claiming responsible offset cal called friendly year submitted doctors statement section date lead discharged keep getting excuses saying illegible form incomplete making filed intent days submit forms netnet honor paperwork day grace period continue take returns us unlawfully mistreatment demand stop also return unfair poverty level inability repay income\n",
      "  Cluster nr: 5\n",
      "\t9: Credit reporting, credit repair services, or other personal consumer reports\n",
      "\t\t-conf credit card account cc current financial hardship came date began working paid amounts enough income continue paying minimum due keep time debt incurred approximately give take dollars contacted inform able pay continued hound still could closed add fees informed trying catch sold collection agency named pca acquisitions v llc company legal team suing amount way local county georgia magistrate court answered spoke representative consider back charges charged asking ftc please assist refuse hounded system occur part staying touch situation history shows willing family emergency reduce work written letters last year referring also law firm agreed month hear send payment\n",
      "\t\t-midland credit management scam company tries collect debt way past statute limitations owe nothing bought state much postal correspondence actually write sue paying wo go report none anyway even guys ten year old somehow got phone number really like know call every morning answer hang leave message called back different told agreed date would add list today hung answered wanted last four social verification already name said giving anything stop calling criminals everything wrong collection practices constitutes harassment\n",
      "\t\t-fedloan servicing biggest joke organization lost mishandled submitted paperwork miscalculated income multiple times even spoke fix problem given information everytime ive called dont seem comprehend law enforcement overtimes details guaranteed money reflected determing new year loan payment spoken plenty make said base payments pay every time explained goes right head ask recalculate tell may suffer interest turn credit effected daft beyond penalized thing honest absolutely unfair unprofessional tried signing driven public worker student loans theyve paper aka twice already trust short answer cant stealing pretending theyre blind incompetence\n",
      "\t\t-wife conf date discovered papers visa gift card amount expired contacted name financial institution back nka first call directed take branch bank good cash search nearest agent phone access information searched online live called see way handle transaction mail next advised funds longer available asked address could make claim complaint writing put hold find disconnected understand fine print states monthly administration fee waived months month following activation deducted balance except prohibited law fundamentally wrong cost minimum earning interest money individual purchased paid front activated filing significant unless one considers accumulates cards anything paying\n",
      "\t\t-credit reporting way car loan company handled vehicle financed totaled insurance pay paid could except finance site said need make payment date knew something every check getting lump sum end conf confbeginning would able called explained situation told beginning promised went onto account get sent collections missed whole time always resent fact little guy honest gets real criminals away everything score dropped quite bit worked hard keep good write showing jus unethical since made feel right another agency look received paperwork saying responsible things reported know true tell bureau put kind information report also affected son trying build wish specific spent months without fighting point frustrated\n",
      "\t\t-may concern reason dispute conf required notify later days furnishing negative information credit bureau reports writing section subsection however records unable locate documentation complied requirement violation fcra fdcpa also failed give five prior placing derogatory item per validations date send initial communication alleged violating held liable well defamation state ohio indebtedness creditors individual debtor fail see compliance law report account ftc police need collection removed even tried contact regarding please remove immediately\n",
      "\t\t-learned date usaa credit card application initiated approved using member number conf name individual account open required know ever reported monthly income accurate unaware access different limit opened jointly without knowledge consent records show change address confconf va used day new drug purchases initial attached rx prescription drugs purchased florida total addition highly suspicious balance transfer unknown cash advances joint years first closed fraudulent activity associated veteran check sent part\n",
      "\t\t-matter involves paypal administering discharging duties customer account ledger balance returning funds upon closure attempted resolve issue several times avail complaint return back remain sought close accounts instead instructed option donate said charity chose made little sense money stated way closer would essentially disregarded find permissible arbitrarily speaking financial bank institution case electronic establishment able deposit remaining transfer another holder insists privileges serious allegation company numerous associated name ein\n",
      "\t\t-charge promotion made conf different payment structure utilize mobile app pay shows balance alert multiple transactions structures must call company allocate balances displayed separately one payments monthly based minimum however unknown divided resulting transaction promotional interest deferment paid expiration date addition added bill thinking paying bit quicker extra amount barely covering continues accrue completely confusing unfair customers diligently seems deceiving information available application rationale seen website counter reasoning also told could set alerts future asked assistance find offered allow today would totaling almost helpful\n",
      "\t8: Debt collection\n",
      "\t\t-thre e main credit bureaus accurate information reports impossible reach either though individual sites well contact numbers provide due inaccurate fico scores decline specific given two issues incorrect show installment loan according models hurts score fact auto showed last year reason fail also debit balance card impacted basis points appears looked much better reporting track provided several times month often receive notice calling get tree allow representative thus low able gain favorable mortgage rate frustrated profit long remember assistance would greatly appreciated\n",
      "\t\t-started company seterus took loan conf time nothing put first one payment applied escrow account sent cfpb information date reference number said going fix correct numerous times faxing papers showing payments till day still getting harass already receive even copies sold another named whole mess informing make misapplying previous earlier believe lie fixing know made go though costing money send really need help hire legal please advise thank person talk inform like screwing get\n",
      "\t\t-harvard collections department human services debt payment foodstamps paid subtracting benefits wrote disputed amount company requested paperwork along itemized schedule owe sole owner reviewing reports specific location sign foodstamp program host employees caught collecting clients expense ask proof paper call sudden claim deleted taken credit report since respond many request case fraudulent matter love fact collection drop like explanations right make mistake confirmation detail overpayment rectify situation\n",
      "\t\t-going back forth navient well dirty tactic collection firm named conf per courts reps spoken currently private student loans showing record pulled credit union court based judgements even though worked get corrected spoke rep executive services office supposedly records illegally garnished almost years lifted finally pulling told would none things happened still unable defend mine listing said never served papers order given day force prove failed live promise fulfil consistently state terms throw complaints unfair pushed follow forced join class action lawsuit lying practices want causing buy mothers home offered irrefutable damage\n",
      "\t\t-trying deal conf last years unhelpful give realistic options help paying student loan back know took plan way seem work would rather see starve family worried getting payment make think go college take advantage young kids cheats need pay harass year old grandfather time nice enough cosign loans call numerous times even told finally set months come find applied four failed mention also two behind clue making get situation researching online large number every result needs stopped company\n",
      "\t\t-conf heights finance office lies consumers law terms ther contract tries bully additional commitments first interest rate greater told took loan second payments due month day two late past never notified payment would days make informed could skip made phone maturation date moved later want another high rates come miles away good faith visit today legal said part agreement disagreed pointing nowhere paperwork going call every got money reminded point calling constitute harrassment pay regular fee whether liked unless came called several times since answered ignored back hoping better interaction within report credit bureau needed immedately avoid damaged already legally wrong right true know angry voice advance predatory lender particular rude dishonest concerned vindictively damage ever\n",
      "\t\t-opened credit card account conf year ago never sent billing statement phone conversations almost monthly since first cycle explaining im receiving statements represtaives spoke told late fees would removed wouldnt need make another payment two months yet receive call next month stating past due explained received made representative said waive send spoken serveral supervisors resolve issue remove remark report done called back speak supervisor date correct issues failed contact result rep allow recently finally able get corporate office fax showed total charged refusing also remarks unless pay balance includes fact bill practice unethical appreciate help resolving\n",
      "\t\t-initiated mortgage application refinance primary property purchased conf day closing loan officer shows pay roundpoint servicing trying paid taxes tax proration purchase closed owed plus following year due date county treasures website previous entire calling roundpoints customer service line essentially said allowed charge want without providing written notice kept stating sent letter mail saying within days would force escrow stated towards end check verify office today close delayed update payoff removing irresponsible front agent rude disrespectful supervisor upon initial call well wanted talk circles contractual right money responsible make sure irresponsibly fees customers attaching never received also receipt lastly requested\n",
      "\t1: Money transfer, virtual currency, or money service\n",
      "\t\t-back date disputed account conf experian amount told validated debt valid however asked method verification representative spoke received generic answer violated fcra requested use instead verify contract signature site challenged never substantial information original signed consumer even time period research fair credit reporting act mandates bureaus report accurate validate confirm per fdcpa regulations following done sent copies written notice provided lienholders first class mail intent file repo title copy california form application repossession lien receipt actual reflecting lienholder state requires items listed obtain enabling sale unsuccessful providing request unable provide required proof within days letter alleged claim deficiency considered null void since failed comply proper protection laws\n",
      "\t1: Credit card or prepaid card\n",
      "\t\t-please advised second complaint final warning fully intend pursue litigation accordance fcra enforce rights seek relief recover monetary damages may entitled section regarding continued willful negligent noncompliance despite two written requests unverified items listed still remain credit report violation federal law required copy original creditors documentation file verify information mine correct results first investigation subsequent reinvestigation stated writing verified reported correctly accounts provided consumer contract signature furthermore failed provide method verification promptly delete clear civil liability remedy available fail comply litigious pursuing matter following conf\n",
      "\t1: Checking or savings account\n",
      "\t\t-conf ia date reported opened closed individual account revolving charge balance company named claims appear credit report making inaccurate derogatory remarks violation fair reporting act inaccurately owe dollars failed show item service purchased paid name address telephone number social security via debit card cash money order etc form payment must submit consumer finance file relating matter positively identify person conducted business identified owner debt remark removed based following continued beyond statute limitation without license collect operate current home state signed authorized document hiring soliciting services purchasing alleged owed another consent collection original provider product notifying phone make aware thus submitted transaction items correct spelling reside contracting provide full information identifying said\n",
      "\t1: Payday loan, title loan, or personal loan\n",
      "\t\t-conf declined car loan app date list principal reasons credit denial follows income insufficient meet obligation make per year lexisnexis owned home since specifically lists agency providing info influenced decision reject application also obtained score risk solutions used making number reflects information consumer report change depending changes scores range low high key factors adversely affected eviction record found inquiries last months sources confirming identity current address waited days receive lexis nexis full could request usps mail disputed incorrect email another response snail find damaging data reporting remain even though supplied numerous documents proving attached communication evidence creditworthiness preventing obtaining sued damage recklessly causing\n",
      "  Cluster nr: 13\n",
      "\t2: Credit reporting, credit repair services, or other personal consumer reports\n",
      "\t\t-tenant company years ago conf lease ended date one notified regarding renewal placed month lived apartment year contacted back message left machine twice continued live home begin bed bugs well mold livable kids gotten sick take time school work tried contacting response premises charged fees credit attempted contact numerous times clue applied days called today\n",
      "\t\t-complaint filing result ongoing pmi deletion request suntrust mortgage followed guidelines submit receive timely appraisal however firmly disagreed good cause value home meet loan speaking woman appraised house admitted missed key comp would valued much higher qualify asked rebut finding bank redo since written letters spoke multiple agents blown case denied fact based information closed essentially pushed around want admit error could potentially\n",
      "\t2: Debt collection\n",
      "\t\t-believe got discriminated taken advantage conf back took home equity loan explained terms officer lied mislead think regular fact years paying paid line gone legal never one interest going high go young naive called bank occasion try resolve done nothing please help look statement tell take money apply office told would happen pay life time\n",
      "\t\t-trying get pmi removed last years according loan profile requirement ltv reached ago tried every year rid give new set requirements documents says wells fargo require appraisal broker opinion one affiliates pay credit history conf customer others never late single payments go low estimate still comes higher asked repeatedly documentation signed closing states agreed affiliate unable produce meet however refinance\n",
      "\t1: Credit card or prepaid card\n",
      "\t\t-notified company cps recent accident date car pretty significant damages currently taking driver court paying loan insurance also around conf would need extension go back work granted day states anything due found today vehicle repo repair shop received phone stating going happen notice even option done needed prevent especially dealing auto prop damage case\n",
      "  Cluster nr: 0\n",
      "\t1: Payday loan, title loan, or personal loan\n",
      "\t\t-date filed dispute conf account still reflecting open outstanding balance property previously sold mortgage paid full received results new rez reported loan foreclosed closed information incorrect never late ever foreclosure indicated reach regarding call refused assistance advised nothing willing offered file another take days middle purchasing home inaccuracy may cause get applying\n",
      "\t1: Debt collection\n",
      "\t\t-id found allegedly outstanding federal student loan owing estimated conf requested paperwork proof considered even setting type payment plan asked send two people act pushed give bank account information prior reviewing confirmed physical address phone number please wait everything accurate call back set given said around pt received message left recorded screenshot\n",
      "\t1: Credit reporting, credit repair services, or other personal consumer reports\n",
      "\t\t-may concern looking credit report noticed errors reports experian conf personal information minds names address live presently last years havent loans dollars starting another one accounts seven keep appearing\n",
      "\t1: Checking or savings account\n",
      "\t\t-entered dispute bk removed credit file previously new law effective date public record data must include name address well ssn dob order appear bureau verify court share information companies updated per bankruptcy listed deleted\n",
      "  Cluster nr: 10\n",
      "\t9: Credit reporting, credit repair services, or other personal consumer reports\n",
      "\t\t-noticed someone using information making unauthorized hard inquiries fraud list conf\n",
      "\t\t-contacted wells fargo home mortgage several times requesting copies monthly billing statements years date also requested copy irs form conf issue failed\n",
      "\t\t-following accounts reported credit file due identity theft absolutely knowledge mines therefore asking removed immediately concert laws fcra demanding blocked conf\n",
      "\t\t-found information credit report notified via mail phone otherwise currently conf pay insurance paid\n",
      "\t\t-situations going credit file addresses need updated name conf address oh please delete remove following date would like new report sent information correctly\n",
      "\t\t-listed accounts appears credit report belong given anyone access nanny personal information apply cards loans name conf amount opened date us dept education\n",
      "\t\t-sued court collection account documents owe debt credit bureau remove report\n",
      "\t\t-experian keeps adding fraud alert banks get told quit\n",
      "\t\t-aware could dispute validity debt\n",
      "\t4: Debt collection\n",
      "\t\t-conf refuses initiate disputes line continues list fraudulent information credit report\n",
      "\t\t-sent letter via certified mail company failed comply according fcra guidelines respond within days\n",
      "\t\t-sent inaccurate formation\n",
      "\t\t-collection credit report result fraudulent charges aware card used never addition placed freezes three bureaus extra protection get everything sorted\n",
      "\t2: Checking or savings account\n",
      "\t\t-would like fraud alerts removed credit report\n",
      "\t\t-many mistakes appear report without understanding\n",
      "\t1: Vehicle loan or lease\n",
      "\t\t-sent certified letters via mail time requesting false information removed credit report able verify debt belongs one responded honored request\n",
      "\t1: Credit card or prepaid card\n",
      "\t\t-recognize account never applied contracts agreements company\n",
      "\t1: Mortgage\n",
      "\t\t-victim identity theft filed dispute companies hard credit inquiry didnt come report conf card name well remove anything\n",
      "\t1: Student loan\n",
      "\t\t-several items reporting credit file belong result identity theft conf agencies please remove unauthorized inquiries\n",
      "\t1: Payday loan, title loan, or personal loan\n",
      "\t\t-victim identity theft\n",
      "  Cluster nr: 3\n",
      "\t2: Debt collection\n",
      "\t\t-originally applied approved time thought paying loan insane wife decided roughly around date conf go submitted application provided information ssid banking etc payment breakdown e signed contract said call number finish process collected minutes informed exact payments cycle challenged discrepancy supervisor hung personal\n",
      "\t\t-divorce ex wife continued obtain new credit name disputed many accounts address alias appear bureaus respond need proof names ever gone debt despite going police stopped filing complaints local law nothing changes helps score low im really stuck ca even buy car without interest insane\n",
      "\t1: Credit reporting, credit repair services, or other personal consumer reports\n",
      "\t\t-attached inquiry conf submitted experian twice removed still report nothing help remove said problem pay month use credit services get problems like let anyone post anything reports taken major time consuming issue even letters proving\n",
      "  Cluster nr: 9\n",
      "\t2: Debt collection\n",
      "\t\t-commonwealth financial conf pa company continues report inaccurate unverifiable information noticed account balance reappearing changed change date opened appears recent currently reporting seen many times collections open requested removed progress response violation needs immediately\n",
      "\t\t-complained item credit file equifax mailed quick response dated date way investigation completed length time originated apartment complex removed based instead bought sold staying negative belong\n",
      "\t2: Credit reporting, credit repair services, or other personal consumer reports\n",
      "\t\t-old car repossessed became unemployed sold debt paid credit report showing still full balance amount purchased vehicle account charged poor standing reflect closed since\n",
      "\t\t-company mentioned sold collection conf another negotiated paid collections still report showing balance tried disputing bureaus gotten balances changed effecting ability get best interest rates home please help\n",
      "\t1: Checking or savings account\n",
      "\t\t-loan conf transferred nationstar mortgage mr coopeconf keep faxing balance reduction modification saying approved yes regular see letter cooper still doenst want reduce keeps need send state federal authorities least make aware since proof\n",
      "  Cluster nr: 2\n",
      "\t3: Credit reporting, credit repair services, or other personal consumer reports\n",
      "\t\t-bank america representative changed debit card number called company issue replacement advised rep several times cancel current take conf need well listen soon got phone removed go four days without could access funds lot items food totally put told would bill pay cancelled set unacceptable knew going allowed needed nothing done one talked try correct\n",
      "\t\t-violation fair debt collection practices validation debts submitted certified letters dispute cedar financial conf date know tracking received time however heard company every month raise balance supposedly owed several months gather information regarding proper\n",
      "\t\t-accident date car totaled contacted chrysler capital find handle balance left told anything due time tried several times take care kept getting response moved months went hear buy another account reporting inaccurate information sent letter see could get straightened received pay money owe minus late fees would like cleared given total claim completed paid\n",
      "\t1: Student loan\n",
      "\t\t-incredibly inconsistent importantly incorrect reporting behalf three mentioned agencies transunion particular lesser extent conf even chief problem debt accounts classified incorrectly causing weighting fico score massively inaccurate across board blatantly evident incredible amount variance range values last decade tirelessly fruitlessly accord contested inaccuracies time little avail resort reach\n",
      "  Cluster nr: 7\n",
      "\t1: Debt collection\n",
      "\t\t-b stonewalling sending release lien property following final payoff want details contacted someone assigned expedite return bank document may go media necessary thirty day period elapsed\n",
      "\t1: Vehicle loan or lease\n",
      "\t\t-signed contract portfolio recovery associates never business company liable collection debts reporting credit reports responsible licensed collect state california per told attorney\n",
      "  Cluster nr: 6\n",
      "\t1: Credit reporting, credit repair services, or other personal consumer reports\n",
      "\t\t-fay servicing lender mortgage loan conf continually delayed posting payments account month far charged two late fees fact payment arrived time prior use bank bill payer service send guaranteed delivery date delays post based day receive mail waits several days recent sent fee feel unjust said refund acceptable\n",
      "\t1: Credit card or prepaid card\n",
      "\t\t-event unrelated company missing payment however past due minimum disclosed billing statement module made date applied delinquency reported consumer credit reporting agencies requested delinquent comment removed\n",
      "  Cluster nr: 12\n",
      "\t1: Credit reporting, credit repair services, or other personal consumer reports\n",
      "\t\t-date letter sent conf regarding debt owed proceeded contact funding mail second time mine respond information requested received indicating credit line card concern claimed would eligible approved company claiming owe want account mentioned removed report immediately\n"
     ],
     "name": "stdout"
    }
   ]
  },
  {
   "cell_type": "code",
   "metadata": {
    "colab": {
     "base_uri": "https://localhost:8080/"
    },
    "id": "ld0s5V4b3yqG",
    "outputId": "c25d58c1-e2de-411c-9d85-4adc24bd3058"
   },
   "source": [
    "jac_pred = KMed_jac.predict(KMed_X_test)\n",
    "print_cluster(KMed_y_test, jac_pred, KMed_X_test,'JACCARD')"
   ],
   "execution_count": 90,
   "outputs": [
    {
     "output_type": "stream",
     "text": [
      "JACCARD\n",
      "  Cluster nr: 0\n",
      "\t47: Credit reporting, credit repair services, or other personal consumer reports\n",
      "\t\t-contract date year conf term apr payment amount financed original finance charge note problem follows made large four times asked pay extra money towards principal never done adjust refused see states per cent annually however found also day equals top interest predatory loan stated car asking credited account taken life\n",
      "\t\t-took loan conf understand terms since documents give dont read write told said juat sigh moved hard time paying got better job refused take payments use inappropriate language talk inappropriately made lots attempts make guy actually sent small payment least would send back every try call someone else tell one believe attempt get money kept charging fees able pay\n",
      "\t\t-conf credit card account cc current financial hardship came date began working paid amounts enough income continue paying minimum due keep time debt incurred approximately give take dollars contacted inform able pay continued hound still could closed add fees informed trying catch sold collection agency named pca acquisitions v llc company legal team suing amount way local county georgia magistrate court answered spoke representative consider back charges charged asking ftc please assist refuse hounded system occur part staying touch situation history shows willing family emergency reduce work written letters last year referring also law firm agreed month hear send payment\n",
      "\t\t-tenant company years ago conf lease ended date one notified regarding renewal placed month lived apartment year contacted back message left machine twice continued live home begin bed bugs well mold livable kids gotten sick take time school work tried contacting response premises charged fees credit attempted contact numerous times clue applied days called today\n",
      "\t\t-account american express credit cards months line since opening balance payments exceeded minimum monthly payment due paid prior date late ever received email informing lowered reason replied feedback link sent wanted explained completely uncalled unfair business practice additionally asked file appeal process works response would like looked please never missed accounts\n",
      "\t\t-midland credit management scam company tries collect debt way past statute limitations owe nothing bought state much postal correspondence actually write sue paying wo go report none anyway even guys ten year old somehow got phone number really like know call every morning answer hang leave message called back different told agreed date would add list today hung answered wanted last four social verification already name said giving anything stop calling criminals everything wrong collection practices constitutes harassment\n",
      "\t\t-account conf sold turned collection contacted work telling could speak time proceeded call right back hours called ms requested written documentation debt attempting collect mailed told going mail anything owed proceeding verify employment sue hung asked manager available proceed legal action\n",
      "\t\t-equifax sent credit file date submitted next day disputes resubmitted notified original results filled ftc local authorities creditors companies conf already finished items removed report load complaint confirmation fax certified mail received office faxed us post letter called numerous times disbelief whereabouts personal documents identity theft victim seems like happening thirty days said today repeatedly incomplete information via still furnishing incorrect turned jobs waited interview six months previously lost due could informed future employer would permitted later job well able receive state assistance apply services goods basic living situation turmoil worse everything fix effects run unfair reporting rights think true read fcra notice furnishers obligations frca e really feel violated although sure knew right thing contact cfpd another yet replied hope take seriously reply notify protect secure paid send matter serious involves afraid moment wrong hands past events within company respectfully need help please\n",
      "\t\t-home caught fire date relocated temporary housing applied month forbearance received payments misapplied past due tried point fact pay nothing done instead able go modification closed account loss mitigation department loan time foreclosure process started submitted emailed documents required even though previous still valid one representative kept insisting send divorce house purchased asking bank accounts contractor since money moving back forth draft trying obtain statements another party loaned banked finally got resolved file review days contacted told answer pending waited weeks thing two months later get notice sale set called complained cfpb guidelines could place postponed informed needed find status said response went approved escrow fees adding causing damage found actually reinstate mortgage reinstatement letter would help telling chfa call leave messages spoke number agents collections refused someone internally passing respond today attorney conf anyone assist intent cure public trustee full payoff paying want bring current put numbers together take risk losing mishandling refusing quote\n",
      "\t\t-accounts listed reflect correct transactions done personal sworn statement declaration declare penalty perjury laws united states executed outside conf foregoing true best knowledge furthermore certify permitted federal state law follow dispute also understand knowing willful misstatement omissions material facts constitutes criminal violation punishable additionally misstatements items found within credit report following pages related transaction made alleging person company used identifying information apply goods services money successful creating filed formal trade commission attached letter addition corresponded agencies creditors respective cooperative guided point taking step write directly reserve right delete block im requesting want make clear making request error misrepresented allegations aforementioned obtain result attempted file police informed county constitute emergency wouldnt didnt individual know wrongfully personally thank time review grievance look forward continued assistance security included identification another page please kindly fcra unverified must removed unable provide copy verifiable proof remove demand verified immediately rebuttal notation accuser failed evidence either injurious derogatory claims validity documented certification compliance reporting mandatory condition\n",
      "\t\t-fedloan servicing biggest joke organization lost mishandled submitted paperwork miscalculated income multiple times even spoke fix problem given information everytime ive called dont seem comprehend law enforcement overtimes details guaranteed money reflected determing new year loan payment spoken plenty make said base payments pay every time explained goes right head ask recalculate tell may suffer interest turn credit effected daft beyond penalized thing honest absolutely unfair unprofessional tried signing driven public worker student loans theyve paper aka twice already trust short answer cant stealing pretending theyre blind incompetence\n",
      "\t\t-complaint filing result ongoing pmi deletion request suntrust mortgage followed guidelines submit receive timely appraisal however firmly disagreed good cause value home meet loan speaking woman appraised house admitted missed key comp would valued much higher qualify asked rebut finding bank redo since written letters spoke multiple agents blown case denied fact based information closed essentially pushed around want admit error could potentially\n",
      "\t\t-date noticed new collection showing conf credit report called find stated water bill home texas live recall never received proper notice debt asked address sent ironically services provided course moved california agreed pay remove account well updated still showed owed balance even disputed verified accurate paid instead argued deleted told take creditor collections unlimited times everytime pressed operator kept getting looped back main menu able get person phone choice ask cfpb help resolving matter\n",
      "\t\t-conf account years ago due divorce unable pay bill completely paying got money never stop totally contacted told sent collection agency reached amount stated owed incorrect ask specific information letter basic number original date waited thinking would give agreement payment history followed another responded saying respond duplicate see reason requested asking came credit bureaus reporting something different definitely know wrong ad trying debt refuse owe understand personal issue still responsible documentation\n",
      "\t\t-wife conf date discovered papers visa gift card amount expired contacted name financial institution back nka first call directed take branch bank good cash search nearest agent phone access information searched online live called see way handle transaction mail next advised funds longer available asked address could make claim complaint writing put hold find disconnected understand fine print states monthly administration fee waived months month following activation deducted balance except prohibited law fundamentally wrong cost minimum earning interest money individual purchased paid front activated filing significant unless one considers accumulates cards anything paying\n",
      "\t\t-credit reporting way car loan company handled vehicle financed totaled insurance pay paid could except finance site said need make payment date knew something every check getting lump sum end conf confbeginning would able called explained situation told beginning promised went onto account get sent collections missed whole time always resent fact little guy honest gets real criminals away everything score dropped quite bit worked hard keep good write showing jus unethical since made feel right another agency look received paperwork saying responsible things reported know true tell bureau put kind information report also affected son trying build wish specific spent months without fighting point frustrated\n",
      "\t\t-contacted united collections bureau make monthly payment agreed today date concern type questions representative asked information tried collect particularly way initially verify identity requesting name address without informing next required part security proceeded piggyback right ask worked husband needed told creditor hired requested made distinction whatsoever said purposes gave indication format clued verifying already clarifying gathering new know never provided like ucbi convinced trying gather duplicitous manner challenged giving voluntary claimed one stopped asking would clear personal coercive aware option provide presented necessary verification volunteering implied complete transaction legally need offer payments line bills billing stubs addressed envelopes debtor makes decision pay partial pretty much limits options calling debt phone feel privacy risk due dubious collection second complaint multiple times call going entire amount paying pushed matter several last tax refund get something close exact wording interested conf discussing since beginning whole repeated attempts dig ie form harassment stepped collecting offered attempting push financial situation judgement calls whether could time prevent audacious sneaky obtrusive conversation attempt exposed invasive technique aggressiveness every may go legal council mentioned reasonable concerns coerced knowledge cause harm continue pressured reproved try installments instead bill full want ever allow company beyond law requires confirm agree representatives life see find pressure afford business judge getting big medical sent still recovering treatment contact sort plan misinformation unaware steps taken insufficient timely mere days completely caught guard even concerning harassing person dealing put possible step within means taking advantage vulnerable position concerned using\n",
      "\t\t-may concern looking credit report noticed errors reports experian conf personal information minds names address live presently last years havent loans dollars starting another one accounts seven keep appearing\n",
      "\t\t-recently reviewed credit report found unauthorized transunion certified letter via usps tracking number conf received date included inquiries contacted creditors proof initiated written authorization failed provide permissible purpose since verbal ask delete immediately evidence according section fair reporting act purposes consumer reports code general subject subsection e agency may furnish following circumstances f otherwise legitimate business need information connection transaction paragraph treatment inaccurate unverifiable investigation disputed item incomplete verified promptly gave given enough experian removed governed\n",
      "\t\t-bank america representative changed debit card number called company issue replacement advised rep several times cancel current take conf need well listen soon got phone removed go four days without could access funds lot items food totally put told would bill pay cancelled set unacceptable knew going allowed needed nothing done one talked try correct\n",
      "\t\t-put letter fraud hard inquiries authorized made date conf jc penny got back saying ip address unaware used applications told customer service submit basically implying make inquires accurate every attempt call person spoken need rep resolve matter want credit score effected something mail women left messages spoke others synchonry keep getting run around years feel fair act reversed since idea due respect happened clearly stated attempts never said calls someone please finally help nightmare\n",
      "\t\t-violation fair debt collection practices validation debts submitted certified letters dispute cedar financial conf date know tracking received time however heard company every month raise balance supposedly owed several months gather information regarding proper\n",
      "\t\t-may concern reason dispute conf required notify later days furnishing negative information credit bureau reports writing section subsection however records unable locate documentation complied requirement violation fcra fdcpa also failed give five prior placing derogatory item per validations date send initial communication alleged violating held liable well defamation state ohio indebtedness creditors individual debtor fail see compliance law report account ftc police need collection removed even tried contact regarding please remove immediately\n",
      "\t\t-noticed someone using information making unauthorized hard inquiries fraud list conf\n",
      "\t\t-ongoing situation filed everything proper authorities ftc conf police cfpb personal information comprised someone using id ss open account utilities name lived ohio years pursuant fair debt collection practices act section hereby notified cease desist communication regarding referenced failure abide law result complaint federal trade commission attorney general state mine also company management right file suit future violations record phone calls fail comply\n",
      "\t\t-learned date usaa credit card application initiated approved using member number conf name individual account open required know ever reported monthly income accurate unaware access different limit opened jointly without knowledge consent records show change address confconf va used day new drug purchases initial attached rx prescription drugs purchased florida total addition highly suspicious balance transfer unknown cash advances joint years first closed fraudulent activity associated veteran check sent part\n",
      "\t\t-matter involves paypal administering discharging duties customer account ledger balance returning funds upon closure attempted resolve issue several times avail complaint return back remain sought close accounts instead instructed option donate said charity chose made little sense money stated way closer would essentially disregarded find permissible arbitrarily speaking financial bank institution case electronic establishment able deposit remaining transfer another holder insists privileges serious allegation company numerous associated name ein\n",
      "\t\t-old car repossessed became unemployed sold debt paid credit report showing still full balance amount purchased vehicle account charged poor standing reflect closed since\n",
      "\t\t-date personally opened barclay card conf rewards ended purpose obtain new laptop cost made purchases activity related ending making monthly initial plan paid per month order get within months deferred interest everything full discovered identity stolen several credit cards loans taken name immediately took action put freeze early good amount things clean lot removed fraudulent occurred received notice regards lawsuit bank called eventually push collection agency handling dealing balance talk reported fraud theft waited two weeks send paperwork filled mailed week later stating denied claim still owe due came directly department requested statements following three different accounts never could tell one used current cash advances transfers late complaint follows ever account limit knowledge also well continues move court hearing future give explanation internal collections contacted contact notification violated act see attached first payment fee charge according fees aware rules without prior authorization noted added nearly actions suspicious started unable explain provide records allow double call type way wrong phone number file went claims advance check signed able copy signature material facts majority open period march yet exact\n",
      "\t\t-contacted wells fargo home mortgage several times requesting copies monthly billing statements years date also requested copy irs form conf issue failed\n",
      "\t\t-worst experience ever discontinued conf business account almost years ago never received bill call correspondence currently cell service moved changed addresses still collection letter husband began home buying process told amsher sitting credit totally confused lack communication placing date called phone number report law office resolve matter would speak reporting resolved mastercard take days could anything payment send debt resolution back inquire look got rudely update settled instead paid delete together waited day rep named closed inquired situation said already notified status spoke additional information one remove put manager time frustrated runaround tried strongly suggestive hold came say spoken rude explained contract provide everything needed including get word interrupted hung another hear people background laughing became extremely asked stated since want going ended calling complain higher refusal assist bureau help lied notification wait usually takes ask questions cut friday see done reports\n",
      "\t\t-following accounts reported credit file due identity theft absolutely knowledge mines therefore asking removed immediately concert laws fcra demanding blocked conf\n",
      "\t\t-conf date datesomeone fraudulently opened credit cards name put lock reports unlocked could apply store card thru told would approximately hours applied later denied comenity bank said need wait least difference agency banks policy locked ca reapply days initially waited fine one time information reporting agencies consumer punished protecting lifting applying within different communicate longer period dictated excellent debt ratio job money protect good\n",
      "\t\t-fay servicing lender mortgage loan conf continually delayed posting payments account month far charged two late fees fact payment arrived time prior use bank bill payer service send guaranteed delivery date delays post based day receive mail waits several days recent sent fee feel unjust said refund acceptable\n",
      "\t\t-company mentioned sold collection conf another negotiated paid collections still report showing balance tried disputing bureaus gotten balances changed effecting ability get best interest rates home please help\n",
      "\t\t-found information credit report notified via mail phone otherwise currently conf pay insurance paid\n",
      "\t\t-situations going credit file addresses need updated name conf address oh please delete remove following date would like new report sent information correctly\n",
      "\t\t-date letter sent conf regarding debt owed proceeded contact funding mail second time mine respond information requested received indicating credit line card concern claimed would eligible approved company claiming owe want account mentioned removed report immediately\n",
      "\t\t-charge promotion made conf different payment structure utilize mobile app pay shows balance alert multiple transactions structures must call company allocate balances displayed separately one payments monthly based minimum however unknown divided resulting transaction promotional interest deferment paid expiration date addition added bill thinking paying bit quicker extra amount barely covering continues accrue completely confusing unfair customers diligently seems deceiving information available application rationale seen website counter reasoning also told could set alerts future asked assistance find offered allow today would totaling almost helpful\n",
      "\t\t-register account transferwise company use service international transfer conf date registration completed set amount complete top around usd money wise private deactivated cancel block send email questions access answer inform following regulation investigation process find reason may take days cancelled request get back name practice stealing however tw ask number proff ownership tour guide carry kinds documents due procedures doubt legal law wait till received differences less wrote clarify said hello thanks response funds swift hence processed refund using payment method please note payments incur extra charges intermediary banks well receiving bank charge fee unfortunately aware control fees case read hope explains let us know happy help best regards today receive services ordered blocked stuff informed regulations unknown reasons refusing lower dateusd\n",
      "\t\t-listed accounts appears credit report belong given anyone access nanny personal information apply cards loans name conf amount opened date us dept education\n",
      "\t\t-accounts added created unbeknownst notice concern hold accountable accuse complicity exercise malevolent hereby mark likely one might day view civil discord would plaintiffs yet declare unjust claim met deliberate determined resistance counteraction clarity debt collection insufficient collections much less reporting must delete injurious allegation significantly deficient requisite certified compliance perfect metro format testimonial evidence physically verifiable proof validation related full truth accuracy completeness timeliness ownership identity true debtor dates balances audits calculations source codes creditor code statement associated trailing fragments minimal five portioned personal identifiers pay statuses required confirmation elsewise standard mandatory proper mentioned although checking addressing missing aspects compliances contesting compliant nature make aware since unlawful transitions equally complaint circumstance still validated document fact standards announced legally knowledge validity alleged claims delinquency derogatory certifiably matter either attempts despite previous consumer filed composed complaints known especially shall elect take court pursued particularly defined precisely certifiable manner detailed obeyed federal state regulations noted said include limited fcba fcra hipaa privacy rule facta fdcpa tcpa etc additionally entity acts collector also elects act party credit well adhere every single even regulatory requisites legal standing accordance laws accepted date plaintiff failed demonstrate capacity willingness validate certify fair accurate complete display given recent breaches information repositories hesitating readily accept presented without legitimate deny nothing reserve right question unproven call reject untrue unverified incomplete otherwise invalid thereby dischargeable requirement dismissed demand resolution today accords statutes received ever entering contractual relationship forward ies allegedly issued defaulted line accusations similar repeated calls accusers adequately acquired permissible purpose exactly individual irrefutably identified acknowledgement parties form knowingly acknowledging unknowingly owe proven compliantly reported written declaration testimony factual obvious allegations clear subterfuge willful disregard ethical practices done ignorance behavior efforts vile derelict unjustly doubt dismissal discharge misreported delinquencies undeniably unfairly lodged versus receiving facts account items delinquent actions reiterate called present correct documentation rights collect report let optional mute law open submitted adequate genesis inability prove application agreement contract describing inherently makes whole summons request resolve immediate eradication charge rectification appropriate stands complaining unethically illegally absolute deficiency applicable unwillingness timely fully preference stand authority integrity ensure correctness responsibility\n",
      "\t\t-attached inquiry conf submitted experian twice removed still report nothing help remove said problem pay month use credit services get problems like let anyone post anything reports taken major time consuming issue even letters proving\n",
      "\t\t-sued court collection account documents owe debt credit bureau remove report\n",
      "\t\t-accident date car totaled contacted chrysler capital find handle balance left told anything due time tried several times take care kept getting response moved months went hear buy another account reporting inaccurate information sent letter see could get straightened received pay money owe minus late fees would like cleared given total claim completed paid\n",
      "\t\t-experian keeps adding fraud alert banks get told quit\n",
      "\t\t-aware could dispute validity debt\n",
      "\t25: Debt collection\n",
      "\t\t-date filed complaint conf resolved favorably resolution account closed payments backdated credit reports remove late references updated immediately transunion report new day changed letter included payment history contradicts reporting also reported consumer finance file even delinquent stated\n",
      "\t\t-thre e main credit bureaus accurate information reports impossible reach either though individual sites well contact numbers provide due inaccurate fico scores decline specific given two issues incorrect show installment loan according models hurts score fact auto showed last year reason fail also debit balance card impacted basis points appears looked much better reporting track provided several times month often receive notice calling get tree allow representative thus low able gain favorable mortgage rate frustrated profit long remember assistance would greatly appreciated\n",
      "\t\t-conf refuses initiate disputes line continues list fraudulent information credit report\n",
      "\t\t-id found allegedly outstanding federal student loan owing estimated conf requested paperwork proof considered even setting type payment plan asked send two people act pushed give bank account information prior reviewing confirmed physical address phone number please wait everything accurate call back set given said around pt received message left recorded screenshot\n",
      "\t\t-back date financed car conf toll didnt put money except pay start full coverage insurance believe paid something dollars ok discussed monthly payments signed finished left new even week later wanted go online see adding renters got apartment login information incorrect reason called customer service wrong birth account changed updated said would change rate month could afford told want use anymore went somewhere else billed made mistake messed allowed keep things might different\n",
      "\t\t-originally applied approved time thought paying loan insane wife decided roughly around date conf go submitted application provided information ssid banking etc payment breakdown e signed contract said call number finish process collected minutes informed exact payments cycle challenged discrepancy supervisor hung personal\n",
      "\t\t-started company seterus took loan conf time nothing put first one payment applied escrow account sent cfpb information date reference number said going fix correct numerous times faxing papers showing payments till day still getting harass already receive even copies sold another named whole mess informing make misapplying previous earlier believe lie fixing know made go though costing money send really need help hire legal please advise thank person talk inform like screwing get\n",
      "\t\t-sent letter via certified mail company failed comply according fcra guidelines respond within days\n",
      "\t\t-believe got discriminated taken advantage conf back took home equity loan explained terms officer lied mislead think regular fact years paying paid line gone legal never one interest going high go young naive called bank occasion try resolve done nothing please help look statement tell take money apply office told would happen pay life time\n",
      "\t\t-harvard collections department human services debt payment foodstamps paid subtracting benefits wrote disputed amount company requested paperwork along itemized schedule owe sole owner reviewing reports specific location sign foodstamp program host employees caught collecting clients expense ask proof paper call sudden claim deleted taken credit report since respond many request case fraudulent matter love fact collection drop like explanations right make mistake confirmation detail overpayment rectify situation\n",
      "\t\t-complaint written reference midwest recovery system llc acct conf listed major credit reports illegally regards collecting debt owe sent request validation via usps certified return receipt requested beginning receive response according fair collection practices act must true accurate company place name systems without original creditor attempting collect false funds misapplied payments may understanding checking account back close due limited supply branches wanted join bank bigger however leave outstanding balance neither ever inform years since banked trying resolve matter amicably failure comply ftc regulations regarding reporting result small claims legal action local venue seeking minimum damages defamation negligent enablement identity fraud violation including section required appear court order formally defend notice attempt correct records information received collected evidence necessary cease illegal removal immediately similar case agency took awarded urgent require immediate attention prepared file judgement maintaining careful record communication purposes dependent upon detailing potential issues online public press release documentation valid statue limitation sol expires state another charges\n",
      "\t\t-commonwealth financial conf pa company continues report inaccurate unverifiable information noticed account balance reappearing changed change date opened appears recent currently reporting seen many times collections open requested removed progress response violation needs immediately\n",
      "\t\t-going back forth navient well dirty tactic collection firm named conf per courts reps spoken currently private student loans showing record pulled credit union court based judgements even though worked get corrected spoke rep executive services office supposedly records illegally garnished almost years lifted finally pulling told would none things happened still unable defend mine listing said never served papers order given day force prove failed live promise fulfil consistently state terms throw complaints unfair pushed follow forced join class action lawsuit lying practices want causing buy mothers home offered irrefutable damage\n",
      "\t\t-trying deal conf last years unhelpful give realistic options help paying student loan back know took plan way seem work would rather see starve family worried getting payment make think go college take advantage young kids cheats need pay harass year old grandfather time nice enough cosign loans call numerous times even told finally set months come find applied four failed mention also two behind clue making get situation researching online large number every result needs stopped company\n",
      "\t\t-conf heights finance office lies consumers law terms ther contract tries bully additional commitments first interest rate greater told took loan second payments due month day two late past never notified payment would days make informed could skip made phone maturation date moved later want another high rates come miles away good faith visit today legal said part agreement disagreed pointing nowhere paperwork going call every got money reminded point calling constitute harrassment pay regular fee whether liked unless came called several times since answered ignored back hoping better interaction within report credit bureau needed immedately avoid damaged already legally wrong right true know angry voice advance predatory lender particular rude dishonest concerned vindictively damage ever\n",
      "\t\t-b stonewalling sending release lien property following final payoff want details contacted someone assigned expedite return bank document may go media necessary thirty day period elapsed\n",
      "\t\t-first citizens bank construction loan date conf grading new home completed filed lien county clerk superior court manager nc branch managed facilitate closing attached satisfied knowledge prior told officer could closed outstanding paid suspect homeowner committed fraudulent felony act forging signature banker made attempts conceal even asked former sign agreement resigned noted general contractor also perfected lawsuit pending civil consulted attorney perfecting afford proceed action regardless taken place want work\n",
      "\t\t-divorce ex wife continued obtain new credit name disputed many accounts address alias appear bureaus respond need proof names ever gone debt despite going police stopped filing complaints local law nothing changes helps score low im really stuck ca even buy car without interest insane\n",
      "\t\t-complained item credit file equifax mailed quick response dated date way investigation completed length time originated apartment complex removed based instead bought sold staying negative belong\n",
      "\t\t-opened credit card account conf year ago never sent billing statement phone conversations almost monthly since first cycle explaining im receiving statements represtaives spoke told late fees would removed wouldnt need make another payment two months yet receive call next month stating past due explained received made representative said waive send spoken serveral supervisors resolve issue remove remark report done called back speak supervisor date correct issues failed contact result rep allow recently finally able get corporate office fax showed total charged refusing also remarks unless pay balance includes fact bill practice unethical appreciate help resolving\n",
      "\t\t-sent inaccurate formation\n",
      "\t\t-trying get pmi removed last years according loan profile requirement ltv reached ago tried every year rid give new set requirements documents says wells fargo require appraisal broker opinion one affiliates pay credit history conf customer others never late single payments go low estimate still comes higher asked repeatedly documentation signed closing states agreed affiliate unable produce meet however refinance\n",
      "\t\t-collection credit report result fraudulent charges aware card used never addition placed freezes three bureaus extra protection get everything sorted\n",
      "\t\t-requested transunion conf send proof method verification used report bankruptcy credit agencies knowingly provided false information therefore violation fair reporting act attaching also originally asked verify listed furnisher court house prior dispute writing profile frozen following investigation cfpb changed furnishor account county parties violations disclosures consumers procedure case disputed accuracy obtaining pretenses courts third like\n",
      "\t\t-initiated mortgage application refinance primary property purchased conf day closing loan officer shows pay roundpoint servicing trying paid taxes tax proration purchase closed owed plus following year due date county treasures website previous entire calling roundpoints customer service line essentially said allowed charge want without providing written notice kept stating sent letter mail saying within days would force escrow stated towards end check verify office today close delayed update payoff removing irresponsible front agent rude disrespectful supervisor upon initial call well wanted talk circles contractual right money responsible make sure irresponsibly fees customers attaching never received also receipt lastly requested\n",
      "\t9: Credit card or prepaid card\n",
      "\t\t-date returned leased car conf dealership ca last day lease even called let know required fast forward received update notification regards credit report checking realized false delinquency generated checked account online find charged monthly beyond official end contract numerous mean calls emails lots stress provided different information department transfers multiple occasions held long hold hung nearly two weeks got rid reported balance promised also fix wrong experian never delivered ultimately asked file dispute denied think anything help scary disappointing causes companies much power influence life yet unorganized poorly run reach automatic charge whatever heard leasing returning like create financial disasters show anymore gotten rejection rentals etc events justice get penalized would easily punished send jail fail pay wear tear fair please resort attorney nobody takes case money shame thank\n",
      "\t\t-opened lowes credit card conf since charged paid multiple times last year increased limit decreased months date stating checked score ive requested increase back denied time payments report find constant checks intrusive also raising someones pay lower hindering dont feel legal right want looked many company raise allowed check customer paying bill never carries long would treat manner already charge extremely high interest\n",
      "\t\t-please advised second complaint final warning fully intend pursue litigation accordance fcra enforce rights seek relief recover monetary damages may entitled section regarding continued willful negligent noncompliance despite two written requests unverified items listed still remain credit report violation federal law required copy original creditors documentation file verify information mine correct results first investigation subsequent reinvestigation stated writing verified reported correctly accounts provided consumer contract signature furthermore failed provide method verification promptly delete clear civil liability remedy available fail comply litigious pursuing matter following conf\n",
      "\t\t-recognize account never applied contracts agreements company\n",
      "\t\t-amid several complaints department education federal student aid conf loan servicer abusive malicious tactics handling discharge new nelnet years taken tax refund without cause received notice irs finally mailed letter claiming responsible offset cal called friendly year submitted doctors statement section date lead discharged keep getting excuses saying illegible form incomplete making filed intent days submit forms netnet honor paperwork day grace period continue take returns us unlawfully mistreatment demand stop also return unfair poverty level inability repay income\n",
      "\t\t-notified company cps recent accident date car pretty significant damages currently taking driver court paying loan insurance also around conf would need extension go back work granted day states anything due found today vehicle repo repair shop received phone stating going happen notice even option done needed prevent especially dealing auto prop damage case\n",
      "\t\t-spent last month hospital conf illness thus checking accounts daily usual yesterday released checked chase bank account online horrified discover nearly overdrawn appeared overdraft entirely due three unauthorized charges charge dated date know company subscription box annual amount also charged unknown reason price single ships quarterly day tried contact via email telephone received response second two called absolutely relationship appears another involving clothing billed phone sent today around since client clear numerous disputes behalf unfortunately dealing serious identity theft issues five years desperately trying receive new social security number thankfully nothing helpful always issue provisional fee within hours remove fees incurred putting however spoke woman name refused credit items asked stated report posted could would open investigation replied never heard policy explained hospitalized unmoved problem told case going forced switch banks basically offered protection whatsoever clients fine hang supposed resting stress per doctors instead sheer overdue payment notices pay wondering make next week far food transportation doctor appointments etc near end please help\n",
      "\t\t-conf soc sec dob date address fl unauthorized credit inquiry dear know name person charge better letter formal notice cease hard inquiries making intomy report also demandfor immediately contact reporting agencies bureaus organization made history illegal inquiriesremoved advised checking reports ensure thefollowing taken line item details finance nquiry miscellaneous reptg automobile dealers banks auto financing florida best knowledge signed documents authorizing view violates thefair act section c transactions initiated consumer document believe authorizes make theaforementioned respectfully request copy itbe sent may verify validity given growing cases identitytheft sure agree verification protect event possess authorization haveremoved profiles remove mypersonal information records please send confirmation havecomplied requests thank sincerely\n",
      "\t\t-event unrelated company missing payment however past due minimum disclosed billing statement module made date applied delinquency reported consumer credit reporting agencies requested delinquent comment removed\n",
      "\t6: Checking or savings account\n",
      "\t\t-todays date attention dispute department midland fund conf company violated fcra f prohibition sale transfer debt caused identity theft responded request provide investigation report need resolve fair credit reporting act disputed items may appear supported evidence general person shall sell consideration place collection notified section title resulted applicability prohibitions subsection apply persons collecting described paragraph notification rule construction nothing construed prohibit repurchase case assignee requires b securitization pledging portfolio collateral connection borrowing c result merger acquisition purchase assumption transaction substantially assets entity furnishes information consumer agency reasonable procedures respond receives relating resulting prevent refurnishing blocked reference listed please take matter serious form record prepare sue example confelephone protection litigation district court southern stop proceedings signatures applications accounts investigators sec dob address lookout\n",
      "\t\t-would like fraud alerts removed credit report\n",
      "\t\t-loan conf transferred nationstar mortgage mr coopeconf keep faxing balance reduction modification saying approved yes regular see letter cooper still doenst want reduce keeps need send state federal authorities least make aware since proof\n",
      "\t\t-conf ia date reported opened closed individual account revolving charge balance company named claims appear credit report making inaccurate derogatory remarks violation fair reporting act inaccurately owe dollars failed show item service purchased paid name address telephone number social security via debit card cash money order etc form payment must submit consumer finance file relating matter positively identify person conducted business identified owner debt remark removed based following continued beyond statute limitation without license collect operate current home state signed authorized document hiring soliciting services purchasing alleged owed another consent collection original provider product notifying phone make aware thus submitted transaction items correct spelling reside contracting provide full information identifying said\n",
      "\t\t-entered dispute bk removed credit file previously new law effective date public record data must include name address well ssn dob order appear bureau verify court share information companies updated per bankruptcy listed deleted\n",
      "\t\t-many mistakes appear report without understanding\n",
      "\t5: Payday loan, title loan, or personal loan\n",
      "\t\t-date filed dispute conf account still reflecting open outstanding balance property previously sold mortgage paid full received results new rez reported loan foreclosed closed information incorrect never late ever foreclosure indicated reach regarding call refused assistance advised nothing willing offered file another take days middle purchasing home inaccuracy may cause get applying\n",
      "\t\t-due butched involvement institution denied charge instant cash withrawal citybank failed remove bill asked uphold federal laws disputed credit transaction assist complying claimed close account without approval opened second third adding new accounts completely contacted conf security division became nightmare ruge bank disseminates personal information foreign country duty comply us able anything customer citizen recourse demand attorney general review conducts assess highest fines available repeatedly violating\n",
      "\t\t-conf declined car loan app date list principal reasons credit denial follows income insufficient meet obligation make per year lexisnexis owned home since specifically lists agency providing info influenced decision reject application also obtained score risk solutions used making number reflects information consumer report change depending changes scores range low high key factors adversely affected eviction record found inquiries last months sources confirming identity current address waited days receive lexis nexis full could request usps mail disputed incorrect email another response snail find damaging data reporting remain even though supplied numerous documents proving attached communication evidence creditworthiness preventing obtaining sued damage recklessly causing\n",
      "\t\t-hello complaint three credit reporting companies experian conf noticed discrepencies report put freeze date notified agencies previously stated writtent letter dated requesting verifiy certain accounts showing bankruptcy bank account response verified third partner correct since one obtain anything unfreeze wrote second mailed telling lied said two question using called requested attempted access year told violation consumer rights demand removed immediately back stating talk never responded dateto plus days investigate claim expired checked states uses verify also please compnaies wrong party gives information attach tell fight get corrected dont impossible frozen items mention even respond investigation request\n",
      "\t\t-victim identity theft\n",
      "\t3: Student loan\n",
      "\t\t-accounts added created unbeknownst notice concern hold accountable accuse complicity exercise malevolent hereby mark likely one might day view civil discord would plaintiffs yet declare unjust claim met deliberate determined resistance counteraction clarity debt collection insufficient collections much less reporting must delete injurious allegation significantly deficient requisite certified compliance perfect conf format testimonial evidence physically verifiable proof validation related full truth accuracy completeness timeliness ownership identity true debtor dates balances audits calculations source codes creditor code statement associated trailing fragments minimal five portioned personal identifiers pay statuses required confirmation elsewise standard mandatory proper mentioned although checking addressing missing aspects compliances contesting compliant nature make aware since unlawful transitions equally complaint circumstance still validated document fact standards announced legally knowledge validity alleged claims delinquency derogatory certifiably matter either attempts despite previous consumer filed composed complaints known especially shall elect take court pursued particularly defined precisely certifiable manner detailed obeyed federal state regulations noted said include limited fcra hipaa privacy rule facta fdcpa tcpa etc additionally entity acts collector also elects act party credit well adhere every single even regulatory requisites legal standing accordance laws accepted date plaintiff failed demonstrate capacity willingness validate certify fair accurate complete display given recent breaches information repositories hesitating readily accept presented without legitimate deny nothing reserve right question unproven call reject untrue unverified incomplete otherwise invalid thereby dischargeable requirement dismissed demand resolution today accords statutes received ever entering contractual relationship forward ies allegedly issued defaulted line accusations similar repeated calls accusers adequately acquired permissible purpose exactly individual irrefutably identified acknowledgement parties form knowingly acknowledging unknowingly owe proven compliantly reported written declaration testimony factual obvious allegations clear subterfuge willful disregard ethical practices done ignorance behavior efforts vile derelict unjustly doubt dismissal discharge misreported delinquencies undeniably unfairly lodged versus receiving facts account items delinquent actions reiterate called present correct documentation rights collect report let optional mute law open submitted adequate genesis inability prove application agreement contract describing inherently makes whole summons request resolve immediate eradication charge rectification appropriate stands complaining unethically illegally absolute deficiency applicable unwillingness timely fully preference stand authority integrity ensure correctness responsibility\n",
      "\t\t-incredibly inconsistent importantly incorrect reporting behalf three mentioned agencies transunion particular lesser extent conf even chief problem debt accounts classified incorrectly causing weighting fico score massively inaccurate across board blatantly evident incredible amount variance range values last decade tirelessly fruitlessly accord contested inaccuracies time little avail resort reach\n",
      "\t\t-several items reporting credit file belong result identity theft conf agencies please remove unauthorized inquiries\n",
      "\t2: Mortgage\n",
      "\t\t-tired many problems bank closed account dont pay lawyer divorce impossible complaint ex husband file contacts conf called received check since almost months apartament unfortunately need find damages finances emotional would like copy checks deposit never return\n",
      "\t\t-victim identity theft filed dispute companies hard credit inquiry didnt come report conf card name well remove anything\n",
      "\t2: Vehicle loan or lease\n",
      "\t\t-sent certified letters via mail time requesting false information removed credit report able verify debt belongs one responded honored request\n",
      "\t\t-signed contract portfolio recovery associates never business company liable collection debts reporting credit reports responsible licensed collect state california per told attorney\n",
      "\t1: Money transfer, virtual currency, or money service\n",
      "\t\t-back date disputed account conf experian amount told validated debt valid however asked method verification representative spoke received generic answer violated fcra requested use instead verify contract signature site challenged never substantial information original signed consumer even time period research fair credit reporting act mandates bureaus report accurate validate confirm per fdcpa regulations following done sent copies written notice provided lienholders first class mail intent file repo title copy california form application repossession lien receipt actual reflecting lienholder state requires items listed obtain enabling sale unsuccessful providing request unable provide required proof within days letter alleged claim deficiency considered null void since failed comply proper protection laws\n"
     ],
     "name": "stdout"
    }
   ]
  },
  {
   "cell_type": "code",
   "metadata": {
    "colab": {
     "base_uri": "https://localhost:8080/"
    },
    "id": "Db5lut3l8dJf",
    "outputId": "f031ab39-5a05-405a-a964-80dc88d195f9"
   },
   "source": [
    "sor_pred = KMed_sor.predict(KMed_X_test)\n",
    "print_cluster(KMed_y_test, sor_pred, KMed_X_test,'SORENSEN')"
   ],
   "execution_count": 91,
   "outputs": [
    {
     "output_type": "stream",
     "text": [
      "SORENSEN\n",
      "  Cluster nr: 0\n",
      "\t47: Credit reporting, credit repair services, or other personal consumer reports\n",
      "\t\t-contract date year conf term apr payment amount financed original finance charge note problem follows made large four times asked pay extra money towards principal never done adjust refused see states per cent annually however found also day equals top interest predatory loan stated car asking credited account taken life\n",
      "\t\t-took loan conf understand terms since documents give dont read write told said juat sigh moved hard time paying got better job refused take payments use inappropriate language talk inappropriately made lots attempts make guy actually sent small payment least would send back every try call someone else tell one believe attempt get money kept charging fees able pay\n",
      "\t\t-conf credit card account cc current financial hardship came date began working paid amounts enough income continue paying minimum due keep time debt incurred approximately give take dollars contacted inform able pay continued hound still could closed add fees informed trying catch sold collection agency named pca acquisitions v llc company legal team suing amount way local county georgia magistrate court answered spoke representative consider back charges charged asking ftc please assist refuse hounded system occur part staying touch situation history shows willing family emergency reduce work written letters last year referring also law firm agreed month hear send payment\n",
      "\t\t-tenant company years ago conf lease ended date one notified regarding renewal placed month lived apartment year contacted back message left machine twice continued live home begin bed bugs well mold livable kids gotten sick take time school work tried contacting response premises charged fees credit attempted contact numerous times clue applied days called today\n",
      "\t\t-account american express credit cards months line since opening balance payments exceeded minimum monthly payment due paid prior date late ever received email informing lowered reason replied feedback link sent wanted explained completely uncalled unfair business practice additionally asked file appeal process works response would like looked please never missed accounts\n",
      "\t\t-midland credit management scam company tries collect debt way past statute limitations owe nothing bought state much postal correspondence actually write sue paying wo go report none anyway even guys ten year old somehow got phone number really like know call every morning answer hang leave message called back different told agreed date would add list today hung answered wanted last four social verification already name said giving anything stop calling criminals everything wrong collection practices constitutes harassment\n",
      "\t\t-account conf sold turned collection contacted work telling could speak time proceeded call right back hours called ms requested written documentation debt attempting collect mailed told going mail anything owed proceeding verify employment sue hung asked manager available proceed legal action\n",
      "\t\t-equifax sent credit file date submitted next day disputes resubmitted notified original results filled ftc local authorities creditors companies conf already finished items removed report load complaint confirmation fax certified mail received office faxed us post letter called numerous times disbelief whereabouts personal documents identity theft victim seems like happening thirty days said today repeatedly incomplete information via still furnishing incorrect turned jobs waited interview six months previously lost due could informed future employer would permitted later job well able receive state assistance apply services goods basic living situation turmoil worse everything fix effects run unfair reporting rights think true read fcra notice furnishers obligations frca e really feel violated although sure knew right thing contact cfpd another yet replied hope take seriously reply notify protect secure paid send matter serious involves afraid moment wrong hands past events within company respectfully need help please\n",
      "\t\t-home caught fire date relocated temporary housing applied month forbearance received payments misapplied past due tried point fact pay nothing done instead able go modification closed account loss mitigation department loan time foreclosure process started submitted emailed documents required even though previous still valid one representative kept insisting send divorce house purchased asking bank accounts contractor since money moving back forth draft trying obtain statements another party loaned banked finally got resolved file review days contacted told answer pending waited weeks thing two months later get notice sale set called complained cfpb guidelines could place postponed informed needed find status said response went approved escrow fees adding causing damage found actually reinstate mortgage reinstatement letter would help telling chfa call leave messages spoke number agents collections refused someone internally passing respond today attorney conf anyone assist intent cure public trustee full payoff paying want bring current put numbers together take risk losing mishandling refusing quote\n",
      "\t\t-accounts listed reflect correct transactions done personal sworn statement declaration declare penalty perjury laws united states executed outside conf foregoing true best knowledge furthermore certify permitted federal state law follow dispute also understand knowing willful misstatement omissions material facts constitutes criminal violation punishable additionally misstatements items found within credit report following pages related transaction made alleging person company used identifying information apply goods services money successful creating filed formal trade commission attached letter addition corresponded agencies creditors respective cooperative guided point taking step write directly reserve right delete block im requesting want make clear making request error misrepresented allegations aforementioned obtain result attempted file police informed county constitute emergency wouldnt didnt individual know wrongfully personally thank time review grievance look forward continued assistance security included identification another page please kindly fcra unverified must removed unable provide copy verifiable proof remove demand verified immediately rebuttal notation accuser failed evidence either injurious derogatory claims validity documented certification compliance reporting mandatory condition\n",
      "\t\t-fedloan servicing biggest joke organization lost mishandled submitted paperwork miscalculated income multiple times even spoke fix problem given information everytime ive called dont seem comprehend law enforcement overtimes details guaranteed money reflected determing new year loan payment spoken plenty make said base payments pay every time explained goes right head ask recalculate tell may suffer interest turn credit effected daft beyond penalized thing honest absolutely unfair unprofessional tried signing driven public worker student loans theyve paper aka twice already trust short answer cant stealing pretending theyre blind incompetence\n",
      "\t\t-complaint filing result ongoing pmi deletion request suntrust mortgage followed guidelines submit receive timely appraisal however firmly disagreed good cause value home meet loan speaking woman appraised house admitted missed key comp would valued much higher qualify asked rebut finding bank redo since written letters spoke multiple agents blown case denied fact based information closed essentially pushed around want admit error could potentially\n",
      "\t\t-date noticed new collection showing conf credit report called find stated water bill home texas live recall never received proper notice debt asked address sent ironically services provided course moved california agreed pay remove account well updated still showed owed balance even disputed verified accurate paid instead argued deleted told take creditor collections unlimited times everytime pressed operator kept getting looped back main menu able get person phone choice ask cfpb help resolving matter\n",
      "\t\t-conf account years ago due divorce unable pay bill completely paying got money never stop totally contacted told sent collection agency reached amount stated owed incorrect ask specific information letter basic number original date waited thinking would give agreement payment history followed another responded saying respond duplicate see reason requested asking came credit bureaus reporting something different definitely know wrong ad trying debt refuse owe understand personal issue still responsible documentation\n",
      "\t\t-wife conf date discovered papers visa gift card amount expired contacted name financial institution back nka first call directed take branch bank good cash search nearest agent phone access information searched online live called see way handle transaction mail next advised funds longer available asked address could make claim complaint writing put hold find disconnected understand fine print states monthly administration fee waived months month following activation deducted balance except prohibited law fundamentally wrong cost minimum earning interest money individual purchased paid front activated filing significant unless one considers accumulates cards anything paying\n",
      "\t\t-credit reporting way car loan company handled vehicle financed totaled insurance pay paid could except finance site said need make payment date knew something every check getting lump sum end conf confbeginning would able called explained situation told beginning promised went onto account get sent collections missed whole time always resent fact little guy honest gets real criminals away everything score dropped quite bit worked hard keep good write showing jus unethical since made feel right another agency look received paperwork saying responsible things reported know true tell bureau put kind information report also affected son trying build wish specific spent months without fighting point frustrated\n",
      "\t\t-contacted united collections bureau make monthly payment agreed today date concern type questions representative asked information tried collect particularly way initially verify identity requesting name address without informing next required part security proceeded piggyback right ask worked husband needed told creditor hired requested made distinction whatsoever said purposes gave indication format clued verifying already clarifying gathering new know never provided like ucbi convinced trying gather duplicitous manner challenged giving voluntary claimed one stopped asking would clear personal coercive aware option provide presented necessary verification volunteering implied complete transaction legally need offer payments line bills billing stubs addressed envelopes debtor makes decision pay partial pretty much limits options calling debt phone feel privacy risk due dubious collection second complaint multiple times call going entire amount paying pushed matter several last tax refund get something close exact wording interested conf discussing since beginning whole repeated attempts dig ie form harassment stepped collecting offered attempting push financial situation judgement calls whether could time prevent audacious sneaky obtrusive conversation attempt exposed invasive technique aggressiveness every may go legal council mentioned reasonable concerns coerced knowledge cause harm continue pressured reproved try installments instead bill full want ever allow company beyond law requires confirm agree representatives life see find pressure afford business judge getting big medical sent still recovering treatment contact sort plan misinformation unaware steps taken insufficient timely mere days completely caught guard even concerning harassing person dealing put possible step within means taking advantage vulnerable position concerned using\n",
      "\t\t-may concern looking credit report noticed errors reports experian conf personal information minds names address live presently last years havent loans dollars starting another one accounts seven keep appearing\n",
      "\t\t-recently reviewed credit report found unauthorized transunion certified letter via usps tracking number conf received date included inquiries contacted creditors proof initiated written authorization failed provide permissible purpose since verbal ask delete immediately evidence according section fair reporting act purposes consumer reports code general subject subsection e agency may furnish following circumstances f otherwise legitimate business need information connection transaction paragraph treatment inaccurate unverifiable investigation disputed item incomplete verified promptly gave given enough experian removed governed\n",
      "\t\t-bank america representative changed debit card number called company issue replacement advised rep several times cancel current take conf need well listen soon got phone removed go four days without could access funds lot items food totally put told would bill pay cancelled set unacceptable knew going allowed needed nothing done one talked try correct\n",
      "\t\t-put letter fraud hard inquiries authorized made date conf jc penny got back saying ip address unaware used applications told customer service submit basically implying make inquires accurate every attempt call person spoken need rep resolve matter want credit score effected something mail women left messages spoke others synchonry keep getting run around years feel fair act reversed since idea due respect happened clearly stated attempts never said calls someone please finally help nightmare\n",
      "\t\t-violation fair debt collection practices validation debts submitted certified letters dispute cedar financial conf date know tracking received time however heard company every month raise balance supposedly owed several months gather information regarding proper\n",
      "\t\t-may concern reason dispute conf required notify later days furnishing negative information credit bureau reports writing section subsection however records unable locate documentation complied requirement violation fcra fdcpa also failed give five prior placing derogatory item per validations date send initial communication alleged violating held liable well defamation state ohio indebtedness creditors individual debtor fail see compliance law report account ftc police need collection removed even tried contact regarding please remove immediately\n",
      "\t\t-noticed someone using information making unauthorized hard inquiries fraud list conf\n",
      "\t\t-ongoing situation filed everything proper authorities ftc conf police cfpb personal information comprised someone using id ss open account utilities name lived ohio years pursuant fair debt collection practices act section hereby notified cease desist communication regarding referenced failure abide law result complaint federal trade commission attorney general state mine also company management right file suit future violations record phone calls fail comply\n",
      "\t\t-learned date usaa credit card application initiated approved using member number conf name individual account open required know ever reported monthly income accurate unaware access different limit opened jointly without knowledge consent records show change address confconf va used day new drug purchases initial attached rx prescription drugs purchased florida total addition highly suspicious balance transfer unknown cash advances joint years first closed fraudulent activity associated veteran check sent part\n",
      "\t\t-matter involves paypal administering discharging duties customer account ledger balance returning funds upon closure attempted resolve issue several times avail complaint return back remain sought close accounts instead instructed option donate said charity chose made little sense money stated way closer would essentially disregarded find permissible arbitrarily speaking financial bank institution case electronic establishment able deposit remaining transfer another holder insists privileges serious allegation company numerous associated name ein\n",
      "\t\t-old car repossessed became unemployed sold debt paid credit report showing still full balance amount purchased vehicle account charged poor standing reflect closed since\n",
      "\t\t-date personally opened barclay card conf rewards ended purpose obtain new laptop cost made purchases activity related ending making monthly initial plan paid per month order get within months deferred interest everything full discovered identity stolen several credit cards loans taken name immediately took action put freeze early good amount things clean lot removed fraudulent occurred received notice regards lawsuit bank called eventually push collection agency handling dealing balance talk reported fraud theft waited two weeks send paperwork filled mailed week later stating denied claim still owe due came directly department requested statements following three different accounts never could tell one used current cash advances transfers late complaint follows ever account limit knowledge also well continues move court hearing future give explanation internal collections contacted contact notification violated act see attached first payment fee charge according fees aware rules without prior authorization noted added nearly actions suspicious started unable explain provide records allow double call type way wrong phone number file went claims advance check signed able copy signature material facts majority open period march yet exact\n",
      "\t\t-contacted wells fargo home mortgage several times requesting copies monthly billing statements years date also requested copy irs form conf issue failed\n",
      "\t\t-worst experience ever discontinued conf business account almost years ago never received bill call correspondence currently cell service moved changed addresses still collection letter husband began home buying process told amsher sitting credit totally confused lack communication placing date called phone number report law office resolve matter would speak reporting resolved mastercard take days could anything payment send debt resolution back inquire look got rudely update settled instead paid delete together waited day rep named closed inquired situation said already notified status spoke additional information one remove put manager time frustrated runaround tried strongly suggestive hold came say spoken rude explained contract provide everything needed including get word interrupted hung another hear people background laughing became extremely asked stated since want going ended calling complain higher refusal assist bureau help lied notification wait usually takes ask questions cut friday see done reports\n",
      "\t\t-following accounts reported credit file due identity theft absolutely knowledge mines therefore asking removed immediately concert laws fcra demanding blocked conf\n",
      "\t\t-conf date datesomeone fraudulently opened credit cards name put lock reports unlocked could apply store card thru told would approximately hours applied later denied comenity bank said need wait least difference agency banks policy locked ca reapply days initially waited fine one time information reporting agencies consumer punished protecting lifting applying within different communicate longer period dictated excellent debt ratio job money protect good\n",
      "\t\t-fay servicing lender mortgage loan conf continually delayed posting payments account month far charged two late fees fact payment arrived time prior use bank bill payer service send guaranteed delivery date delays post based day receive mail waits several days recent sent fee feel unjust said refund acceptable\n",
      "\t\t-company mentioned sold collection conf another negotiated paid collections still report showing balance tried disputing bureaus gotten balances changed effecting ability get best interest rates home please help\n",
      "\t\t-found information credit report notified via mail phone otherwise currently conf pay insurance paid\n",
      "\t\t-situations going credit file addresses need updated name conf address oh please delete remove following date would like new report sent information correctly\n",
      "\t\t-date letter sent conf regarding debt owed proceeded contact funding mail second time mine respond information requested received indicating credit line card concern claimed would eligible approved company claiming owe want account mentioned removed report immediately\n",
      "\t\t-charge promotion made conf different payment structure utilize mobile app pay shows balance alert multiple transactions structures must call company allocate balances displayed separately one payments monthly based minimum however unknown divided resulting transaction promotional interest deferment paid expiration date addition added bill thinking paying bit quicker extra amount barely covering continues accrue completely confusing unfair customers diligently seems deceiving information available application rationale seen website counter reasoning also told could set alerts future asked assistance find offered allow today would totaling almost helpful\n",
      "\t\t-register account transferwise company use service international transfer conf date registration completed set amount complete top around usd money wise private deactivated cancel block send email questions access answer inform following regulation investigation process find reason may take days cancelled request get back name practice stealing however tw ask number proff ownership tour guide carry kinds documents due procedures doubt legal law wait till received differences less wrote clarify said hello thanks response funds swift hence processed refund using payment method please note payments incur extra charges intermediary banks well receiving bank charge fee unfortunately aware control fees case read hope explains let us know happy help best regards today receive services ordered blocked stuff informed regulations unknown reasons refusing lower dateusd\n",
      "\t\t-listed accounts appears credit report belong given anyone access nanny personal information apply cards loans name conf amount opened date us dept education\n",
      "\t\t-accounts added created unbeknownst notice concern hold accountable accuse complicity exercise malevolent hereby mark likely one might day view civil discord would plaintiffs yet declare unjust claim met deliberate determined resistance counteraction clarity debt collection insufficient collections much less reporting must delete injurious allegation significantly deficient requisite certified compliance perfect metro format testimonial evidence physically verifiable proof validation related full truth accuracy completeness timeliness ownership identity true debtor dates balances audits calculations source codes creditor code statement associated trailing fragments minimal five portioned personal identifiers pay statuses required confirmation elsewise standard mandatory proper mentioned although checking addressing missing aspects compliances contesting compliant nature make aware since unlawful transitions equally complaint circumstance still validated document fact standards announced legally knowledge validity alleged claims delinquency derogatory certifiably matter either attempts despite previous consumer filed composed complaints known especially shall elect take court pursued particularly defined precisely certifiable manner detailed obeyed federal state regulations noted said include limited fcba fcra hipaa privacy rule facta fdcpa tcpa etc additionally entity acts collector also elects act party credit well adhere every single even regulatory requisites legal standing accordance laws accepted date plaintiff failed demonstrate capacity willingness validate certify fair accurate complete display given recent breaches information repositories hesitating readily accept presented without legitimate deny nothing reserve right question unproven call reject untrue unverified incomplete otherwise invalid thereby dischargeable requirement dismissed demand resolution today accords statutes received ever entering contractual relationship forward ies allegedly issued defaulted line accusations similar repeated calls accusers adequately acquired permissible purpose exactly individual irrefutably identified acknowledgement parties form knowingly acknowledging unknowingly owe proven compliantly reported written declaration testimony factual obvious allegations clear subterfuge willful disregard ethical practices done ignorance behavior efforts vile derelict unjustly doubt dismissal discharge misreported delinquencies undeniably unfairly lodged versus receiving facts account items delinquent actions reiterate called present correct documentation rights collect report let optional mute law open submitted adequate genesis inability prove application agreement contract describing inherently makes whole summons request resolve immediate eradication charge rectification appropriate stands complaining unethically illegally absolute deficiency applicable unwillingness timely fully preference stand authority integrity ensure correctness responsibility\n",
      "\t\t-attached inquiry conf submitted experian twice removed still report nothing help remove said problem pay month use credit services get problems like let anyone post anything reports taken major time consuming issue even letters proving\n",
      "\t\t-sued court collection account documents owe debt credit bureau remove report\n",
      "\t\t-accident date car totaled contacted chrysler capital find handle balance left told anything due time tried several times take care kept getting response moved months went hear buy another account reporting inaccurate information sent letter see could get straightened received pay money owe minus late fees would like cleared given total claim completed paid\n",
      "\t\t-experian keeps adding fraud alert banks get told quit\n",
      "\t\t-aware could dispute validity debt\n",
      "\t25: Debt collection\n",
      "\t\t-date filed complaint conf resolved favorably resolution account closed payments backdated credit reports remove late references updated immediately transunion report new day changed letter included payment history contradicts reporting also reported consumer finance file even delinquent stated\n",
      "\t\t-thre e main credit bureaus accurate information reports impossible reach either though individual sites well contact numbers provide due inaccurate fico scores decline specific given two issues incorrect show installment loan according models hurts score fact auto showed last year reason fail also debit balance card impacted basis points appears looked much better reporting track provided several times month often receive notice calling get tree allow representative thus low able gain favorable mortgage rate frustrated profit long remember assistance would greatly appreciated\n",
      "\t\t-conf refuses initiate disputes line continues list fraudulent information credit report\n",
      "\t\t-id found allegedly outstanding federal student loan owing estimated conf requested paperwork proof considered even setting type payment plan asked send two people act pushed give bank account information prior reviewing confirmed physical address phone number please wait everything accurate call back set given said around pt received message left recorded screenshot\n",
      "\t\t-back date financed car conf toll didnt put money except pay start full coverage insurance believe paid something dollars ok discussed monthly payments signed finished left new even week later wanted go online see adding renters got apartment login information incorrect reason called customer service wrong birth account changed updated said would change rate month could afford told want use anymore went somewhere else billed made mistake messed allowed keep things might different\n",
      "\t\t-originally applied approved time thought paying loan insane wife decided roughly around date conf go submitted application provided information ssid banking etc payment breakdown e signed contract said call number finish process collected minutes informed exact payments cycle challenged discrepancy supervisor hung personal\n",
      "\t\t-started company seterus took loan conf time nothing put first one payment applied escrow account sent cfpb information date reference number said going fix correct numerous times faxing papers showing payments till day still getting harass already receive even copies sold another named whole mess informing make misapplying previous earlier believe lie fixing know made go though costing money send really need help hire legal please advise thank person talk inform like screwing get\n",
      "\t\t-sent letter via certified mail company failed comply according fcra guidelines respond within days\n",
      "\t\t-believe got discriminated taken advantage conf back took home equity loan explained terms officer lied mislead think regular fact years paying paid line gone legal never one interest going high go young naive called bank occasion try resolve done nothing please help look statement tell take money apply office told would happen pay life time\n",
      "\t\t-harvard collections department human services debt payment foodstamps paid subtracting benefits wrote disputed amount company requested paperwork along itemized schedule owe sole owner reviewing reports specific location sign foodstamp program host employees caught collecting clients expense ask proof paper call sudden claim deleted taken credit report since respond many request case fraudulent matter love fact collection drop like explanations right make mistake confirmation detail overpayment rectify situation\n",
      "\t\t-complaint written reference midwest recovery system llc acct conf listed major credit reports illegally regards collecting debt owe sent request validation via usps certified return receipt requested beginning receive response according fair collection practices act must true accurate company place name systems without original creditor attempting collect false funds misapplied payments may understanding checking account back close due limited supply branches wanted join bank bigger however leave outstanding balance neither ever inform years since banked trying resolve matter amicably failure comply ftc regulations regarding reporting result small claims legal action local venue seeking minimum damages defamation negligent enablement identity fraud violation including section required appear court order formally defend notice attempt correct records information received collected evidence necessary cease illegal removal immediately similar case agency took awarded urgent require immediate attention prepared file judgement maintaining careful record communication purposes dependent upon detailing potential issues online public press release documentation valid statue limitation sol expires state another charges\n",
      "\t\t-commonwealth financial conf pa company continues report inaccurate unverifiable information noticed account balance reappearing changed change date opened appears recent currently reporting seen many times collections open requested removed progress response violation needs immediately\n",
      "\t\t-going back forth navient well dirty tactic collection firm named conf per courts reps spoken currently private student loans showing record pulled credit union court based judgements even though worked get corrected spoke rep executive services office supposedly records illegally garnished almost years lifted finally pulling told would none things happened still unable defend mine listing said never served papers order given day force prove failed live promise fulfil consistently state terms throw complaints unfair pushed follow forced join class action lawsuit lying practices want causing buy mothers home offered irrefutable damage\n",
      "\t\t-trying deal conf last years unhelpful give realistic options help paying student loan back know took plan way seem work would rather see starve family worried getting payment make think go college take advantage young kids cheats need pay harass year old grandfather time nice enough cosign loans call numerous times even told finally set months come find applied four failed mention also two behind clue making get situation researching online large number every result needs stopped company\n",
      "\t\t-conf heights finance office lies consumers law terms ther contract tries bully additional commitments first interest rate greater told took loan second payments due month day two late past never notified payment would days make informed could skip made phone maturation date moved later want another high rates come miles away good faith visit today legal said part agreement disagreed pointing nowhere paperwork going call every got money reminded point calling constitute harrassment pay regular fee whether liked unless came called several times since answered ignored back hoping better interaction within report credit bureau needed immedately avoid damaged already legally wrong right true know angry voice advance predatory lender particular rude dishonest concerned vindictively damage ever\n",
      "\t\t-b stonewalling sending release lien property following final payoff want details contacted someone assigned expedite return bank document may go media necessary thirty day period elapsed\n",
      "\t\t-first citizens bank construction loan date conf grading new home completed filed lien county clerk superior court manager nc branch managed facilitate closing attached satisfied knowledge prior told officer could closed outstanding paid suspect homeowner committed fraudulent felony act forging signature banker made attempts conceal even asked former sign agreement resigned noted general contractor also perfected lawsuit pending civil consulted attorney perfecting afford proceed action regardless taken place want work\n",
      "\t\t-divorce ex wife continued obtain new credit name disputed many accounts address alias appear bureaus respond need proof names ever gone debt despite going police stopped filing complaints local law nothing changes helps score low im really stuck ca even buy car without interest insane\n",
      "\t\t-complained item credit file equifax mailed quick response dated date way investigation completed length time originated apartment complex removed based instead bought sold staying negative belong\n",
      "\t\t-opened credit card account conf year ago never sent billing statement phone conversations almost monthly since first cycle explaining im receiving statements represtaives spoke told late fees would removed wouldnt need make another payment two months yet receive call next month stating past due explained received made representative said waive send spoken serveral supervisors resolve issue remove remark report done called back speak supervisor date correct issues failed contact result rep allow recently finally able get corporate office fax showed total charged refusing also remarks unless pay balance includes fact bill practice unethical appreciate help resolving\n",
      "\t\t-sent inaccurate formation\n",
      "\t\t-trying get pmi removed last years according loan profile requirement ltv reached ago tried every year rid give new set requirements documents says wells fargo require appraisal broker opinion one affiliates pay credit history conf customer others never late single payments go low estimate still comes higher asked repeatedly documentation signed closing states agreed affiliate unable produce meet however refinance\n",
      "\t\t-collection credit report result fraudulent charges aware card used never addition placed freezes three bureaus extra protection get everything sorted\n",
      "\t\t-requested transunion conf send proof method verification used report bankruptcy credit agencies knowingly provided false information therefore violation fair reporting act attaching also originally asked verify listed furnisher court house prior dispute writing profile frozen following investigation cfpb changed furnishor account county parties violations disclosures consumers procedure case disputed accuracy obtaining pretenses courts third like\n",
      "\t\t-initiated mortgage application refinance primary property purchased conf day closing loan officer shows pay roundpoint servicing trying paid taxes tax proration purchase closed owed plus following year due date county treasures website previous entire calling roundpoints customer service line essentially said allowed charge want without providing written notice kept stating sent letter mail saying within days would force escrow stated towards end check verify office today close delayed update payoff removing irresponsible front agent rude disrespectful supervisor upon initial call well wanted talk circles contractual right money responsible make sure irresponsibly fees customers attaching never received also receipt lastly requested\n",
      "\t9: Credit card or prepaid card\n",
      "\t\t-date returned leased car conf dealership ca last day lease even called let know required fast forward received update notification regards credit report checking realized false delinquency generated checked account online find charged monthly beyond official end contract numerous mean calls emails lots stress provided different information department transfers multiple occasions held long hold hung nearly two weeks got rid reported balance promised also fix wrong experian never delivered ultimately asked file dispute denied think anything help scary disappointing causes companies much power influence life yet unorganized poorly run reach automatic charge whatever heard leasing returning like create financial disasters show anymore gotten rejection rentals etc events justice get penalized would easily punished send jail fail pay wear tear fair please resort attorney nobody takes case money shame thank\n",
      "\t\t-opened lowes credit card conf since charged paid multiple times last year increased limit decreased months date stating checked score ive requested increase back denied time payments report find constant checks intrusive also raising someones pay lower hindering dont feel legal right want looked many company raise allowed check customer paying bill never carries long would treat manner already charge extremely high interest\n",
      "\t\t-please advised second complaint final warning fully intend pursue litigation accordance fcra enforce rights seek relief recover monetary damages may entitled section regarding continued willful negligent noncompliance despite two written requests unverified items listed still remain credit report violation federal law required copy original creditors documentation file verify information mine correct results first investigation subsequent reinvestigation stated writing verified reported correctly accounts provided consumer contract signature furthermore failed provide method verification promptly delete clear civil liability remedy available fail comply litigious pursuing matter following conf\n",
      "\t\t-recognize account never applied contracts agreements company\n",
      "\t\t-amid several complaints department education federal student aid conf loan servicer abusive malicious tactics handling discharge new nelnet years taken tax refund without cause received notice irs finally mailed letter claiming responsible offset cal called friendly year submitted doctors statement section date lead discharged keep getting excuses saying illegible form incomplete making filed intent days submit forms netnet honor paperwork day grace period continue take returns us unlawfully mistreatment demand stop also return unfair poverty level inability repay income\n",
      "\t\t-notified company cps recent accident date car pretty significant damages currently taking driver court paying loan insurance also around conf would need extension go back work granted day states anything due found today vehicle repo repair shop received phone stating going happen notice even option done needed prevent especially dealing auto prop damage case\n",
      "\t\t-spent last month hospital conf illness thus checking accounts daily usual yesterday released checked chase bank account online horrified discover nearly overdrawn appeared overdraft entirely due three unauthorized charges charge dated date know company subscription box annual amount also charged unknown reason price single ships quarterly day tried contact via email telephone received response second two called absolutely relationship appears another involving clothing billed phone sent today around since client clear numerous disputes behalf unfortunately dealing serious identity theft issues five years desperately trying receive new social security number thankfully nothing helpful always issue provisional fee within hours remove fees incurred putting however spoke woman name refused credit items asked stated report posted could would open investigation replied never heard policy explained hospitalized unmoved problem told case going forced switch banks basically offered protection whatsoever clients fine hang supposed resting stress per doctors instead sheer overdue payment notices pay wondering make next week far food transportation doctor appointments etc near end please help\n",
      "\t\t-conf soc sec dob date address fl unauthorized credit inquiry dear know name person charge better letter formal notice cease hard inquiries making intomy report also demandfor immediately contact reporting agencies bureaus organization made history illegal inquiriesremoved advised checking reports ensure thefollowing taken line item details finance nquiry miscellaneous reptg automobile dealers banks auto financing florida best knowledge signed documents authorizing view violates thefair act section c transactions initiated consumer document believe authorizes make theaforementioned respectfully request copy itbe sent may verify validity given growing cases identitytheft sure agree verification protect event possess authorization haveremoved profiles remove mypersonal information records please send confirmation havecomplied requests thank sincerely\n",
      "\t\t-event unrelated company missing payment however past due minimum disclosed billing statement module made date applied delinquency reported consumer credit reporting agencies requested delinquent comment removed\n",
      "\t6: Checking or savings account\n",
      "\t\t-todays date attention dispute department midland fund conf company violated fcra f prohibition sale transfer debt caused identity theft responded request provide investigation report need resolve fair credit reporting act disputed items may appear supported evidence general person shall sell consideration place collection notified section title resulted applicability prohibitions subsection apply persons collecting described paragraph notification rule construction nothing construed prohibit repurchase case assignee requires b securitization pledging portfolio collateral connection borrowing c result merger acquisition purchase assumption transaction substantially assets entity furnishes information consumer agency reasonable procedures respond receives relating resulting prevent refurnishing blocked reference listed please take matter serious form record prepare sue example confelephone protection litigation district court southern stop proceedings signatures applications accounts investigators sec dob address lookout\n",
      "\t\t-would like fraud alerts removed credit report\n",
      "\t\t-loan conf transferred nationstar mortgage mr coopeconf keep faxing balance reduction modification saying approved yes regular see letter cooper still doenst want reduce keeps need send state federal authorities least make aware since proof\n",
      "\t\t-conf ia date reported opened closed individual account revolving charge balance company named claims appear credit report making inaccurate derogatory remarks violation fair reporting act inaccurately owe dollars failed show item service purchased paid name address telephone number social security via debit card cash money order etc form payment must submit consumer finance file relating matter positively identify person conducted business identified owner debt remark removed based following continued beyond statute limitation without license collect operate current home state signed authorized document hiring soliciting services purchasing alleged owed another consent collection original provider product notifying phone make aware thus submitted transaction items correct spelling reside contracting provide full information identifying said\n",
      "\t\t-entered dispute bk removed credit file previously new law effective date public record data must include name address well ssn dob order appear bureau verify court share information companies updated per bankruptcy listed deleted\n",
      "\t\t-many mistakes appear report without understanding\n",
      "\t5: Payday loan, title loan, or personal loan\n",
      "\t\t-date filed dispute conf account still reflecting open outstanding balance property previously sold mortgage paid full received results new rez reported loan foreclosed closed information incorrect never late ever foreclosure indicated reach regarding call refused assistance advised nothing willing offered file another take days middle purchasing home inaccuracy may cause get applying\n",
      "\t\t-due butched involvement institution denied charge instant cash withrawal citybank failed remove bill asked uphold federal laws disputed credit transaction assist complying claimed close account without approval opened second third adding new accounts completely contacted conf security division became nightmare ruge bank disseminates personal information foreign country duty comply us able anything customer citizen recourse demand attorney general review conducts assess highest fines available repeatedly violating\n",
      "\t\t-conf declined car loan app date list principal reasons credit denial follows income insufficient meet obligation make per year lexisnexis owned home since specifically lists agency providing info influenced decision reject application also obtained score risk solutions used making number reflects information consumer report change depending changes scores range low high key factors adversely affected eviction record found inquiries last months sources confirming identity current address waited days receive lexis nexis full could request usps mail disputed incorrect email another response snail find damaging data reporting remain even though supplied numerous documents proving attached communication evidence creditworthiness preventing obtaining sued damage recklessly causing\n",
      "\t\t-hello complaint three credit reporting companies experian conf noticed discrepencies report put freeze date notified agencies previously stated writtent letter dated requesting verifiy certain accounts showing bankruptcy bank account response verified third partner correct since one obtain anything unfreeze wrote second mailed telling lied said two question using called requested attempted access year told violation consumer rights demand removed immediately back stating talk never responded dateto plus days investigate claim expired checked states uses verify also please compnaies wrong party gives information attach tell fight get corrected dont impossible frozen items mention even respond investigation request\n",
      "\t\t-victim identity theft\n",
      "\t3: Student loan\n",
      "\t\t-accounts added created unbeknownst notice concern hold accountable accuse complicity exercise malevolent hereby mark likely one might day view civil discord would plaintiffs yet declare unjust claim met deliberate determined resistance counteraction clarity debt collection insufficient collections much less reporting must delete injurious allegation significantly deficient requisite certified compliance perfect conf format testimonial evidence physically verifiable proof validation related full truth accuracy completeness timeliness ownership identity true debtor dates balances audits calculations source codes creditor code statement associated trailing fragments minimal five portioned personal identifiers pay statuses required confirmation elsewise standard mandatory proper mentioned although checking addressing missing aspects compliances contesting compliant nature make aware since unlawful transitions equally complaint circumstance still validated document fact standards announced legally knowledge validity alleged claims delinquency derogatory certifiably matter either attempts despite previous consumer filed composed complaints known especially shall elect take court pursued particularly defined precisely certifiable manner detailed obeyed federal state regulations noted said include limited fcra hipaa privacy rule facta fdcpa tcpa etc additionally entity acts collector also elects act party credit well adhere every single even regulatory requisites legal standing accordance laws accepted date plaintiff failed demonstrate capacity willingness validate certify fair accurate complete display given recent breaches information repositories hesitating readily accept presented without legitimate deny nothing reserve right question unproven call reject untrue unverified incomplete otherwise invalid thereby dischargeable requirement dismissed demand resolution today accords statutes received ever entering contractual relationship forward ies allegedly issued defaulted line accusations similar repeated calls accusers adequately acquired permissible purpose exactly individual irrefutably identified acknowledgement parties form knowingly acknowledging unknowingly owe proven compliantly reported written declaration testimony factual obvious allegations clear subterfuge willful disregard ethical practices done ignorance behavior efforts vile derelict unjustly doubt dismissal discharge misreported delinquencies undeniably unfairly lodged versus receiving facts account items delinquent actions reiterate called present correct documentation rights collect report let optional mute law open submitted adequate genesis inability prove application agreement contract describing inherently makes whole summons request resolve immediate eradication charge rectification appropriate stands complaining unethically illegally absolute deficiency applicable unwillingness timely fully preference stand authority integrity ensure correctness responsibility\n",
      "\t\t-incredibly inconsistent importantly incorrect reporting behalf three mentioned agencies transunion particular lesser extent conf even chief problem debt accounts classified incorrectly causing weighting fico score massively inaccurate across board blatantly evident incredible amount variance range values last decade tirelessly fruitlessly accord contested inaccuracies time little avail resort reach\n",
      "\t\t-several items reporting credit file belong result identity theft conf agencies please remove unauthorized inquiries\n",
      "\t2: Mortgage\n",
      "\t\t-tired many problems bank closed account dont pay lawyer divorce impossible complaint ex husband file contacts conf called received check since almost months apartament unfortunately need find damages finances emotional would like copy checks deposit never return\n",
      "\t\t-victim identity theft filed dispute companies hard credit inquiry didnt come report conf card name well remove anything\n",
      "\t2: Vehicle loan or lease\n",
      "\t\t-sent certified letters via mail time requesting false information removed credit report able verify debt belongs one responded honored request\n",
      "\t\t-signed contract portfolio recovery associates never business company liable collection debts reporting credit reports responsible licensed collect state california per told attorney\n",
      "\t1: Money transfer, virtual currency, or money service\n",
      "\t\t-back date disputed account conf experian amount told validated debt valid however asked method verification representative spoke received generic answer violated fcra requested use instead verify contract signature site challenged never substantial information original signed consumer even time period research fair credit reporting act mandates bureaus report accurate validate confirm per fdcpa regulations following done sent copies written notice provided lienholders first class mail intent file repo title copy california form application repossession lien receipt actual reflecting lienholder state requires items listed obtain enabling sale unsuccessful providing request unable provide required proof within days letter alleged claim deficiency considered null void since failed comply proper protection laws\n"
     ],
     "name": "stdout"
    }
   ]
  },
  {
   "cell_type": "code",
   "metadata": {
    "colab": {
     "base_uri": "https://localhost:8080/"
    },
    "id": "kAbjR2wOB3gU",
    "outputId": "49db03cb-3618-46a4-8d9b-758baa940fdd"
   },
   "source": [
    "s_dice_pred = KMed_s_dice.predict(KMed_X_test)\n",
    "print_cluster(KMed_y_test, s_dice_pred, KMed_X_test,'SORENSEN - DICE')"
   ],
   "execution_count": 92,
   "outputs": [
    {
     "output_type": "stream",
     "text": [
      "SORENSEN - DICE\n",
      "  Cluster nr: 4\n",
      "\t36: Credit reporting, credit repair services, or other personal consumer reports\n",
      "\t\t-contract date year conf term apr payment amount financed original finance charge note problem follows made large four times asked pay extra money towards principal never done adjust refused see states per cent annually however found also day equals top interest predatory loan stated car asking credited account taken life\n",
      "\t\t-took loan conf understand terms since documents give dont read write told said juat sigh moved hard time paying got better job refused take payments use inappropriate language talk inappropriately made lots attempts make guy actually sent small payment least would send back every try call someone else tell one believe attempt get money kept charging fees able pay\n",
      "\t\t-conf credit card account cc current financial hardship came date began working paid amounts enough income continue paying minimum due keep time debt incurred approximately give take dollars contacted inform able pay continued hound still could closed add fees informed trying catch sold collection agency named pca acquisitions v llc company legal team suing amount way local county georgia magistrate court answered spoke representative consider back charges charged asking ftc please assist refuse hounded system occur part staying touch situation history shows willing family emergency reduce work written letters last year referring also law firm agreed month hear send payment\n",
      "\t\t-tenant company years ago conf lease ended date one notified regarding renewal placed month lived apartment year contacted back message left machine twice continued live home begin bed bugs well mold livable kids gotten sick take time school work tried contacting response premises charged fees credit attempted contact numerous times clue applied days called today\n",
      "\t\t-account american express credit cards months line since opening balance payments exceeded minimum monthly payment due paid prior date late ever received email informing lowered reason replied feedback link sent wanted explained completely uncalled unfair business practice additionally asked file appeal process works response would like looked please never missed accounts\n",
      "\t\t-midland credit management scam company tries collect debt way past statute limitations owe nothing bought state much postal correspondence actually write sue paying wo go report none anyway even guys ten year old somehow got phone number really like know call every morning answer hang leave message called back different told agreed date would add list today hung answered wanted last four social verification already name said giving anything stop calling criminals everything wrong collection practices constitutes harassment\n",
      "\t\t-account conf sold turned collection contacted work telling could speak time proceeded call right back hours called ms requested written documentation debt attempting collect mailed told going mail anything owed proceeding verify employment sue hung asked manager available proceed legal action\n",
      "\t\t-equifax sent credit file date submitted next day disputes resubmitted notified original results filled ftc local authorities creditors companies conf already finished items removed report load complaint confirmation fax certified mail received office faxed us post letter called numerous times disbelief whereabouts personal documents identity theft victim seems like happening thirty days said today repeatedly incomplete information via still furnishing incorrect turned jobs waited interview six months previously lost due could informed future employer would permitted later job well able receive state assistance apply services goods basic living situation turmoil worse everything fix effects run unfair reporting rights think true read fcra notice furnishers obligations frca e really feel violated although sure knew right thing contact cfpd another yet replied hope take seriously reply notify protect secure paid send matter serious involves afraid moment wrong hands past events within company respectfully need help please\n",
      "\t\t-home caught fire date relocated temporary housing applied month forbearance received payments misapplied past due tried point fact pay nothing done instead able go modification closed account loss mitigation department loan time foreclosure process started submitted emailed documents required even though previous still valid one representative kept insisting send divorce house purchased asking bank accounts contractor since money moving back forth draft trying obtain statements another party loaned banked finally got resolved file review days contacted told answer pending waited weeks thing two months later get notice sale set called complained cfpb guidelines could place postponed informed needed find status said response went approved escrow fees adding causing damage found actually reinstate mortgage reinstatement letter would help telling chfa call leave messages spoke number agents collections refused someone internally passing respond today attorney conf anyone assist intent cure public trustee full payoff paying want bring current put numbers together take risk losing mishandling refusing quote\n",
      "\t\t-accounts listed reflect correct transactions done personal sworn statement declaration declare penalty perjury laws united states executed outside conf foregoing true best knowledge furthermore certify permitted federal state law follow dispute also understand knowing willful misstatement omissions material facts constitutes criminal violation punishable additionally misstatements items found within credit report following pages related transaction made alleging person company used identifying information apply goods services money successful creating filed formal trade commission attached letter addition corresponded agencies creditors respective cooperative guided point taking step write directly reserve right delete block im requesting want make clear making request error misrepresented allegations aforementioned obtain result attempted file police informed county constitute emergency wouldnt didnt individual know wrongfully personally thank time review grievance look forward continued assistance security included identification another page please kindly fcra unverified must removed unable provide copy verifiable proof remove demand verified immediately rebuttal notation accuser failed evidence either injurious derogatory claims validity documented certification compliance reporting mandatory condition\n",
      "\t\t-fedloan servicing biggest joke organization lost mishandled submitted paperwork miscalculated income multiple times even spoke fix problem given information everytime ive called dont seem comprehend law enforcement overtimes details guaranteed money reflected determing new year loan payment spoken plenty make said base payments pay every time explained goes right head ask recalculate tell may suffer interest turn credit effected daft beyond penalized thing honest absolutely unfair unprofessional tried signing driven public worker student loans theyve paper aka twice already trust short answer cant stealing pretending theyre blind incompetence\n",
      "\t\t-complaint filing result ongoing pmi deletion request suntrust mortgage followed guidelines submit receive timely appraisal however firmly disagreed good cause value home meet loan speaking woman appraised house admitted missed key comp would valued much higher qualify asked rebut finding bank redo since written letters spoke multiple agents blown case denied fact based information closed essentially pushed around want admit error could potentially\n",
      "\t\t-date noticed new collection showing conf credit report called find stated water bill home texas live recall never received proper notice debt asked address sent ironically services provided course moved california agreed pay remove account well updated still showed owed balance even disputed verified accurate paid instead argued deleted told take creditor collections unlimited times everytime pressed operator kept getting looped back main menu able get person phone choice ask cfpb help resolving matter\n",
      "\t\t-conf account years ago due divorce unable pay bill completely paying got money never stop totally contacted told sent collection agency reached amount stated owed incorrect ask specific information letter basic number original date waited thinking would give agreement payment history followed another responded saying respond duplicate see reason requested asking came credit bureaus reporting something different definitely know wrong ad trying debt refuse owe understand personal issue still responsible documentation\n",
      "\t\t-wife conf date discovered papers visa gift card amount expired contacted name financial institution back nka first call directed take branch bank good cash search nearest agent phone access information searched online live called see way handle transaction mail next advised funds longer available asked address could make claim complaint writing put hold find disconnected understand fine print states monthly administration fee waived months month following activation deducted balance except prohibited law fundamentally wrong cost minimum earning interest money individual purchased paid front activated filing significant unless one considers accumulates cards anything paying\n",
      "\t\t-credit reporting way car loan company handled vehicle financed totaled insurance pay paid could except finance site said need make payment date knew something every check getting lump sum end conf confbeginning would able called explained situation told beginning promised went onto account get sent collections missed whole time always resent fact little guy honest gets real criminals away everything score dropped quite bit worked hard keep good write showing jus unethical since made feel right another agency look received paperwork saying responsible things reported know true tell bureau put kind information report also affected son trying build wish specific spent months without fighting point frustrated\n",
      "\t\t-contacted united collections bureau make monthly payment agreed today date concern type questions representative asked information tried collect particularly way initially verify identity requesting name address without informing next required part security proceeded piggyback right ask worked husband needed told creditor hired requested made distinction whatsoever said purposes gave indication format clued verifying already clarifying gathering new know never provided like ucbi convinced trying gather duplicitous manner challenged giving voluntary claimed one stopped asking would clear personal coercive aware option provide presented necessary verification volunteering implied complete transaction legally need offer payments line bills billing stubs addressed envelopes debtor makes decision pay partial pretty much limits options calling debt phone feel privacy risk due dubious collection second complaint multiple times call going entire amount paying pushed matter several last tax refund get something close exact wording interested conf discussing since beginning whole repeated attempts dig ie form harassment stepped collecting offered attempting push financial situation judgement calls whether could time prevent audacious sneaky obtrusive conversation attempt exposed invasive technique aggressiveness every may go legal council mentioned reasonable concerns coerced knowledge cause harm continue pressured reproved try installments instead bill full want ever allow company beyond law requires confirm agree representatives life see find pressure afford business judge getting big medical sent still recovering treatment contact sort plan misinformation unaware steps taken insufficient timely mere days completely caught guard even concerning harassing person dealing put possible step within means taking advantage vulnerable position concerned using\n",
      "\t\t-may concern looking credit report noticed errors reports experian conf personal information minds names address live presently last years havent loans dollars starting another one accounts seven keep appearing\n",
      "\t\t-recently reviewed credit report found unauthorized transunion certified letter via usps tracking number conf received date included inquiries contacted creditors proof initiated written authorization failed provide permissible purpose since verbal ask delete immediately evidence according section fair reporting act purposes consumer reports code general subject subsection e agency may furnish following circumstances f otherwise legitimate business need information connection transaction paragraph treatment inaccurate unverifiable investigation disputed item incomplete verified promptly gave given enough experian removed governed\n",
      "\t\t-bank america representative changed debit card number called company issue replacement advised rep several times cancel current take conf need well listen soon got phone removed go four days without could access funds lot items food totally put told would bill pay cancelled set unacceptable knew going allowed needed nothing done one talked try correct\n",
      "\t\t-put letter fraud hard inquiries authorized made date conf jc penny got back saying ip address unaware used applications told customer service submit basically implying make inquires accurate every attempt call person spoken need rep resolve matter want credit score effected something mail women left messages spoke others synchonry keep getting run around years feel fair act reversed since idea due respect happened clearly stated attempts never said calls someone please finally help nightmare\n",
      "\t\t-violation fair debt collection practices validation debts submitted certified letters dispute cedar financial conf date know tracking received time however heard company every month raise balance supposedly owed several months gather information regarding proper\n",
      "\t\t-may concern reason dispute conf required notify later days furnishing negative information credit bureau reports writing section subsection however records unable locate documentation complied requirement violation fcra fdcpa also failed give five prior placing derogatory item per validations date send initial communication alleged violating held liable well defamation state ohio indebtedness creditors individual debtor fail see compliance law report account ftc police need collection removed even tried contact regarding please remove immediately\n",
      "\t\t-ongoing situation filed everything proper authorities ftc conf police cfpb personal information comprised someone using id ss open account utilities name lived ohio years pursuant fair debt collection practices act section hereby notified cease desist communication regarding referenced failure abide law result complaint federal trade commission attorney general state mine also company management right file suit future violations record phone calls fail comply\n",
      "\t\t-learned date usaa credit card application initiated approved using member number conf name individual account open required know ever reported monthly income accurate unaware access different limit opened jointly without knowledge consent records show change address confconf va used day new drug purchases initial attached rx prescription drugs purchased florida total addition highly suspicious balance transfer unknown cash advances joint years first closed fraudulent activity associated veteran check sent part\n",
      "\t\t-matter involves paypal administering discharging duties customer account ledger balance returning funds upon closure attempted resolve issue several times avail complaint return back remain sought close accounts instead instructed option donate said charity chose made little sense money stated way closer would essentially disregarded find permissible arbitrarily speaking financial bank institution case electronic establishment able deposit remaining transfer another holder insists privileges serious allegation company numerous associated name ein\n",
      "\t\t-date personally opened barclay card conf rewards ended purpose obtain new laptop cost made purchases activity related ending making monthly initial plan paid per month order get within months deferred interest everything full discovered identity stolen several credit cards loans taken name immediately took action put freeze early good amount things clean lot removed fraudulent occurred received notice regards lawsuit bank called eventually push collection agency handling dealing balance talk reported fraud theft waited two weeks send paperwork filled mailed week later stating denied claim still owe due came directly department requested statements following three different accounts never could tell one used current cash advances transfers late complaint follows ever account limit knowledge also well continues move court hearing future give explanation internal collections contacted contact notification violated act see attached first payment fee charge according fees aware rules without prior authorization noted added nearly actions suspicious started unable explain provide records allow double call type way wrong phone number file went claims advance check signed able copy signature material facts majority open period march yet exact\n",
      "\t\t-worst experience ever discontinued conf business account almost years ago never received bill call correspondence currently cell service moved changed addresses still collection letter husband began home buying process told amsher sitting credit totally confused lack communication placing date called phone number report law office resolve matter would speak reporting resolved mastercard take days could anything payment send debt resolution back inquire look got rudely update settled instead paid delete together waited day rep named closed inquired situation said already notified status spoke additional information one remove put manager time frustrated runaround tried strongly suggestive hold came say spoken rude explained contract provide everything needed including get word interrupted hung another hear people background laughing became extremely asked stated since want going ended calling complain higher refusal assist bureau help lied notification wait usually takes ask questions cut friday see done reports\n",
      "\t\t-conf date datesomeone fraudulently opened credit cards name put lock reports unlocked could apply store card thru told would approximately hours applied later denied comenity bank said need wait least difference agency banks policy locked ca reapply days initially waited fine one time information reporting agencies consumer punished protecting lifting applying within different communicate longer period dictated excellent debt ratio job money protect good\n",
      "\t\t-fay servicing lender mortgage loan conf continually delayed posting payments account month far charged two late fees fact payment arrived time prior use bank bill payer service send guaranteed delivery date delays post based day receive mail waits several days recent sent fee feel unjust said refund acceptable\n",
      "\t\t-company mentioned sold collection conf another negotiated paid collections still report showing balance tried disputing bureaus gotten balances changed effecting ability get best interest rates home please help\n",
      "\t\t-date letter sent conf regarding debt owed proceeded contact funding mail second time mine respond information requested received indicating credit line card concern claimed would eligible approved company claiming owe want account mentioned removed report immediately\n",
      "\t\t-charge promotion made conf different payment structure utilize mobile app pay shows balance alert multiple transactions structures must call company allocate balances displayed separately one payments monthly based minimum however unknown divided resulting transaction promotional interest deferment paid expiration date addition added bill thinking paying bit quicker extra amount barely covering continues accrue completely confusing unfair customers diligently seems deceiving information available application rationale seen website counter reasoning also told could set alerts future asked assistance find offered allow today would totaling almost helpful\n",
      "\t\t-register account transferwise company use service international transfer conf date registration completed set amount complete top around usd money wise private deactivated cancel block send email questions access answer inform following regulation investigation process find reason may take days cancelled request get back name practice stealing however tw ask number proff ownership tour guide carry kinds documents due procedures doubt legal law wait till received differences less wrote clarify said hello thanks response funds swift hence processed refund using payment method please note payments incur extra charges intermediary banks well receiving bank charge fee unfortunately aware control fees case read hope explains let us know happy help best regards today receive services ordered blocked stuff informed regulations unknown reasons refusing lower dateusd\n",
      "\t\t-attached inquiry conf submitted experian twice removed still report nothing help remove said problem pay month use credit services get problems like let anyone post anything reports taken major time consuming issue even letters proving\n",
      "\t\t-accident date car totaled contacted chrysler capital find handle balance left told anything due time tried several times take care kept getting response moved months went hear buy another account reporting inaccurate information sent letter see could get straightened received pay money owe minus late fees would like cleared given total claim completed paid\n",
      "\t21: Debt collection\n",
      "\t\t-date filed complaint conf resolved favorably resolution account closed payments backdated credit reports remove late references updated immediately transunion report new day changed letter included payment history contradicts reporting also reported consumer finance file even delinquent stated\n",
      "\t\t-thre e main credit bureaus accurate information reports impossible reach either though individual sites well contact numbers provide due inaccurate fico scores decline specific given two issues incorrect show installment loan according models hurts score fact auto showed last year reason fail also debit balance card impacted basis points appears looked much better reporting track provided several times month often receive notice calling get tree allow representative thus low able gain favorable mortgage rate frustrated profit long remember assistance would greatly appreciated\n",
      "\t\t-id found allegedly outstanding federal student loan owing estimated conf requested paperwork proof considered even setting type payment plan asked send two people act pushed give bank account information prior reviewing confirmed physical address phone number please wait everything accurate call back set given said around pt received message left recorded screenshot\n",
      "\t\t-back date financed car conf toll didnt put money except pay start full coverage insurance believe paid something dollars ok discussed monthly payments signed finished left new even week later wanted go online see adding renters got apartment login information incorrect reason called customer service wrong birth account changed updated said would change rate month could afford told want use anymore went somewhere else billed made mistake messed allowed keep things might different\n",
      "\t\t-originally applied approved time thought paying loan insane wife decided roughly around date conf go submitted application provided information ssid banking etc payment breakdown e signed contract said call number finish process collected minutes informed exact payments cycle challenged discrepancy supervisor hung personal\n",
      "\t\t-started company seterus took loan conf time nothing put first one payment applied escrow account sent cfpb information date reference number said going fix correct numerous times faxing papers showing payments till day still getting harass already receive even copies sold another named whole mess informing make misapplying previous earlier believe lie fixing know made go though costing money send really need help hire legal please advise thank person talk inform like screwing get\n",
      "\t\t-believe got discriminated taken advantage conf back took home equity loan explained terms officer lied mislead think regular fact years paying paid line gone legal never one interest going high go young naive called bank occasion try resolve done nothing please help look statement tell take money apply office told would happen pay life time\n",
      "\t\t-harvard collections department human services debt payment foodstamps paid subtracting benefits wrote disputed amount company requested paperwork along itemized schedule owe sole owner reviewing reports specific location sign foodstamp program host employees caught collecting clients expense ask proof paper call sudden claim deleted taken credit report since respond many request case fraudulent matter love fact collection drop like explanations right make mistake confirmation detail overpayment rectify situation\n",
      "\t\t-complaint written reference midwest recovery system llc acct conf listed major credit reports illegally regards collecting debt owe sent request validation via usps certified return receipt requested beginning receive response according fair collection practices act must true accurate company place name systems without original creditor attempting collect false funds misapplied payments may understanding checking account back close due limited supply branches wanted join bank bigger however leave outstanding balance neither ever inform years since banked trying resolve matter amicably failure comply ftc regulations regarding reporting result small claims legal action local venue seeking minimum damages defamation negligent enablement identity fraud violation including section required appear court order formally defend notice attempt correct records information received collected evidence necessary cease illegal removal immediately similar case agency took awarded urgent require immediate attention prepared file judgement maintaining careful record communication purposes dependent upon detailing potential issues online public press release documentation valid statue limitation sol expires state another charges\n",
      "\t\t-commonwealth financial conf pa company continues report inaccurate unverifiable information noticed account balance reappearing changed change date opened appears recent currently reporting seen many times collections open requested removed progress response violation needs immediately\n",
      "\t\t-going back forth navient well dirty tactic collection firm named conf per courts reps spoken currently private student loans showing record pulled credit union court based judgements even though worked get corrected spoke rep executive services office supposedly records illegally garnished almost years lifted finally pulling told would none things happened still unable defend mine listing said never served papers order given day force prove failed live promise fulfil consistently state terms throw complaints unfair pushed follow forced join class action lawsuit lying practices want causing buy mothers home offered irrefutable damage\n",
      "\t\t-trying deal conf last years unhelpful give realistic options help paying student loan back know took plan way seem work would rather see starve family worried getting payment make think go college take advantage young kids cheats need pay harass year old grandfather time nice enough cosign loans call numerous times even told finally set months come find applied four failed mention also two behind clue making get situation researching online large number every result needs stopped company\n",
      "\t\t-conf heights finance office lies consumers law terms ther contract tries bully additional commitments first interest rate greater told took loan second payments due month day two late past never notified payment would days make informed could skip made phone maturation date moved later want another high rates come miles away good faith visit today legal said part agreement disagreed pointing nowhere paperwork going call every got money reminded point calling constitute harrassment pay regular fee whether liked unless came called several times since answered ignored back hoping better interaction within report credit bureau needed immedately avoid damaged already legally wrong right true know angry voice advance predatory lender particular rude dishonest concerned vindictively damage ever\n",
      "\t\t-b stonewalling sending release lien property following final payoff want details contacted someone assigned expedite return bank document may go media necessary thirty day period elapsed\n",
      "\t\t-first citizens bank construction loan date conf grading new home completed filed lien county clerk superior court manager nc branch managed facilitate closing attached satisfied knowledge prior told officer could closed outstanding paid suspect homeowner committed fraudulent felony act forging signature banker made attempts conceal even asked former sign agreement resigned noted general contractor also perfected lawsuit pending civil consulted attorney perfecting afford proceed action regardless taken place want work\n",
      "\t\t-divorce ex wife continued obtain new credit name disputed many accounts address alias appear bureaus respond need proof names ever gone debt despite going police stopped filing complaints local law nothing changes helps score low im really stuck ca even buy car without interest insane\n",
      "\t\t-complained item credit file equifax mailed quick response dated date way investigation completed length time originated apartment complex removed based instead bought sold staying negative belong\n",
      "\t\t-opened credit card account conf year ago never sent billing statement phone conversations almost monthly since first cycle explaining im receiving statements represtaives spoke told late fees would removed wouldnt need make another payment two months yet receive call next month stating past due explained received made representative said waive send spoken serveral supervisors resolve issue remove remark report done called back speak supervisor date correct issues failed contact result rep allow recently finally able get corporate office fax showed total charged refusing also remarks unless pay balance includes fact bill practice unethical appreciate help resolving\n",
      "\t\t-trying get pmi removed last years according loan profile requirement ltv reached ago tried every year rid give new set requirements documents says wells fargo require appraisal broker opinion one affiliates pay credit history conf customer others never late single payments go low estimate still comes higher asked repeatedly documentation signed closing states agreed affiliate unable produce meet however refinance\n",
      "\t\t-requested transunion conf send proof method verification used report bankruptcy credit agencies knowingly provided false information therefore violation fair reporting act attaching also originally asked verify listed furnisher court house prior dispute writing profile frozen following investigation cfpb changed furnishor account county parties violations disclosures consumers procedure case disputed accuracy obtaining pretenses courts third like\n",
      "\t\t-initiated mortgage application refinance primary property purchased conf day closing loan officer shows pay roundpoint servicing trying paid taxes tax proration purchase closed owed plus following year due date county treasures website previous entire calling roundpoints customer service line essentially said allowed charge want without providing written notice kept stating sent letter mail saying within days would force escrow stated towards end check verify office today close delayed update payoff removing irresponsible front agent rude disrespectful supervisor upon initial call well wanted talk circles contractual right money responsible make sure irresponsibly fees customers attaching never received also receipt lastly requested\n",
      "\t8: Credit card or prepaid card\n",
      "\t\t-date returned leased car conf dealership ca last day lease even called let know required fast forward received update notification regards credit report checking realized false delinquency generated checked account online find charged monthly beyond official end contract numerous mean calls emails lots stress provided different information department transfers multiple occasions held long hold hung nearly two weeks got rid reported balance promised also fix wrong experian never delivered ultimately asked file dispute denied think anything help scary disappointing causes companies much power influence life yet unorganized poorly run reach automatic charge whatever heard leasing returning like create financial disasters show anymore gotten rejection rentals etc events justice get penalized would easily punished send jail fail pay wear tear fair please resort attorney nobody takes case money shame thank\n",
      "\t\t-opened lowes credit card conf since charged paid multiple times last year increased limit decreased months date stating checked score ive requested increase back denied time payments report find constant checks intrusive also raising someones pay lower hindering dont feel legal right want looked many company raise allowed check customer paying bill never carries long would treat manner already charge extremely high interest\n",
      "\t\t-please advised second complaint final warning fully intend pursue litigation accordance fcra enforce rights seek relief recover monetary damages may entitled section regarding continued willful negligent noncompliance despite two written requests unverified items listed still remain credit report violation federal law required copy original creditors documentation file verify information mine correct results first investigation subsequent reinvestigation stated writing verified reported correctly accounts provided consumer contract signature furthermore failed provide method verification promptly delete clear civil liability remedy available fail comply litigious pursuing matter following conf\n",
      "\t\t-amid several complaints department education federal student aid conf loan servicer abusive malicious tactics handling discharge new nelnet years taken tax refund without cause received notice irs finally mailed letter claiming responsible offset cal called friendly year submitted doctors statement section date lead discharged keep getting excuses saying illegible form incomplete making filed intent days submit forms netnet honor paperwork day grace period continue take returns us unlawfully mistreatment demand stop also return unfair poverty level inability repay income\n",
      "\t\t-notified company cps recent accident date car pretty significant damages currently taking driver court paying loan insurance also around conf would need extension go back work granted day states anything due found today vehicle repo repair shop received phone stating going happen notice even option done needed prevent especially dealing auto prop damage case\n",
      "\t\t-spent last month hospital conf illness thus checking accounts daily usual yesterday released checked chase bank account online horrified discover nearly overdrawn appeared overdraft entirely due three unauthorized charges charge dated date know company subscription box annual amount also charged unknown reason price single ships quarterly day tried contact via email telephone received response second two called absolutely relationship appears another involving clothing billed phone sent today around since client clear numerous disputes behalf unfortunately dealing serious identity theft issues five years desperately trying receive new social security number thankfully nothing helpful always issue provisional fee within hours remove fees incurred putting however spoke woman name refused credit items asked stated report posted could would open investigation replied never heard policy explained hospitalized unmoved problem told case going forced switch banks basically offered protection whatsoever clients fine hang supposed resting stress per doctors instead sheer overdue payment notices pay wondering make next week far food transportation doctor appointments etc near end please help\n",
      "\t\t-conf soc sec dob date address fl unauthorized credit inquiry dear know name person charge better letter formal notice cease hard inquiries making intomy report also demandfor immediately contact reporting agencies bureaus organization made history illegal inquiriesremoved advised checking reports ensure thefollowing taken line item details finance nquiry miscellaneous reptg automobile dealers banks auto financing florida best knowledge signed documents authorizing view violates thefair act section c transactions initiated consumer document believe authorizes make theaforementioned respectfully request copy itbe sent may verify validity given growing cases identitytheft sure agree verification protect event possess authorization haveremoved profiles remove mypersonal information records please send confirmation havecomplied requests thank sincerely\n",
      "\t\t-event unrelated company missing payment however past due minimum disclosed billing statement module made date applied delinquency reported consumer credit reporting agencies requested delinquent comment removed\n",
      "\t4: Checking or savings account\n",
      "\t\t-todays date attention dispute department midland fund conf company violated fcra f prohibition sale transfer debt caused identity theft responded request provide investigation report need resolve fair credit reporting act disputed items may appear supported evidence general person shall sell consideration place collection notified section title resulted applicability prohibitions subsection apply persons collecting described paragraph notification rule construction nothing construed prohibit repurchase case assignee requires b securitization pledging portfolio collateral connection borrowing c result merger acquisition purchase assumption transaction substantially assets entity furnishes information consumer agency reasonable procedures respond receives relating resulting prevent refurnishing blocked reference listed please take matter serious form record prepare sue example confelephone protection litigation district court southern stop proceedings signatures applications accounts investigators sec dob address lookout\n",
      "\t\t-loan conf transferred nationstar mortgage mr coopeconf keep faxing balance reduction modification saying approved yes regular see letter cooper still doenst want reduce keeps need send state federal authorities least make aware since proof\n",
      "\t\t-conf ia date reported opened closed individual account revolving charge balance company named claims appear credit report making inaccurate derogatory remarks violation fair reporting act inaccurately owe dollars failed show item service purchased paid name address telephone number social security via debit card cash money order etc form payment must submit consumer finance file relating matter positively identify person conducted business identified owner debt remark removed based following continued beyond statute limitation without license collect operate current home state signed authorized document hiring soliciting services purchasing alleged owed another consent collection original provider product notifying phone make aware thus submitted transaction items correct spelling reside contracting provide full information identifying said\n",
      "\t\t-entered dispute bk removed credit file previously new law effective date public record data must include name address well ssn dob order appear bureau verify court share information companies updated per bankruptcy listed deleted\n",
      "\t4: Payday loan, title loan, or personal loan\n",
      "\t\t-date filed dispute conf account still reflecting open outstanding balance property previously sold mortgage paid full received results new rez reported loan foreclosed closed information incorrect never late ever foreclosure indicated reach regarding call refused assistance advised nothing willing offered file another take days middle purchasing home inaccuracy may cause get applying\n",
      "\t\t-due butched involvement institution denied charge instant cash withrawal citybank failed remove bill asked uphold federal laws disputed credit transaction assist complying claimed close account without approval opened second third adding new accounts completely contacted conf security division became nightmare ruge bank disseminates personal information foreign country duty comply us able anything customer citizen recourse demand attorney general review conducts assess highest fines available repeatedly violating\n",
      "\t\t-conf declined car loan app date list principal reasons credit denial follows income insufficient meet obligation make per year lexisnexis owned home since specifically lists agency providing info influenced decision reject application also obtained score risk solutions used making number reflects information consumer report change depending changes scores range low high key factors adversely affected eviction record found inquiries last months sources confirming identity current address waited days receive lexis nexis full could request usps mail disputed incorrect email another response snail find damaging data reporting remain even though supplied numerous documents proving attached communication evidence creditworthiness preventing obtaining sued damage recklessly causing\n",
      "\t\t-hello complaint three credit reporting companies experian conf noticed discrepencies report put freeze date notified agencies previously stated writtent letter dated requesting verifiy certain accounts showing bankruptcy bank account response verified third partner correct since one obtain anything unfreeze wrote second mailed telling lied said two question using called requested attempted access year told violation consumer rights demand removed immediately back stating talk never responded dateto plus days investigate claim expired checked states uses verify also please compnaies wrong party gives information attach tell fight get corrected dont impossible frozen items mention even respond investigation request\n",
      "\t1: Money transfer, virtual currency, or money service\n",
      "\t\t-back date disputed account conf experian amount told validated debt valid however asked method verification representative spoke received generic answer violated fcra requested use instead verify contract signature site challenged never substantial information original signed consumer even time period research fair credit reporting act mandates bureaus report accurate validate confirm per fdcpa regulations following done sent copies written notice provided lienholders first class mail intent file repo title copy california form application repossession lien receipt actual reflecting lienholder state requires items listed obtain enabling sale unsuccessful providing request unable provide required proof within days letter alleged claim deficiency considered null void since failed comply proper protection laws\n",
      "\t1: Mortgage\n",
      "\t\t-tired many problems bank closed account dont pay lawyer divorce impossible complaint ex husband file contacts conf called received check since almost months apartament unfortunately need find damages finances emotional would like copy checks deposit never return\n",
      "\t1: Vehicle loan or lease\n",
      "\t\t-signed contract portfolio recovery associates never business company liable collection debts reporting credit reports responsible licensed collect state california per told attorney\n",
      "\t1: Student loan\n",
      "\t\t-incredibly inconsistent importantly incorrect reporting behalf three mentioned agencies transunion particular lesser extent conf even chief problem debt accounts classified incorrectly causing weighting fico score massively inaccurate across board blatantly evident incredible amount variance range values last decade tirelessly fruitlessly accord contested inaccuracies time little avail resort reach\n",
      "  Cluster nr: 12\n",
      "\t10: Credit reporting, credit repair services, or other personal consumer reports\n",
      "\t\t-noticed someone using information making unauthorized hard inquiries fraud list conf\n",
      "\t\t-old car repossessed became unemployed sold debt paid credit report showing still full balance amount purchased vehicle account charged poor standing reflect closed since\n",
      "\t\t-contacted wells fargo home mortgage several times requesting copies monthly billing statements years date also requested copy irs form conf issue failed\n",
      "\t\t-following accounts reported credit file due identity theft absolutely knowledge mines therefore asking removed immediately concert laws fcra demanding blocked conf\n",
      "\t\t-found information credit report notified via mail phone otherwise currently conf pay insurance paid\n",
      "\t\t-situations going credit file addresses need updated name conf address oh please delete remove following date would like new report sent information correctly\n",
      "\t\t-listed accounts appears credit report belong given anyone access nanny personal information apply cards loans name conf amount opened date us dept education\n",
      "\t\t-accounts added created unbeknownst notice concern hold accountable accuse complicity exercise malevolent hereby mark likely one might day view civil discord would plaintiffs yet declare unjust claim met deliberate determined resistance counteraction clarity debt collection insufficient collections much less reporting must delete injurious allegation significantly deficient requisite certified compliance perfect metro format testimonial evidence physically verifiable proof validation related full truth accuracy completeness timeliness ownership identity true debtor dates balances audits calculations source codes creditor code statement associated trailing fragments minimal five portioned personal identifiers pay statuses required confirmation elsewise standard mandatory proper mentioned although checking addressing missing aspects compliances contesting compliant nature make aware since unlawful transitions equally complaint circumstance still validated document fact standards announced legally knowledge validity alleged claims delinquency derogatory certifiably matter either attempts despite previous consumer filed composed complaints known especially shall elect take court pursued particularly defined precisely certifiable manner detailed obeyed federal state regulations noted said include limited fcba fcra hipaa privacy rule facta fdcpa tcpa etc additionally entity acts collector also elects act party credit well adhere every single even regulatory requisites legal standing accordance laws accepted date plaintiff failed demonstrate capacity willingness validate certify fair accurate complete display given recent breaches information repositories hesitating readily accept presented without legitimate deny nothing reserve right question unproven call reject untrue unverified incomplete otherwise invalid thereby dischargeable requirement dismissed demand resolution today accords statutes received ever entering contractual relationship forward ies allegedly issued defaulted line accusations similar repeated calls accusers adequately acquired permissible purpose exactly individual irrefutably identified acknowledgement parties form knowingly acknowledging unknowingly owe proven compliantly reported written declaration testimony factual obvious allegations clear subterfuge willful disregard ethical practices done ignorance behavior efforts vile derelict unjustly doubt dismissal discharge misreported delinquencies undeniably unfairly lodged versus receiving facts account items delinquent actions reiterate called present correct documentation rights collect report let optional mute law open submitted adequate genesis inability prove application agreement contract describing inherently makes whole summons request resolve immediate eradication charge rectification appropriate stands complaining unethically illegally absolute deficiency applicable unwillingness timely fully preference stand authority integrity ensure correctness responsibility\n",
      "\t\t-sued court collection account documents owe debt credit bureau remove report\n",
      "\t\t-experian keeps adding fraud alert banks get told quit\n",
      "\t3: Debt collection\n",
      "\t\t-conf refuses initiate disputes line continues list fraudulent information credit report\n",
      "\t\t-sent letter via certified mail company failed comply according fcra guidelines respond within days\n",
      "\t\t-collection credit report result fraudulent charges aware card used never addition placed freezes three bureaus extra protection get everything sorted\n",
      "\t2: Checking or savings account\n",
      "\t\t-would like fraud alerts removed credit report\n",
      "\t\t-many mistakes appear report without understanding\n",
      "\t1: Vehicle loan or lease\n",
      "\t\t-sent certified letters via mail time requesting false information removed credit report able verify debt belongs one responded honored request\n",
      "\t1: Credit card or prepaid card\n",
      "\t\t-recognize account never applied contracts agreements company\n",
      "\t1: Mortgage\n",
      "\t\t-victim identity theft filed dispute companies hard credit inquiry didnt come report conf card name well remove anything\n",
      "\t1: Student loan\n",
      "\t\t-several items reporting credit file belong result identity theft conf agencies please remove unauthorized inquiries\n",
      "  Cluster nr: 11\n",
      "\t1: Student loan\n",
      "\t\t-accounts added created unbeknownst notice concern hold accountable accuse complicity exercise malevolent hereby mark likely one might day view civil discord would plaintiffs yet declare unjust claim met deliberate determined resistance counteraction clarity debt collection insufficient collections much less reporting must delete injurious allegation significantly deficient requisite certified compliance perfect conf format testimonial evidence physically verifiable proof validation related full truth accuracy completeness timeliness ownership identity true debtor dates balances audits calculations source codes creditor code statement associated trailing fragments minimal five portioned personal identifiers pay statuses required confirmation elsewise standard mandatory proper mentioned although checking addressing missing aspects compliances contesting compliant nature make aware since unlawful transitions equally complaint circumstance still validated document fact standards announced legally knowledge validity alleged claims delinquency derogatory certifiably matter either attempts despite previous consumer filed composed complaints known especially shall elect take court pursued particularly defined precisely certifiable manner detailed obeyed federal state regulations noted said include limited fcra hipaa privacy rule facta fdcpa tcpa etc additionally entity acts collector also elects act party credit well adhere every single even regulatory requisites legal standing accordance laws accepted date plaintiff failed demonstrate capacity willingness validate certify fair accurate complete display given recent breaches information repositories hesitating readily accept presented without legitimate deny nothing reserve right question unproven call reject untrue unverified incomplete otherwise invalid thereby dischargeable requirement dismissed demand resolution today accords statutes received ever entering contractual relationship forward ies allegedly issued defaulted line accusations similar repeated calls accusers adequately acquired permissible purpose exactly individual irrefutably identified acknowledgement parties form knowingly acknowledging unknowingly owe proven compliantly reported written declaration testimony factual obvious allegations clear subterfuge willful disregard ethical practices done ignorance behavior efforts vile derelict unjustly doubt dismissal discharge misreported delinquencies undeniably unfairly lodged versus receiving facts account items delinquent actions reiterate called present correct documentation rights collect report let optional mute law open submitted adequate genesis inability prove application agreement contract describing inherently makes whole summons request resolve immediate eradication charge rectification appropriate stands complaining unethically illegally absolute deficiency applicable unwillingness timely fully preference stand authority integrity ensure correctness responsibility\n",
      "  Cluster nr: 6\n",
      "\t1: Debt collection\n",
      "\t\t-sent inaccurate formation\n",
      "  Cluster nr: 5\n",
      "\t1: Payday loan, title loan, or personal loan\n",
      "\t\t-victim identity theft\n",
      "  Cluster nr: 9\n",
      "\t1: Credit reporting, credit repair services, or other personal consumer reports\n",
      "\t\t-aware could dispute validity debt\n"
     ],
     "name": "stdout"
    }
   ]
  },
  {
   "cell_type": "markdown",
   "metadata": {
    "id": "cuvdQx608rWs"
   },
   "source": [
    "# Wyniki"
   ]
  },
  {
   "cell_type": "markdown",
   "metadata": {
    "id": "YEN5pQz9CO89"
   },
   "source": [
    "Z przetestowanych metryk najlepiej poradziła sobie metryka Levenshteina, starająć się chociaż utworzyć klastry opisujące skargi na różne produkty. Niestety dużą część w tym zbiorze zajmuje klasa *Credit reporting, credit repair services, or other personal consumer reports.* co powoduje duże zaburzenia i skargi tej klasy znajdują się w większośći klastrów. Można jednak zauważyć zależność pomiędzy *Debt collection* i *Mortgage*, które to często znajdują się w tym samym klastrze.\n",
    "\n",
    "Następnie przetestowałem metryki Jaccarda i Sorensena, która w ogóle nie poradziły sobie z tym zadaniem i dystanse obliczone według nich za mało się różniły, co spowodowało utworzenie pojedynczych klastrów.\n",
    "\n",
    "Sytuację tę zmieniło dopiero użycie wariantu Sorensen-DICE, użycie tej metryki spowodowało natomiast utworzenie 6 klastrów, z których 4 są bardzo małe, a dwa zawierają wiele klas. Tym razem jednak znowu możemy dostrzec, że *Debt collection* i *Mortgage* mają pewne podobieńśtwa, gdyż w pierwszym klastrze jest ich po 3, natomiast w drugim 11 i 8.\n",
    "\n",
    "Po dodaniu wypisywania otagowanych treści skarg można dostrzec, że w pojedynczych lub posiadających mało członków klastrach znajdują się zazwyczaj bardzo krótkie skargi, co tłumaczy dlaczego ciężko było je przyłączyć do któregoś z większych klastrów, gdyż posiadały zbyt mało słów z nimi powiązanymi."
   ]
  },
  {
   "cell_type": "code",
   "metadata": {
    "id": "gYAovdWFvlRg"
   },
   "source": [
    ""
   ],
   "execution_count": null,
   "outputs": []
  }
 ]
}