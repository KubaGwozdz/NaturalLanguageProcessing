{
 "cells": [
  {
   "cell_type": "code",
   "execution_count": 4,
   "metadata": {},
   "outputs": [],
   "source": [
    "import regex\n",
    "import os\n",
    "import matplotlib.pyplot as plt"
   ]
  },
  {
   "cell_type": "code",
   "execution_count": 5,
   "metadata": {},
   "outputs": [],
   "source": [
    "bill_filenames = []\n",
    "for file in os.listdir(\"ustawy\"):\n",
    "    if file.endswith(\".txt\"):\n",
    "        bill_filenames.append(os.path.join(\"ustawy\", file))"
   ]
  },
  {
   "cell_type": "code",
   "execution_count": 6,
   "metadata": {},
   "outputs": [],
   "source": [
    "result = {}\n",
    "bill_mentions = 0\n",
    "bill_frm_day_mentions = 0\n",
    "bill_not_frm_day_mentions = 0\n",
    "bill_not_chg_mentions = 0\n",
    "\n",
    "\n",
    "for bill_name in bill_filenames:\n",
    "    year = int(bill_name[7:11])\n",
    "    if year not in result:\n",
    "        result[year] = {'add': 0, 'rem': 0, 'chg': 0}\n",
    "    with open(bill_name) as b_file:\n",
    "        add_p = regex.compile('dodaje się (?:ust|pkt|art|§)', regex.IGNORECASE)\n",
    "        rem_p = regex.compile('skreśla się (?:§|art.|ust.|pkt)', regex.IGNORECASE)\n",
    "        chg_p = regex.compile('(?:§|art.|ust.|pkt) [0-9]+ otrzymuje brzmienie', regex.IGNORECASE)\n",
    "        \n",
    "        bill_p = regex.compile('(?:\\\\bustawa\\\\b|\\\\bustawy\\\\b|\\\\bustawie\\\\b|\\\\bustawę\\\\b'\\\n",
    "                               '|\\\\bustawą\\\\b|\\\\bustawo\\\\b|\\\\bustawy\\\\b|\\\\bustaw\\\\b'\\\n",
    "                               '|\\\\bustawom\\\\b|\\\\bustawami\\\\b|\\\\bustawach\\\\b)', regex.IGNORECASE)\n",
    "        \n",
    "        bill_frm_day = regex.compile('(?:\\\\bustawa\\\\b|\\\\bustawy\\\\b|\\\\bustawie\\\\b|\\\\bustawę\\\\b'\\\n",
    "                               '|\\\\bustawą\\\\b|\\\\bustawo\\\\b|\\\\bustawy\\\\b|\\\\bustaw\\\\b'\\\n",
    "                               '|\\\\bustawom\\\\b|\\\\bustawami\\\\b|\\\\bustawach\\\\b)'\\\n",
    "                               '(?= z dnia)', regex.IGNORECASE)\n",
    "        \n",
    "        bill_not_frm_day = regex.compile('(?:\\\\bustawa\\\\b|\\\\bustawy\\\\b|\\\\bustawie\\\\b|\\\\bustawę\\\\b'\\\n",
    "                               '|\\\\bustawą\\\\b|\\\\bustawo\\\\b|\\\\bustawy\\\\b|\\\\bustaw\\\\b'\\\n",
    "                               '|\\\\bustawom\\\\b|\\\\bustawami\\\\b|\\\\bustawach\\\\b)'\\\n",
    "                               '(?! z dnia)', regex.IGNORECASE)\n",
    "        \n",
    "        bill_not_chg = regex.compile('(?:\\\\bustawa\\\\b|\\\\bustawy\\\\b|\\\\bustawie\\\\b|\\\\bustawę\\\\b'\\\n",
    "                               '|\\\\bustawą\\\\b|\\\\bustawo\\\\b|\\\\bustawy\\\\b|\\\\bustaw\\\\b'\\\n",
    "                               '|\\\\bustawom\\\\b|\\\\bustawami\\\\b|\\\\bustawach\\\\b)'\\\n",
    "                               '(?! o zmianie)', regex.IGNORECASE)\n",
    "\n",
    "        for line in b_file:\n",
    "            add_matches = add_p.findall(line)\n",
    "            rem_matches = rem_p.findall(line)\n",
    "            chg_matches = chg_p.findall(line)\n",
    "\n",
    "            result[year]['add'] += len(add_matches)\n",
    "            result[year]['rem'] += len(rem_matches)\n",
    "            result[year]['chg'] += len(chg_matches)\n",
    "            \n",
    "            bill_matches = bill_p.findall(line)\n",
    "            bill_mentions += len(bill_matches)\n",
    "            \n",
    "            bill_frm_day_matches = bill_frm_day.findall(line)\n",
    "            bill_frm_day_mentions += len(bill_frm_day_matches)\n",
    "            \n",
    "            bill_not_frm_day_matches = bill_not_frm_day.findall(line)\n",
    "            bill_not_frm_day_mentions += len(bill_not_frm_day_matches)\n",
    "            \n",
    "            bill_not_chg_matches = bill_not_chg.findall(line)\n",
    "            bill_not_chg_mentions += len(bill_not_chg_matches)\n",
    "\n",
    "\n"
   ]
  },
  {
   "cell_type": "code",
   "execution_count": 7,
   "metadata": {},
   "outputs": [],
   "source": [
    "result = dict(sorted(result.items()))"
   ]
  },
  {
   "cell_type": "code",
   "execution_count": 8,
   "metadata": {},
   "outputs": [
    {
     "data": {
      "text/plain": [
       "<matplotlib.legend.Legend at 0x1115d8d50>"
      ]
     },
     "execution_count": 8,
     "metadata": {},
     "output_type": "execute_result"
    },
    {
     "data": {
      "image/png": "[encoded data removed]",
      "text/plain": [
       "<Figure size 432x288 with 1 Axes>"
      ]
     },
     "metadata": {
      "needs_background": "light"
     },
     "output_type": "display_data"
    }
   ],
   "source": [
    "fig = plt.figure()\n",
    "ax = plt.axes()\n",
    "X = list(result.keys())\n",
    "\n",
    "total_add = sum([y['add'] for y in result.values()])\n",
    "total_rem = sum([y['rem'] for y in result.values()])\n",
    "total_chg = sum([y['chg'] for y in result.values()])\n",
    "\n",
    "\n",
    "add_Y = [y['add']/total_add*100 for y in result.values()]\n",
    "rem_Y = [y['rem']/total_rem*100 for y in result.values()]\n",
    "chg_Y = [y['chg']/total_chg*100 for y in result.values()]\n",
    "\n",
    "\n",
    "ax.plot(X, add_Y, label=\"add\")\n",
    "ax.plot(X, rem_Y, label=\"remove\")\n",
    "ax.plot(X, chg_Y, label=\"change\")\n",
    "ax.legend()"
   ]
  },
  {
   "cell_type": "markdown",
   "metadata": {},
   "source": [
    "Możemy zauważyć tendencje związane z poszczególnymi latami, które mają swoje odzwierciedlenie w każdej z kategorii. Przez cały okres do roku 2002 tendencje wszystkich kategorii były takie same, natomiast po 2002 znacząco spadła liczba usuwanych zapisów.\n",
    "Możemy dostrzec znaczący wzrost prac ustawodawczych w latach bezpośrednio przed wyborami parlamentarnymi (1997, 2001) i spadek po."
   ]
  },
  {
   "cell_type": "code",
   "execution_count": 9,
   "metadata": {},
   "outputs": [
    {
     "data": {
      "text/plain": [
       "25092"
      ]
     },
     "execution_count": 9,
     "metadata": {},
     "output_type": "execute_result"
    }
   ],
   "source": [
    "bill_mentions"
   ]
  },
  {
   "cell_type": "code",
   "execution_count": 10,
   "metadata": {},
   "outputs": [
    {
     "data": {
      "text/plain": [
       "6979"
      ]
     },
     "execution_count": 10,
     "metadata": {},
     "output_type": "execute_result"
    }
   ],
   "source": [
    "bill_frm_day_mentions"
   ]
  },
  {
   "cell_type": "code",
   "execution_count": 11,
   "metadata": {},
   "outputs": [
    {
     "data": {
      "text/plain": [
       "18113"
      ]
     },
     "execution_count": 11,
     "metadata": {},
     "output_type": "execute_result"
    }
   ],
   "source": [
    "bill_not_frm_day_mentions"
   ]
  },
  {
   "cell_type": "code",
   "execution_count": 12,
   "metadata": {},
   "outputs": [
    {
     "data": {
      "text/plain": [
       "True"
      ]
     },
     "execution_count": 12,
     "metadata": {},
     "output_type": "execute_result"
    }
   ],
   "source": [
    "bill_mentions == bill_frm_day_mentions + bill_not_frm_day_mentions"
   ]
  },
  {
   "cell_type": "markdown",
   "metadata": {},
   "source": [
    "Wynik się zgadza, wystąpienia ze słowami \"z dnia\" oraz te bez sumują się to całkowitej liczby wystąpień słowa ustawa (w różnych odmianach)."
   ]
  },
  {
   "cell_type": "code",
   "execution_count": 13,
   "metadata": {},
   "outputs": [
    {
     "data": {
      "text/plain": [
       "25064"
      ]
     },
     "execution_count": 13,
     "metadata": {},
     "output_type": "execute_result"
    }
   ],
   "source": [
    "bill_not_chg_mentions"
   ]
  },
  {
   "cell_type": "code",
   "execution_count": 14,
   "metadata": {},
   "outputs": [
    {
     "data": {
      "text/plain": [
       "<BarContainer object of 1 artists>"
      ]
     },
     "execution_count": 14,
     "metadata": {},
     "output_type": "execute_result"
    },
    {
     "data": {
      "image/png": "[encoded data removed]",
      "text/plain": [
       "<Figure size 432x288 with 1 Axes>"
      ]
     },
     "metadata": {
      "needs_background": "light"
     },
     "output_type": "display_data"
    }
   ],
   "source": [
    "bfig = plt.figure()\n",
    "\n",
    "plt.bar('Ustawa',bill_mentions)\n",
    "plt.bar('z dnia', bill_frm_day_mentions)\n",
    "plt.bar('nie z dnia', bill_not_frm_day_mentions)\n",
    "plt.bar('bez o zmianie', bill_not_chg_mentions)"
   ]
  },
  {
   "cell_type": "markdown",
   "metadata": {},
   "source": [
    "Wystąpień słowa \"ustawa\" bez  \"o zmianie\" jest prawie tyle samo co wystąpień samego słowa \"ustawa\""
   ]
  },
  {
   "cell_type": "code",
   "execution_count": 15,
   "metadata": {},
   "outputs": [
    {
     "data": {
      "text/plain": [
       "28"
      ]
     },
     "execution_count": 15,
     "metadata": {},
     "output_type": "execute_result"
    }
   ],
   "source": [
    "bill_mentions-bill_not_chg_mentions"
   ]
  },
  {
   "cell_type": "code",
   "execution_count": null,
   "metadata": {},
   "outputs": [],
   "source": []
  }
 ],
 "metadata": {
  "kernelspec": {
   "display_name": "Python 3",
   "language": "python",
   "name": "python3"
  },
  "language_info": {
   "codemirror_mode": {
    "name": "ipython",
    "version": 3
   },
   "file_extension": ".py",
   "mimetype": "text/x-python",
   "name": "python",
   "nbconvert_exporter": "python",
   "pygments_lexer": "ipython3",
   "version": "3.7.7"
  }
 },
 "nbformat": 4,
 "nbformat_minor": 4
}
