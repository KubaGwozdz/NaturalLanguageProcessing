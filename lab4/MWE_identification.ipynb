{
 "cells": [
  {
   "cell_type": "code",
   "execution_count": 1,
   "metadata": {},
   "outputs": [],
   "source": [
    "from spacy.tokenizer import Tokenizer\n",
    "from spacy.lang.pl import Polish\n",
    "\n",
    "import os\n",
    "import itertools\n",
    "\n",
    "import regex as re\n",
    "\n",
    "import math\n",
    "\n",
    "from IPython.display import HTML, display\n",
    "import tabulate"
   ]
  },
  {
   "cell_type": "code",
   "execution_count": 2,
   "metadata": {},
   "outputs": [],
   "source": [
    "nlp = Polish()    #spacy.load('pl_core_news_sm')\n",
    "tokenizer = Tokenizer(nlp.vocab)"
   ]
  },
  {
   "cell_type": "code",
   "execution_count": 3,
   "metadata": {},
   "outputs": [],
   "source": [
    "bill_filenames = []\n",
    "for file in os.listdir(\"../ustawy\"):\n",
    "    if file.endswith(\".txt\"):\n",
    "        bill_filenames.append(os.path.join(\"../ustawy\", file))"
   ]
  },
  {
   "cell_type": "code",
   "execution_count": 4,
   "metadata": {},
   "outputs": [],
   "source": [
    "freq = dict()\n",
    "bigrams = dict()"
   ]
  },
  {
   "cell_type": "code",
   "execution_count": 5,
   "metadata": {},
   "outputs": [],
   "source": [
    "for bill_name in bill_filenames:\n",
    "    with open(bill_name, encoding='utf-8') as b_file:\n",
    "        doc = b_file.read()\n",
    "        doc = doc.lower()\n",
    "        tokens = tokenizer(doc)\n",
    "        \n",
    "        prev = tokens[0].text\n",
    "        freq[prev] = freq.get(prev, 0) + 1\n",
    "        for i in range(1,len(tokens)):\n",
    "            token = tokens[i].text\n",
    "            bigram = prev + ' ' + token\n",
    "            bigrams[bigram] = bigrams.get(bigram, 0) + 1\n",
    "            prev = token\n",
    "            freq[token] = freq.get(token, 0) + 1"
   ]
  },
  {
   "cell_type": "code",
   "execution_count": 6,
   "metadata": {},
   "outputs": [],
   "source": [
    "bigrams = {k: v for k, v in sorted(bigrams.items(), key=lambda item: item[1], reverse=True)}\n",
    "freq = {k: v for k, v in sorted(freq.items(), key=lambda item: item[1], reverse=True)}"
   ]
  },
  {
   "cell_type": "code",
   "execution_count": 7,
   "metadata": {},
   "outputs": [],
   "source": [
    "bigrams = dict(filter(lambda kv: re.match('^\\p{L}+ \\p{L}+$', kv[0]) is not None, bigrams.items()))\n",
    "freq = dict(filter(lambda kv: re.match('^\\p{L}+$', kv[0]) is not None, freq.items()))"
   ]
  },
  {
   "cell_type": "markdown",
   "metadata": {},
   "source": [
    "## PMI"
   ]
  },
  {
   "cell_type": "code",
   "execution_count": 8,
   "metadata": {},
   "outputs": [],
   "source": [
    "bigrams_PMI = {}\n",
    "n_tokens = sum(freq.values())\n",
    "n_bigrams = sum(bigrams.values())"
   ]
  },
  {
   "cell_type": "code",
   "execution_count": 9,
   "metadata": {},
   "outputs": [],
   "source": [
    "for bigram in bigrams.keys():\n",
    "    w1, w2 = bigram.split(' ')\n",
    "    w1_p = freq[w1]/n_tokens\n",
    "    w2_p = freq[w2]/n_tokens\n",
    "    w1_w2_p = bigrams[bigram]/n_bigrams\n",
    "    bigrams_PMI[bigram] = math.log2(w1_w2_p / (w1_p * w2_p))"
   ]
  },
  {
   "cell_type": "code",
   "execution_count": 10,
   "metadata": {},
   "outputs": [],
   "source": [
    "bigrams_PMI = {k: v for k, v in sorted(bigrams_PMI.items(), key=lambda item: item[1], reverse=True)}"
   ]
  },
  {
   "cell_type": "markdown",
   "metadata": {},
   "source": [
    "### TOP 10"
   ]
  },
  {
   "cell_type": "code",
   "execution_count": 11,
   "metadata": {},
   "outputs": [
    {
     "name": "stdout",
     "output_type": "stream",
     "text": [
      "doktorów habilitowanych: 21.97577769832482\n",
      "pionową ścianę: 21.97577769832482\n",
      "punktem wyprowadzonym: 21.97577769832482\n",
      "skrzynek lęgowych: 21.97577769832482\n",
      "usprawnianie zaburzonych: 21.97577769832482\n",
      "oświatowa nieobejmująca: 21.97577769832482\n",
      "stępkę położono: 21.97577769832482\n",
      "frachtem dystansowym: 21.97577769832482\n",
      "wybuchła wojna: 21.97577769832482\n",
      "dało pożytecznego: 21.97577769832482\n"
     ]
    }
   ],
   "source": [
    "for bigram, pmi in list(bigrams_PMI.items())[:10]:\n",
    "    print(bigram + ': ' + str(pmi))"
   ]
  },
  {
   "cell_type": "code",
   "execution_count": 12,
   "metadata": {},
   "outputs": [],
   "source": [
    "bigrams_PMI_m5 = dict()\n",
    "\n",
    "for bigram, pmi in bigrams_PMI.items():\n",
    "    if bigrams[bigram] >= 5:\n",
    "        bigrams_PMI_m5[bigram] = pmi\n",
    "    "
   ]
  },
  {
   "cell_type": "markdown",
   "metadata": {},
   "source": [
    "### TOP 10 with >= 5 occurencies"
   ]
  },
  {
   "cell_type": "code",
   "execution_count": 13,
   "metadata": {},
   "outputs": [
    {
     "name": "stdout",
     "output_type": "stream",
     "text": [
      "ręcznego miotacza: 19.653849603437457\n",
      "świeckie przygotowujące: 19.653849603437457\n",
      "grzegorz schetyna: 19.653849603437457\n",
      "młyny kulowe: 19.653849603437457\n",
      "zaszkodzić wynikom: 19.653849603437457\n",
      "adama mickiewicza: 19.390815197603665\n",
      "przeponowe rurowe: 19.390815197603665\n",
      "mleczka makowego: 19.390815197603665\n",
      "schedę spadkową: 19.168422776267217\n",
      "lambrekiny okienne: 19.168422776267217\n"
     ]
    }
   ],
   "source": [
    "for bigram, pmi in list(bigrams_PMI_m5.items())[:10]:\n",
    "    print(bigram + ': ' + str(pmi))"
   ]
  },
  {
   "cell_type": "markdown",
   "metadata": {},
   "source": [
    "## LLR"
   ]
  },
  {
   "cell_type": "code",
   "execution_count": 14,
   "metadata": {},
   "outputs": [],
   "source": [
    "bigrams_LLR = {}\n",
    "all_occ = sum(bigrams.values())"
   ]
  },
  {
   "cell_type": "code",
   "execution_count": 15,
   "metadata": {},
   "outputs": [],
   "source": [
    "c_w_cache = {}\n",
    "\n",
    "def count_witout(word, without):\n",
    "    if (word, without) in c_w_cache.keys():\n",
    "        return c_w_cache[(word, without)]\n",
    "    else:\n",
    "        count = 0\n",
    "        for bigram, freq in bigrams.items():\n",
    "            if word in bigram and without not in bigram:\n",
    "                    count += freq\n",
    "        c_w_cache[(word, without)] = count\n",
    "        return count"
   ]
  },
  {
   "cell_type": "code",
   "execution_count": 16,
   "metadata": {},
   "outputs": [],
   "source": [
    "def H(args, N):\n",
    "    res = 0\n",
    "    for k in args:\n",
    "        k /= N\n",
    "        k_eq_0 = 1 if k == 0 else 0\n",
    "        res += k * math.log(k + k_eq_0)\n",
    "    return res"
   ]
  },
  {
   "cell_type": "code",
   "execution_count": 17,
   "metadata": {},
   "outputs": [],
   "source": [
    "for bigram, k11 in bigrams.items():\n",
    "    w1, w2 = bigram.split(' ')\n",
    "    k12 = freq[w2] - k11\n",
    "    k21 = freq[w1] - k11\n",
    "    \n",
    "    k22 = all_occ - (k11 + k12 + k21)\n",
    "    LLR = 2 * all_occ * (H([k11, k12, k21, k22], all_occ) - H([k11 + k12, k21 + k22], all_occ) - H([k11 + k21, k12 + k22], all_occ))\n",
    "    \n",
    "    bigrams_LLR[bigram] = LLR   "
   ]
  },
  {
   "cell_type": "code",
   "execution_count": 18,
   "metadata": {},
   "outputs": [],
   "source": [
    "bigrams_LLR = {k: v for k, v in sorted(bigrams_LLR.items(), key=lambda item: item[1], reverse=True)}"
   ]
  },
  {
   "cell_type": "markdown",
   "metadata": {},
   "source": [
    "### TOP 10 LLR"
   ]
  },
  {
   "cell_type": "code",
   "execution_count": 19,
   "metadata": {},
   "outputs": [
    {
     "name": "stdout",
     "output_type": "stream",
     "text": [
      "mowa w: 19.168422776267217\n",
      "których mowa: 19.168422776267217\n",
      "o których: 19.168422776267217\n",
      "którym mowa: 19.168422776267217\n",
      "dodaje się: 19.168422776267217\n",
      "do spraw: 19.168422776267217\n",
      "o którym: 19.168422776267217\n",
      "w w: 19.168422776267217\n",
      "stosuje się: 19.168422776267217\n",
      "minister właściwy: 19.168422776267217\n"
     ]
    }
   ],
   "source": [
    "for bigram, llr in list(bigrams_LLR.items())[:10]:\n",
    "    print(bigram + ': ' + str(pmi))"
   ]
  },
  {
   "cell_type": "markdown",
   "metadata": {},
   "source": [
    "## TRIGRAMS"
   ]
  },
  {
   "cell_type": "code",
   "execution_count": 20,
   "metadata": {},
   "outputs": [],
   "source": [
    "trigrams = {}"
   ]
  },
  {
   "cell_type": "code",
   "execution_count": 21,
   "metadata": {},
   "outputs": [],
   "source": [
    "for bill_name in bill_filenames:\n",
    "    with open(bill_name, encoding='utf-8') as b_file:\n",
    "        doc = b_file.read()\n",
    "        doc = doc.lower()\n",
    "        tokens = tokenizer(doc)\n",
    "        \n",
    "        prev2 = tokens[0].text\n",
    "        prev1 = tokens[1].text\n",
    "        for i in range(2,len(tokens)):\n",
    "            token = tokens[i].text\n",
    "            trigram = prev2 + ' ' + prev1 + ' ' + token\n",
    "            trigrams[trigram] = trigrams.get(trigram, 0) + 1\n",
    "            prev2 = prev1\n",
    "            prev1 = token\n"
   ]
  },
  {
   "cell_type": "code",
   "execution_count": 22,
   "metadata": {},
   "outputs": [],
   "source": [
    "trigrams = dict(filter(lambda kv: re.match('^\\p{L}+ \\p{L}+ \\p{L}+$', kv[0]) is not None, trigrams.items()))\n",
    "trigrams_PMI = {}\n",
    "n_trigrams = sum(trigrams.values())"
   ]
  },
  {
   "cell_type": "code",
   "execution_count": 23,
   "metadata": {},
   "outputs": [],
   "source": [
    "for trigram in trigrams.keys():\n",
    "    w1, w2, w3 = trigram.split(' ')\n",
    "    w1_p = freq[w1]/n_tokens\n",
    "    w2_p = freq[w2]/n_tokens\n",
    "    w3_p = freq[w2]/n_tokens\n",
    "\n",
    "    w1_w2_w3_p = trigrams[trigram]/n_trigrams\n",
    "    trigrams_PMI[trigram] = math.log(w1_w2_w3_p / (w1_p * w2_p * w3_p))"
   ]
  },
  {
   "cell_type": "code",
   "execution_count": 24,
   "metadata": {},
   "outputs": [],
   "source": [
    "trigrams_PMI = {k: v for k, v in sorted(trigrams_PMI.items(), key=lambda item: item[1], reverse=True)}"
   ]
  },
  {
   "cell_type": "markdown",
   "metadata": {},
   "source": [
    "### TOP 10"
   ]
  },
  {
   "cell_type": "code",
   "execution_count": 25,
   "metadata": {},
   "outputs": [
    {
     "name": "stdout",
     "output_type": "stream",
     "text": [
      "doktorów habilitowanych nauk: 30.448705803472787\n",
      "skrzynek lęgowych dla: 30.448705803472787\n",
      "oświatowa nieobejmująca prowadzenia: 30.448705803472787\n",
      "stępkę położono lub: 30.448705803472787\n",
      "frachtem dystansowym jest: 30.448705803472787\n",
      "wybuchła wojna grożąca: 30.448705803472787\n",
      "poświęcenie objęło cały: 30.448705803472787\n",
      "uprzywilejowanym wierzytelnościom z: 30.448705803472787\n",
      "błędem nautycznym ubezpieczającego: 30.448705803472787\n",
      "koszy ulicznych na: 30.448705803472787\n"
     ]
    }
   ],
   "source": [
    "for trigram, pmi in list(trigrams_PMI.items())[:10]:\n",
    "    print(trigram + ': ' + str(pmi))"
   ]
  },
  {
   "cell_type": "code",
   "execution_count": 26,
   "metadata": {},
   "outputs": [],
   "source": [
    "trigrams_PMI_m5 = dict()\n",
    "\n",
    "for trigram, pmi in trigrams_PMI.items():\n",
    "    if trigrams[trigram] >= 5:\n",
    "        trigrams_PMI_m5[trigram] = pmi"
   ]
  },
  {
   "cell_type": "markdown",
   "metadata": {},
   "source": [
    "### TOP 10 with >= 5 occurencies"
   ]
  },
  {
   "cell_type": "code",
   "execution_count": 27,
   "metadata": {},
   "outputs": [
    {
     "name": "stdout",
     "output_type": "stream",
     "text": [
      "świeckie przygotowujące się: 27.229829978604588\n",
      "zaszkodzić wynikom podjętych: 27.229829978604588\n",
      "adama mickiewicza w: 26.86518686501668\n",
      "lambrekiny okienne i: 26.71103618518942\n",
      "chrześcijan baptystów w: 26.682865308222723\n",
      "czyniąc uciążliwym korzystanie: 26.64204331370247\n",
      "chwytów obezwładniających oraz: 26.556885505362164\n",
      "jana matejki w: 26.536682798044644\n",
      "jonów chlorków i: 26.28982272011312\n",
      "uroczystości pogrzebowe i: 26.259051061446364\n"
     ]
    }
   ],
   "source": [
    "for trigram, pmi in list(trigrams_PMI_m5.items())[:10]:\n",
    "    print(trigram + ': ' + str(pmi))"
   ]
  },
  {
   "cell_type": "markdown",
   "metadata": {},
   "source": [
    "## LLR"
   ]
  },
  {
   "cell_type": "code",
   "execution_count": 28,
   "metadata": {},
   "outputs": [],
   "source": [
    "trigrams_LLR = {}"
   ]
  },
  {
   "cell_type": "code",
   "execution_count": 29,
   "metadata": {},
   "outputs": [],
   "source": [
    "for trigram, k11 in trigrams.items():\n",
    "    #t1t2, t3\n",
    "    w1, w2, w3 = trigram.split(' ')\n",
    "    k12 = freq[w3] - k11\n",
    "    k21 = bigrams[w1 + ' ' + w2] - k11\n",
    "    \n",
    "    k22 = all_occ - (k11 + k12 + k21)\n",
    "    LLR = 2 * all_occ * (H([k11, k12, k21, k22], all_occ) - H([k11 + k12, k21 + k22], all_occ) - H([k11 + k21, k12 + k22], all_occ))\n",
    "    \n",
    "    trigrams_LLR[trigram] = LLR   "
   ]
  },
  {
   "cell_type": "code",
   "execution_count": 30,
   "metadata": {},
   "outputs": [],
   "source": [
    "trigrams_LLR = {k: v for k, v in sorted(trigrams_LLR.items(), key=lambda item: item[1], reverse=True)}"
   ]
  },
  {
   "cell_type": "markdown",
   "metadata": {},
   "source": [
    "### TOP 10 LLR"
   ]
  },
  {
   "cell_type": "code",
   "execution_count": 31,
   "metadata": {},
   "outputs": [
    {
     "name": "stdout",
     "output_type": "stream",
     "text": [
      "o których mowa: 26.259051061446364\n",
      "o którym mowa: 26.259051061446364\n",
      "których mowa w: 26.259051061446364\n",
      "właściwy do spraw: 26.259051061446364\n",
      "o której mowa: 26.259051061446364\n",
      "którym mowa w: 26.259051061446364\n",
      "ustawie z dnia: 26.259051061446364\n",
      "minister właściwy do: 26.259051061446364\n",
      "zastępuje się wyrazami: 26.259051061446364\n",
      "wejścia w życie: 26.259051061446364\n"
     ]
    }
   ],
   "source": [
    "for trigram, llr in list(trigrams_LLR.items())[:10]:\n",
    "    print(trigram + ': ' + str(pmi))"
   ]
  },
  {
   "cell_type": "markdown",
   "metadata": {},
   "source": [
    "# PODSUMOWANIE"
   ]
  },
  {
   "cell_type": "code",
   "execution_count": 32,
   "metadata": {},
   "outputs": [
    {
     "data": {
      "text/html": [
       "<h1>Bigrams</h1>"
      ],
      "text/plain": [
       "<IPython.core.display.HTML object>"
      ]
     },
     "metadata": {},
     "output_type": "display_data"
    },
    {
     "data": {
      "text/html": [
       "<table>\n",
       "<thead>\n",
       "<tr><th>PMI - all               </th><th>PMI - &gt;=5occ           </th><th>LLR              </th></tr>\n",
       "</thead>\n",
       "<tbody>\n",
       "<tr><td>doktorów habilitowanych </td><td>ręcznego miotacza      </td><td>mowa w           </td></tr>\n",
       "<tr><td>pionową ścianę          </td><td>świeckie przygotowujące</td><td>których mowa     </td></tr>\n",
       "<tr><td>punktem wyprowadzonym   </td><td>grzegorz schetyna      </td><td>o których        </td></tr>\n",
       "<tr><td>skrzynek lęgowych       </td><td>młyny kulowe           </td><td>którym mowa      </td></tr>\n",
       "<tr><td>usprawnianie zaburzonych</td><td>zaszkodzić wynikom     </td><td>dodaje się       </td></tr>\n",
       "<tr><td>oświatowa nieobejmująca </td><td>adama mickiewicza      </td><td>do spraw         </td></tr>\n",
       "<tr><td>stępkę położono         </td><td>przeponowe rurowe      </td><td>o którym         </td></tr>\n",
       "<tr><td>frachtem dystansowym    </td><td>mleczka makowego       </td><td>w w              </td></tr>\n",
       "<tr><td>wybuchła wojna          </td><td>schedę spadkową        </td><td>stosuje się      </td></tr>\n",
       "<tr><td>dało pożytecznego       </td><td>lambrekiny okienne     </td><td>minister właściwy</td></tr>\n",
       "</tbody>\n",
       "</table>"
      ],
      "text/plain": [
       "<IPython.core.display.HTML object>"
      ]
     },
     "metadata": {},
     "output_type": "display_data"
    },
    {
     "data": {
      "text/html": [
       "<h1>Trigrams</h1>"
      ],
      "text/plain": [
       "<IPython.core.display.HTML object>"
      ]
     },
     "metadata": {},
     "output_type": "display_data"
    },
    {
     "data": {
      "text/html": [
       "<table>\n",
       "<thead>\n",
       "<tr><th>PMI - all                          </th><th>PMI - &gt;=5occ                  </th><th>LLR                   </th></tr>\n",
       "</thead>\n",
       "<tbody>\n",
       "<tr><td>doktorów habilitowanych nauk       </td><td>świeckie przygotowujące się   </td><td>o których mowa        </td></tr>\n",
       "<tr><td>skrzynek lęgowych dla              </td><td>zaszkodzić wynikom podjętych  </td><td>o którym mowa         </td></tr>\n",
       "<tr><td>oświatowa nieobejmująca prowadzenia</td><td>adama mickiewicza w           </td><td>których mowa w        </td></tr>\n",
       "<tr><td>stępkę położono lub                </td><td>lambrekiny okienne i          </td><td>właściwy do spraw     </td></tr>\n",
       "<tr><td>frachtem dystansowym jest          </td><td>chrześcijan baptystów w       </td><td>o której mowa         </td></tr>\n",
       "<tr><td>wybuchła wojna grożąca             </td><td>czyniąc uciążliwym korzystanie</td><td>którym mowa w         </td></tr>\n",
       "<tr><td>poświęcenie objęło cały            </td><td>chwytów obezwładniających oraz</td><td>ustawie z dnia        </td></tr>\n",
       "<tr><td>uprzywilejowanym wierzytelnościom z</td><td>jana matejki w                </td><td>minister właściwy do  </td></tr>\n",
       "<tr><td>błędem nautycznym ubezpieczającego </td><td>jonów chlorków i              </td><td>zastępuje się wyrazami</td></tr>\n",
       "<tr><td>koszy ulicznych na                 </td><td>uroczystości pogrzebowe i     </td><td>wejścia w życie       </td></tr>\n",
       "</tbody>\n",
       "</table>"
      ],
      "text/plain": [
       "<IPython.core.display.HTML object>"
      ]
     },
     "metadata": {},
     "output_type": "display_data"
    }
   ],
   "source": [
    "b_PMI_list = list(bigrams_PMI.keys())[:10]\n",
    "\n",
    "b_PMI_list_5oc = list(bigrams_PMI_m5.keys())[:10]\n",
    "\n",
    "b_LLR_list = list(bigrams_LLR.keys())[:10]\n",
    "\n",
    "\n",
    "b_table = []\n",
    "\n",
    "for i in range(10):\n",
    "    b_table.append([b_PMI_list[i], b_PMI_list_5oc[i], b_LLR_list[i]])\n",
    "    \n",
    "t_PMI_list = list(trigrams_PMI.keys())[:10]\n",
    "\n",
    "t_PMI_list_5oc = list(trigrams_PMI_m5.keys())[:10]\n",
    "\n",
    "t_LLR_list = list(trigrams_LLR.keys())[:10]\n",
    "\n",
    "\n",
    "t_table = []\n",
    "\n",
    "for i in range(10):\n",
    "    t_table.append([t_PMI_list[i], t_PMI_list_5oc[i], t_LLR_list[i]])\n",
    "\n",
    "\n",
    "display(HTML('<h1>Bigrams</h1>'))\n",
    "display(HTML(tabulate.tabulate(b_table, tablefmt='html', headers=['PMI - all', 'PMI - >=5occ', 'LLR'])))\n",
    "display(HTML('<h1>Trigrams</h1>'))\n",
    "display(HTML(tabulate.tabulate(t_table, tablefmt='html', headers=['PMI - all', 'PMI - >=5occ', 'LLR'])))"
   ]
  },
  {
   "cell_type": "markdown",
   "metadata": {},
   "source": [
    "### Answer the following questions:\n",
    "#### Why do we have to filter the bigrams, rather than the token sequence?\n",
    "Musimy filtrować bigramy, a nie tokeny gdyż mogłoby to spowodować utworzenie niepoprawnych bigramów, np: gdy weźmiemy pod uwagę zdanie: \"drużyna piłkarska skłąda się z 11 zawodników\", to przy filtrowaniu tokenów powstał by bigram z zawodników, który powinien zostać wyfiltrowany jako bigramy \"z 11\" i \"11 zawodników\".\n",
    "#### Which measure (PMI, PMI with filtering, LLR) works better for the bigrams and which for the trigrams?\n",
    "Według mnie dla bigramów lepiej działa PMI z filtrem, ponieważ znajduje ono chociażby imiona i nazwiska, gdy LLR znalazł proste powiązania jak \"o których\", \"o którym\".\n",
    "Dla trigramów natomiast lepiej sprawdza się LLR, typ znajdowanych n-gramów się nie zmienił, lecz są one sensowniejsze. PMI zaczęło zawierać \"lub\", \"dla\", \"na\" na końcu trigramu, co nie dodaje mu wartości.\n",
    "#### What types of expressions are discovered by the methods.\n",
    "PMI - nazwy własne, imiona i nazwiska\n",
    "LLR - często łączone części mowy: \"o którym mowa\", \"o których mowa\"\n",
    "\n",
    "#### Can you devise a different type of filtering that would yield better results?\n",
    "Zwiększyłbym dla w sumie dość dużego korpusu liczbę wystąpień, oraz zawierające krótkie słowa (<=2) bo są to zazwyczaj \"się\", \"do\", \"o\" co nam nie pomoże określić dziedziny tekstu, uzyskać sensownych n-gramów, które rzadko zawieraję tego typu słowa."
   ]
  }
 ],
 "metadata": {
  "kernelspec": {
   "display_name": "Python 3",
   "language": "python",
   "name": "python3"
  },
  "language_info": {
   "codemirror_mode": {
    "name": "ipython",
    "version": 3
   },
   "file_extension": ".py",
   "mimetype": "text/x-python",
   "name": "python",
   "nbconvert_exporter": "python",
   "pygments_lexer": "ipython3",
   "version": "3.7.7"
  }
 },
 "nbformat": 4,
 "nbformat_minor": 4
}
