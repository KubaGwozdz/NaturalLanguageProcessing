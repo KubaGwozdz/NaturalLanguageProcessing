{
 "cells": [
  {
   "cell_type": "code",
   "execution_count": 47,
   "metadata": {},
   "outputs": [],
   "source": [
    "from spacy.tokenizer import Tokenizer\n",
    "from spacy.lang.pl import Polish\n",
    "\n",
    "import os\n",
    "import itertools\n",
    "\n",
    "%matplotlib inline\n",
    "import matplotlib.pyplot as plt\n",
    "\n",
    "from Levenshtein import distance\n",
    "\n",
    "from elasticsearch import Elasticsearch, helpers\n",
    "\n",
    "import time"
   ]
  },
  {
   "cell_type": "code",
   "execution_count": 2,
   "metadata": {},
   "outputs": [],
   "source": [
    "nlp = Polish()    #spacy.load('pl_core_news_sm')\n",
    "tokenizer = Tokenizer(nlp.vocab)"
   ]
  },
  {
   "cell_type": "code",
   "execution_count": 3,
   "metadata": {},
   "outputs": [],
   "source": [
    "bill_filenames = []\n",
    "for file in os.listdir(\"../ustawy\"):\n",
    "    if file.endswith(\".txt\"):\n",
    "        bill_filenames.append(os.path.join(\"../ustawy\", file))"
   ]
  },
  {
   "cell_type": "code",
   "execution_count": 4,
   "metadata": {},
   "outputs": [],
   "source": [
    "bills_tokens = []"
   ]
  },
  {
   "cell_type": "code",
   "execution_count": 5,
   "metadata": {},
   "outputs": [],
   "source": [
    "for bill_name in bill_filenames:\n",
    "    with open(bill_name, encoding='utf-8') as b_file:\n",
    "        doc = b_file.read()\n",
    "        doc = doc.lower()\n",
    "        tokens = tokenizer(doc)\n",
    "        bill_token = {\n",
    "            'filename' : bill_name,\n",
    "            'tokens_frequency': {} #token.text -> occurences\n",
    "        }\n",
    "        for token in tokens:\n",
    "            bill_token['tokens_frequency'][token.text] = bill_token['tokens_frequency'].get(token.text, 0) + 1\n",
    "        bills_tokens.append(bill_token)"
   ]
  },
  {
   "cell_type": "code",
   "execution_count": 6,
   "metadata": {},
   "outputs": [],
   "source": [
    "bills_tokens_global = {}"
   ]
  },
  {
   "cell_type": "code",
   "execution_count": 7,
   "metadata": {},
   "outputs": [],
   "source": [
    "for bill_token in bills_tokens:\n",
    "    for token, freq in bill_token['tokens_frequency'].items():\n",
    "        if len(token) >= 2 and token.isalpha():\n",
    "            bills_tokens_global[token] = bills_tokens_global.get(token, 0) + freq"
   ]
  },
  {
   "cell_type": "code",
   "execution_count": 8,
   "metadata": {},
   "outputs": [],
   "source": [
    "bills_tokens_global = {k: v for k, v in sorted(bills_tokens_global.items(), key=lambda item: item[0])}"
   ]
  },
  {
   "cell_type": "code",
   "execution_count": 9,
   "metadata": {},
   "outputs": [],
   "source": [
    "bills_tokens_global_sorted = {k: v for k, v in sorted(bills_tokens_global.items(), key=lambda item: item[1], reverse=True)}"
   ]
  },
  {
   "cell_type": "code",
   "execution_count": 10,
   "metadata": {},
   "outputs": [
    {
     "data": {
      "text/plain": [
       "[<matplotlib.lines.Line2D at 0x10c800ad0>]"
      ]
     },
     "execution_count": 10,
     "metadata": {},
     "output_type": "execute_result"
    },
    {
     "data": {
      "image/png": "[encoded data removed]",
      "text/plain": [
       "<Figure size 432x288 with 1 Axes>"
      ]
     },
     "metadata": {
      "needs_background": "light"
     },
     "output_type": "display_data"
    }
   ],
   "source": [
    "fig = plt.figure()\n",
    "ax = plt.axes()\n",
    "ax.set_yscale('log')\n",
    "\n",
    "ax.plot([x for x in range(len(bills_tokens_global_sorted.keys()))], list(bills_tokens_global_sorted.values()))"
   ]
  },
  {
   "cell_type": "code",
   "execution_count": 11,
   "metadata": {},
   "outputs": [
    {
     "data": {
      "text/plain": [
       "[<matplotlib.lines.Line2D at 0x115080290>]"
      ]
     },
     "execution_count": 11,
     "metadata": {},
     "output_type": "execute_result"
    },
    {
     "data": {
      "image/png": "[encoded data removed]",
      "text/plain": [
       "<Figure size 432x288 with 1 Axes>"
      ]
     },
     "metadata": {
      "needs_background": "light"
     },
     "output_type": "display_data"
    }
   ],
   "source": [
    "top_fig = plt.figure()\n",
    "top_ax = plt.axes()\n",
    "top_ax.set_yscale('log')\n",
    "top_ax.tick_params(axis='x', rotation=90)\n",
    "top_ax.plot(list(bills_tokens_global_sorted.keys())[:25], list(bills_tokens_global_sorted.values())[:25])"
   ]
  },
  {
   "cell_type": "code",
   "execution_count": 12,
   "metadata": {},
   "outputs": [],
   "source": [
    "pm_dict = {}     # base_form -> [variaton]"
   ]
  },
  {
   "cell_type": "code",
   "execution_count": 13,
   "metadata": {},
   "outputs": [],
   "source": [
    "with open('../polimorfologik-2/polimorfologik-2.1.txt', 'r') as dict_f:\n",
    "    for line in dict_f:\n",
    "        l_content = line.split(';')\n",
    "        pm_dict[l_content[0]] = pm_dict.get(l_content[0], []) + [l_content[1].lower()]"
   ]
  },
  {
   "cell_type": "code",
   "execution_count": 14,
   "metadata": {},
   "outputs": [],
   "source": [
    "pm_dict_all = [[k] + v for k,v in pm_dict.items()]\n",
    "pm_dict_all = list(itertools.chain.from_iterable(pm_dict_all))"
   ]
  },
  {
   "cell_type": "code",
   "execution_count": 15,
   "metadata": {},
   "outputs": [
    {
     "name": "stdout",
     "output_type": "stream",
     "text": [
      "1.   gmo: 192\n",
      "2.   skw: 184\n",
      "3.   sa: 182\n",
      "4.   ex: 155\n",
      "5.   iv: 148\n",
      "6.   ike: 116\n",
      "7.   vi: 87\n",
      "8.   kn: 84\n",
      "9.   cn: 77\n",
      "10.   uke: 74\n",
      "11.   ure: 74\n",
      "12.   sww: 72\n",
      "13.   vii: 64\n",
      "14.   phs: 52\n",
      "15.   udt: 52\n",
      "16.   remediacji: 51\n",
      "17.   bswsg: 42\n",
      "18.   bswp: 39\n",
      "19.   viii: 34\n",
      "20.   pkwiu: 29\n",
      "21.   fep: 27\n",
      "22.   ix: 27\n",
      "23.   pcn: 27\n",
      "24.   ose: 26\n",
      "25.   uokik: 26\n",
      "26.   doręczeń: 25\n",
      "27.   frd: 25\n",
      "28.   plk: 25\n",
      "29.   inulinowego: 24\n",
      "30.   xi: 24\n"
     ]
    }
   ],
   "source": [
    "found = 0\n",
    "most_frq_not_fnd = []\n",
    "for word, freq in bills_tokens_global_sorted.items():\n",
    "    if word.lower() not in pm_dict_all:\n",
    "        found += 1\n",
    "        most_frq_not_fnd.append(word)\n",
    "        print(str(found) + '.   ' + str(word) + ': ' + str(freq))\n",
    "        if found >= 30:\n",
    "            break"
   ]
  },
  {
   "cell_type": "code",
   "execution_count": 16,
   "metadata": {},
   "outputs": [
    {
     "name": "stdout",
     "output_type": "stream",
     "text": [
      "1.   agave: 5\n",
      "2.   ami: 5\n",
      "3.   anonimizacji: 5\n",
      "4.   badawczorozwojowych: 5\n",
      "5.   dostosowań: 5\n",
      "6.   iib: 5\n",
      "7.   izobutyl: 5\n",
      "8.   jed: 5\n",
      "9.   ktrej: 5\n",
      "10.   najmnie: 5\n",
      "11.   naliczeń: 5\n",
      "12.   nawodnień: 5\n",
      "13.   nawozw: 5\n",
      "14.   nfośigw: 5\n",
      "15.   nusp: 5\n",
      "16.   odgazowywacze: 5\n",
      "17.   odwzorowań: 5\n",
      "18.   ośc: 5\n",
      "19.   poddziałań: 5\n",
      "20.   ponadzakładowym: 5\n",
      "21.   pozaaptecznego: 5\n",
      "22.   ppkt: 5\n",
      "23.   przepisw: 5\n",
      "24.   próbobiorców: 5\n",
      "25.   regazyfikacyjnego: 5\n",
      "26.   rekapitalizacyjnej: 5\n",
      "27.   rozmnożeń: 5\n",
      "28.   sanitarnoepidemiologicznych: 5\n",
      "29.   sposb: 5\n",
      "30.   teryto: 5\n"
     ]
    }
   ],
   "source": [
    "found = 0\n",
    "five_occ_not_fnd = []\n",
    "for word, freq in bills_tokens_global_sorted.items():\n",
    "    if freq == 5:\n",
    "        if word.lower() not in pm_dict_all:\n",
    "            found += 1\n",
    "            five_occ_not_fnd.append(word)\n",
    "            print(str(found) + '.   ' + str(word) + ': ' + str(freq))\n",
    "    if found >= 30 or freq < 5:\n",
    "        break"
   ]
  },
  {
   "cell_type": "code",
   "execution_count": 17,
   "metadata": {},
   "outputs": [],
   "source": [
    "def autocorrect(wrong_str, dst=1, find=5):\n",
    "    found = 0\n",
    "    result = []\n",
    "    for word in bills_tokens_global_sorted.keys():\n",
    "        if distance(word.lower(), wrong_str.lower()) <= dst:\n",
    "            found += 1\n",
    "            result.append(word)\n",
    "        if found == find-1:\n",
    "            break\n",
    "    return result"
   ]
  },
  {
   "cell_type": "code",
   "execution_count": 51,
   "metadata": {},
   "outputs": [
    {
     "name": "stdout",
     "output_type": "stream",
     "text": [
      "agave - 0.0654s: \n",
      "agave\n",
      "\n",
      "ami - 0.0161s: \n",
      "ani\n",
      "mi\n",
      "sami\n",
      "ami\n",
      "\n",
      "anonimizacji - 0.0574s: \n",
      "anonimizacji\n",
      "\n",
      "badawczorozwojowych - 0.067s: \n",
      "badawczorozwojowych\n",
      "\n",
      "dostosowań - 0.0555s: \n",
      "dostosować\n",
      "dostosowań\n",
      "\n",
      "iib - 0.009s: \n",
      "ii\n",
      "iii\n",
      "izb\n",
      "iia\n",
      "\n",
      "izobutyl - 0.0496s: \n",
      "izobutyl\n",
      "izobuty\n",
      "izobutyli\n",
      "\n",
      "jed - 0.0365s: \n",
      "jej\n",
      "je\n",
      "jed\n",
      "jeż\n",
      "\n",
      "ktrej - 0.0455s: \n",
      "której\n",
      "ktrej\n",
      "ktre\n",
      "\n",
      "najmnie - 0.036s: \n",
      "najmniej\n",
      "najmie\n",
      "najmnie\n",
      "najmni\n",
      "\n",
      "naliczeń - 0.0515s: \n",
      "naliczeń\n",
      "zaliczeń\n",
      "\n",
      "nawodnień - 0.0538s: \n",
      "nawodnień\n",
      "\n",
      "nawozw - 0.0208s: \n",
      "nawozu\n",
      "nawozy\n",
      "nawozów\n",
      "nawozw\n",
      "\n",
      "nfośigw - 0.0598s: \n",
      "nfośigw\n",
      "\n",
      "nusp - 0.0451s: \n",
      "nusp\n",
      "\n",
      "odgazowywacze - 0.0592s: \n",
      "odgazowywacze\n",
      "\n",
      "odwzorowań - 0.0592s: \n",
      "odwzorowań\n",
      "\n",
      "ośc - 0.0391s: \n",
      "oś\n",
      "ośc\n",
      "ości\n",
      "ość\n",
      "\n",
      "poddziałań - 0.0599s: \n",
      "poddziałań\n",
      "\n",
      "ponadzakładowym - 0.063s: \n",
      "ponadzakładowy\n",
      "ponadzakładowym\n",
      "ponadzakładowymi\n",
      "\n",
      "pozaaptecznego - 0.0568s: \n",
      "pozaaptecznego\n",
      "\n",
      "ppkt - 0.0431s: \n",
      "pkt\n",
      "ppkt\n",
      "pakt\n",
      "\n",
      "przepisw - 0.0004s: \n",
      "przepisy\n",
      "przepisów\n",
      "przepis\n",
      "przepisu\n",
      "\n",
      "próbobiorców - 0.0727s: \n",
      "próbobiorców\n",
      "\n",
      "regazyfikacyjnego - 0.0621s: \n",
      "regazyfikacyjnego\n",
      "\n",
      "rekapitalizacyjnej - 0.061s: \n",
      "rekapitalizacyjnej\n",
      "\n",
      "rozmnożeń - 0.0551s: \n",
      "rozmnożeń\n",
      "\n",
      "sanitarnoepidemiologicznych - 0.0835s: \n",
      "sanitarnoepidemiologicznych\n",
      "\n",
      "sposb - 0.0776s: \n",
      "sposób\n",
      "sposb\n",
      "\n",
      "teryto - 0.0935s: \n",
      "teryto\n",
      "\n"
     ]
    }
   ],
   "source": [
    "ac_times = []\n",
    "for wrong_str in five_occ_not_fnd:\n",
    "    start = time.time()\n",
    "    corrections = autocorrect(wrong_str)\n",
    "    end = time.time()\n",
    "    t = round(end-start, 4)\n",
    "    ac_times.append(t)\n",
    "    print(wrong_str + ' - ' + str(t) + 's: ')\n",
    "    for correction in corrections:\n",
    "        print(correction)\n",
    "    print()"
   ]
  },
  {
   "cell_type": "markdown",
   "metadata": {},
   "source": [
    "## ElasticSearch"
   ]
  },
  {
   "cell_type": "code",
   "execution_count": 27,
   "metadata": {},
   "outputs": [],
   "source": [
    "es = Elasticsearch([{'host': 'localhost', 'port': 9200}])"
   ]
  },
  {
   "cell_type": "code",
   "execution_count": 28,
   "metadata": {},
   "outputs": [
    {
     "data": {
      "text/plain": [
       "{'acknowledged': True,\n",
       " 'shards_acknowledged': True,\n",
       " 'index': 'autocorrection_index'}"
      ]
     },
     "execution_count": 28,
     "metadata": {},
     "output_type": "execute_result"
    }
   ],
   "source": [
    "es.indices.create(\n",
    "    index='autocorrection_index',\n",
    "    body={\n",
    "        \"settings\": {\n",
    "            \"analysis\": {\n",
    "                \"analyzer\": {\n",
    "                    \"default\": {\n",
    "                        \"type\": \"custom\",\n",
    "                        \"tokenizer\": \"keyword\"\n",
    "                    }\n",
    "                }\n",
    "            }\n",
    "        }\n",
    "    }\n",
    ")"
   ]
  },
  {
   "cell_type": "code",
   "execution_count": 31,
   "metadata": {},
   "outputs": [
    {
     "data": {
      "text/plain": [
       "(5127543, [])"
      ]
     },
     "execution_count": 31,
     "metadata": {},
     "output_type": "execute_result"
    }
   ],
   "source": [
    "query = []\n",
    "for word in pm_dict_all:\n",
    "    body = {\n",
    "        '_index': 'autocorrection_index',\n",
    "        'word': word\n",
    "    }\n",
    "    query.append(body)\n",
    "helpers.bulk(es, query)"
   ]
  },
  {
   "cell_type": "markdown",
   "metadata": {},
   "source": [
    "## Autokorekcja przy użyciu ES"
   ]
  },
  {
   "cell_type": "code",
   "execution_count": 52,
   "metadata": {},
   "outputs": [
    {
     "name": "stdout",
     "output_type": "stream",
     "text": [
      "agave - 0.0077s: \n",
      "agape\n",
      "agape\n",
      "\n",
      "ami - 0.0125s: \n",
      "api\n",
      "agi\n",
      "ali\n",
      "ali\n",
      "amig\n",
      "\n",
      "anonimizacji - 0.041s: \n",
      "animizacji\n",
      "\n",
      "badawczorozwojowych - 0.0159s: \n",
      "\n",
      "dostosowań - 0.0173s: \n",
      "dostosować\n",
      "dostosować\n",
      "dostosował\n",
      "dostosowali\n",
      "dostosowana\n",
      "\n",
      "iib - 0.0063s: \n",
      "aib\n",
      "gib\n",
      "bib\n",
      "gib\n",
      "iii\n",
      "\n",
      "izobutyl - 0.0125s: \n",
      "izobutan\n",
      "izobutan\n",
      "izobuten\n",
      "izobuten\n",
      "izobutylen\n",
      "\n",
      "jed - 0.005s: \n",
      "bed\n",
      "jeż\n",
      "led\n",
      "Red\n",
      "red\n",
      "\n",
      "ktrej - 0.0042s: \n",
      "karej\n",
      "karej\n",
      "której\n",
      "\n",
      "najmnie - 0.0128s: \n",
      "najmanie\n",
      "najmniej\n",
      "najemnie\n",
      "najemnie\n",
      "najmniej\n",
      "\n",
      "naliczeń - 0.0154s: \n",
      "naliczek\n",
      "naliczek\n",
      "naliczek\n",
      "zaliczeń\n",
      "haliczem\n",
      "\n",
      "nawodnień - 0.0129s: \n",
      "zawodnień\n",
      "zawodniej\n",
      "napomnień\n",
      "nawadniań\n",
      "nawodnieni\n",
      "\n",
      "nawozw - 0.0128s: \n",
      "nawozu\n",
      "nawozy\n",
      "nawozów\n",
      "nawozi\n",
      "nawoja\n",
      "\n",
      "nfośigw - 0.0112s: \n",
      "\n",
      "nusp - 0.0041s: \n",
      "nasp\n",
      "\n",
      "odgazowywacze - 0.0152s: \n",
      "odgazowywanie\n",
      "odparowywacze\n",
      "odgazowywane\n",
      "\n",
      "odwzorowań - 0.0215s: \n",
      "odwzorować\n",
      "odwzorować\n",
      "odwzorował\n",
      "odszorować\n",
      "odszorować\n",
      "\n",
      "ośc - 0.0066s: \n",
      "ośce\n",
      "ośca\n",
      "ośce\n",
      "oścu\n",
      "odc\n",
      "\n",
      "poddziałań - 0.0203s: \n",
      "poddziałach\n",
      "poddziałami\n",
      "poddziałem\n",
      "poddziałom\n",
      "poddziałów\n",
      "\n",
      "ponadzakładowym - 0.0146s: \n",
      "pozazakładowym\n",
      "\n",
      "pozaaptecznego - 0.012s: \n",
      "\n",
      "ppkt - 0.0032s: \n",
      "pakt\n",
      "pakt\n",
      "pkt\n",
      "\n",
      "przepisw - 0.0124s: \n",
      "przepisz\n",
      "przepisu\n",
      "przepisy\n",
      "przepisów\n",
      "przepis\n",
      "\n",
      "próbobiorców - 0.0125s: \n",
      "pracobiorców\n",
      "prądobiorców\n",
      "\n",
      "regazyfikacyjnego - 0.0126s: \n",
      "denazyfikacyjnego\n",
      "niegazyfikacyjnego\n",
      "gazyfikacyjnego\n",
      "\n",
      "rekapitalizacyjnej - 0.015s: \n",
      "niekapitalizacyjnej\n",
      "kapitalizacyjnej\n",
      "\n",
      "rozmnożeń - 0.0125s: \n",
      "rozmnoże\n",
      "rozmnożyć\n",
      "rozmnożeni\n",
      "rozmnożyć\n",
      "rozmnożył\n",
      "\n",
      "sanitarnoepidemiologicznych - 0.016s: \n",
      "\n",
      "sposb - 0.0032s: \n",
      "sposób\n",
      "sposób\n",
      "sposób\n",
      "\n",
      "teryto - 0.0114s: \n",
      "teryno\n",
      "hetyto\n",
      "tereso\n",
      "tetydo\n",
      "trytko\n",
      "\n"
     ]
    }
   ],
   "source": [
    "es_times = []\n",
    "for wrong_str in five_occ_not_fnd:\n",
    "    f_search = {\n",
    "        'query':{\n",
    "            'fuzzy':{\n",
    "                'word': wrong_str\n",
    "            },\n",
    "        }\n",
    "    }\n",
    "    start = time.time()\n",
    "    res = es.search(index='autocorrection_index', body=f_search)\n",
    "    end = time.time()\n",
    "    t = round(end-start, 4)\n",
    "    es_times.append(t)\n",
    "    print(wrong_str + ' - ' + str(t) + 's: ')\n",
    "    for correction in res['hits']['hits'][:5]:\n",
    "        print(correction['_source']['word'])\n",
    "    print()"
   ]
  },
  {
   "cell_type": "markdown",
   "metadata": {},
   "source": [
    "# Podsumowanie"
   ]
  },
  {
   "cell_type": "markdown",
   "metadata": {},
   "source": [
    "### Dystrybucja słów w ustawach\n",
    "Rozkład słów na wykresie logarytmicznym spada na początku bardzo szybko by potem się wypłaszczyć, aż do momentu gdy wykres staje się schodkowy, co sugeruje, że jest dużo powtarzających się słów o mniejszej liczbie wystąpień. Co oznacza, że powtarzające się słowa są stosunkowo małą grupką, lecz powtarzają się znacząco częściej niż pozostałe."
   ]
  },
  {
   "cell_type": "markdown",
   "metadata": {},
   "source": [
    "### Literówki vs nieznane słowa\n",
    "Większość słów, które nie zostały znalezione nie są literówkami, chociaż takie też się znalazły (np. ktrej), ale cyframi rzymskimi i skrótami."
   ]
  },
  {
   "cell_type": "markdown",
   "metadata": {},
   "source": [
    "### Porównanie metod korekcji\n",
    "#### Czas"
   ]
  },
  {
   "cell_type": "code",
   "execution_count": 58,
   "metadata": {},
   "outputs": [
    {
     "data": {
      "text/plain": [
       "<matplotlib.legend.Legend at 0x186890210>"
      ]
     },
     "execution_count": 58,
     "metadata": {},
     "output_type": "execute_result"
    },
    {
     "data": {
      "image/png": "[encoded data removed]",
      "text/plain": [
       "<Figure size 432x288 with 1 Axes>"
      ]
     },
     "metadata": {
      "needs_background": "light"
     },
     "output_type": "display_data"
    }
   ],
   "source": [
    "t_fig = plt.figure()\n",
    "t_ax = plt.axes()\n",
    "X = [x for x in range(30)]\n",
    "t_ax.plot(X, ac_times, label='my method')\n",
    "t_ax.plot(X, es_times, label='ES')\n",
    "t_ax.legend()"
   ]
  },
  {
   "cell_type": "markdown",
   "metadata": {},
   "source": [
    "ES w większości przypadków jest szybszy, nie jest jednak to duża różnica, a zważywszy na bardzo prostą implementację mojej korekcji uważam ten wynik za dobry, a czasem nawet lepszy od ES lub bardzo zbliżony.\n",
    "#### Wyniki\n",
    "W większości przypadków i moja metoda i ES znalazły (jeśli taka istniała) poprawną wersję słowa, z wyjątkiem wyrazu \"jed\" dla którego ES nie znalazł wg mnie sensownej odpowiedzi (bed, jeż, led, Red, red), którą znalażł mój sposób: \"jej\".\n",
    "#### Poprawność korekcji\n",
    "W większości przypadków znalezione korekcje przez ES czy przez moją metodę są korekcjami poprawnymi, nie licząc oczywiście skrótów. W przypadku wyrazów, które są tak naprawdę są poprawne, ale nie ma ich w naszym słwoniku, ES stworzył wyrazy blisko (w znaczeniu odległości Lavenshteina), natomiast moja metoda znalazła tylko ten wyraz."
   ]
  },
  {
   "cell_type": "markdown",
   "metadata": {},
   "source": []
  },
  {
   "cell_type": "markdown",
   "metadata": {},
   "source": []
  }
 ],
 "metadata": {
  "kernelspec": {
   "display_name": "Python 3",
   "language": "python",
   "name": "python3"
  },
  "language_info": {
   "codemirror_mode": {
    "name": "ipython",
    "version": 3
   },
   "file_extension": ".py",
   "mimetype": "text/x-python",
   "name": "python",
   "nbconvert_exporter": "python",
   "pygments_lexer": "ipython3",
   "version": "3.7.7"
  }
 },
 "nbformat": 4,
 "nbformat_minor": 4
}
